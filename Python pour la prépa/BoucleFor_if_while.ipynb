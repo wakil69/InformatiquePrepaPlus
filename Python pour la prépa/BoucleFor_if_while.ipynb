{
 "cells": [
  {
   "cell_type": "markdown",
   "metadata": {},
   "source": [
    "# **If, boucles for et while**"
   ]
  },
  {
   "cell_type": "markdown",
   "metadata": {},
   "source": [
    "**Préambule : éléments de comparaison**"
   ]
  },
  {
   "cell_type": "code",
   "execution_count": null,
   "metadata": {},
   "outputs": [],
   "source": [
    "# à essayer avec des chaines de caractères, des listes etc.\n",
    "a = 5\n",
    "b = 4\n",
    "print(\"a == b : \", (a == b))\n",
    "print(\"a >= b : \", (a >= b))\n",
    "print(\"a <= b : \", (a <= b))\n",
    "print(\"a != b : \", (a != b)) "
   ]
  },
  {
   "cell_type": "code",
   "execution_count": 2,
   "metadata": {},
   "outputs": [
    {
     "name": "stdout",
     "output_type": "stream",
     "text": [
      "a in b :  True\n",
      "a not in b :  False\n",
      "a in b and c in b :  True\n",
      "a not in b or c not in b :  True\n"
     ]
    }
   ],
   "source": [
    "# à essayer avec des chaines de caractères, des listes etc.\n",
    "a = 5\n",
    "b = [1,2,35,5,7]\n",
    "c = 2\n",
    "print(\"a in b : \", (a in b))\n",
    "print(\"a not in b : \", (a not in b))\n",
    "print(\"a in b and c in b : \", (a in b and c in b))\n",
    "print(\"a not in b or c not in b : \", ((a not in b) or (c in b)))"
   ]
  },
  {
   "cell_type": "markdown",
   "metadata": {},
   "source": [
    "**If (condition) :**"
   ]
  },
  {
   "cell_type": "code",
   "execution_count": 4,
   "metadata": {},
   "outputs": [
    {
     "ename": "IndentationError",
     "evalue": "expected an indented block (<ipython-input-4-0205be217d5e>, line 8)",
     "output_type": "error",
     "traceback": [
      "\u001b[1;36m  File \u001b[1;32m\"<ipython-input-4-0205be217d5e>\"\u001b[1;36m, line \u001b[1;32m8\u001b[0m\n\u001b[1;33m    print(a == b)\u001b[0m\n\u001b[1;37m    ^\u001b[0m\n\u001b[1;31mIndentationError\u001b[0m\u001b[1;31m:\u001b[0m expected an indented block\n"
     ]
    }
   ],
   "source": [
    "# syntaxe : if (booléen (= True ou False)):\n",
    "# exécute l'instruction qui vient à la suite si la condition est vraie\n",
    "# ATTENTION AUX INDENTATIONS SURTOUT A L'ECRIT !\n",
    "a = 3\n",
    "b = 3\n",
    "\n",
    "if a == b :\n",
    "print(a == b)"
   ]
  },
  {
   "cell_type": "code",
   "execution_count": 5,
   "metadata": {},
   "outputs": [
    {
     "name": "stdout",
     "output_type": "stream",
     "text": [
      "yes\n"
     ]
    }
   ],
   "source": [
    "# On peut enchainer les if\n",
    "# A EVITER DANS LA MESURE DU POSSIBLE !\n",
    "a = 3\n",
    "\n",
    "if a != 3:\n",
    "    print(a)\n",
    "    \n",
    "if a == 3:\n",
    "    print(\"yes\")"
   ]
  },
  {
   "cell_type": "markdown",
   "metadata": {},
   "source": [
    "**If (condition): ... else: ...**"
   ]
  },
  {
   "cell_type": "code",
   "execution_count": 6,
   "metadata": {},
   "outputs": [
    {
     "name": "stdout",
     "output_type": "stream",
     "text": [
      "3\n"
     ]
    }
   ],
   "source": [
    "# Si la condition du if == False alors on exécute la commande qui vient dans le else\n",
    "a = 3\n",
    "if a == 2:\n",
    "    print(2)\n",
    "else:\n",
    "    print(a)"
   ]
  },
  {
   "cell_type": "markdown",
   "metadata": {},
   "source": [
    "**If (condition): ... elif (condition): ... else:**"
   ]
  },
  {
   "cell_type": "code",
   "execution_count": 7,
   "metadata": {},
   "outputs": [
    {
     "name": "stdout",
     "output_type": "stream",
     "text": [
      "c = 1\n"
     ]
    }
   ],
   "source": [
    "# On a l'occasion de mettre plusieurs conditions grâce au elif\n",
    "\n",
    "c = 1\n",
    "\n",
    "if c < 1 :\n",
    "    print(\"c < 1\")\n",
    "elif c == 1 :\n",
    "    print(\"c = 1\")\n",
    "else :\n",
    "    print(\"c > 1\")"
   ]
  },
  {
   "cell_type": "markdown",
   "metadata": {},
   "source": [
    "**Boucle for**"
   ]
  },
  {
   "cell_type": "code",
   "execution_count": 8,
   "metadata": {},
   "outputs": [
    {
     "name": "stdout",
     "output_type": "stream",
     "text": [
      "team mpx"
     ]
    }
   ],
   "source": [
    "# syntaxe : for variable in iterable: \n",
    "# iterable peut être une liste, tableau numpy, chaine de caractères etc.\n",
    "# on connait les valeurs que décrit la variable de boucle\n",
    "# ATTENTION AUX INDENTATIONS SURTOUT A L'ECRIT !\n",
    "\n",
    "b = \"team mpx\"\n",
    "for a in b:\n",
    "    print(a, end = \"\") # end = \"\" pour afficher tout sur la même ligne"
   ]
  },
  {
   "cell_type": "code",
   "execution_count": 9,
   "metadata": {},
   "outputs": [
    {
     "name": "stdout",
     "output_type": "stream",
     "text": [
      "0\n",
      "2\n",
      "4\n",
      "6\n",
      "8\n",
      "liste_num_sum : [2, 4, 6, 8]\n"
     ]
    }
   ],
   "source": [
    "# Classique mais pas idéal pour avoir une liste de nombre : \n",
    "# for i in range(début, fin (exclu), pas):\n",
    "\n",
    "liste_num_nul = []\n",
    "for i in range(0,10,2): # i va prendre successivement les valeurs 0,2,4,6,8\n",
    "    print(i)\n",
    "    if i != 0:\n",
    "        liste_num_nul.append(i)\n",
    "print(\"liste_num_sum :\", liste_num_nul)"
   ]
  },
  {
   "cell_type": "code",
   "execution_count": 10,
   "metadata": {},
   "outputs": [
    {
     "name": "stdout",
     "output_type": "stream",
     "text": [
      "[2, 4, 6, 8]\n"
     ]
    }
   ],
   "source": [
    "# technique qui montre qu'on maitrise mieux :\n",
    "\n",
    "liste_num_mieux = [i for i in range(0,10,2) if i != 0]\n",
    "print(liste_num_mieux)"
   ]
  },
  {
   "cell_type": "code",
   "execution_count": 11,
   "metadata": {},
   "outputs": [
    {
     "name": "stdout",
     "output_type": "stream",
     "text": [
      "[0, 0, 0, 1]\n"
     ]
    }
   ],
   "source": [
    "# technique qui montre qu'on maitrise mieux :\n",
    "\"\"\"\n",
    "On veut le résultat du reste de la division par 2\n",
    "pour tous les nombres compris entre 0 et 10 (exclu)\n",
    "mais compris dans la liste suivante : [2,4,8,9,15,23,69]\n",
    "\"\"\"\n",
    "\n",
    "liste_num = [i%2 for i in range(0,10) if i in [2,4,8,9,15,23,69]]\n",
    "print(liste_num)"
   ]
  },
  {
   "cell_type": "code",
   "execution_count": 12,
   "metadata": {},
   "outputs": [
    {
     "name": "stdout",
     "output_type": "stream",
     "text": [
      "[2, 3, 4, 5, 6, 7, 8, 9, 10, 11, 12, 13, 14]\n"
     ]
    }
   ],
   "source": [
    "# astuce level 1000:\n",
    "\"\"\"\n",
    "On veut cette fois-ci la liste des nombres entre 2 et 15(exclu)\n",
    "\"\"\"\n",
    "\n",
    "liste_num_boss = [*range(2,15)]\n",
    "print(liste_num_boss)"
   ]
  },
  {
   "cell_type": "code",
   "execution_count": 13,
   "metadata": {},
   "outputs": [
    {
     "name": "stdout",
     "output_type": "stream",
     "text": [
      "Real Madrid Benzema\n",
      "Fc Barcelone Messi\n",
      "Juventus Ronaldo\n"
     ]
    }
   ],
   "source": [
    "# utilisation de la boucle for avec les dictionnaires\n",
    "\n",
    "dico = {\"Real Madrid\" : \"Benzema\", \"Fc Barcelone\": \"Messi\", \"Juventus\" : \"Ronaldo\"}\n",
    "for équipe, meilleur_joueur in dico.items():\n",
    "    print(équipe, meilleur_joueur)"
   ]
  },
  {
   "cell_type": "code",
   "execution_count": 14,
   "metadata": {},
   "outputs": [
    {
     "name": "stdout",
     "output_type": "stream",
     "text": [
      "Polytechnique\n",
      "Centrale\n",
      "Mines\n"
     ]
    }
   ],
   "source": [
    "# utilisation de la boucle for avec une liste\n",
    "\n",
    "ecoles = [\"Polytechnique\", \"Centrale\", \"Mines\"]\n",
    "\n",
    "for ecole in ecoles:\n",
    "    print(ecole)"
   ]
  },
  {
   "cell_type": "code",
   "execution_count": 17,
   "metadata": {},
   "outputs": [
    {
     "name": "stdout",
     "output_type": "stream",
     "text": [
      "1 Polytechnique\n",
      "2 Centrale\n",
      "3 Mines\n"
     ]
    }
   ],
   "source": [
    "# utilisation de la boucle for avec une liste\n",
    "# enumerate nous permet de récupérer les indices des éléments de la liste\n",
    "ecoles = [\"Polytechnique\", \"Centrale\", \"Mines\"]\n",
    "\n",
    "for classement, ecole in enumerate(ecoles):\n",
    "    print(classement + 1, ecole)"
   ]
  },
  {
   "cell_type": "markdown",
   "metadata": {},
   "source": [
    "**Boucle while (condition)**"
   ]
  },
  {
   "cell_type": "code",
   "execution_count": 20,
   "metadata": {},
   "outputs": [],
   "source": [
    "from math import * # on peut utiliser les fonctions directement : sqrt, ceil, etc. (A regarder absolument les fonctions du module maths)\n",
    "# Lien : https://docs.python.org/3/library/math.html"
   ]
  },
  {
   "cell_type": "code",
   "execution_count": 21,
   "metadata": {},
   "outputs": [],
   "source": [
    "import math #pour utiliser les fonctions : math.sqrt, math.ceil etc."
   ]
  },
  {
   "cell_type": "code",
   "execution_count": 18,
   "metadata": {},
   "outputs": [
    {
     "name": "stdout",
     "output_type": "stream",
     "text": [
      "[1, 2, 3, 4, 5, 6, 7, 8, 9, 10]\n"
     ]
    }
   ],
   "source": [
    "# syntaxe : while (booléen):\n",
    "# on ne connait pas l’ensemble que décrit la variable de boucle (pour des exemples plus compliqués que celui-là...)\n",
    "numbers = []\n",
    "count = 0\n",
    "while count != 10:\n",
    "    count += 1\n",
    "    numbers.append(count)\n",
    "print(numbers)"
   ]
  },
  {
   "cell_type": "code",
   "execution_count": 22,
   "metadata": {},
   "outputs": [
    {
     "ename": "KeyboardInterrupt",
     "evalue": "",
     "output_type": "error",
     "traceback": [
      "\u001b[1;31m---------------------------------------------------------------------------\u001b[0m",
      "\u001b[1;31mKeyboardInterrupt\u001b[0m                         Traceback (most recent call last)",
      "\u001b[1;32m<ipython-input-22-c1f4561cebcd>\u001b[0m in \u001b[0;36m<module>\u001b[1;34m\u001b[0m\n\u001b[0;32m      4\u001b[0m \u001b[0mcount\u001b[0m \u001b[1;33m=\u001b[0m \u001b[1;36m0\u001b[0m\u001b[1;33m\u001b[0m\u001b[1;33m\u001b[0m\u001b[0m\n\u001b[0;32m      5\u001b[0m \u001b[1;32mwhile\u001b[0m \u001b[0mcount\u001b[0m \u001b[1;33m!=\u001b[0m \u001b[1;36m10\u001b[0m\u001b[1;33m:\u001b[0m\u001b[1;33m\u001b[0m\u001b[1;33m\u001b[0m\u001b[0m\n\u001b[1;32m----> 6\u001b[1;33m     \u001b[0mcount\u001b[0m \u001b[1;33m+=\u001b[0m \u001b[0msqrt\u001b[0m\u001b[1;33m(\u001b[0m\u001b[1;36m3\u001b[0m\u001b[1;33m)\u001b[0m\u001b[1;33m\u001b[0m\u001b[1;33m\u001b[0m\u001b[0m\n\u001b[0m\u001b[0;32m      7\u001b[0m     \u001b[0msum_sqrt_3\u001b[0m\u001b[1;33m.\u001b[0m\u001b[0mappend\u001b[0m\u001b[1;33m(\u001b[0m\u001b[0mcount\u001b[0m\u001b[1;33m)\u001b[0m\u001b[1;33m\u001b[0m\u001b[1;33m\u001b[0m\u001b[0m\n\u001b[0;32m      8\u001b[0m \u001b[0mprint\u001b[0m\u001b[1;33m(\u001b[0m\u001b[0msum_sqrt_3\u001b[0m\u001b[1;33m)\u001b[0m\u001b[1;33m\u001b[0m\u001b[1;33m\u001b[0m\u001b[0m\n",
      "\u001b[1;31mKeyboardInterrupt\u001b[0m: "
     ]
    }
   ],
   "source": [
    "# Tant que la condition n'est pas respecté, le programme boucle à l'infini !\n",
    "\n",
    "sum_sqrt_3 = []\n",
    "count = 0\n",
    "while count != 10:\n",
    "    count += sqrt(3)\n",
    "    sum_sqrt_3.append(count)\n",
    "print(sum_sqrt_3)"
   ]
  },
  {
   "cell_type": "markdown",
   "metadata": {},
   "source": [
    "**Fonctions**"
   ]
  },
  {
   "cell_type": "markdown",
   "metadata": {},
   "source": [
    "**Lorsqu’une tâche doit être réalisée plusieurs fois par un programme avec seulement des paramètres différents, on utilise les fonctions.**"
   ]
  },
  {
   "cell_type": "code",
   "execution_count": 23,
   "metadata": {},
   "outputs": [],
   "source": [
    "# syntaxe : def NomFonction(arguments)\n",
    "# Une fonction retourne une valeur avec return\n",
    "def affichage(a,b):\n",
    "    return [a,b]"
   ]
  },
  {
   "cell_type": "code",
   "execution_count": 24,
   "metadata": {},
   "outputs": [],
   "source": [
    "resultat = affichage(3,4)"
   ]
  },
  {
   "cell_type": "code",
   "execution_count": 25,
   "metadata": {},
   "outputs": [
    {
     "name": "stdout",
     "output_type": "stream",
     "text": [
      "[3, 4]\n"
     ]
    }
   ],
   "source": [
    "print(resultat)"
   ]
  },
  {
   "cell_type": "code",
   "execution_count": 26,
   "metadata": {},
   "outputs": [],
   "source": [
    "# On perd l'intérêt de la fonction si on utilise print\n",
    "def affichage(a,b):\n",
    "    print([a,b])"
   ]
  },
  {
   "cell_type": "code",
   "execution_count": 27,
   "metadata": {},
   "outputs": [
    {
     "name": "stdout",
     "output_type": "stream",
     "text": [
      "[3, 4]\n"
     ]
    }
   ],
   "source": [
    "resultat_print = affichage(3,4)"
   ]
  },
  {
   "cell_type": "code",
   "execution_count": 28,
   "metadata": {},
   "outputs": [
    {
     "name": "stdout",
     "output_type": "stream",
     "text": [
      "None\n"
     ]
    }
   ],
   "source": [
    "# resultat_print n'a pas enregistré le resultat de affichage(3,4)\n",
    "print(resultat_print)"
   ]
  }
 ],
 "metadata": {
  "kernelspec": {
   "display_name": "Python 3",
   "language": "python",
   "name": "python3"
  },
  "language_info": {
   "codemirror_mode": {
    "name": "ipython",
    "version": 3
   },
   "file_extension": ".py",
   "mimetype": "text/x-python",
   "name": "python",
   "nbconvert_exporter": "python",
   "pygments_lexer": "ipython3",
   "version": "3.8.3"
  }
 },
 "nbformat": 4,
 "nbformat_minor": 4
}
