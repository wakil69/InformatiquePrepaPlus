{
 "cells": [
  {
   "cell_type": "markdown",
   "metadata": {},
   "source": [
    "# **Dictionnaires**"
   ]
  },
  {
   "cell_type": "markdown",
   "metadata": {},
   "source": [
    "**Syntaxe**"
   ]
  },
  {
   "cell_type": "code",
   "execution_count": 1,
   "metadata": {},
   "outputs": [
    {
     "name": "stdout",
     "output_type": "stream",
     "text": [
      "{'vainqueur': 'Bayern München', 2: 'PSG', 'Demi-finalistes': ['Lyon', 'Leipzig']}\n"
     ]
    }
   ],
   "source": [
    "#syntaxe dictionnaires : {key1 : value1, key2: value2, etc.}\n",
    "#value peuvent être de n'importe quel type (int, float, list etc.) mais key doit être du type immuable (int, string, tuple etc.)\n",
    "\n",
    "ldc = {\"vainqueur\": \"Bayern München\", 2 : \"PSG\", \"Demi-finalistes\": [\"Lyon\", \"Leipzig\"]}\n",
    "print(ldc)"
   ]
  },
  {
   "cell_type": "markdown",
   "metadata": {},
   "source": [
    "**Mettre à jour le dico**"
   ]
  },
  {
   "cell_type": "code",
   "execution_count": 2,
   "metadata": {},
   "outputs": [
    {
     "name": "stdout",
     "output_type": "stream",
     "text": [
      "{'vainqueur': 'Bayern München', 2: 'PSG', 'Demi-finalistes': ['Lyon', 'Leipzig']}\n",
      "{'vainqueur': 'Liverpool', 2: 'Tottenham', 'Demi-finalistes': ['Lyon', 'Leipzig'], 'vainqueur_2018': 'Real Madrid'}\n"
     ]
    }
   ],
   "source": [
    "# solution : fonction update\n",
    "# on crée une copie ici du dico car sinon ldc est modifié également (cas similaire qu'on a vu avec les listes)\n",
    "\n",
    "ldc_new = ldc.copy()\n",
    "ldc_2019 = {\"vainqueur\" : \"Liverpool\", 2 : \"Tottenham\", \"vainqueur_2018\" : \"Real Madrid\"}\n",
    "ldc_new.update(ldc_2019)\n",
    "\n",
    "print(ldc)\n",
    "print(ldc_new)"
   ]
  },
  {
   "cell_type": "markdown",
   "metadata": {},
   "source": [
    "**Extraire les keys et les values**"
   ]
  },
  {
   "cell_type": "code",
   "execution_count": 3,
   "metadata": {},
   "outputs": [
    {
     "name": "stdout",
     "output_type": "stream",
     "text": [
      "{'vainqueur': 'Bayern München', 2: 'PSG', 'Demi-finalistes': ['Lyon', 'Leipzig']}\n",
      "dict_keys(['vainqueur', 2, 'Demi-finalistes'])\n"
     ]
    }
   ],
   "source": [
    "# pour extraire les keys, on utilise dict.keys()\n",
    "print(ldc)\n",
    "\n",
    "keys = ldc.keys()\n",
    "\n",
    "print(keys) #type(keys) != list"
   ]
  },
  {
   "cell_type": "code",
   "execution_count": 4,
   "metadata": {},
   "outputs": [
    {
     "name": "stdout",
     "output_type": "stream",
     "text": [
      "{'vainqueur': 'Bayern München', 2: 'PSG', 'Demi-finalistes': ['Lyon', 'Leipzig']}\n",
      "dict_values(['Bayern München', 'PSG', ['Lyon', 'Leipzig']])\n"
     ]
    }
   ],
   "source": [
    "# pour extraire les values, on utilise dict.values()\n",
    "print(ldc)\n",
    "\n",
    "values = ldc.values()\n",
    "\n",
    "print(values) #type(values) != list"
   ]
  },
  {
   "cell_type": "code",
   "execution_count": 5,
   "metadata": {},
   "outputs": [
    {
     "name": "stdout",
     "output_type": "stream",
     "text": [
      "{'vainqueur': 'Bayern München', 2: 'PSG', 'Demi-finalistes': ['Lyon', 'Leipzig']}\n",
      "dict_items([('vainqueur', 'Bayern München'), (2, 'PSG'), ('Demi-finalistes', ['Lyon', 'Leipzig'])])\n"
     ]
    }
   ],
   "source": [
    "# pour extraire les paires (key,value), on utilise dict.items()\n",
    "print(ldc)\n",
    "\n",
    "pairs = ldc.items()\n",
    "\n",
    "print(pairs) #type(pairs) != list"
   ]
  },
  {
   "cell_type": "code",
   "execution_count": 6,
   "metadata": {},
   "outputs": [
    {
     "name": "stdout",
     "output_type": "stream",
     "text": [
      "{'vainqueur': 'Bayern München', 2: 'PSG', 'Demi-finalistes': ['Lyon', 'Leipzig']}\n",
      "vainqueur_2020 :  Bayern München\n",
      "vainqueur_2019 :  t'étais où l'an dernier ?\n"
     ]
    }
   ],
   "source": [
    "# On utilise aussi la fonction dict.get(key, value si key n'existe pas(si rien n'est spécifié default value = None)) pour récupérer une value...\n",
    "print(ldc)\n",
    "\n",
    "vainqueur_2020 = ldc.get(\"vainqueur\")\n",
    "vainqueur_2019 = ldc.get(\"vainqueur_2019\", \"t'étais où l'an dernier ?\")\n",
    "\n",
    "print(\"vainqueur_2020 : \", vainqueur_2020)\n",
    "print(\"vainqueur_2019 : \", vainqueur_2019)"
   ]
  },
  {
   "cell_type": "code",
   "execution_count": 7,
   "metadata": {},
   "outputs": [
    {
     "name": "stdout",
     "output_type": "stream",
     "text": [
      "{'vainqueur': 'Bayern München', 2: 'PSG', 'Demi-finalistes': ['Lyon', 'Leipzig']}\n",
      "Bayern München\n"
     ]
    }
   ],
   "source": [
    "# ... on a encore plus simple mais retourne une erreur si la clé n'existe pas : dict[key]\n",
    "print(ldc)\n",
    "\n",
    "vainqueur = ldc[\"vainqueur\"]\n",
    "\n",
    "print(vainqueur)"
   ]
  },
  {
   "cell_type": "markdown",
   "metadata": {},
   "source": [
    "**Supprimer une paire du dictionnaire**"
   ]
  },
  {
   "cell_type": "code",
   "execution_count": 8,
   "metadata": {},
   "outputs": [
    {
     "name": "stdout",
     "output_type": "stream",
     "text": [
      "{'vainqueur': 'Bayern München', 2: 'PSG', 'Demi-finalistes': ['Lyon', 'Leipzig']}\n",
      "ldc : {2: 'PSG', 'Demi-finalistes': ['Lyon', 'Leipzig']}\n",
      "vainqueur : Bayern München\n"
     ]
    }
   ],
   "source": [
    "# solution : fonction dict.pop(key), on peut stocker la valeur supprimée\n",
    "print(ldc)\n",
    "\n",
    "vainqueur = ldc.pop(\"vainqueur\")\n",
    "\n",
    "print('ldc :', ldc)\n",
    "print(\"vainqueur :\", vainqueur)"
   ]
  }
 ],
 "metadata": {
  "kernelspec": {
   "display_name": "Python 3",
   "language": "python",
   "name": "python3"
  },
  "language_info": {
   "codemirror_mode": {
    "name": "ipython",
    "version": 3
   },
   "file_extension": ".py",
   "mimetype": "text/x-python",
   "name": "python",
   "nbconvert_exporter": "python",
   "pygments_lexer": "ipython3",
   "version": "3.8.3"
  }
 },
 "nbformat": 4,
 "nbformat_minor": 4
}
