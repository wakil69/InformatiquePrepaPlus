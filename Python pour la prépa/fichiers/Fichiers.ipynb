{
 "cells": [
  {
   "cell_type": "markdown",
   "metadata": {},
   "source": [
    "# **Manipulation de fichiers**"
   ]
  },
  {
   "cell_type": "code",
   "execution_count": 1,
   "metadata": {},
   "outputs": [],
   "source": [
    "import numpy as np\n",
    "import matplotlib.pyplot as plt"
   ]
  },
  {
   "cell_type": "markdown",
   "metadata": {},
   "source": [
    "**Ouverture d'un fichier**"
   ]
  },
  {
   "cell_type": "markdown",
   "metadata": {},
   "source": [
    "**Contexte : On a fait une expérience et on veut tracer Qv = Qv(N1)**"
   ]
  },
  {
   "cell_type": "code",
   "execution_count": 3,
   "metadata": {},
   "outputs": [],
   "source": [
    "# syntaxe : open(chemin du fichier, mode)\n",
    "# 3 modes d'ouverture\n",
    "# r = read = ouverture du fichier en mode lecture\n",
    "# w = write = ouverture du fichier en mode écriture\n",
    "# a = append = si on veut ajouter du contenu en fin de fichier\n",
    "# diff entre append et write :\n",
    "# append permet de rajouter des lignes à la fin sans écraser à ce qu'il y a avant\n",
    "# au contraire de write qui ne préserve pas ce qui a été enregistré avant\n",
    "# Une fois qu’on a terminé de manipuler un fichier, il est considéré comme une bonne pratique de le fermer. \n",
    "# Cela évite d’utiliser des ressources inutilement et d’obtenir certains comportements inattendus.\n",
    "\n",
    "fichier = open(\"RésultatsTP.csv\", \"r\")\n",
    "lignes = fichier.readlines() # lignes contient toutes les lignes de notre fichier\n",
    "fichier.close() #une fois qu'on a récupéré les lignes de notre fichier on le ferme"
   ]
  },
  {
   "cell_type": "code",
   "execution_count": 4,
   "metadata": {},
   "outputs": [
    {
     "data": {
      "text/plain": [
       "'Qv,N1,N2,C1,C2\\n'"
      ]
     },
     "execution_count": 4,
     "metadata": {},
     "output_type": "execute_result"
    }
   ],
   "source": [
    "lignes[0] #n'utilisez pas print pour voir les lignes car print \"nettoie\" les impuretés  "
   ]
  },
  {
   "cell_type": "code",
   "execution_count": 5,
   "metadata": {},
   "outputs": [
    {
     "data": {
      "text/plain": [
       "'l/min,1/min,,Nm,\\n'"
      ]
     },
     "execution_count": 5,
     "metadata": {},
     "output_type": "execute_result"
    }
   ],
   "source": [
    "lignes[1]"
   ]
  },
  {
   "cell_type": "code",
   "execution_count": 6,
   "metadata": {},
   "outputs": [
    {
     "data": {
      "text/plain": [
       "'0,-3.125,-1.5625,0.0684,0\\n'"
      ]
     },
     "execution_count": 6,
     "metadata": {},
     "output_type": "execute_result"
    }
   ],
   "source": [
    "lignes[2]"
   ]
  },
  {
   "cell_type": "code",
   "execution_count": 7,
   "metadata": {},
   "outputs": [
    {
     "data": {
      "text/plain": [
       "str"
      ]
     },
     "execution_count": 7,
     "metadata": {},
     "output_type": "execute_result"
    }
   ],
   "source": [
    "type(lignes[0])"
   ]
  },
  {
   "cell_type": "markdown",
   "metadata": {},
   "source": [
    "**Nettoyage des lignes**"
   ]
  },
  {
   "cell_type": "code",
   "execution_count": 8,
   "metadata": {},
   "outputs": [],
   "source": [
    "#On va utiliser les fonctions spécifiques aux string\n",
    "# Pas besoin de retravailler les 2 premières lignes\n",
    "# Je veux récupérer deux listes de nombres\n",
    "\n",
    "new_lignes = []\n",
    "for ligne in lignes[2:]:\n",
    "    ligne = ligne.strip('\\n') # strip élimine à la fin et au début l'argument (ici : /n) \n",
    "    ligne = ligne.split(',')\n",
    "    new_lignes.append(ligne)\n",
    "new_lignes = np.array(new_lignes)"
   ]
  },
  {
   "cell_type": "code",
   "execution_count": 9,
   "metadata": {},
   "outputs": [
    {
     "data": {
      "text/plain": [
       "array(['8.7891', '1501.5625', '2210.9375', '0.752', '1.0547'], dtype='<U9')"
      ]
     },
     "execution_count": 9,
     "metadata": {},
     "output_type": "execute_result"
    }
   ],
   "source": [
    "new_lignes[2]"
   ]
  },
  {
   "cell_type": "markdown",
   "metadata": {},
   "source": [
    "**Extraction des valeurs de Qv et N1**"
   ]
  },
  {
   "cell_type": "code",
   "execution_count": 10,
   "metadata": {},
   "outputs": [
    {
     "name": "stdout",
     "output_type": "stream",
     "text": [
      "['0' '2.6855' '8.7891' '15.625' '25.1465' '41.748' '45.4102' '55.6641'\n",
      " '68.1152' '74.707' '85.9375' '99.1211' '105.957' '117.9199' '124.7559'\n",
      " '137.4512' '142.0898' '152.832' '166.5039' '181.3965']\n",
      "['-3.125' '1500' '1501.5625' '1501.5625' '1500' '1501.5625' '1500' '1500'\n",
      " '1503.125' '1500' '1503.125' '1501.5625' '1501.5625' '1501.5625' '1500'\n",
      " '1501.5625' '1501.5625' '1503.125' '1503.125' '1501.5625']\n",
      "<class 'numpy.ndarray'>\n"
     ]
    }
   ],
   "source": [
    "Qv = new_lignes[:,0]\n",
    "N1 = new_lignes[:,1]\n",
    "\n",
    "print(Qv) #ce sont des tableau 1-D pas des listes !\n",
    "print(N1)\n",
    "print(type(Qv))"
   ]
  },
  {
   "cell_type": "code",
   "execution_count": 11,
   "metadata": {},
   "outputs": [
    {
     "data": {
      "image/png": "[encoded data removed]",
      "text/plain": [
       "<Figure size 432x288 with 1 Axes>"
      ]
     },
     "metadata": {
      "needs_background": "light"
     },
     "output_type": "display_data"
    }
   ],
   "source": [
    "plt.plot(N1, Qv)\n",
    "plt.show()"
   ]
  },
  {
   "cell_type": "markdown",
   "metadata": {},
   "source": [
    "**Contexte : On veut rajouter des valeurs**"
   ]
  },
  {
   "cell_type": "code",
   "execution_count": 12,
   "metadata": {},
   "outputs": [],
   "source": [
    "# Avec cette syntaxe, le fichier se ferme automatiquementù\n",
    "# la nouvelle ligne s'ajoute en fin de fichier sans toucher au reste du fichier\n",
    "new_line = \"1,2,3,6,4\\n\"\n",
    "with open('RésultatsTP.csv','a') as tp:\n",
    "    tp.write(new_line)\n"
   ]
  },
  {
   "cell_type": "code",
   "execution_count": 13,
   "metadata": {},
   "outputs": [
    {
     "name": "stdout",
     "output_type": "stream",
     "text": [
      "['Qv,N1,N2,C1,C2\\n', 'l/min,1/min,,Nm,\\n', '0,-3.125,-1.5625,0.0684,0\\n', '2.6855,1500,2212.5,0.8008,1.0254\\n', '8.7891,1501.5625,2210.9375,0.752,1.0547\\n', '15.625,1501.5625,2209.375,0.8154,1.084\\n', '25.1465,1500,2212.5,0.8057,1.1426\\n', '41.748,1501.5625,2209.375,0.8105,1.2598\\n', '45.4102,1500,2206.25,0.8057,1.2598\\n', '55.6641,1500,2207.8125,0.8008,1.3184\\n', '68.1152,1503.125,2203.125,0.7422,1.4136\\n', '74.707,1500,2207.8125,0.7666,1.4209\\n', '85.9375,1503.125,2203.125,0.7471,1.4941\\n', '99.1211,1501.5625,2201.5625,0.8154,1.5601\\n', '105.957,1501.5625,2201.5625,0.7764,1.5894\\n', '117.9199,1501.5625,2200,0.8008,1.6479\\n', '124.7559,1500,2200,0.7812,1.6699\\n', '137.4512,1501.5625,2200,0.752,1.7212\\n', '142.0898,1501.5625,2198.4375,0.8057,1.7285\\n', '152.832,1503.125,2200,0.7715,1.7798\\n', '166.5039,1503.125,2201.5625,0.7959,1.8018\\n', '181.3965,1501.5625,2198.4375,0.7812,1.8384\\n', '1,2,3,6,4\\n']\n"
     ]
    }
   ],
   "source": [
    "with open('RésultatsTP.csv','r') as tp:\n",
    "    print(tp.readlines())"
   ]
  },
  {
   "cell_type": "code",
   "execution_count": 14,
   "metadata": {},
   "outputs": [],
   "source": [
    "#si on utilise write :\n",
    "# on a écrasé tout notre fichier, il ne reste plus rien\n",
    "new_line = \"1,2,3,6,4\\n\"\n",
    "with open('RésultatsTP.csv','w') as tp:\n",
    "    tp.write(new_line)"
   ]
  },
  {
   "cell_type": "code",
   "execution_count": 15,
   "metadata": {},
   "outputs": [
    {
     "name": "stdout",
     "output_type": "stream",
     "text": [
      "['1,2,3,6,4\\n']\n"
     ]
    }
   ],
   "source": [
    "with open('RésultatsTP.csv','r') as tp:\n",
    "    print(tp.readlines())"
   ]
  }
 ],
 "metadata": {
  "kernelspec": {
   "display_name": "Python 3",
   "language": "python",
   "name": "python3"
  },
  "language_info": {
   "codemirror_mode": {
    "name": "ipython",
    "version": 3
   },
   "file_extension": ".py",
   "mimetype": "text/x-python",
   "name": "python",
   "nbconvert_exporter": "python",
   "pygments_lexer": "ipython3",
   "version": "3.8.3"
  }
 },
 "nbformat": 4,
 "nbformat_minor": 4
}
