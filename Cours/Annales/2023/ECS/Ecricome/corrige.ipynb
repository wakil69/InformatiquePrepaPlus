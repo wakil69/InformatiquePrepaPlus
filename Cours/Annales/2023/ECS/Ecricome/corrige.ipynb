{
 "cells": [
  {
   "cell_type": "markdown",
   "id": "3d73fc0a",
   "metadata": {},
   "source": [
    "# Corrigé Sujet Maths Ecricome 2023"
   ]
  },
  {
   "cell_type": "code",
   "execution_count": null,
   "id": "62bf4348",
   "metadata": {},
   "outputs": [],
   "source": [
    "import numpy as np\n",
    "import numpy.random as rd"
   ]
  },
  {
   "cell_type": "markdown",
   "id": "86794796",
   "metadata": {},
   "source": [
    "## Problème : Partie 1 - Question 1"
   ]
  },
  {
   "cell_type": "code",
   "execution_count": null,
   "id": "838c69a0",
   "metadata": {},
   "outputs": [],
   "source": [
    "def F(x):\n",
    "    return np.exp(x) / (1 + np.exp(x))"
   ]
  },
  {
   "cell_type": "markdown",
   "id": "14c3267e",
   "metadata": {},
   "source": [
    "## Problème : Partie 3 - Question 19"
   ]
  },
  {
   "cell_type": "code",
   "execution_count": null,
   "id": "7fddca8e",
   "metadata": {},
   "outputs": [],
   "source": [
    "def realisation_X():\n",
    "    U = rd.random()\n",
    "    X = np.log(U/(1-U))\n",
    "    return X\n",
    "\n",
    "\n"
   ]
  },
  {
   "cell_type": "markdown",
   "id": "d8eb2716",
   "metadata": {},
   "source": [
    "## Problème : Partie 3 - Question 20"
   ]
  },
  {
   "cell_type": "code",
   "execution_count": null,
   "id": "101f4537",
   "metadata": {},
   "outputs": [],
   "source": [
    "def estimation_pi(n):\n",
    "    T = 0\n",
    "    for i in range(1, n+1):\n",
    "        T = T + realisation_X()**2\n",
    "    return (3/(n*T))**(0.5)   # ou bien np.sqrt(3/(n*T))"
   ]
  }
 ],
 "metadata": {
  "kernelspec": {
   "display_name": "Python 3",
   "language": "python",
   "name": "python3"
  },
  "language_info": {
   "name": "python",
   "version": "3.12.8"
  }
 },
 "nbformat": 4,
 "nbformat_minor": 5
}
