{
 "cells": [
  {
   "cell_type": "markdown",
   "id": "3d73fc0a",
   "metadata": {},
   "source": [
    "# Corrigé Sujet Maths Ecricome 2023"
   ]
  },
  {
   "cell_type": "code",
   "execution_count": 2,
   "id": "62bf4348",
   "metadata": {},
   "outputs": [],
   "source": [
    "import numpy as np\n",
    "import numpy.random as rd"
   ]
  },
  {
   "cell_type": "markdown",
   "id": "86794796",
   "metadata": {},
   "source": [
    "## Problème : Partie 1 - Question 1"
   ]
  },
  {
   "cell_type": "code",
   "execution_count": 3,
   "id": "838c69a0",
   "metadata": {},
   "outputs": [],
   "source": [
    "def F(x):\n",
    "    return np.exp(x) / (1 + np.exp(x))"
   ]
  },
  {
   "cell_type": "markdown",
   "id": "14c3267e",
   "metadata": {},
   "source": [
    "## Problème : Partie 3 - Question 19"
   ]
  },
  {
   "cell_type": "code",
   "execution_count": null,
   "id": "7fddca8e",
   "metadata": {},
   "outputs": [],
   "source": [
    "def realisation_X():\n",
    "    U = rd.random() # U loi uniforme entre ]0:1[, théoriquement la probabilité d'avoir 0 est null avec rd.random...\n",
    "    X = np.log(U/(1-U)) # f^-1 = ln(y / (1-y))\n",
    "    return X\n",
    "\n",
    "\n"
   ]
  },
  {
   "cell_type": "markdown",
   "id": "d8eb2716",
   "metadata": {},
   "source": [
    "## Problème : Partie 3 - Question 20\n",
    "\n",
    "$$\n",
    "V_n = \\frac{1}{n}\\sum_{i=1}^n X_i^2 \\;\\;\\longrightarrow\\;\\; \\frac{\\pi^2}{3},\n",
    "$$\n",
    "\n",
    "alors\n",
    "\n",
    "$$\n",
    "T_n = \\sqrt{3 V_n} \\;\\;\\longrightarrow\\;\\; \\pi.\n",
    "$$\n"
   ]
  },
  {
   "cell_type": "code",
   "execution_count": null,
   "id": "101f4537",
   "metadata": {},
   "outputs": [],
   "source": [
    "def estimation_pi(n):\n",
    "    # On génère n réalisations de X avec la fonction realisation_X\n",
    "    X = np.array([realisation_X() for _ in range(n)])\n",
    "    \n",
    "    # On calcule la moyenne des X_i^2\n",
    "    Vn = np.mean(X**2)\n",
    "    \n",
    "    # Estimation de pi\n",
    "    Tn = np.sqrt(3 * Vn)\n",
    "    \n",
    "    return Tn"
   ]
  }
 ],
 "metadata": {
  "kernelspec": {
   "display_name": "Python 3",
   "language": "python",
   "name": "python3"
  },
  "language_info": {
   "codemirror_mode": {
    "name": "ipython",
    "version": 3
   },
   "file_extension": ".py",
   "mimetype": "text/x-python",
   "name": "python",
   "nbconvert_exporter": "python",
   "pygments_lexer": "ipython3",
   "version": "3.12.8"
  }
 },
 "nbformat": 4,
 "nbformat_minor": 5
}
