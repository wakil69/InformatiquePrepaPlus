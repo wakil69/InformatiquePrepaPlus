{
 "cells": [
  {
   "cell_type": "markdown",
   "id": "e1b5a9d6",
   "metadata": {},
   "source": [
    "# Corrigé Sujet Maths 2S HEC/ESCP 2023"
   ]
  },
  {
   "cell_type": "code",
   "execution_count": 1,
   "id": "b710e1e2",
   "metadata": {},
   "outputs": [],
   "source": [
    "import numpy as np\n",
    "import numpy.random as rd"
   ]
  },
  {
   "cell_type": "markdown",
   "id": "f3e7b257",
   "metadata": {},
   "source": [
    "## Première partie - 6 (b)"
   ]
  },
  {
   "cell_type": "code",
   "execution_count": null,
   "id": "5baccd17",
   "metadata": {},
   "outputs": [],
   "source": [
    "def arcsinus():\n",
    "    U = rd.random()         # U est uniforme[0,1]\n",
    "    V = np.sin((np.pi/2) * U)**2     \n",
    "    return V"
   ]
  },
  {
   "cell_type": "markdown",
   "id": "fbb5c5e3",
   "metadata": {},
   "source": [
    "## Troisième partie - 21 (a)\n",
    "\n",
    "* On définit $L_n = \\max\\{k \\in [0,n] : S_{2k}(\\omega) = 0\\}$.\n",
    "* Et juste après :\n",
    "\n",
    "  > « La variable aléatoire $2L_n$ décrit donc le dernier instant avant l’instant $2n$ où la **marche aléatoire** prend la valeur 0. »\n",
    "\n",
    "Donc on est dans le cadre classique d’une **marche aléatoire simple symétrique** :\n",
    "\n",
    "$$\n",
    "S_m = X_1 + X_2 + \\cdots + X_m, \\quad \\text{avec } X_i \\in \\{-1,+1\\}, \\quad \\mathbb{P}(X_i=1)=\\mathbb{P}(X_i=-1)=\\tfrac12.\n",
    "$$\n"
   ]
  },
  {
   "cell_type": "code",
   "execution_count": null,
   "id": "f929c720",
   "metadata": {},
   "outputs": [],
   "source": [
    "def DernierPassage(n):\n",
    "    L = 0\n",
    "    S = 0\n",
    "    for i in range(1, 2*n+1):   \n",
    "        S = S + 2 * rd.binomial(1, 1/2) - 1  # rd.binomial(1, 1/2) = 1, S = S + 1, rd.binomial(1, 1/2) = 0, S = S - 1\n",
    "        if S == 0:\n",
    "            L = i/2\n",
    "    return L"
   ]
  }
 ],
 "metadata": {
  "kernelspec": {
   "display_name": "Python 3",
   "language": "python",
   "name": "python3"
  },
  "language_info": {
   "codemirror_mode": {
    "name": "ipython",
    "version": 3
   },
   "file_extension": ".py",
   "mimetype": "text/x-python",
   "name": "python",
   "nbconvert_exporter": "python",
   "pygments_lexer": "ipython3",
   "version": "3.12.8"
  }
 },
 "nbformat": 4,
 "nbformat_minor": 5
}
