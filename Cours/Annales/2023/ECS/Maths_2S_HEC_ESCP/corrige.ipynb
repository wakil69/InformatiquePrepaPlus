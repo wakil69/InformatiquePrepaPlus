{
 "cells": [
  {
   "cell_type": "markdown",
   "id": "e1b5a9d6",
   "metadata": {},
   "source": [
    "# Corrigé Sujet Maths 2S HEC/ESCP 2023"
   ]
  },
  {
   "cell_type": "markdown",
   "id": "e654ff7d",
   "metadata": {},
   "source": [
    "## Première partie - 6 (a)\n",
    "\n",
    "\n",
    "Soit $U \\sim \\mathcal{U}[0,1]$ et posons\n",
    "\n",
    "$$\n",
    "V = \\sin^2\\!\\Big(\\tfrac{\\pi}{2} U\\Big).\n",
    "$$\n",
    "\n",
    "On a $\\tfrac{\\pi}{2}U \\sim \\mathcal{U}[0,\\tfrac{\\pi}{2}]$. Ainsi $V \\in [0,1]$.\n",
    "\n",
    "Pour $x \\in [0,1]$ :\n",
    "\n",
    "$$\n",
    "F_V(x) = \\mathbb{P}(V \\leq x) \n",
    "= \\mathbb{P}\\!\\left(\\sin^2\\!\\Big(\\tfrac{\\pi}{2} U\\Big) \\leq x\\right) \n",
    "= \\mathbb{P}\\!\\left(U \\leq \\tfrac{2}{\\pi} \\arcsin(\\sqrt{x})\\right).\n",
    "$$\n",
    "\n",
    "Comme $U \\sim \\mathcal{U}[0,1]$,\n",
    "\n",
    "$$\n",
    "F_V(x) = \\frac{2}{\\pi}\\arcsin(\\sqrt{x}), \\quad 0 \\leq x \\leq 1.\n",
    "$$\n",
    "\n",
    "On en déduit la densité :\n",
    "\n",
    "$$\n",
    "f_V(x) = F'_V(x) = \\frac{1}{\\pi \\sqrt{x(1-x)}}, \\quad x \\in (0,1).\n",
    "$$\n",
    "\n",
    "C’est exactement la densité de la **loi arcsinus**.\n",
    "\n"
   ]
  },
  {
   "cell_type": "code",
   "execution_count": null,
   "id": "b710e1e2",
   "metadata": {},
   "outputs": [],
   "source": [
    "import numpy as np\n",
    "import numpy.random as rd"
   ]
  },
  {
   "cell_type": "markdown",
   "id": "f3e7b257",
   "metadata": {},
   "source": [
    "## Première partie - 6 (b)"
   ]
  },
  {
   "cell_type": "code",
   "execution_count": null,
   "id": "5baccd17",
   "metadata": {},
   "outputs": [],
   "source": [
    "def arcsinus():\n",
    "    U = rd.rand()                     # U ~ uniforme[0,1]\n",
    "    V = np.sin((np.pi/2) * U)**2      # transformation -> loi arcsinus\n",
    "    return V"
   ]
  },
  {
   "cell_type": "markdown",
   "id": "fbb5c5e3",
   "metadata": {},
   "source": [
    "## Troisième partie - 21 (a)"
   ]
  },
  {
   "cell_type": "code",
   "execution_count": null,
   "id": "f929c720",
   "metadata": {},
   "outputs": [],
   "source": [
    "def DernierPassage(n):\n",
    "    L = 0\n",
    "    S = 0\n",
    "    for i in range(1, 2*n+1):   \n",
    "        S = S + 2*rd.binomial(1, 1/2) - 1   \n",
    "        if S == 0:\n",
    "            L = i/2\n",
    "    return L"
   ]
  }
 ],
 "metadata": {
  "kernelspec": {
   "display_name": "Python 3",
   "language": "python",
   "name": "python3"
  },
  "language_info": {
   "name": "python",
   "version": "3.12.8"
  }
 },
 "nbformat": 4,
 "nbformat_minor": 5
}
