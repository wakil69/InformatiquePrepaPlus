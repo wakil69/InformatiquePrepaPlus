{
 "cells": [
  {
   "cell_type": "markdown",
   "id": "6978d89e",
   "metadata": {},
   "source": [
    "# Corrigé Sujet Maths EDHEC 2023"
   ]
  },
  {
   "cell_type": "code",
   "execution_count": null,
   "id": "3b1c423b",
   "metadata": {},
   "outputs": [],
   "source": [
    "import numpy as np\n",
    "import numpy.random as rd\n"
   ]
  },
  {
   "cell_type": "markdown",
   "id": "bff9f114",
   "metadata": {},
   "source": [
    "## Exercice 2 : Partie 1 - 4 (c)"
   ]
  },
  {
   "cell_type": "code",
   "execution_count": null,
   "id": "d31489ff",
   "metadata": {},
   "outputs": [],
   "source": [
    "def simulX(c) :\n",
    "    return np.exp(rd.exponential(c))"
   ]
  },
  {
   "cell_type": "markdown",
   "id": "65471a50",
   "metadata": {},
   "source": [
    "## Exercice 2 : Partie 2 - 5"
   ]
  },
  {
   "cell_type": "code",
   "execution_count": null,
   "id": "79c5a87c",
   "metadata": {},
   "outputs": [],
   "source": [
    "def simulZ(c) :\n",
    "    return simulX(c) * simulX(c)"
   ]
  }
 ],
 "metadata": {
  "kernelspec": {
   "display_name": "Python 3",
   "language": "python",
   "name": "python3"
  },
  "language_info": {
   "name": "python",
   "version": "3.12.8"
  }
 },
 "nbformat": 4,
 "nbformat_minor": 5
}
