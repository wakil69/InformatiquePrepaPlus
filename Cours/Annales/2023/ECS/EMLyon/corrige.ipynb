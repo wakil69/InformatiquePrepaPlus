{
 "cells": [
  {
   "cell_type": "markdown",
   "id": "6978d89e",
   "metadata": {},
   "source": [
    "# Corrigé Sujet Maths EMLyon 2023"
   ]
  },
  {
   "cell_type": "code",
   "execution_count": null,
   "id": "3b1c423b",
   "metadata": {},
   "outputs": [],
   "source": [
    "import numpy as np\n",
    "import numpy.random as rd\n"
   ]
  },
  {
   "cell_type": "markdown",
   "id": "bff9f114",
   "metadata": {},
   "source": [
    "## Exercice 1 : Question 2\n",
    "\n",
    "### Question (a)\n",
    "\n",
    "* Ici, `s` calcule **somme partielle de la série harmonique** :\n",
    "\n",
    "  $$\n",
    "  s = 1 + \\frac{1}{2} + \\frac{1}{3} + \\dots + \\frac{1}{k}.\n",
    "  $$\n",
    "* La fonction renvoie le plus petit entier $k$ tel que\n",
    "\n",
    "  $$\n",
    "  H_k = \\sum_{i=1}^k \\frac{1}{i} > a.\n",
    "  $$\n",
    "\n",
    "Donc `rang(50)` renvoie le plus petit entier $k$ tel que $H_k > 50$.\n",
    "\n",
    "Or on sait que $H_k \\sim \\ln(k) + \\gamma$ (constante d’Euler-Mascheroni).\n",
    "Donc chercher $H_k > 50$ revient à chercher environ\n",
    "\n",
    "$$\n",
    "\\ln(k) \\approx 50 \\quad \\Rightarrow \\quad k \\approx e^{50}.\n",
    "$$\n",
    "\n",
    "\n",
    "### Question (b)\n",
    "\n",
    "* Comme $e^{49} \\approx 1.9 \\times 10^{21}$, on voit que pour dépasser 50 avec la série harmonique il faut aller jusqu’à un rang **énorme**, de l’ordre de $e^{50}$.\n",
    "* Cela laisse donc penser que `rang(50)` sera de l’ordre de $e^{50}$, c’est-à-dire environ $5 \\times 10^{21}$.\n",
    "\n",
    "\n",
    "**(a)** L’appel `rang(50)` renvoie le plus petit entier $k$ tel que la somme harmonique $H_k = 1 + \\frac{1}{2} + \\cdots + \\frac{1}{k}$ dépasse 50.\n",
    "\n",
    "**(b)** Comme $H_k \\sim \\ln(k) + \\gamma$, il faut $k \\approx e^{50}$ pour avoir $H_k \\approx 50$. Le calcul de `exp(49) ≈ 1.9 \\times 10^{21}` confirme que `rang(50)` sera un entier gigantesque de l’ordre de grandeur de $e^{50}$.\n"
   ]
  },
  {
   "cell_type": "markdown",
   "id": "65471a50",
   "metadata": {},
   "source": [
    "## Exercice 2 : Question 2"
   ]
  },
  {
   "cell_type": "code",
   "execution_count": null,
   "id": "79c5a87c",
   "metadata": {},
   "outputs": [],
   "source": [
    "def VarZ(n):\n",
    "    from numpy import min\n",
    "    from numpy.random import random\n",
    "    return min(random(n))"
   ]
  },
  {
   "cell_type": "markdown",
   "id": "47c417a5",
   "metadata": {},
   "source": [
    "## Exercice 2 : Question 6"
   ]
  },
  {
   "cell_type": "code",
   "execution_count": null,
   "id": "c6f15074",
   "metadata": {},
   "outputs": [],
   "source": [
    "def VarT(n):\n",
    "    from numpy import min\n",
    "    from numpy.random import random\n",
    "    X = random(n)\n",
    "    return min(X) - X[-1]"
   ]
  }
 ],
 "metadata": {
  "kernelspec": {
   "display_name": "Python 3",
   "language": "python",
   "name": "python3"
  },
  "language_info": {
   "name": "python",
   "version": "3.12.8"
  }
 },
 "nbformat": 4,
 "nbformat_minor": 5
}
