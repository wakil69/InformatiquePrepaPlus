{
 "cells": [
  {
   "cell_type": "markdown",
   "id": "6978d89e",
   "metadata": {},
   "source": [
    "# Corrigé Sujet Maths EMLyon 2023"
   ]
  },
  {
   "cell_type": "code",
   "execution_count": null,
   "id": "3b1c423b",
   "metadata": {},
   "outputs": [],
   "source": [
    "import numpy as np\n",
    "import numpy.random as rd\n"
   ]
  },
  {
   "cell_type": "markdown",
   "id": "bff9f114",
   "metadata": {},
   "source": [
    "## Exercice 1 : Question 2\n",
    "\n",
    "### Question (a)\n",
    "\n",
    "* Ici, `s` calcule **somme partielle de la série harmonique** :\n",
    "\n",
    "  $$\n",
    "  s = 1 + \\frac{1}{2} + \\frac{1}{3} + \\dots + \\frac{1}{k}.\n",
    "  $$\n",
    "* La fonction renvoie le plus petit entier $k$ tel que\n",
    "\n",
    "  $$\n",
    "  \\sum_{i=1}^k \\frac{1}{i} > a.\n",
    "  $$\n",
    "\n",
    "\n",
    "Donc `rang(50)` renvoie le plus petit entier $k$ tel que $\\sum_{i=1}^k \\frac{1}{i} > 50$.\n"
   ]
  },
  {
   "cell_type": "markdown",
   "id": "65471a50",
   "metadata": {},
   "source": [
    "## Exercice 2 : Question 2"
   ]
  },
  {
   "cell_type": "code",
   "execution_count": null,
   "id": "79c5a87c",
   "metadata": {},
   "outputs": [],
   "source": [
    "def VarZ(n):\n",
    "    from numpy import min\n",
    "    from numpy.random import random\n",
    "    return min(random(n)) # random(n) : les X_k qui suivent des lois uniformes sur ]0,1["
   ]
  },
  {
   "cell_type": "markdown",
   "id": "47c417a5",
   "metadata": {},
   "source": [
    "## Exercice 2 : Question 6"
   ]
  },
  {
   "cell_type": "code",
   "execution_count": null,
   "id": "c6f15074",
   "metadata": {},
   "outputs": [],
   "source": [
    "def VarT(n):\n",
    "    from numpy import min\n",
    "    from numpy.random import random\n",
    "    X = random(n)\n",
    "    return min(X) - X[-1]"
   ]
  }
 ],
 "metadata": {
  "kernelspec": {
   "display_name": "Python 3",
   "language": "python",
   "name": "python3"
  },
  "language_info": {
   "name": "python",
   "version": "3.12.8"
  }
 },
 "nbformat": 4,
 "nbformat_minor": 5
}
