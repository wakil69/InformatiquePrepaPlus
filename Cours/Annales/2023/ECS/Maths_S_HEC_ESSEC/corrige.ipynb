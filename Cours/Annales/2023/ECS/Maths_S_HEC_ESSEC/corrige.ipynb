{
 "cells": [
  {
   "cell_type": "markdown",
   "id": "8d819704",
   "metadata": {},
   "source": [
    "# Corrigé Sujet Maths S HEC/ESSEC 2023"
   ]
  },
  {
   "cell_type": "code",
   "execution_count": 2,
   "id": "d1c907ba",
   "metadata": {},
   "outputs": [],
   "source": [
    "import numpy as np\n",
    "import numpy.linalg as al"
   ]
  },
  {
   "cell_type": "markdown",
   "id": "ebfe2860",
   "metadata": {},
   "source": [
    "## Partie II - Question 8"
   ]
  },
  {
   "cell_type": "code",
   "execution_count": null,
   "id": "5dd94482",
   "metadata": {},
   "outputs": [],
   "source": [
    "def test_stieltjes(U):\n",
    "    N = len(U) - 1   \n",
    "    m = 1 + N // 2 # division entière\n",
    "    H = np.zeros((m, m))\n",
    "    for n in range(1, m+1): # on parcourt les colonnes de H (de 1 à m)\n",
    "        for i in range(0, m): # On parcourt les lignes de H (de 0 à m - 1)\n",
    "            H[i, n - 1] = U[i + n - 1] \n",
    "            H[n-1, i] = H[i, n - 1] # la matrice H est symétrique\n",
    "        valp = al.eigvalsh(H)\n",
    "        for k in range(0, len(valp)):\n",
    "            if valp[k] < 0:  \n",
    "                return 0\n",
    "    return 1\n"
   ]
  },
  {
   "cell_type": "markdown",
   "id": "5e42079b",
   "metadata": {},
   "source": [
    "## Partie III - Question 24 "
   ]
  },
  {
   "cell_type": "code",
   "execution_count": null,
   "id": "b45a8a65",
   "metadata": {},
   "outputs": [],
   "source": [
    "def test_hausdorff(U):\n",
    "    N = len(U) - 1  \n",
    "    Delta = np.zeros((N+1, N+1)) # (N+1) x (N+1)\n",
    "    info = -1\n",
    "\n",
    "    for k in range(0, N+1):  # On itère sur les lignes de Delta, joue le rôle de n dans l'énoncé\n",
    "        # 1ére colonne de Delta\n",
    "        Delta[k, 0] = U[k]   # Question 22\n",
    "        if (Delta[k, 0] < 0) and (info == -1):  \n",
    "            info = k\n",
    "\n",
    "        # les autres colonnes\n",
    "        # k = 0 rien ne s'execute\n",
    "        for j in range(1, k+1): # delta n, j = 0 si j > n donc pas besoin d'aller plus loin\n",
    "            Delta[k, j] = Delta[k - 1, j - 1] - Delta[k, j-1] # k = n + 1 et j = j + 1\n",
    "            if (Delta[k, j] < 0) and (info == -1):\n",
    "                info = k\n",
    "\n",
    "    return (info, Delta)\n"
   ]
  }
 ],
 "metadata": {
  "kernelspec": {
   "display_name": "Python 3",
   "language": "python",
   "name": "python3"
  },
  "language_info": {
   "codemirror_mode": {
    "name": "ipython",
    "version": 3
   },
   "file_extension": ".py",
   "mimetype": "text/x-python",
   "name": "python",
   "nbconvert_exporter": "python",
   "pygments_lexer": "ipython3",
   "version": "3.12.8"
  }
 },
 "nbformat": 4,
 "nbformat_minor": 5
}
