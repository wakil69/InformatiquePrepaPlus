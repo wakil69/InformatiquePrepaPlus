{
 "cells": [
  {
   "cell_type": "markdown",
   "id": "8d819704",
   "metadata": {},
   "source": [
    "# Corrigé Sujet Maths S HEC/ESSEC 2023"
   ]
  },
  {
   "cell_type": "code",
   "execution_count": 1,
   "id": "d1c907ba",
   "metadata": {},
   "outputs": [],
   "source": [
    "import numpy as np\n",
    "import numpy.linalg as al"
   ]
  },
  {
   "cell_type": "markdown",
   "id": "ebfe2860",
   "metadata": {},
   "source": [
    "## Partie II - Question 8"
   ]
  },
  {
   "cell_type": "code",
   "execution_count": null,
   "id": "5dd94482",
   "metadata": {},
   "outputs": [],
   "source": [
    "def test_stieltjes(U):\n",
    "    N = len(U) - 1   \n",
    "    m = 1 + N // 2\n",
    "    H = np.zeros((m, m))\n",
    "    for n in range(1, m+1):  \n",
    "        for i in range(0, m):   \n",
    "            H[i, n-1] = U[i+n-1]\n",
    "            H[n-1, i] = H[i, n-1]\n",
    "        valp = al.eigvalsh(H)\n",
    "        for k in range(0, len(valp)):\n",
    "            if valp[k] < 0:  \n",
    "                return 0\n",
    "    return 1\n"
   ]
  },
  {
   "cell_type": "markdown",
   "id": "5e42079b",
   "metadata": {},
   "source": [
    "## Partie III - Question 24 "
   ]
  },
  {
   "cell_type": "code",
   "execution_count": null,
   "id": "b45a8a65",
   "metadata": {},
   "outputs": [],
   "source": [
    "def test_hausdorff(U):\n",
    "    N = len(U) - 1  \n",
    "    Delta = np.zeros((N+1, N+1))\n",
    "    info = -1\n",
    "\n",
    "    for k in range(0, N+1):  \n",
    "        Delta[k, 0] = U[k]\n",
    "        if (Delta[k, 0] < 0) and (info == -1):  \n",
    "            info = k\n",
    "\n",
    "        for j in range(1, k+1):  \n",
    "            Delta[k, j] = Delta[k, j-1] - Delta[k-1, j-1]\n",
    "            if (Delta[k, j] < 0) and (info == -1):\n",
    "                info = k\n",
    "\n",
    "    return (info, Delta)\n"
   ]
  },
  {
   "cell_type": "markdown",
   "id": "45aa4554",
   "metadata": {},
   "source": [
    "## Partie III - Question 25 "
   ]
  },
  {
   "cell_type": "markdown",
   "id": "73ca2c06",
   "metadata": {},
   "source": [
    "* **Premier appel** :\n",
    "  `U[k] = 1/(k+1)` est la suite harmonique tronquée. Elle correspond aux moments d’une loi de probabilité uniforme sur \\[0,1].\n",
    "  Donc la condition de Hausdorff est **satisfaite partout**.\n",
    "  Résultat : `V[0] = -1`.\n",
    "\n",
    "* **Deuxième appel** :\n",
    "  On modifie artificiellement `U[3] = 0.16` au lieu de `1/4 = 0.25`.\n",
    "  Cette perturbation fausse les conditions.\n",
    "  La condition échoue pour le plus petit `n = 3`.\n",
    "  Résultat : `W[0] = 3`.\n",
    "\n",
    "* `V[0] = -1`\n",
    "* `W[0] = 3`"
   ]
  }
 ],
 "metadata": {
  "kernelspec": {
   "display_name": "Python 3",
   "language": "python",
   "name": "python3"
  },
  "language_info": {
   "codemirror_mode": {
    "name": "ipython",
    "version": 3
   },
   "file_extension": ".py",
   "mimetype": "text/x-python",
   "name": "python",
   "nbconvert_exporter": "python",
   "pygments_lexer": "ipython3",
   "version": "3.12.8"
  }
 },
 "nbformat": 4,
 "nbformat_minor": 5
}
