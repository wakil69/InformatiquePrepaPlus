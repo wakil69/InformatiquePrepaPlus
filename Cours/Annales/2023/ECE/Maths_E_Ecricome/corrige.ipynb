{
 "cells": [
  {
   "cell_type": "markdown",
   "id": "6969885d",
   "metadata": {},
   "source": [
    "# Corrigé Sujet Maths ECRICOME 2023 ECE"
   ]
  },
  {
   "cell_type": "code",
   "execution_count": 9,
   "id": "ed7a2004",
   "metadata": {},
   "outputs": [],
   "source": [
    "import numpy.random as rd\n",
    "import numpy as np\n",
    "import numpy.linalg as al"
   ]
  },
  {
   "cell_type": "markdown",
   "id": "89f52100",
   "metadata": {},
   "source": [
    "## Exercice 1 - Question 8 (a)"
   ]
  },
  {
   "cell_type": "code",
   "execution_count": 10,
   "id": "a74fcc9d",
   "metadata": {},
   "outputs": [
    {
     "data": {
      "text/plain": [
       "[1, 2, 2, 3, 3, 3]"
      ]
     },
     "execution_count": 10,
     "metadata": {},
     "output_type": "execute_result"
    }
   ],
   "source": [
    "def seconde_urne(k):\n",
    "    L = [1]\n",
    "    for j in range(2, k+1):\n",
    "        for _ in range(j):\n",
    "            L.append(j)\n",
    "    return L\n",
    "\n",
    "seconde_urne(3)\n"
   ]
  },
  {
   "cell_type": "markdown",
   "id": "c56a015c",
   "metadata": {},
   "source": [
    "## Exercice 1 - Question 8 (b)"
   ]
  },
  {
   "cell_type": "code",
   "execution_count": 11,
   "id": "2c65ff19",
   "metadata": {},
   "outputs": [],
   "source": [
    "def simul_XY(n):\n",
    "    X = rd.randint(1, n+1)      \n",
    "    urne2 = seconde_urne(X)\n",
    "    nb = len(urne2)\n",
    "    i = rd.randint(0, nb)\n",
    "    Y = urne2[i]\n",
    "    return X, Y\n"
   ]
  },
  {
   "cell_type": "markdown",
   "id": "c9ba9b6b",
   "metadata": {},
   "source": [
    "## Exercice 1 - Question 8 (c)"
   ]
  },
  {
   "cell_type": "code",
   "execution_count": 12,
   "id": "9ae179ae",
   "metadata": {},
   "outputs": [],
   "source": [
    "def fonction(n):\n",
    "    liste = [0] * n\n",
    "    for i in range(10000):\n",
    "        j = simul_XY(n)[1]\n",
    "        liste[j-1] = liste[j-1] + 1/10000\n",
    "    return liste\n"
   ]
  },
  {
   "cell_type": "markdown",
   "id": "0498b7ee",
   "metadata": {},
   "source": [
    "## Exercice 2 - Question 4 (a)"
   ]
  },
  {
   "cell_type": "code",
   "execution_count": 13,
   "id": "047f2806",
   "metadata": {},
   "outputs": [],
   "source": [
    "def approx_u(n, eps):\n",
    "    a = 0\n",
    "    b = 1\n",
    "    while b - a > eps:\n",
    "        c = (a + b) / 2\n",
    "        if np.exp(c / 2) / np.sqrt(c) < n:\n",
    "            b = c\n",
    "        else:\n",
    "            a = c\n",
    "    return (a + b) / 2\n"
   ]
  },
  {
   "cell_type": "markdown",
   "id": "0c78e8d5",
   "metadata": {},
   "source": [
    "## Exercice 2 - Question 4 (b)"
   ]
  },
  {
   "cell_type": "code",
   "execution_count": 14,
   "id": "ad935f73",
   "metadata": {},
   "outputs": [],
   "source": [
    "def somme_u(N, eps):\n",
    "    return sum(approx_u(n, eps / N) for n in range(2, N+1))\n"
   ]
  },
  {
   "cell_type": "markdown",
   "id": "ca5abefc",
   "metadata": {},
   "source": [
    "## Exercice 3 : Partie 1 - Question 7"
   ]
  },
  {
   "cell_type": "code",
   "execution_count": 18,
   "id": "bc1441c9",
   "metadata": {},
   "outputs": [
    {
     "data": {
      "text/plain": [
       "[[0, 3], [0, 1, 2], [0, 1, 2], [0, 3]]"
      ]
     },
     "execution_count": 18,
     "metadata": {},
     "output_type": "execute_result"
    }
   ],
   "source": [
    "def matrice_vers_liste(A):\n",
    "    n, _ = np.shape(A)\n",
    "    return [[j for j in range(n) if A[i, j] == 1] for i in range(n)]\n",
    "\n",
    "\n",
    "A = np.array([[1, 0, 0, 1], [1, 1, 1, 0], [1, 1, 1, 0], [1, 0, 0, 1]])\n",
    "matrice_vers_liste(A)"
   ]
  },
  {
   "cell_type": "markdown",
   "id": "b0bda93d",
   "metadata": {},
   "source": [
    "## Exercice 3 : Partie 1 - Question 8 (b)"
   ]
  },
  {
   "cell_type": "code",
   "execution_count": null,
   "id": "5dcd3f7c",
   "metadata": {},
   "outputs": [],
   "source": [
    "def parcours(L, i0):\n",
    "    p = len(L)\n",
    "    distances = [p] * p # énoncé: initialement, tous les sommets sont affectés à p, qui est une valeur “impossible” (plus grande que toute distance réelle possible dans un graphe de p sommets, Ex: 3 sommets, distance max = 2 et pas 3).\n",
    "    distances[i0] = 0  # énoncé: aller du sommet de départ au sommet de départ c'est 0...\n",
    "    a_explorer = [i0]  # énoncé: initialement, on a que le numéro du sommet de départ\n",
    "    marques = [i0] # énoncé: initialement, on a que le numéro du sommet de départ\n",
    "    while a_explorer != []: # énoncé: tant que la liste a_explorer n'est pas vide, on reste dans la boucle\n",
    "        s = a_explorer[0] # mieux en une ligne : s = a_explorer.pop(0)\n",
    "        del a_explorer[0]\n",
    "        for v in L[s]: # énoncé : on traite chaque voisin grâce à la liste d'adjacence, attention v est un indice\n",
    "            if v not in marques: # énoncé: on ne traite que les sommets non traités\n",
    "                marques.append(v) # énoncé: on l'ajoute à la liste des sommets traités\n",
    "                a_explorer.append(v) # énoncé: on l'ajoute à la fin de la liste a_explorer\n",
    "                distances[v] = distances[s] + 1 # énoncé: on incrémente de 1 la distance du sommet que l'on explore d'indice s au sommet voisin d'indice v \n",
    "    return distances\n"
   ]
  },
  {
   "cell_type": "markdown",
   "id": "67e8ad51",
   "metadata": {},
   "source": [
    "## Exercice 3 : Partie 1 - Question 8 (c)"
   ]
  },
  {
   "cell_type": "code",
   "execution_count": null,
   "id": "5d5b5b61",
   "metadata": {},
   "outputs": [],
   "source": [
    "def sommets(L, i0):\n",
    "    a_explorer = [i0]\n",
    "    marques = [i0]\n",
    "    while a_explorer != []:\n",
    "        s = a_explorer[0]\n",
    "        del a_explorer[0]\n",
    "        for v in L[s]:\n",
    "            if v not in marques:\n",
    "                marques.append(v)\n",
    "                a_explorer.append(v)\n",
    "    return marques \n"
   ]
  }
 ],
 "metadata": {
  "kernelspec": {
   "display_name": "Python 3",
   "language": "python",
   "name": "python3"
  },
  "language_info": {
   "codemirror_mode": {
    "name": "ipython",
    "version": 3
   },
   "file_extension": ".py",
   "mimetype": "text/x-python",
   "name": "python",
   "nbconvert_exporter": "python",
   "pygments_lexer": "ipython3",
   "version": "3.12.8"
  }
 },
 "nbformat": 4,
 "nbformat_minor": 5
}
