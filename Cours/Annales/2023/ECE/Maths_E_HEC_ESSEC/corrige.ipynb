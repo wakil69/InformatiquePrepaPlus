{
 "cells": [
  {
   "cell_type": "markdown",
   "id": "6969885d",
   "metadata": {},
   "source": [
    "# Corrigé Sujet Maths HEC/ESSEC 2023 ECE"
   ]
  },
  {
   "cell_type": "code",
   "execution_count": null,
   "id": "ed7a2004",
   "metadata": {},
   "outputs": [],
   "source": [
    "import matplotlib . pyplot as plt\n",
    "import numpy as np\n",
    "import pandas as pd\n"
   ]
  },
  {
   "cell_type": "markdown",
   "id": "89f52100",
   "metadata": {},
   "source": [
    "## Partie 2 - Question 7 (a)"
   ]
  },
  {
   "cell_type": "code",
   "execution_count": null,
   "id": "a74fcc9d",
   "metadata": {},
   "outputs": [],
   "source": [
    "def gamma(t):\n",
    "    if t < 0 :\n",
    "        return 1\n",
    "    if t > 1 :\n",
    "        return 0\n",
    "    return 1 - (3 * t)**2 + (2 * t)**3"
   ]
  },
  {
   "cell_type": "markdown",
   "id": "c56a015c",
   "metadata": {},
   "source": [
    "## Partie 2 - Question 7 (a)"
   ]
  },
  {
   "cell_type": "code",
   "execution_count": null,
   "id": "2c65ff19",
   "metadata": {},
   "outputs": [],
   "source": [
    "abscisses = np.linspace(-1, 2)\n",
    "images = [gamma(x) for x in abscisses]\n",
    "plt.plot(abscisses, images)\n",
    "plt.show()"
   ]
  },
  {
   "cell_type": "markdown",
   "id": "c9ba9b6b",
   "metadata": {},
   "source": [
    "## Partie 3 - Question 11 (a)"
   ]
  },
  {
   "cell_type": "code",
   "execution_count": null,
   "id": "9ae179ae",
   "metadata": {},
   "outputs": [],
   "source": [
    "stats = pd.read_csv(\"stats.csv\", delimiter=\",\")\n",
    "echantillon = stats[\"salaire\"]"
   ]
  },
  {
   "cell_type": "markdown",
   "id": "b0fe0a74",
   "metadata": {},
   "source": [
    "## Partie 3 - Question 11 (b)"
   ]
  },
  {
   "cell_type": "code",
   "execution_count": null,
   "id": "a8d2a785",
   "metadata": {},
   "outputs": [],
   "source": [
    "a = float(input('a = '))\n",
    "n = echantillon.count()   # n est donc la taille de l’échantillon\n",
    "h = 1 / np.sqrt(n)\n",
    "C = 0\n",
    "for i in range(n):\n",
    "    if echantillon[i] > a - h and echantillon[i] < a + h:\n",
    "        C += 1\n",
    "\n",
    "print(C / (2 * n * h))   # calcul de f_n(omega)\n"
   ]
  }
 ],
 "metadata": {
  "kernelspec": {
   "display_name": "Python 3",
   "language": "python",
   "name": "python3"
  },
  "language_info": {
   "name": "python",
   "version": "3.12.8"
  }
 },
 "nbformat": 4,
 "nbformat_minor": 5
}
