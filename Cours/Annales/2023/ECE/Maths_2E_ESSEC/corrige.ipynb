{
 "cells": [
  {
   "cell_type": "markdown",
   "id": "6969885d",
   "metadata": {},
   "source": [
    "# Corrigé Sujet Maths ESSEC 2023 ECE"
   ]
  },
  {
   "cell_type": "code",
   "execution_count": null,
   "id": "ed7a2004",
   "metadata": {},
   "outputs": [],
   "source": [
    "import numpy as np, numpy.random as rd, matplotlib.pyplot as plt, numpy.linalg as al"
   ]
  },
  {
   "cell_type": "markdown",
   "id": "89f52100",
   "metadata": {},
   "source": [
    "## Partie 2 - Question 9 (a)"
   ]
  },
  {
   "cell_type": "code",
   "execution_count": null,
   "id": "a74fcc9d",
   "metadata": {},
   "outputs": [],
   "source": [
    "def transition(t, G):\n",
    "    n = len(G)  \n",
    "    I = np.eye(n)  \n",
    "    return al.matrix_power(I + (t / 1000) * G, 1000)"
   ]
  },
  {
   "cell_type": "markdown",
   "id": "c56a015c",
   "metadata": {},
   "source": [
    "## Partie 2 - Question 9 (b)"
   ]
  },
  {
   "cell_type": "code",
   "execution_count": null,
   "id": "2c65ff19",
   "metadata": {},
   "outputs": [],
   "source": [
    "def traceLoi2Xt(G, L0, tmax):\n",
    "    val_abscisses = np.linspace(0, tmax, 1000)\n",
    "    \n",
    "    # Calcul des lois (P(Xt=1), P(Xt=2) etc.) pour chaque t (matrice de taille [1000, n])\n",
    "    T = np.array([L0 @ transition(t, G) for t in val_abscisses]).T\n",
    "    \n",
    "    plt.plot(val_abscisses, T.T)\n",
    "    plt.show()\n",
    "\n",
    "# traceLoi2Xt(1/30*np.array([[-3, 1, 2], [1, -2, 1], [2, 1, -3]]), 1/10*np.array([5, 3, 2]), 100)"
   ]
  },
  {
   "cell_type": "markdown",
   "id": "c9ba9b6b",
   "metadata": {},
   "source": [
    "## Partie 2 - Question 9 (d)"
   ]
  },
  {
   "cell_type": "code",
   "execution_count": null,
   "id": "9ae179ae",
   "metadata": {},
   "outputs": [],
   "source": [
    "def simulX(t, k, L0, G):\n",
    "    listeDesT = [] \n",
    "    listeDesX = []\n",
    "    Mt = transition(t, G)\n",
    "    Lt = L0\n",
    "    for i in range(k+1):\n",
    "        listeDesT.append(i * t)\n",
    "        p = rd.random() # entre 0 et 1 random\n",
    "        s = Lt[0]\n",
    "        j = 0\n",
    "        while p > s:\n",
    "            j += 1\n",
    "            s += Lt[j]\n",
    "        Lt = Mt[j, :]\n",
    "        listeDesX.append(j + 1)\n",
    "    plt.plot(listeDesT, listeDesX)\n",
    "    plt.show()\n"
   ]
  }
 ],
 "metadata": {
  "kernelspec": {
   "display_name": "Python 3",
   "language": "python",
   "name": "python3"
  },
  "language_info": {
   "codemirror_mode": {
    "name": "ipython",
    "version": 3
   },
   "file_extension": ".py",
   "mimetype": "text/x-python",
   "name": "python",
   "nbconvert_exporter": "python",
   "pygments_lexer": "ipython3",
   "version": "3.12.8"
  }
 },
 "nbformat": 4,
 "nbformat_minor": 5
}
