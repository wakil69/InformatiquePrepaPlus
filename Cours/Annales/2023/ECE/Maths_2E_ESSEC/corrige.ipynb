{
 "cells": [
  {
   "cell_type": "markdown",
   "id": "6969885d",
   "metadata": {},
   "source": [
    "# Corrigé Sujet Maths ESSEC 2023 ECE"
   ]
  },
  {
   "cell_type": "code",
   "execution_count": 1,
   "id": "ed7a2004",
   "metadata": {},
   "outputs": [],
   "source": [
    "import numpy as np, numpy.random as rd, matplotlib.pyplot as plt, numpy.linalg as al"
   ]
  },
  {
   "cell_type": "markdown",
   "id": "89f52100",
   "metadata": {},
   "source": [
    "## Partie 2 - Question 9 (a)"
   ]
  },
  {
   "cell_type": "code",
   "execution_count": null,
   "id": "a74fcc9d",
   "metadata": {},
   "outputs": [],
   "source": [
    "def transition(t, G):\n",
    "    n = len(G)  \n",
    "    I = np.eye(n)  \n",
    "    return al.matrix_power(I + (t / 1000) * G, 1000)"
   ]
  },
  {
   "cell_type": "markdown",
   "id": "c56a015c",
   "metadata": {},
   "source": [
    "## Partie 2 - Question 9 (b)"
   ]
  },
  {
   "cell_type": "code",
   "execution_count": null,
   "id": "2c65ff19",
   "metadata": {},
   "outputs": [],
   "source": [
    "def traceLoi2Xt(G, L0, tmax):\n",
    "    n = len(G)\n",
    "    abscisse = np.linspace(0, tmax, 1000)\n",
    "    T = np.zeros([n, 1000])\n",
    "    for j in range(1000):\n",
    "        t = abscisse[j]\n",
    "        vectLoi = np.dot(L0, transition(t, G))\n",
    "        # vectLoi contient la loi de X_tj\n",
    "        for i in range(n):\n",
    "            T[i, j] = vectLoi[i]\n",
    "    for i in range(n):\n",
    "        plt.plot(abscisse, T[i, :])\n",
    "    plt.show()\n"
   ]
  },
  {
   "cell_type": "markdown",
   "id": "c9ba9b6b",
   "metadata": {},
   "source": [
    "## Partie 2 - Question 9 (d)"
   ]
  },
  {
   "cell_type": "code",
   "execution_count": null,
   "id": "9ae179ae",
   "metadata": {},
   "outputs": [],
   "source": [
    "def simulX(t, k, L0, G):\n",
    "    listeDesT = [] \n",
    "    listeDesX = []\n",
    "    Mt = transition(t, G)\n",
    "    Lt = L0\n",
    "    for i in range(k+1):\n",
    "        listeDesT.append(i * t)\n",
    "        p = rd.random()\n",
    "        s = Lt[0]\n",
    "        j = 0\n",
    "        while p > s:\n",
    "            j += 1\n",
    "            s += Lt[j]\n",
    "        Lt = Mt[j, :]\n",
    "        listeDesX.append(j + 1)\n",
    "    plt.plot(listeDesT, listeDesX)\n",
    "    plt.show()\n"
   ]
  },
  {
   "cell_type": "markdown",
   "id": "b0fe0a74",
   "metadata": {},
   "source": [
    "## Partie 3 - Question 11 (b)"
   ]
  },
  {
   "cell_type": "code",
   "execution_count": null,
   "id": "a8d2a785",
   "metadata": {},
   "outputs": [],
   "source": [
    "a = float(input('a = '))\n",
    "n = echantillon.count()   # n est donc la taille de l’échantillon\n",
    "h = 1 / np.sqrt(n)\n",
    "C = 0\n",
    "for i in range(n):\n",
    "    if echantillon[i] > a - h and echantillon[i] < a + h:\n",
    "        C += 1\n",
    "\n",
    "print(C / (2 * n * h))   # calcul de f_n(omega)\n"
   ]
  }
 ],
 "metadata": {
  "kernelspec": {
   "display_name": "Python 3",
   "language": "python",
   "name": "python3"
  },
  "language_info": {
   "codemirror_mode": {
    "name": "ipython",
    "version": 3
   },
   "file_extension": ".py",
   "mimetype": "text/x-python",
   "name": "python",
   "nbconvert_exporter": "python",
   "pygments_lexer": "ipython3",
   "version": "3.12.8"
  }
 },
 "nbformat": 4,
 "nbformat_minor": 5
}
