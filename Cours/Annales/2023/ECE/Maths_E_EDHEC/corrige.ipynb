{
 "cells": [
  {
   "cell_type": "markdown",
   "id": "6969885d",
   "metadata": {},
   "source": [
    "# Corrigé Sujet Maths EDHEC 2023 ECE"
   ]
  },
  {
   "cell_type": "code",
   "execution_count": 2,
   "id": "ed7a2004",
   "metadata": {},
   "outputs": [],
   "source": [
    "import matplotlib . pyplot as plt\n",
    "import numpy as np\n",
    "import numpy.random as rd\n",
    "import numpy.linalg as al"
   ]
  },
  {
   "cell_type": "markdown",
   "id": "89f52100",
   "metadata": {},
   "source": [
    "## Exercice 1 - Question 2 (b)"
   ]
  },
  {
   "cell_type": "code",
   "execution_count": 4,
   "id": "a74fcc9d",
   "metadata": {},
   "outputs": [
    {
     "name": "stdout",
     "output_type": "stream",
     "text": [
      "5\n"
     ]
    }
   ],
   "source": [
    "def f(M, k):\n",
    "    N = al.matrix_power(M, k)\n",
    "    return N\n",
    "\n",
    "# graphe non orienté 5 sommets\n",
    "A = np.array([\n",
    "    [0, 1, 0, 1, 0],  # voisins de 0 : 1, 3\n",
    "    [1, 0, 1, 0, 0],  # voisins de 1 : 0, 2\n",
    "    [0, 1, 0, 1, 0],  # voisins de 2 : 1, 3\n",
    "    [1, 0, 1, 0, 1],  # voisins de 3 : 0, 2, 4\n",
    "    [0, 0, 0, 1, 0]   # voisins de 4 : 3\n",
    "])\n",
    "\n",
    "B = f(A, 3)\n",
    "n = B[2][3]\n",
    "print(n)"
   ]
  },
  {
   "cell_type": "markdown",
   "id": "c56a015c",
   "metadata": {},
   "source": [
    "## Exercice 2 - Question 6 (e)"
   ]
  },
  {
   "cell_type": "code",
   "execution_count": 5,
   "id": "2c65ff19",
   "metadata": {},
   "outputs": [],
   "source": [
    "def suite(n):\n",
    "    u = 0   # initialisation\n",
    "    for k in range(1, n+1):\n",
    "        u = 1 / (1 + np.exp(u))\n",
    "    return u"
   ]
  },
  {
   "cell_type": "markdown",
   "id": "c9ba9b6b",
   "metadata": {},
   "source": [
    "## Exercice 2 - Question 6 (g)"
   ]
  },
  {
   "cell_type": "code",
   "execution_count": 6,
   "id": "9ae179ae",
   "metadata": {},
   "outputs": [
    {
     "name": "stdout",
     "output_type": "stream",
     "text": [
      "0.40138470446564667\n"
     ]
    }
   ],
   "source": [
    "n = 0\n",
    "while 4**n < 2000/3:\n",
    "    n = n + 1\n",
    "print(suite(n))"
   ]
  },
  {
   "cell_type": "markdown",
   "id": "363575ea",
   "metadata": {},
   "source": [
    "## Problème - Partie 3 : Question 8 (c)"
   ]
  },
  {
   "cell_type": "code",
   "execution_count": null,
   "id": "8d1dbff9",
   "metadata": {},
   "outputs": [],
   "source": [
    "def simulX(c):\n",
    "    Z = rd.exponential(1/c) # on met l'espérance ici !\n",
    "    return np.exp(Z)"
   ]
  }
 ],
 "metadata": {
  "kernelspec": {
   "display_name": "Python 3",
   "language": "python",
   "name": "python3"
  },
  "language_info": {
   "codemirror_mode": {
    "name": "ipython",
    "version": 3
   },
   "file_extension": ".py",
   "mimetype": "text/x-python",
   "name": "python",
   "nbconvert_exporter": "python",
   "pygments_lexer": "ipython3",
   "version": "3.12.8"
  }
 },
 "nbformat": 4,
 "nbformat_minor": 5
}
