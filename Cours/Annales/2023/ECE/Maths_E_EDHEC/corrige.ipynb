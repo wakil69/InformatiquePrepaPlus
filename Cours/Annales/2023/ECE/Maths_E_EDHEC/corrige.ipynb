{
 "cells": [
  {
   "cell_type": "markdown",
   "id": "6969885d",
   "metadata": {},
   "source": [
    "# Corrigé Sujet Maths EDHEC 2023 ECE"
   ]
  },
  {
   "cell_type": "code",
   "execution_count": 3,
   "id": "ed7a2004",
   "metadata": {},
   "outputs": [],
   "source": [
    "import matplotlib . pyplot as plt\n",
    "import numpy as np\n",
    "import numpy.random as rd\n",
    "import numpy.linalg as al"
   ]
  },
  {
   "cell_type": "markdown",
   "id": "89f52100",
   "metadata": {},
   "source": [
    "## Exercice 1 - Question 2 (b)"
   ]
  },
  {
   "cell_type": "code",
   "execution_count": 4,
   "id": "a74fcc9d",
   "metadata": {},
   "outputs": [
    {
     "ename": "NameError",
     "evalue": "name 'A' is not defined",
     "output_type": "error",
     "traceback": [
      "\u001b[1;31m---------------------------------------------------------------------------\u001b[0m",
      "\u001b[1;31mNameError\u001b[0m                                 Traceback (most recent call last)",
      "Cell \u001b[1;32mIn[4], line 5\u001b[0m\n\u001b[0;32m      2\u001b[0m     N \u001b[38;5;241m=\u001b[39m al\u001b[38;5;241m.\u001b[39mmatrix_power(M, k)\n\u001b[0;32m      3\u001b[0m     \u001b[38;5;28;01mreturn\u001b[39;00m N\n\u001b[1;32m----> 5\u001b[0m B \u001b[38;5;241m=\u001b[39m f(\u001b[43mA\u001b[49m, \u001b[38;5;241m3\u001b[39m)\n\u001b[0;32m      6\u001b[0m n \u001b[38;5;241m=\u001b[39m B[\u001b[38;5;241m2\u001b[39m][\u001b[38;5;241m3\u001b[39m]\n\u001b[0;32m      7\u001b[0m \u001b[38;5;28mprint\u001b[39m(n)\n",
      "\u001b[1;31mNameError\u001b[0m: name 'A' is not defined"
     ]
    }
   ],
   "source": [
    "def f(M, k):\n",
    "    N = al.matrix_power(M, k)\n",
    "    return N\n",
    "\n",
    "B = f(A, 3)\n",
    "n = B[2][3]\n",
    "print(n)"
   ]
  },
  {
   "cell_type": "markdown",
   "id": "c56a015c",
   "metadata": {},
   "source": [
    "## Exercice 2 - Question 6 (e)"
   ]
  },
  {
   "cell_type": "code",
   "execution_count": null,
   "id": "2c65ff19",
   "metadata": {},
   "outputs": [],
   "source": [
    "def suite(n):\n",
    "    u = 0   # initialisation\n",
    "    for k in range(1, n+1):\n",
    "        u = 1 / (1 + np.exp(u))\n",
    "    return u"
   ]
  },
  {
   "cell_type": "markdown",
   "id": "c9ba9b6b",
   "metadata": {},
   "source": [
    "## Exercice 2 - Question 6 (g)"
   ]
  },
  {
   "cell_type": "code",
   "execution_count": null,
   "id": "9ae179ae",
   "metadata": {},
   "outputs": [],
   "source": [
    "n = 0\n",
    "while 4**n < 2000/3:\n",
    "    n = n + 1\n",
    "print(suite(n))"
   ]
  },
  {
   "cell_type": "markdown",
   "id": "65602c9c",
   "metadata": {},
   "source": [
    "## Exercice 3 - Question 4 (b)"
   ]
  },
  {
   "cell_type": "code",
   "execution_count": null,
   "id": "3a183c66",
   "metadata": {},
   "outputs": [],
   "source": [
    "m = int(input('entrez une valeur entière pour m : '))\n",
    "c = 0\n",
    "for k in range(m):\n",
    "    X = rd.geometric(1/2)\n",
    "    Y = rd.geometric(1/2)\n",
    "    if X == Y:\n",
    "        c = c + 1\n",
    "i = 1 - c / m\n",
    "print(i)\n"
   ]
  },
  {
   "cell_type": "markdown",
   "id": "363575ea",
   "metadata": {},
   "source": [
    "## Problème - Partie 3 : Question 8 (c)"
   ]
  },
  {
   "cell_type": "code",
   "execution_count": null,
   "id": "8d1dbff9",
   "metadata": {},
   "outputs": [],
   "source": [
    "def simulX(c):\n",
    "    Z = rd.exponential(1/c)\n",
    "    return np.exp(Z)"
   ]
  }
 ],
 "metadata": {
  "kernelspec": {
   "display_name": "Python 3",
   "language": "python",
   "name": "python3"
  },
  "language_info": {
   "codemirror_mode": {
    "name": "ipython",
    "version": 3
   },
   "file_extension": ".py",
   "mimetype": "text/x-python",
   "name": "python",
   "nbconvert_exporter": "python",
   "pygments_lexer": "ipython3",
   "version": "3.12.8"
  }
 },
 "nbformat": 4,
 "nbformat_minor": 5
}
