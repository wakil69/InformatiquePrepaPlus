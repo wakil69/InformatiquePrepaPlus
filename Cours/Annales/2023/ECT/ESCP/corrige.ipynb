{
 "cells": [
  {
   "cell_type": "markdown",
   "id": "7d73c09b",
   "metadata": {},
   "source": [
    "# Corrigé Sujet Maths ESCP 2023"
   ]
  },
  {
   "cell_type": "code",
   "execution_count": 2,
   "id": "4890a617",
   "metadata": {},
   "outputs": [],
   "source": [
    "import numpy as np\n",
    "import numpy.random as rd"
   ]
  },
  {
   "cell_type": "markdown",
   "id": "fcc8bb44",
   "metadata": {},
   "source": [
    "## Exercice 2 : Question 5 (c)"
   ]
  },
  {
   "cell_type": "code",
   "execution_count": null,
   "id": "5013cd12",
   "metadata": {},
   "outputs": [],
   "source": [
    "U = rd.random()\n",
    "V = rd.random()\n",
    "M = np.min([U,V]) # erreur de l'énoncé\n",
    "X = np.sqrt(M) # X suit la même loi que Z"
   ]
  },
  {
   "cell_type": "markdown",
   "id": "864bc76a",
   "metadata": {},
   "source": [
    "## Exercice 4 : Question 1 (b)"
   ]
  },
  {
   "cell_type": "code",
   "execution_count": null,
   "id": "3bb6f275",
   "metadata": {},
   "outputs": [],
   "source": [
    "def suite(n):\n",
    "    u = 1/2 # u1\n",
    "    for k in range(2, n + 1): # de 2 à n\n",
    "        u = u / (2 * k * u + 1)\n",
    "    return(u)"
   ]
  }
 ],
 "metadata": {
  "kernelspec": {
   "display_name": "Python 3",
   "language": "python",
   "name": "python3"
  },
  "language_info": {
   "codemirror_mode": {
    "name": "ipython",
    "version": 3
   },
   "file_extension": ".py",
   "mimetype": "text/x-python",
   "name": "python",
   "nbconvert_exporter": "python",
   "pygments_lexer": "ipython3",
   "version": "3.12.8"
  }
 },
 "nbformat": 4,
 "nbformat_minor": 5
}
