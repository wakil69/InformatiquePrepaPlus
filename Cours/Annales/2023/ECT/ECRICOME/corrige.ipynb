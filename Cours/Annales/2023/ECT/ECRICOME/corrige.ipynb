{
 "cells": [
  {
   "cell_type": "markdown",
   "id": "7d73c09b",
   "metadata": {},
   "source": [
    "# Corrigé Sujet Maths ECRICOME 2023"
   ]
  },
  {
   "cell_type": "code",
   "execution_count": 2,
   "id": "4890a617",
   "metadata": {},
   "outputs": [],
   "source": [
    "import numpy as np\n",
    "import numpy.random as rd"
   ]
  },
  {
   "cell_type": "markdown",
   "id": "fcc8bb44",
   "metadata": {},
   "source": [
    "## Exercice 1 : Partie 1 - Question 1"
   ]
  },
  {
   "cell_type": "code",
   "execution_count": null,
   "id": "5013cd12",
   "metadata": {},
   "outputs": [
    {
     "name": "stdout",
     "output_type": "stream",
     "text": [
      "S= 1 et T= 3\n"
     ]
    }
   ],
   "source": [
    "def suite(n,u1):\n",
    "    u = u1\n",
    "    for _ in range(n-1):\n",
    "        u= u * 5/12 + 1/3\n",
    "    return(u)"
   ]
  },
  {
   "cell_type": "markdown",
   "id": "864bc76a",
   "metadata": {},
   "source": [
    "## Exercice 2 : Partie 2 - Question 9 (a)"
   ]
  },
  {
   "cell_type": "code",
   "execution_count": null,
   "id": "3bb6f275",
   "metadata": {},
   "outputs": [],
   "source": [
    "def gn(n,x):\n",
    "    return np.log(1 + np.exp(-n*x))"
   ]
  },
  {
   "cell_type": "markdown",
   "id": "77ba6c3e",
   "metadata": {},
   "source": [
    "## Exercice 3 : Question 6"
   ]
  },
  {
   "cell_type": "code",
   "execution_count": null,
   "id": "fa5bf5ce",
   "metadata": {},
   "outputs": [],
   "source": [
    "def S(s):\n",
    "    U = rd.random()\n",
    "    S = s*np.sqrt(1/(1-U))\n",
    "    return(S)"
   ]
  }
 ],
 "metadata": {
  "kernelspec": {
   "display_name": "Python 3",
   "language": "python",
   "name": "python3"
  },
  "language_info": {
   "codemirror_mode": {
    "name": "ipython",
    "version": 3
   },
   "file_extension": ".py",
   "mimetype": "text/x-python",
   "name": "python",
   "nbconvert_exporter": "python",
   "pygments_lexer": "ipython3",
   "version": "3.12.8"
  }
 },
 "nbformat": 4,
 "nbformat_minor": 5
}
