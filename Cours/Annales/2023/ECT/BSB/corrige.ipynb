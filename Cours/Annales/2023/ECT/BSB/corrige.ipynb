{
 "cells": [
  {
   "cell_type": "markdown",
   "id": "7d73c09b",
   "metadata": {},
   "source": [
    "# Corrigé Sujet Maths BSB 2023"
   ]
  },
  {
   "cell_type": "code",
   "execution_count": 2,
   "id": "4890a617",
   "metadata": {},
   "outputs": [],
   "source": [
    "import numpy.random as rd"
   ]
  },
  {
   "cell_type": "markdown",
   "id": "fcc8bb44",
   "metadata": {},
   "source": [
    "## Exercice 2 : Partie 2 - Question 5"
   ]
  },
  {
   "cell_type": "code",
   "execution_count": null,
   "id": "5013cd12",
   "metadata": {},
   "outputs": [
    {
     "name": "stdout",
     "output_type": "stream",
     "text": [
      "S= 1 et T= 3\n"
     ]
    }
   ],
   "source": [
    "S = 0\n",
    "T = 0\n",
    "for k in range(1, 4):\n",
    "    r = rd.random()\n",
    "    if r < 1/2: # on a un pile \n",
    "        S = S + 1\n",
    "    if r < 1/2 and T == 0: # on a un pile et on a pas eu de pile avant\n",
    "        T = k\n",
    "\n",
    "print(\"S=\", S,\"et T=\", T)"
   ]
  }
 ],
 "metadata": {
  "kernelspec": {
   "display_name": "Python 3",
   "language": "python",
   "name": "python3"
  },
  "language_info": {
   "codemirror_mode": {
    "name": "ipython",
    "version": 3
   },
   "file_extension": ".py",
   "mimetype": "text/x-python",
   "name": "python",
   "nbconvert_exporter": "python",
   "pygments_lexer": "ipython3",
   "version": "3.12.8"
  }
 },
 "nbformat": 4,
 "nbformat_minor": 5
}
