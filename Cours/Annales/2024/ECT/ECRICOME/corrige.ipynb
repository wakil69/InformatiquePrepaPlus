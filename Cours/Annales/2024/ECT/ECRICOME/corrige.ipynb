{
 "cells": [
  {
   "cell_type": "markdown",
   "id": "7d73c09b",
   "metadata": {},
   "source": [
    "# Corrigé Sujet Maths BSB 2023"
   ]
  },
  {
   "cell_type": "code",
   "execution_count": 2,
   "id": "4890a617",
   "metadata": {},
   "outputs": [],
   "source": [
    "import numpy.random as rd\n",
    "import numpy as np"
   ]
  },
  {
   "cell_type": "markdown",
   "id": "fcc8bb44",
   "metadata": {},
   "source": [
    "## Exercice 2 : Partie 3 - Question 8 (g)"
   ]
  },
  {
   "cell_type": "code",
   "execution_count": 3,
   "id": "5013cd12",
   "metadata": {},
   "outputs": [],
   "source": [
    "def simulX():\n",
    "    u = rd.random()\n",
    "    return -np.log(np.exp((1-u) * np.log(2)) - 1)"
   ]
  }
 ],
 "metadata": {
  "kernelspec": {
   "display_name": "Python 3",
   "language": "python",
   "name": "python3"
  },
  "language_info": {
   "codemirror_mode": {
    "name": "ipython",
    "version": 3
   },
   "file_extension": ".py",
   "mimetype": "text/x-python",
   "name": "python",
   "nbconvert_exporter": "python",
   "pygments_lexer": "ipython3",
   "version": "3.12.8"
  }
 },
 "nbformat": 4,
 "nbformat_minor": 5
}
