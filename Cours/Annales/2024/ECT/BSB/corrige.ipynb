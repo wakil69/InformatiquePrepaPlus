{
 "cells": [
  {
   "cell_type": "markdown",
   "id": "7d73c09b",
   "metadata": {},
   "source": [
    "# Corrigé Sujet Maths BSB 2024"
   ]
  },
  {
   "cell_type": "code",
   "execution_count": 1,
   "id": "4890a617",
   "metadata": {},
   "outputs": [],
   "source": [
    "import numpy.random as rd"
   ]
  },
  {
   "cell_type": "markdown",
   "id": "fcc8bb44",
   "metadata": {},
   "source": [
    "## Exercice 3 : Partie 1 - Question 5"
   ]
  },
  {
   "cell_type": "code",
   "execution_count": null,
   "id": "5013cd12",
   "metadata": {},
   "outputs": [
    {
     "name": "stdout",
     "output_type": "stream",
     "text": [
      "S= 1 et T= 3\n"
     ]
    }
   ],
   "source": [
    "def simulation_alice():\n",
    "    X=0\n",
    "    for k in range(1, 4):\n",
    "        r = rd.random()\n",
    "        if r > 1/2:\n",
    "            X = X + 1\n",
    "    return X"
   ]
  },
  {
   "cell_type": "markdown",
   "id": "7dbbc39f",
   "metadata": {},
   "source": [
    "## Exercice 3 : Partie 2 - Question 15"
   ]
  },
  {
   "cell_type": "code",
   "execution_count": null,
   "id": "aa6d90a5",
   "metadata": {},
   "outputs": [],
   "source": [
    "def terme(n):\n",
    "    a = 1/3\n",
    "    for _ in range(n):\n",
    "        a = -a/9 + 1/3\n",
    "    return a"
   ]
  }
 ],
 "metadata": {
  "kernelspec": {
   "display_name": "Python 3",
   "language": "python",
   "name": "python3"
  },
  "language_info": {
   "codemirror_mode": {
    "name": "ipython",
    "version": 3
   },
   "file_extension": ".py",
   "mimetype": "text/x-python",
   "name": "python",
   "nbconvert_exporter": "python",
   "pygments_lexer": "ipython3",
   "version": "3.12.8"
  }
 },
 "nbformat": 4,
 "nbformat_minor": 5
}
