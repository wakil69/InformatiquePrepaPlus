{
 "cells": [
  {
   "cell_type": "markdown",
   "id": "7d73c09b",
   "metadata": {},
   "source": [
    "# Corrigé Sujet Maths BSB 2023"
   ]
  },
  {
   "cell_type": "code",
   "execution_count": 4,
   "id": "4890a617",
   "metadata": {},
   "outputs": [],
   "source": [
    "import numpy.random as rd\n",
    "import numpy as np"
   ]
  },
  {
   "cell_type": "markdown",
   "id": "fcc8bb44",
   "metadata": {},
   "source": [
    "## Exercice 3 : Partie 1 - Question 2"
   ]
  },
  {
   "cell_type": "code",
   "execution_count": 3,
   "id": "5013cd12",
   "metadata": {},
   "outputs": [],
   "source": [
    "def jeu_1(N):\n",
    "    n = 2 * N\n",
    "    X = rd.randint(1, n+1)\n",
    "    Y = rd.randint(0, 2)\n",
    "    return X + Y"
   ]
  },
  {
   "cell_type": "markdown",
   "id": "f4fc1286",
   "metadata": {},
   "source": [
    "## Exercice 4 : Question 3"
   ]
  },
  {
   "cell_type": "code",
   "execution_count": null,
   "id": "2efdb9bc",
   "metadata": {},
   "outputs": [],
   "source": [
    "def Suite_U(N):\n",
    "    u = np.ones(N)\n",
    "    for k in range(1, N-1):\n",
    "        u[k + 1] = (np.log(1 + 1/k) + (2 * k+1) * u[k] - k*u[k-1]) / (k+1)\n",
    "    return u\n"
   ]
  }
 ],
 "metadata": {
  "kernelspec": {
   "display_name": "Python 3",
   "language": "python",
   "name": "python3"
  },
  "language_info": {
   "codemirror_mode": {
    "name": "ipython",
    "version": 3
   },
   "file_extension": ".py",
   "mimetype": "text/x-python",
   "name": "python",
   "nbconvert_exporter": "python",
   "pygments_lexer": "ipython3",
   "version": "3.12.8"
  }
 },
 "nbformat": 4,
 "nbformat_minor": 5
}
