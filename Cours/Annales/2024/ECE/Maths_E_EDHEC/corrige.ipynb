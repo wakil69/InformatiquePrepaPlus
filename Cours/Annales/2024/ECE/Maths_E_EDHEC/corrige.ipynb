{
 "cells": [
  {
   "cell_type": "markdown",
   "id": "6969885d",
   "metadata": {},
   "source": [
    "# Corrigé Sujet Maths EDHEC 2024 ECE"
   ]
  },
  {
   "cell_type": "code",
   "execution_count": null,
   "id": "ed7a2004",
   "metadata": {},
   "outputs": [],
   "source": [
    "import numpy.random as rd\n",
    "import numpy as np\n",
    "import numpy.linalg as al"
   ]
  },
  {
   "cell_type": "markdown",
   "id": "89f52100",
   "metadata": {},
   "source": [
    "## Exercice 1 - Question 3 (b)\n",
    "\n",
    "La réponse à la question 3a est :\n",
    "\n",
    "$$\n",
    "4u_n - u_{n+2} = \\frac{1}{n+1}.\n",
    "$$\n",
    "\n",
    "Donc pour calculer $u_{n+2}$ :\n",
    "\n",
    "$$\n",
    "u_{n+2} = 4u_n - \\frac{1}{n+1}.\n",
    "$$\n",
    "\n"
   ]
  },
  {
   "cell_type": "code",
   "execution_count": null,
   "id": "a74fcc9d",
   "metadata": {},
   "outputs": [],
   "source": [
    "def suite(n):\n",
    "    if (-1)**n == 1:   # pour le cas où n est pair, on initialise avec u0\n",
    "        u = np.log(3) / 4\n",
    "        for k in range(2, n + 1, 2):  \n",
    "            u = 4 * u - 1 / (k + 1)     \n",
    "    else: # pour le cas où n est impaire, on initialise avec u1\n",
    "        u = np.log(2 / np.sqrt(3))   # on peut vérifier la réponse de la question 2...\n",
    "        for k in range(3, n + 1, 2):   \n",
    "            u = 4 * u - 1 / (k + 1)\n",
    "    return u\n"
   ]
  },
  {
   "cell_type": "markdown",
   "id": "c56a015c",
   "metadata": {},
   "source": [
    "## Exercice 2 - Question 3 (b)"
   ]
  },
  {
   "cell_type": "code",
   "execution_count": null,
   "id": "2c65ff19",
   "metadata": {},
   "outputs": [],
   "source": [
    "\n",
    "def simulX():\n",
    "    Z = rd.exponential(2) # espérance !\n",
    "    return np.sqrt(Z)"
   ]
  },
  {
   "cell_type": "markdown",
   "id": "c9ba9b6b",
   "metadata": {},
   "source": [
    "## Exercice 2 - Question 5 (b)"
   ]
  },
  {
   "cell_type": "code",
   "execution_count": null,
   "id": "9ae179ae",
   "metadata": {},
   "outputs": [],
   "source": [
    "def simulM(n):\n",
    "    X = np.array([simulX() for _ in range(n)])\n",
    "    M = np.min(X)\n",
    "    return M"
   ]
  }
 ],
 "metadata": {
  "kernelspec": {
   "display_name": "Python 3",
   "language": "python",
   "name": "python3"
  },
  "language_info": {
   "codemirror_mode": {
    "name": "ipython",
    "version": 3
   },
   "file_extension": ".py",
   "mimetype": "text/x-python",
   "name": "python",
   "nbconvert_exporter": "python",
   "pygments_lexer": "ipython3",
   "version": "3.12.8"
  }
 },
 "nbformat": 4,
 "nbformat_minor": 5
}
