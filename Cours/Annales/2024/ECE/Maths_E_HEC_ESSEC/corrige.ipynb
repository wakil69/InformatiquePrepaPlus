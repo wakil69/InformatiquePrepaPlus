{
 "cells": [
  {
   "cell_type": "markdown",
   "id": "6969885d",
   "metadata": {},
   "source": [
    "# Corrigé Sujet Maths HEC/ESSEC 2024 ECE"
   ]
  },
  {
   "cell_type": "code",
   "execution_count": 1,
   "id": "ed7a2004",
   "metadata": {},
   "outputs": [],
   "source": [
    "import matplotlib . pyplot as plt\n",
    "import numpy as np\n",
    "import pandas as pd\n"
   ]
  },
  {
   "cell_type": "markdown",
   "id": "89f52100",
   "metadata": {},
   "source": [
    "## Partie 2 - Question 6"
   ]
  },
  {
   "cell_type": "code",
   "execution_count": null,
   "id": "a74fcc9d",
   "metadata": {},
   "outputs": [
    {
     "data": {
      "text/plain": [
       "2"
      ]
     },
     "execution_count": 3,
     "metadata": {},
     "output_type": "execute_result"
    }
   ],
   "source": [
    "# Exemple liste d'adjacence du graphe partie 1\n",
    "L = [\n",
    "    [2, 4],         # voisins de 0\n",
    "    [2, 3, 4],      # voisins de 1\n",
    "    [0, 1, 4],      # voisins de 2\n",
    "    [1, 4],         # voisins de 3\n",
    "    [0, 1, 2, 3]    # voisins de 4\n",
    "]\n",
    "\n",
    "\n",
    "def triangles2s(s, L):\n",
    "    cpt = 0\n",
    "    adj = L[s]  \n",
    "    for i in range(len(adj)): \n",
    "        for j in range(i+1, len(adj)): # on compare toutes les pairs de voisins de s : (adj[i], adj[j])\n",
    "            if adj[i] in L[adj[j]]: # c'est un triangle si adj[i] fait parti des voisins de adj[j]\n",
    "                cpt += 1\n",
    "    return cpt\n",
    "\n",
    "triangles2s(1, L)"
   ]
  },
  {
   "cell_type": "markdown",
   "id": "c56a015c",
   "metadata": {},
   "source": [
    "## Partie 2 - Question 7"
   ]
  },
  {
   "cell_type": "code",
   "execution_count": null,
   "id": "06929231",
   "metadata": {},
   "outputs": [],
   "source": [
    "def supprimeDer(L):\n",
    "    s = len(L) - 1\n",
    "    L.pop() # on supprime le dernier sommet (le sommet s)\n",
    "    for a in L: \n",
    "        if s in a: # on supprime le sommet des listes des voisins de chaque sommet restant à traiter\n",
    "            a.remove(s)  \n"
   ]
  },
  {
   "cell_type": "code",
   "execution_count": null,
   "id": "2c65ff19",
   "metadata": {},
   "outputs": [
    {
     "data": {
      "text/plain": [
       "3"
      ]
     },
     "execution_count": 6,
     "metadata": {},
     "output_type": "execute_result"
    }
   ],
   "source": [
    "def nbTriangles(L):\n",
    "    cpt = 0\n",
    "    while L:                     # tant qu’il reste des sommets\n",
    "        s = len(L) - 1           # dernier sommet de la liste d'adjacence\n",
    "        cpt += triangles2s(s, L) # triangles qui passent par le sommet s\n",
    "        supprimeDer(L)           # on supprime s et ses arêtes associés\n",
    "    return cpt\n",
    "\n",
    "nbTriangles(L)"
   ]
  }
 ],
 "metadata": {
  "kernelspec": {
   "display_name": "Python 3",
   "language": "python",
   "name": "python3"
  },
  "language_info": {
   "codemirror_mode": {
    "name": "ipython",
    "version": 3
   },
   "file_extension": ".py",
   "mimetype": "text/x-python",
   "name": "python",
   "nbconvert_exporter": "python",
   "pygments_lexer": "ipython3",
   "version": "3.12.8"
  }
 },
 "nbformat": 4,
 "nbformat_minor": 5
}
