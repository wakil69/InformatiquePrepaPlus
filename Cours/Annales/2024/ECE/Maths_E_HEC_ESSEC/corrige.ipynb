{
 "cells": [
  {
   "cell_type": "markdown",
   "id": "6969885d",
   "metadata": {},
   "source": [
    "# Corrigé Sujet Maths HEC/ESSEC 2024 ECE"
   ]
  },
  {
   "cell_type": "code",
   "execution_count": null,
   "id": "ed7a2004",
   "metadata": {},
   "outputs": [],
   "source": [
    "import matplotlib . pyplot as plt\n",
    "import numpy as np\n",
    "import pandas as pd\n"
   ]
  },
  {
   "cell_type": "markdown",
   "id": "89f52100",
   "metadata": {},
   "source": [
    "## Partie 2 - Question 6"
   ]
  },
  {
   "cell_type": "code",
   "execution_count": null,
   "id": "a74fcc9d",
   "metadata": {},
   "outputs": [],
   "source": [
    "def triangles2s(s, L):\n",
    "    cpt = 0\n",
    "    adj = L[s]   # adj = liste d’adj de s\n",
    "    for i in range(len(adj)):\n",
    "        for j in range(i+1, len(adj)):\n",
    "            if adj[i] in L[adj[j]]:\n",
    "                cpt += 1\n",
    "    return cpt\n"
   ]
  },
  {
   "cell_type": "markdown",
   "id": "c56a015c",
   "metadata": {},
   "source": [
    "## Partie 2 - Question 7"
   ]
  },
  {
   "cell_type": "code",
   "execution_count": null,
   "id": "06929231",
   "metadata": {},
   "outputs": [],
   "source": [
    "def supprimeDer(L):\n",
    "    s = len(L) - 1\n",
    "    L.pop()   # supprime le dernier élément de la liste L\n",
    "    for a in L:\n",
    "        if s in a:\n",
    "            a.remove(s)   # supprime s dans la liste a\n"
   ]
  },
  {
   "cell_type": "code",
   "execution_count": null,
   "id": "2c65ff19",
   "metadata": {},
   "outputs": [],
   "source": [
    "def nbTriangles(L):\n",
    "    cpt = 0\n",
    "    n = len(L)   # nb de sommets du graphe\n",
    "    for i in range(n):\n",
    "        s = n - 1 - i   # supprimeDer supprime le dernier sommet, pas le premier\n",
    "        cpt += triangles2s(s, L)\n",
    "        supprimeDer(L)\n",
    "    return cpt\n"
   ]
  }
 ],
 "metadata": {
  "kernelspec": {
   "display_name": "Python 3",
   "language": "python",
   "name": "python3"
  },
  "language_info": {
   "name": "python",
   "version": "3.12.8"
  }
 },
 "nbformat": 4,
 "nbformat_minor": 5
}
