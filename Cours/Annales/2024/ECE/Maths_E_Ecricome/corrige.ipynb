{
 "cells": [
  {
   "cell_type": "markdown",
   "id": "6969885d",
   "metadata": {},
   "source": [
    "# Corrigé Sujet Maths ECRICOME 2024 ECE"
   ]
  },
  {
   "cell_type": "code",
   "execution_count": null,
   "id": "ed7a2004",
   "metadata": {},
   "outputs": [],
   "source": [
    "import numpy.random as rd\n",
    "import numpy as np\n",
    "import numpy.linalg as al"
   ]
  },
  {
   "cell_type": "markdown",
   "id": "89f52100",
   "metadata": {},
   "source": [
    "## Exercice 1 - Partie IV : Question 9 (a)"
   ]
  },
  {
   "cell_type": "markdown",
   "id": "a74fcc9d",
   "metadata": {},
   "source": [
    "SELECT COUNT (*) FROM ordinateur"
   ]
  },
  {
   "cell_type": "markdown",
   "id": "c56a015c",
   "metadata": {},
   "source": [
    "## Exercice 1 - Partie IV : Question 9 (b)"
   ]
  },
  {
   "cell_type": "markdown",
   "id": "2c65ff19",
   "metadata": {},
   "source": [
    "SELECT COUNT (*) FROM ordinateur\n",
    "WHERE annee_panne - annee_fabrication = 1"
   ]
  },
  {
   "cell_type": "markdown",
   "id": "f4ebcc7f",
   "metadata": {},
   "source": [
    "## Exercice 1 - Partie IV : Question 9 (c)\n",
    "\n",
    "C'est le quotient du résultat de la b) avec la a)"
   ]
  },
  {
   "cell_type": "markdown",
   "id": "c9ba9b6b",
   "metadata": {},
   "source": [
    "## Exercice 1 - Partie IV : Question 10"
   ]
  },
  {
   "cell_type": "markdown",
   "id": "9ae179ae",
   "metadata": {},
   "source": [
    "UPDATE ordinateur\n",
    "SET duree_vie = annee_panne - annee_fabrication\n",
    "WHERE annee_panne > -1"
   ]
  },
  {
   "cell_type": "markdown",
   "id": "dc7dcd94",
   "metadata": {},
   "source": [
    "## Exercice 2 - Partie III : Question 10 (b)"
   ]
  },
  {
   "cell_type": "code",
   "execution_count": null,
   "id": "537ad4dd",
   "metadata": {},
   "outputs": [],
   "source": [
    "def estim_proba(a, x):\n",
    "    num = 0\n",
    "    for i in range(10000):\n",
    "        Z = rd.normal()\n",
    "        X = -a + Z / np.sqrt(2)\n",
    "        if X >= x:\n",
    "            num = num + 1\n",
    "    return num / 10000\n"
   ]
  },
  {
   "cell_type": "markdown",
   "id": "25721bc5",
   "metadata": {},
   "source": [
    "## Exercice 2 - Partie III : Question 11"
   ]
  },
  {
   "cell_type": "code",
   "execution_count": null,
   "id": "bc7352d8",
   "metadata": {},
   "outputs": [],
   "source": [
    "def approx_I(a, x):\n",
    "    return np.sqrt(np.pi) * np.exp(2*a*x + a**2) * estim_proba(a, x)\n"
   ]
  }
 ],
 "metadata": {
  "kernelspec": {
   "display_name": "Python 3",
   "language": "python",
   "name": "python3"
  },
  "language_info": {
   "codemirror_mode": {
    "name": "ipython",
    "version": 3
   },
   "file_extension": ".py",
   "mimetype": "text/x-python",
   "name": "python",
   "nbconvert_exporter": "python",
   "pygments_lexer": "ipython3",
   "version": "3.12.8"
  }
 },
 "nbformat": 4,
 "nbformat_minor": 5
}
