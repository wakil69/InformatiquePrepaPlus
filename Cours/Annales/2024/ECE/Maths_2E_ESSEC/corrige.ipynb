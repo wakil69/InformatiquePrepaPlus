{
 "cells": [
  {
   "cell_type": "markdown",
   "id": "6969885d",
   "metadata": {},
   "source": [
    "# Corrigé Sujet Maths ESSEC 2024 ECE"
   ]
  },
  {
   "cell_type": "code",
   "execution_count": 1,
   "id": "ed7a2004",
   "metadata": {},
   "outputs": [],
   "source": [
    "import numpy as np\n",
    "import numpy.linalg as al\n"
   ]
  },
  {
   "cell_type": "markdown",
   "id": "89f52100",
   "metadata": {},
   "source": [
    "## Partie 1 - Question 3"
   ]
  },
  {
   "cell_type": "code",
   "execution_count": 2,
   "id": "a74fcc9d",
   "metadata": {},
   "outputs": [],
   "source": [
    "\n",
    "def energie(A):\n",
    "    S = al.eigvals(A)\n",
    "    E = sum(np.abs(S))\n",
    "    return E"
   ]
  },
  {
   "cell_type": "markdown",
   "id": "c56a015c",
   "metadata": {},
   "source": [
    "## Partie 2 - Question 7 (a)"
   ]
  },
  {
   "cell_type": "code",
   "execution_count": 3,
   "id": "2c65ff19",
   "metadata": {},
   "outputs": [],
   "source": [
    "def prod2K(u, v, w, A):\n",
    "    n, n = np.shape(A)\n",
    "    M = np.zeros([2 * n, 2 * n])\n",
    "    M[0:n, 0:n] = u * A\n",
    "    M[0:n, n:2*n] = v * A\n",
    "    M[n:2*n, 0:n] = v * A\n",
    "    M[n:2*n, n:2*n] = w * A\n",
    "    return M\n"
   ]
  },
  {
   "cell_type": "markdown",
   "id": "c9ba9b6b",
   "metadata": {},
   "source": [
    "## Partie 3 - Question 18"
   ]
  },
  {
   "cell_type": "code",
   "execution_count": 4,
   "id": "9ae179ae",
   "metadata": {},
   "outputs": [],
   "source": [
    "def degMax(A):\n",
    "    n, n = np.shape(A)\n",
    "    L = [np.sum(A[i, :]) for i in range(0, n)]   # Liste contenant chaque degré\n",
    "    return max(L)\n"
   ]
  }
 ],
 "metadata": {
  "kernelspec": {
   "display_name": "Python 3",
   "language": "python",
   "name": "python3"
  },
  "language_info": {
   "codemirror_mode": {
    "name": "ipython",
    "version": 3
   },
   "file_extension": ".py",
   "mimetype": "text/x-python",
   "name": "python",
   "nbconvert_exporter": "python",
   "pygments_lexer": "ipython3",
   "version": "3.12.8"
  }
 },
 "nbformat": 4,
 "nbformat_minor": 5
}
