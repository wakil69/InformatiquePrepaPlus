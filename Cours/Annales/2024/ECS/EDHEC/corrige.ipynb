{
 "cells": [
  {
   "cell_type": "markdown",
   "id": "6978d89e",
   "metadata": {},
   "source": [
    "# Corrigé Sujet Maths EDHEC 2024"
   ]
  },
  {
   "cell_type": "code",
   "execution_count": 2,
   "id": "3b1c423b",
   "metadata": {},
   "outputs": [],
   "source": [
    "import numpy as np\n",
    "import numpy.random as rd\n"
   ]
  },
  {
   "cell_type": "markdown",
   "id": "bff9f114",
   "metadata": {},
   "source": [
    "## Exercice 1 - Question 4 (c)"
   ]
  },
  {
   "cell_type": "code",
   "execution_count": 3,
   "id": "d31489ff",
   "metadata": {},
   "outputs": [],
   "source": [
    "n = int(input(\"entrez la valeur de n : \"))\n",
    "\n",
    "I = np.eye(n)        \n",
    "J = np.ones((n, n))     \n",
    "Hessienne = (2 / n**2) * (n * I - J)\n"
   ]
  },
  {
   "cell_type": "markdown",
   "id": "65471a50",
   "metadata": {},
   "source": [
    "## Exercice 1 - Question 6 (a)"
   ]
  },
  {
   "cell_type": "code",
   "execution_count": 4,
   "id": "79c5a87c",
   "metadata": {},
   "outputs": [],
   "source": [
    "def f_2(x, y):\n",
    "    z = 0.25 * (x - y)**2\n",
    "    return z\n"
   ]
  },
  {
   "cell_type": "markdown",
   "id": "826b5b79",
   "metadata": {},
   "source": [
    "## Problème : Exercice 2 - Question 4 (c)\n",
    "\n",
    "$$\n",
    "\\forall y \\in [0,1[, \\quad F^{-1}(y) = \\ln\\!\\left(\\tan\\!\\left(\\tfrac{\\pi}{2} y\\right)\\right).\n",
    "$$\n"
   ]
  },
  {
   "cell_type": "code",
   "execution_count": 5,
   "id": "22ea44c9",
   "metadata": {},
   "outputs": [
    {
     "name": "stdout",
     "output_type": "stream",
     "text": [
      "7.951412527177886\n"
     ]
    }
   ],
   "source": [
    "U = rd.random()\n",
    "print(np.log(np.tan((np.pi / 2) * U))) # F-1(U)"
   ]
  },
  {
   "cell_type": "markdown",
   "id": "a78fe845",
   "metadata": {},
   "source": [
    "## Problème : Partie 2 - Question 5 (d)"
   ]
  },
  {
   "cell_type": "code",
   "execution_count": null,
   "id": "55230c39",
   "metadata": {},
   "outputs": [],
   "source": [
    "def suiteJ(n):\n",
    "    J = np.pi / 2 # J_1\n",
    "    for k in range(2, n + 1):\n",
    "        J = (2 * k - 3) / (2 * (k - 1)) * J\n",
    "    return J\n"
   ]
  }
 ],
 "metadata": {
  "kernelspec": {
   "display_name": "Python 3",
   "language": "python",
   "name": "python3"
  },
  "language_info": {
   "codemirror_mode": {
    "name": "ipython",
    "version": 3
   },
   "file_extension": ".py",
   "mimetype": "text/x-python",
   "name": "python",
   "nbconvert_exporter": "python",
   "pygments_lexer": "ipython3",
   "version": "3.12.8"
  }
 },
 "nbformat": 4,
 "nbformat_minor": 5
}
