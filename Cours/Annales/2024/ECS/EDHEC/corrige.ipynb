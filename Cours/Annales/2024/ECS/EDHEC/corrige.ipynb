{
 "cells": [
  {
   "cell_type": "markdown",
   "id": "6978d89e",
   "metadata": {},
   "source": [
    "# Corrigé Sujet Maths EDHEC 2024"
   ]
  },
  {
   "cell_type": "code",
   "execution_count": null,
   "id": "3b1c423b",
   "metadata": {},
   "outputs": [],
   "source": [
    "import numpy as np\n",
    "import numpy.random as rd\n"
   ]
  },
  {
   "cell_type": "markdown",
   "id": "bff9f114",
   "metadata": {},
   "source": [
    "## Exercice 1 : 4 (c)"
   ]
  },
  {
   "cell_type": "code",
   "execution_count": null,
   "id": "d31489ff",
   "metadata": {},
   "outputs": [],
   "source": [
    "n = int(input(\"entrez la valeur de n : \"))\n",
    "\n",
    "I = np.eye(n)           # matrice identité\n",
    "J = np.ones((n, n))     # matrice remplie de 1\n",
    "Hessienne = (2 / n**2) * (n * I - J)\n"
   ]
  },
  {
   "cell_type": "markdown",
   "id": "65471a50",
   "metadata": {},
   "source": [
    "## Exercice 1 : 6 (a)"
   ]
  },
  {
   "cell_type": "code",
   "execution_count": null,
   "id": "79c5a87c",
   "metadata": {},
   "outputs": [],
   "source": [
    "def f_2(x, y):\n",
    "    z = 0.25 * (x - y)**2\n",
    "    return z\n"
   ]
  }
 ],
 "metadata": {
  "kernelspec": {
   "display_name": "Python 3",
   "language": "python",
   "name": "python3"
  },
  "language_info": {
   "name": "python",
   "version": "3.12.8"
  }
 },
 "nbformat": 4,
 "nbformat_minor": 5
}
