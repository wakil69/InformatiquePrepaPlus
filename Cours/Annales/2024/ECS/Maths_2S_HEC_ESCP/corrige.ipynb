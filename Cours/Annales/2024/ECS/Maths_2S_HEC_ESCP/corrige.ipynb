{
 "cells": [
  {
   "cell_type": "markdown",
   "id": "7db16e32",
   "metadata": {},
   "source": [
    "# Corrigé Sujet Maths 2S HEC/ESCP 2024"
   ]
  },
  {
   "cell_type": "code",
   "execution_count": 1,
   "id": "3df16180",
   "metadata": {},
   "outputs": [],
   "source": [
    "import numpy as np\n",
    "import numpy.random as rd\n"
   ]
  },
  {
   "cell_type": "markdown",
   "id": "45a3e0d9",
   "metadata": {},
   "source": [
    "## Première partie - Question 6"
   ]
  },
  {
   "cell_type": "code",
   "execution_count": null,
   "id": "60579450",
   "metadata": {},
   "outputs": [],
   "source": [
    "\n",
    "def tri(T):\n",
    "    s = len(T)\n",
    "    for k in range(1, s):\n",
    "        x = T[k]       # élément à insérer\n",
    "        i = k - 1\n",
    "        # on décale les éléments plus grands vers la droite\n",
    "        while i >= 0 and T[i] > x:\n",
    "            T[i+1] = T[i]\n",
    "            i -= 1\n",
    "        T[i+1] = x     # on insère x à la bonne position\n"
   ]
  },
  {
   "cell_type": "markdown",
   "id": "ddedeb1f",
   "metadata": {},
   "source": [
    "## Première partie - Question 7\n",
    "\n",
    "**Réponse (b) :**\n",
    "Le vecteur $A$ contient 20 valeurs de $a \\in [0.01,0.99]$.\n",
    "Pour chaque $a$, l’appel `X(n, int(np.floor(a*n)))` simule la statistique d’ordre $X_{(2000,\\lfloor 2000a \\rfloor)}$.\n",
    "Ainsi, le script affiche des réalisations de $X_{(2000,\\lfloor 2000a \\rfloor)}$ pour 20 valeurs différentes de $a$.\n",
    "\n",
    "\n",
    "**Réponse (c) :**\n",
    "On sait que $X_{(n,\\lfloor an \\rfloor)} \\to F^{-1}(a)$ quand $n \\to \\infty$.\n",
    "Le graphique montre que $F^{-1}(0) = 2$ et $F^{-1}(1) = 6$, donc\n",
    "\n",
    "$$\n",
    "F^{-1}(a) = 4a + 2, \\quad a \\in [0,1].\n",
    "$$\n",
    "\n",
    "Ainsi, pour $y \\in \\mathbb{R}$ :\n",
    "\n",
    "$$\n",
    "F(y) =\n",
    "\\begin{cases}\n",
    "0 & \\text{si } y \\leq 2, \\\\\n",
    "\\dfrac{y-2}{4} & \\text{si } 2 < y < 6, \\\\\n",
    "1 & \\text{si } y \\geq 6,\n",
    "\\end{cases}\n",
    "$$\n",
    "\n",
    "ce qui est la fonction de répartition d’une loi uniforme $\\mathcal{U}([2,6])$.\n"
   ]
  },
  {
   "cell_type": "code",
   "execution_count": null,
   "id": "17bab150",
   "metadata": {},
   "outputs": [],
   "source": [
    "\n",
    "# Réponse (a)\n",
    "def X(n, k):\n",
    "    res = ech(n)   \n",
    "    tri(res)       \n",
    "    return res[k-1]\n",
    "\n",
    "#Réponse d\n",
    "def ech(n):\n",
    "    return 2 + 4 * np.random.rand(n)   \n"
   ]
  }
 ],
 "metadata": {
  "kernelspec": {
   "display_name": "Python 3",
   "language": "python",
   "name": "python3"
  },
  "language_info": {
   "codemirror_mode": {
    "name": "ipython",
    "version": 3
   },
   "file_extension": ".py",
   "mimetype": "text/x-python",
   "name": "python",
   "nbconvert_exporter": "python",
   "pygments_lexer": "ipython3",
   "version": "3.12.8"
  }
 },
 "nbformat": 4,
 "nbformat_minor": 5
}
