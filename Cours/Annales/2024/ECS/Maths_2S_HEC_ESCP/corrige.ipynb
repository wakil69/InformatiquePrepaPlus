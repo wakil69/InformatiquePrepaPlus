{
 "cells": [
  {
   "cell_type": "markdown",
   "id": "7db16e32",
   "metadata": {},
   "source": [
    "# Corrigé Sujet Maths 2S HEC/ESCP 2024"
   ]
  },
  {
   "cell_type": "code",
   "execution_count": 1,
   "id": "3df16180",
   "metadata": {},
   "outputs": [],
   "source": [
    "import numpy as np\n",
    "import numpy.random as rd\n"
   ]
  },
  {
   "cell_type": "markdown",
   "id": "45a3e0d9",
   "metadata": {},
   "source": [
    "## Première partie - Question 6"
   ]
  },
  {
   "cell_type": "code",
   "execution_count": null,
   "id": "60579450",
   "metadata": {},
   "outputs": [],
   "source": [
    "\n",
    "\n",
    "def tri(T):\n",
    "    s = len(T)\n",
    "    for k in range(s):\n",
    "        x = T[k]\n",
    "        i = k - 1\n",
    "        while x < T[i] and i >= 0:\n",
    "            T[i + 1] = T[i] \n",
    "            i -= - 1\n",
    "        T[i + 1] = x\n",
    "    return T\n",
    "\n"
   ]
  },
  {
   "cell_type": "markdown",
   "id": "ddedeb1f",
   "metadata": {},
   "source": [
    "## Première partie - Question 7 (a) et (d)\n",
    "\n",
    "\n",
    "**Réponse (c)**\n",
    "\n",
    "$$\n",
    "F(y) =\n",
    "\\begin{cases}\n",
    "0 & \\text{si } y \\leq 2, \\\\\n",
    "\\dfrac{y-2}{4} & \\text{si } 2 < y < 6, \\\\\n",
    "1 & \\text{si } y \\geq 6,\n",
    "\\end{cases}\n",
    "$$\n",
    "\n",
    "ce qui est la fonction de répartition d’une loi uniforme $\\mathcal{U}([2,6])$.\n"
   ]
  },
  {
   "cell_type": "code",
   "execution_count": null,
   "id": "cc6ada20",
   "metadata": {},
   "outputs": [],
   "source": [
    "\n",
    "def ech(n):\n",
    "    return 2 + 4 * rd.random(n) \n",
    "\n",
    "def X(n, k):\n",
    "    res = ech(n)   \n",
    "    tri(res)       \n",
    "    return res[k-1]"
   ]
  }
 ],
 "metadata": {
  "kernelspec": {
   "display_name": "Python 3",
   "language": "python",
   "name": "python3"
  },
  "language_info": {
   "codemirror_mode": {
    "name": "ipython",
    "version": 3
   },
   "file_extension": ".py",
   "mimetype": "text/x-python",
   "name": "python",
   "nbconvert_exporter": "python",
   "pygments_lexer": "ipython3",
   "version": "3.12.8"
  }
 },
 "nbformat": 4,
 "nbformat_minor": 5
}
