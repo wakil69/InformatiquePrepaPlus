{
 "cells": [
  {
   "cell_type": "markdown",
   "id": "3d73fc0a",
   "metadata": {},
   "source": [
    "# Corrigé Sujet Maths Ecricome 2024"
   ]
  },
  {
   "cell_type": "code",
   "execution_count": null,
   "id": "62bf4348",
   "metadata": {},
   "outputs": [],
   "source": [
    "import numpy as np\n",
    "import numpy.random as rd"
   ]
  },
  {
   "cell_type": "markdown",
   "id": "86794796",
   "metadata": {},
   "source": [
    "## Exercice 2 : Partie 2 - Question 13 (a)"
   ]
  },
  {
   "cell_type": "code",
   "execution_count": null,
   "id": "838c69a0",
   "metadata": {},
   "outputs": [],
   "source": [
    "def prodX(X, i, k): # X tableau numpy (n+1, 1)\n",
    "    P = 1 # on initialise P avec 1 (aucune incidence dans une multiplication)\n",
    "    for j in range(k + 1):\n",
    "        if j != i:\n",
    "            P = P * (X[i][0] - X[j][0])\n",
    "    return P\n"
   ]
  },
  {
   "cell_type": "markdown",
   "id": "14c3267e",
   "metadata": {},
   "source": [
    "## Exercice 2 : Partie 2 - Question 13 (b)"
   ]
  },
  {
   "cell_type": "code",
   "execution_count": null,
   "id": "7fddca8e",
   "metadata": {},
   "outputs": [],
   "source": [
    "\n",
    "def coeff(X, Y):\n",
    "    nb_lignes = X.shape[0]\n",
    "    A = np.zeros((nb_lignes, 1))  \n",
    "    A[0][0] = Y[0][0] # a0 = y0\n",
    "    for k in range(1, nb_lignes):\n",
    "        for i in range(k + 1):\n",
    "            A[k][0] = A[k][0] + Y[i][0] / prodX(X, i, k)\n",
    "    return A\n"
   ]
  },
  {
   "cell_type": "markdown",
   "id": "d8eb2716",
   "metadata": {},
   "source": [
    "## Exercice 2 : Partie 2 - Question 9\n"
   ]
  },
  {
   "cell_type": "code",
   "execution_count": null,
   "id": "8af08857",
   "metadata": {},
   "outputs": [],
   "source": [
    "def cauchy(a):\n",
    "    return a * np.tan(np.pi * (rd.random() - 0.5))"
   ]
  },
  {
   "cell_type": "markdown",
   "id": "221273c5",
   "metadata": {},
   "source": [
    "## Exercice 2 : Partie 2 - Question 10\n"
   ]
  },
  {
   "cell_type": "code",
   "execution_count": null,
   "id": "101f4537",
   "metadata": {},
   "outputs": [],
   "source": [
    "def realisation(n, a):\n",
    "    return np.array([cauchy(a) for _ in range(n)])"
   ]
  },
  {
   "cell_type": "markdown",
   "id": "3f710eb7",
   "metadata": {},
   "source": [
    "## Exercice 2 : Partie 2 - Question 11"
   ]
  },
  {
   "cell_type": "code",
   "execution_count": null,
   "id": "6a161af6",
   "metadata": {},
   "outputs": [],
   "source": [
    "def moyennes(n, a):\n",
    "    X = realisation(n, a) #(X_1, X_2, ..., X_n)\n",
    "    M = np.zeros(n)\n",
    "    for i in range(n):\n",
    "        M[i] = np.mean(X[:i])\n",
    "    return M"
   ]
  }
 ],
 "metadata": {
  "kernelspec": {
   "display_name": "Python 3",
   "language": "python",
   "name": "python3"
  },
  "language_info": {
   "name": "python",
   "version": "3.12.8"
  }
 },
 "nbformat": 4,
 "nbformat_minor": 5
}
