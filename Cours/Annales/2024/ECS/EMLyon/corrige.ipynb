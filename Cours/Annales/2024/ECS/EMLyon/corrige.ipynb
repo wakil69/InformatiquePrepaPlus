{
 "cells": [
  {
   "cell_type": "markdown",
   "id": "6978d89e",
   "metadata": {},
   "source": [
    "# Corrigé Sujet Maths EMLyon 2024"
   ]
  },
  {
   "cell_type": "code",
   "execution_count": 1,
   "id": "3b1c423b",
   "metadata": {},
   "outputs": [],
   "source": [
    "import numpy.linalg as al\n",
    "import numpy as np\n",
    "import scipy.special as sp\n"
   ]
  },
  {
   "cell_type": "markdown",
   "id": "bff9f114",
   "metadata": {},
   "source": [
    "## Problème 1 : Partie 2 - Question 12 (e)"
   ]
  },
  {
   "cell_type": "code",
   "execution_count": 2,
   "id": "5044ab12",
   "metadata": {},
   "outputs": [],
   "source": [
    "def suite_matricielle(A):\n",
    "    n = len(A)                       \n",
    "    v = al.eig(A)[0] # valeurs propres de A      \n",
    "    x, y = max(v), min(v)\n",
    "    U, k = A, 0\n",
    "    rho = max(np.abs(x), np.abs(y)) # on prend le plus grand des deux            \n",
    "    \n",
    "    while np.sqrt(n) * (1/2)**k * (1 + rho) > 1e-3:\n",
    "        k = k+1\n",
    "        U = 0.5 * (U + al.inv(U)) # U = M dans l'énoncé\n",
    "    \n",
    "    return U"
   ]
  },
  {
   "cell_type": "markdown",
   "id": "65471a50",
   "metadata": {},
   "source": [
    "## Problème 2 : Partie 3 - Question 14"
   ]
  },
  {
   "cell_type": "code",
   "execution_count": null,
   "id": "79c5a87c",
   "metadata": {},
   "outputs": [],
   "source": [
    "\n",
    "def IdC(alpha, Y):\n",
    "    n = len(Y)\n",
    "    Z = n / np.sum(Y) # Définition de Z_n     \n",
    "    t = sp.ndtri(1 - alpha/2) \n",
    "    A = Z * (1 + t/np.sqrt(n))\n",
    "    B = Z * (1 - t/np.sqrt(n))\n",
    "    return [A, B]"
   ]
  }
 ],
 "metadata": {
  "kernelspec": {
   "display_name": "Python 3",
   "language": "python",
   "name": "python3"
  },
  "language_info": {
   "codemirror_mode": {
    "name": "ipython",
    "version": 3
   },
   "file_extension": ".py",
   "mimetype": "text/x-python",
   "name": "python",
   "nbconvert_exporter": "python",
   "pygments_lexer": "ipython3",
   "version": "3.12.8"
  }
 },
 "nbformat": 4,
 "nbformat_minor": 5
}
