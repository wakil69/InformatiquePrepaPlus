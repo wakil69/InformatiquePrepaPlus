{
 "cells": [
  {
   "cell_type": "markdown",
   "id": "5d9c9d8d",
   "metadata": {},
   "source": [
    "# Corrigé Sujet Maths S HEC/ESSEC 2024"
   ]
  },
  {
   "cell_type": "code",
   "execution_count": null,
   "id": "92a7def9",
   "metadata": {},
   "outputs": [],
   "source": [
    "import numpy as np\n",
    "import numpy.random as rd"
   ]
  },
  {
   "cell_type": "markdown",
   "id": "b23650f6",
   "metadata": {},
   "source": [
    "## Partie I - Question 13"
   ]
  },
  {
   "cell_type": "code",
   "execution_count": null,
   "id": "e41e51fb",
   "metadata": {},
   "outputs": [],
   "source": [
    "def test_hadamard(M):\n",
    "    n, p = np.shape(M)\n",
    "    if n != p:              # la matrice n'est pas carrée\n",
    "        return -2\n",
    "    else:\n",
    "        # Vérification des coefficients\n",
    "        for i in range(0, n):\n",
    "            for j in range(0, n):\n",
    "                if M[i, j] not in [-1, 1]:\n",
    "                    return -1\n",
    "\n",
    "        # Vérification orthogonalité des lignes\n",
    "        for j in range(0, n):\n",
    "            for k in range(j+1, n):   # comparer lignes distinctes\n",
    "                if np.dot(M[j], M[k]) != 0:\n",
    "                    return 0\n",
    "\n",
    "    return 1"
   ]
  },
  {
   "cell_type": "markdown",
   "id": "0d3ca13e",
   "metadata": {},
   "source": [
    "## Partie I - Question 14"
   ]
  },
  {
   "cell_type": "code",
   "execution_count": null,
   "id": "9e1d3a7e",
   "metadata": {},
   "outputs": [],
   "source": [
    "def rand_hadam(m, Nmax):\n",
    "    n = 4 * m\n",
    "    for tst in range(0, Nmax):\n",
    "        matpm = np.ones((n, n), dtype=int)   # première ligne = 1\n",
    "        \n",
    "        for i in range(1, n):   # lignes à partir de la 2ème\n",
    "            nb_un = 0\n",
    "            j = 0\n",
    "            while 2 * nb_un < n and j < n:\n",
    "                val = rd.randint(0, 2)      # tirage 0 ou 1\n",
    "                nb_un += val\n",
    "                matpm[i, j] = 2 * val - 1   # convertit en -1 ou +1\n",
    "                j += 1\n",
    "\n",
    "            if (2 * nb_un == n):  # moitié moitié atteinte\n",
    "                for k in range(j, n):\n",
    "                    matpm[i, k] = -1\n",
    "            else:                 # sinon remplir avec +1\n",
    "                for k in range(j, n):\n",
    "                    matpm[i, k] = 1\n",
    "\n",
    "        # test si Hadamard\n",
    "        if test_hadamard(matpm) == 1:\n",
    "            return matpm\n",
    "\n",
    "    # si rien trouvé après Nmax essais\n",
    "    return np.zeros((n, n), dtype=int)"
   ]
  }
 ],
 "metadata": {
  "kernelspec": {
   "display_name": "Python 3",
   "language": "python",
   "name": "python3"
  },
  "language_info": {
   "name": "python",
   "version": "3.12.8"
  }
 },
 "nbformat": 4,
 "nbformat_minor": 5
}
