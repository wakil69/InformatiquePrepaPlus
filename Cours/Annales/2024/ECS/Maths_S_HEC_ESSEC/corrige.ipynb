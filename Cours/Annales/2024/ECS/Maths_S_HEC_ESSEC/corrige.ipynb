{
 "cells": [
  {
   "cell_type": "markdown",
   "id": "5d9c9d8d",
   "metadata": {},
   "source": [
    "# Corrigé Sujet Maths S HEC/ESSEC 2024"
   ]
  },
  {
   "cell_type": "code",
   "execution_count": null,
   "id": "92a7def9",
   "metadata": {},
   "outputs": [],
   "source": [
    "import numpy as np\n",
    "import numpy.random as rd"
   ]
  },
  {
   "cell_type": "markdown",
   "id": "b23650f6",
   "metadata": {},
   "source": [
    "## Partie I - Question 13"
   ]
  },
  {
   "cell_type": "code",
   "execution_count": null,
   "id": "e41e51fb",
   "metadata": {},
   "outputs": [],
   "source": [
    "def test_hadamard(M):\n",
    "    n, p = np.shape(M)\n",
    "    if n != p:              # matrice n'est pas carré ici\n",
    "        return -2\n",
    "    else:                   # matrice carré ici\n",
    "        # On vérifie les coefficients\n",
    "        for i in range(0, n): # on parcourt les lignes\n",
    "            for j in range(0, n):  # on parcourt les colonnes\n",
    "                if M[i, j] not in [-1, 1]:\n",
    "                    return -1\n",
    "                \n",
    "       # Vérification matrice de Hadamard (on a déjà vérifié {-1, 1})\n",
    "        for j in range(0, n): # On parcourt les colonnes de gauche à droite\n",
    "            for k in range(j+1, n):   # On parcourt les colonnes restantes depuis j+1\n",
    "                if np.dot(M[:, j], M[:, k]) != 0:\n",
    "                    return 0\n",
    "\n",
    "    return 1"
   ]
  },
  {
   "cell_type": "markdown",
   "id": "0d3ca13e",
   "metadata": {},
   "source": [
    "## Partie I - Question 14"
   ]
  },
  {
   "cell_type": "code",
   "execution_count": null,
   "id": "9e1d3a7e",
   "metadata": {},
   "outputs": [],
   "source": [
    "def rand_hadam(m, Nmax):\n",
    "    n = 4 * m # matrice a toujours une taille pair (multiple de 4)\n",
    "    for tst in range(0, Nmax): # Nb de matrices à tester\n",
    "        matpm = np.ones((n, n), dtype=int)   # 1ére ligne que des 1\n",
    "        \n",
    "        # On complète le reste de matpm de la ligne 2 à n\n",
    "        for i in range(1, n):  \n",
    "            nb_un = 0\n",
    "            j = 0\n",
    "            \n",
    "            # nombre de 1 < n/2 et on s'assure que j ne dépasse pas la longueur de la ligne\n",
    "            while 2 * nb_un < n and j < n:  \n",
    "                val = rd.randint(0, 2)      # on tire aléatoirement soit 0 ou soit 1\n",
    "                nb_un += val\n",
    "                matpm[i, j] = 2 * val - 1   # -1 (si val = 0) ou +1 (si val = 1)\n",
    "                j += 1\n",
    "\n",
    "            if (2 * nb_un == n):  # on remplit de -1 le reste de la ligne\n",
    "                for k in range(j, n):\n",
    "                    matpm[i, k] = -1\n",
    "\n",
    "        if test_hadamard(matpm) == 1:\n",
    "            return matpm\n",
    "\n",
    "    return np.zeros((n, n), dtype=int)"
   ]
  }
 ],
 "metadata": {
  "kernelspec": {
   "display_name": "Python 3",
   "language": "python",
   "name": "python3"
  },
  "language_info": {
   "name": "python",
   "version": "3.12.8"
  }
 },
 "nbformat": 4,
 "nbformat_minor": 5
}
