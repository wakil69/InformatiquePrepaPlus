{
 "cells": [
  {
   "cell_type": "markdown",
   "id": "3d73fc0a",
   "metadata": {},
   "source": [
    "# Corrigé Sujet Maths Ecricome 2025"
   ]
  },
  {
   "cell_type": "code",
   "execution_count": null,
   "id": "62bf4348",
   "metadata": {},
   "outputs": [],
   "source": [
    "import numpy as np\n",
    "import numpy.random as rd"
   ]
  },
  {
   "cell_type": "markdown",
   "id": "86794796",
   "metadata": {},
   "source": [
    "## Exercice 2 : Partie 1 - Question 2 (a)"
   ]
  },
  {
   "cell_type": "code",
   "execution_count": null,
   "id": "838c69a0",
   "metadata": {},
   "outputs": [],
   "source": [
    "import numpy as np\n",
    "\n",
    "def PolyAnn(M):\n",
    "    n = M.shape[0]\n",
    "    I = np.eye(n)                      \n",
    "    phi_M = np.linalg.matrix_power(M, 3) - 4*np.linalg.matrix_power(M, 2) - 12*M - 28*I\n",
    "    return (phi_M == 0).all()\n"
   ]
  },
  {
   "cell_type": "markdown",
   "id": "14c3267e",
   "metadata": {},
   "source": [
    "## Problème : Partie 3 - Question 11 (b)"
   ]
  },
  {
   "cell_type": "code",
   "execution_count": null,
   "id": "7fddca8e",
   "metadata": {},
   "outputs": [],
   "source": [
    "\n",
    "def Simul(x, y):\n",
    "    U = rd.random()                   # U ~ Uniforme(0,1)\n",
    "    return (U**(x-1)) * ((1-U)**(y-1))"
   ]
  },
  {
   "cell_type": "markdown",
   "id": "a14faf29",
   "metadata": {},
   "source": [
    "## Problème : Partie 3 - Question 11 (d)"
   ]
  },
  {
   "cell_type": "code",
   "execution_count": null,
   "id": "adf06a4a",
   "metadata": {},
   "outputs": [],
   "source": [
    "def Rn(x, y, n):\n",
    "    total = 0\n",
    "    for _ in range(n):                # répéter n simulations indépendantes\n",
    "        total += Simul(x, y)\n",
    "    return total / n                  # moyenne -> Rn\n"
   ]
  },
  {
   "cell_type": "markdown",
   "id": "5d64c177",
   "metadata": {},
   "source": [
    "## Problème : Partie 3 - Question 12 (c)\n",
    "\n",
    "La fonction `Myst(n)` renvoie un tableau NumPy contenant $n$ réalisations indépendantes d’une variable aléatoire suivant la loi **exponentielle de paramètre 1**.\n",
    "\n"
   ]
  },
  {
   "cell_type": "code",
   "execution_count": null,
   "id": "157e47f7",
   "metadata": {},
   "outputs": [],
   "source": [
    "def Myst(n):\n",
    "    U = rd.random(n)         # génère n v.a. U_i indépendantes ~ Uniforme(0,1)\n",
    "    X = -np.log(1 - U)       # transformation\n",
    "    return X"
   ]
  },
  {
   "cell_type": "markdown",
   "id": "bacc683e",
   "metadata": {},
   "source": [
    "## Problème : Partie 3 - Question 12 (d)\n"
   ]
  },
  {
   "cell_type": "code",
   "execution_count": null,
   "id": "a0567a24",
   "metadata": {},
   "outputs": [],
   "source": [
    "def Approx(n, a):\n",
    "    X = Myst(n)\n",
    "    return np.mean(X**(a-1))\n"
   ]
  }
 ],
 "metadata": {
  "kernelspec": {
   "display_name": "Python 3",
   "language": "python",
   "name": "python3"
  },
  "language_info": {
   "codemirror_mode": {
    "name": "ipython",
    "version": 3
   },
   "file_extension": ".py",
   "mimetype": "text/x-python",
   "name": "python",
   "nbconvert_exporter": "python",
   "pygments_lexer": "ipython3",
   "version": "3.12.8"
  }
 },
 "nbformat": 4,
 "nbformat_minor": 5
}
