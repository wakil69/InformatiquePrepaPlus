{
 "cells": [
  {
   "cell_type": "markdown",
   "id": "dca9a21f",
   "metadata": {},
   "source": [
    "# Exercices : Fonctions"
   ]
  }
 ],
 "metadata": {
  "language_info": {
   "name": "python"
  }
 },
 "nbformat": 4,
 "nbformat_minor": 5
}
