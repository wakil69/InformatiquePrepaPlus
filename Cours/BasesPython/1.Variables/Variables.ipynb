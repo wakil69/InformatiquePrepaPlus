{
 "cells": [
  {
   "cell_type": "markdown",
   "metadata": {
    "id": "Xjr_lQCO9dxJ"
   },
   "source": [
    "# **Variables**"
   ]
  },
  {
   "cell_type": "markdown",
   "metadata": {},
   "source": [
    "Convention générales pour les noms de variables:\n",
    "\n",
    "- **snake_case** : Les noms de variables doivent être en minuscules avec des underscores pour séparer les mots.\n",
    "*Ex*: nom_utilisateur, prenom_utilisateur\n",
    "\n",
    "- **utiliser des noms explicites** : Privilégie des noms clairs et descriptifs plutôt que des abréviations floues.\n",
    "\n",
    "- **Éviter les noms de variables en une seule lettre**, sauf dans des cas très simple\n",
    "\n",
    "🚫 **Ce qu’il faut éviter** :\n",
    "\n",
    "- ❌ camelCase (utilisé dans d'autres langages) : \n",
    "*Ex*: nomUtilisateur, prenomUtilisateur\n",
    "\n",
    "- ❌ Pas d’espace ou de caractères spéciaux : \n",
    "*Ex*: nom utilisateur, prenom utilisateur\n",
    "\n",
    "- ❌ Ne pas utiliser de mots réservés :\n",
    "class = \"Informatique\"\n"
   ]
  },
  {
   "cell_type": "markdown",
   "metadata": {
    "id": "7XNGO3G-9dxN"
   },
   "source": [
    "### Les entiers (type int)"
   ]
  },
  {
   "cell_type": "markdown",
   "metadata": {},
   "source": [
    "On définit un entier et on l'affiche avec la fonction **print**"
   ]
  },
  {
   "cell_type": "code",
   "execution_count": null,
   "metadata": {
    "colab": {
     "base_uri": "https://localhost:8080/"
    },
    "executionInfo": {
     "elapsed": 60,
     "status": "ok",
     "timestamp": 1745349987189,
     "user": {
      "displayName": "Abdessamad Hader",
      "userId": "15976525270726299243"
     },
     "user_tz": -60
    },
    "id": "Ywou_gsP9dxO",
    "outputId": "f4f9181d-ba31-49eb-81b5-dd6c96c6dfb1"
   },
   "outputs": [],
   "source": [
    "number = 3\n",
    "print(number)"
   ]
  },
  {
   "cell_type": "markdown",
   "metadata": {},
   "source": [
    "On vérifie le **type** de la variable number\n"
   ]
  },
  {
   "cell_type": "code",
   "execution_count": null,
   "metadata": {
    "colab": {
     "base_uri": "https://localhost:8080/"
    },
    "executionInfo": {
     "elapsed": 28,
     "status": "ok",
     "timestamp": 1745349987231,
     "user": {
      "displayName": "Abdessamad Hader",
      "userId": "15976525270726299243"
     },
     "user_tz": -60
    },
    "id": "v0Mxx84A9dxR",
    "outputId": "6fee47a5-b5c8-4ea3-a438-f224c8af29ba"
   },
   "outputs": [],
   "source": [
    "type(number)"
   ]
  },
  {
   "cell_type": "markdown",
   "metadata": {},
   "source": [
    "Les nombres peuvent être écrits avec des puissances de 10 avec la lettre e"
   ]
  },
  {
   "cell_type": "code",
   "execution_count": null,
   "metadata": {},
   "outputs": [],
   "source": [
    "nombre_puissance_positive = 96.57567e+3 # 96.57567 * 1000\n",
    "print(f\"Nombre à puissance positive: {nombre_puissance_positive}\")\n",
    "\n",
    "nombre_puissance_negative = 96.57567e-2 # 96.57567 * 0.01\n",
    "print(f\"Nombre à puissance négative: {nombre_puissance_negative}\")"
   ]
  },
  {
   "cell_type": "markdown",
   "metadata": {
    "id": "2rcLjqgU9dxS"
   },
   "source": [
    "### Les nombres flottants (type float)"
   ]
  },
  {
   "cell_type": "code",
   "execution_count": null,
   "metadata": {
    "colab": {
     "base_uri": "https://localhost:8080/"
    },
    "executionInfo": {
     "elapsed": 70,
     "status": "ok",
     "timestamp": 1745349987319,
     "user": {
      "displayName": "Abdessamad Hader",
      "userId": "15976525270726299243"
     },
     "user_tz": -60
    },
    "id": "6brBLJAu9dxS",
    "outputId": "51b79e65-880e-4b33-830e-632451f7ab3c"
   },
   "outputs": [],
   "source": [
    "#on définit un flottant\n",
    "number_float = 3.0\n",
    "print(number_float)"
   ]
  },
  {
   "cell_type": "code",
   "execution_count": null,
   "metadata": {
    "colab": {
     "base_uri": "https://localhost:8080/"
    },
    "executionInfo": {
     "elapsed": 4,
     "status": "ok",
     "timestamp": 1745349987346,
     "user": {
      "displayName": "Abdessamad Hader",
      "userId": "15976525270726299243"
     },
     "user_tz": -60
    },
    "id": "Hp7Gj5lx9dxT",
    "outputId": "31d7ea2f-591a-4c5c-acc6-66287725965b"
   },
   "outputs": [],
   "source": [
    "#on vérifie le type de la variable number_float\n",
    "type(number_float)"
   ]
  },
  {
   "cell_type": "code",
   "execution_count": null,
   "metadata": {
    "colab": {
     "base_uri": "https://localhost:8080/"
    },
    "executionInfo": {
     "elapsed": 27,
     "status": "ok",
     "timestamp": 1745349987429,
     "user": {
      "displayName": "Abdessamad Hader",
      "userId": "15976525270726299243"
     },
     "user_tz": -60
    },
    "id": "XGmrmyQY9dxV",
    "outputId": "7befc6be-d2bd-4db8-ec3e-084a032bed4c"
   },
   "outputs": [],
   "source": [
    "#on peut transformer un float en int...\n",
    "number_int = int(number_float)\n",
    "print(number_int)\n",
    "print(type(number_int))"
   ]
  },
  {
   "cell_type": "code",
   "execution_count": null,
   "metadata": {
    "colab": {
     "base_uri": "https://localhost:8080/"
    },
    "executionInfo": {
     "elapsed": 18,
     "status": "ok",
     "timestamp": 1745349987460,
     "user": {
      "displayName": "Abdessamad Hader",
      "userId": "15976525270726299243"
     },
     "user_tz": -60
    },
    "id": "zf2F6qaT9dxW",
    "outputId": "d1edb7d4-9a45-435c-f53d-541414f6deee"
   },
   "outputs": [],
   "source": [
    "#... et vice versa, int en float\n",
    "number_float = float(number_int)\n",
    "print(number_float)"
   ]
  },
  {
   "cell_type": "markdown",
   "metadata": {},
   "source": [
    "### Les nombres spéciaux (π, racines carrées etc.)\n"
   ]
  },
  {
   "cell_type": "markdown",
   "metadata": {},
   "source": [
    "Dans python, comme dans d'autres langages de programmation, nous avons accès à différents outils grâce à l'importation de bibliothèques/librairies."
   ]
  },
  {
   "cell_type": "code",
   "execution_count": null,
   "metadata": {},
   "outputs": [],
   "source": [
    "import math\n",
    "\n",
    "print(f\"Nombre π avec import : {math.pi}\")\n",
    "print(f\"Racine carrée de 4 : {math.sqrt(4)}\")\n",
    "print(f\"Logarithme népérien de 10 : {math.log(10)}\")\n",
    "print(f\"Exponentielle de 2 : {math.exp(2)}\")\n",
    "print(f\"Cosinus de π/3 : {math.cos(math.pi / 3)}\")\n",
    "print(f\"Sinus de π/6 : {math.sin(math.pi / 6)}\")\n",
    "print(f\"Partie entière de 7.9 : {math.floor(7.9)}\")\n",
    "\n",
    "print(\"----------\")\n",
    "\n",
    "from math import pi, sqrt, log, exp, cos, sin, floor\n",
    "\n",
    "print(f\"Nombre π avec from math import pi : {pi}\")\n",
    "print(f\"Racine carrée de 4 : {sqrt(4)}\")\n",
    "print(f\"Logarithme népérien de 10 : {log(10)}\")\n",
    "print(f\"Exponentielle de 2 : {exp(2)}\")\n",
    "print(f\"Cosinus de π/3 : {cos(pi / 3)}\")\n",
    "print(f\"Sinus de π/6 : {sin(pi / 6)}\")\n",
    "print(f\"Partie entière de 7.9 : {floor(7.9)}\")"
   ]
  },
  {
   "cell_type": "markdown",
   "metadata": {},
   "source": [
    "Vous pouvez aussi **tout importer** en utilisant from ... import *\n",
    "\n",
    "🚫 **A éviter** pour éviter des interférences dans le cas où vous importer plusieurs libraries\n"
   ]
  },
  {
   "cell_type": "code",
   "execution_count": null,
   "metadata": {},
   "outputs": [],
   "source": [
    "from math import *\n",
    "\n",
    "print(f\"Nombre π avec from math import pi : {pi}\")\n",
    "print(f\"Racine carrée de 4 : {sqrt(4)}\")"
   ]
  },
  {
   "cell_type": "markdown",
   "metadata": {
    "id": "QYHBP-Uw9dxX"
   },
   "source": [
    "### Les listes (type list)"
   ]
  },
  {
   "cell_type": "code",
   "execution_count": null,
   "metadata": {
    "colab": {
     "base_uri": "https://localhost:8080/"
    },
    "executionInfo": {
     "elapsed": 9,
     "status": "ok",
     "timestamp": 1745349987489,
     "user": {
      "displayName": "Abdessamad Hader",
      "userId": "15976525270726299243"
     },
     "user_tz": -60
    },
    "id": "d4mPvoem9dxX",
    "outputId": "34e7bcfd-1cd5-4c8e-ba9c-b37ba31be791"
   },
   "outputs": [],
   "source": [
    "liste_numbers = [1, 1, 1, 2, 3, 6, 5]\n",
    "print(liste_numbers)"
   ]
  },
  {
   "cell_type": "code",
   "execution_count": null,
   "metadata": {
    "colab": {
     "base_uri": "https://localhost:8080/"
    },
    "executionInfo": {
     "elapsed": 100,
     "status": "ok",
     "timestamp": 1745349987606,
     "user": {
      "displayName": "Abdessamad Hader",
      "userId": "15976525270726299243"
     },
     "user_tz": -60
    },
    "id": "fUNv8FEV9dxX",
    "outputId": "b6a62e9b-58a6-40a7-b194-7f323b9cea1a"
   },
   "outputs": [],
   "source": [
    "type(liste_numbers)"
   ]
  },
  {
   "cell_type": "markdown",
   "metadata": {},
   "source": [
    "Vous pouvez utiliser également le type *set* qui est très utile, si vous souhaitez, à partir d'une liste de nombres, supprimer les doublons."
   ]
  },
  {
   "cell_type": "code",
   "execution_count": null,
   "metadata": {
    "colab": {
     "base_uri": "https://localhost:8080/"
    },
    "executionInfo": {
     "elapsed": 63,
     "status": "ok",
     "timestamp": 1745349987607,
     "user": {
      "displayName": "Abdessamad Hader",
      "userId": "15976525270726299243"
     },
     "user_tz": -60
    },
    "id": "jjGHP2FW9dxY",
    "outputId": "47e741fe-c478-46d7-89b4-1020a13ae825"
   },
   "outputs": [],
   "source": [
    "liste_set = set(liste_numbers)\n",
    "\n",
    "print(liste_set)\n",
    "\n",
    "type(liste_set)"
   ]
  },
  {
   "cell_type": "markdown",
   "metadata": {},
   "source": [
    "Et vous pouvez revenir à une liste en utilisant la commande *list*"
   ]
  },
  {
   "cell_type": "code",
   "execution_count": null,
   "metadata": {
    "colab": {
     "base_uri": "https://localhost:8080/"
    },
    "executionInfo": {
     "elapsed": 105,
     "status": "ok",
     "timestamp": 1745349987677,
     "user": {
      "displayName": "Abdessamad Hader",
      "userId": "15976525270726299243"
     },
     "user_tz": -60
    },
    "id": "CxZKv5PX9dxY",
    "outputId": "14dc189f-55a0-41b8-9c1d-f19dd4ad45e0"
   },
   "outputs": [],
   "source": [
    "liste = list(liste_set)\n",
    "\n",
    "print(liste)"
   ]
  },
  {
   "cell_type": "markdown",
   "metadata": {
    "id": "ffrQcX_S9dxZ"
   },
   "source": [
    "### Les chaines de caractères (type str)"
   ]
  },
  {
   "cell_type": "code",
   "execution_count": null,
   "metadata": {
    "colab": {
     "base_uri": "https://localhost:8080/"
    },
    "executionInfo": {
     "elapsed": 81,
     "status": "ok",
     "timestamp": 1745349987694,
     "user": {
      "displayName": "Abdessamad Hader",
      "userId": "15976525270726299243"
     },
     "user_tz": -60
    },
    "id": "vyICgD359dxZ",
    "outputId": "0ba433b2-4de5-4693-e12a-c64bc6ae0951"
   },
   "outputs": [],
   "source": [
    "texte = \"Prépa+ est la plateforme gratuite qui vous permet d'exceller en maths et en informatique\"\n",
    "\n",
    "print(texte)"
   ]
  },
  {
   "cell_type": "markdown",
   "metadata": {},
   "source": [
    "💡 Pour les textes avec plusieurs lignes, privilégiez \"\"\"text\"\"\""
   ]
  },
  {
   "cell_type": "code",
   "execution_count": null,
   "metadata": {},
   "outputs": [],
   "source": [
    "texte = \"\"\"Prépa+ est la plateforme gratuite qui vous permet d'exceller en maths \n",
    "et en informatique\"\"\"\n",
    "\n",
    "print(texte)"
   ]
  },
  {
   "cell_type": "markdown",
   "metadata": {},
   "source": [
    "On vérifie le type de la variable char"
   ]
  },
  {
   "cell_type": "code",
   "execution_count": null,
   "metadata": {
    "colab": {
     "base_uri": "https://localhost:8080/"
    },
    "executionInfo": {
     "elapsed": 47,
     "status": "ok",
     "timestamp": 1745349987695,
     "user": {
      "displayName": "Abdessamad Hader",
      "userId": "15976525270726299243"
     },
     "user_tz": -60
    },
    "id": "nHbzrMz49dxZ",
    "outputId": "74a63560-cfa1-48cc-a99e-12545d4fa970"
   },
   "outputs": [],
   "source": [
    "type(texte)"
   ]
  },
  {
   "cell_type": "markdown",
   "metadata": {},
   "source": [
    "On peut, également, transformer un nombre (int ou float) en str..."
   ]
  },
  {
   "cell_type": "code",
   "execution_count": null,
   "metadata": {
    "colab": {
     "base_uri": "https://localhost:8080/"
    },
    "executionInfo": {
     "elapsed": 53,
     "status": "ok",
     "timestamp": 1745349987714,
     "user": {
      "displayName": "Abdessamad Hader",
      "userId": "15976525270726299243"
     },
     "user_tz": -60
    },
    "id": "Be1Sy7QS9dxZ",
    "outputId": "2b1f64d3-3448-4a56-8f34-c015b6e64908"
   },
   "outputs": [],
   "source": [
    "number = 8\n",
    "\n",
    "print(number)\n",
    "print(type(number))\n",
    "\n",
    "number_to_str = str(number)\n",
    "\n",
    "print(\"------ APRES TRANSFORMATION ------\")\n",
    "print(type(number_to_str))\n",
    "print(number_to_str)"
   ]
  },
  {
   "cell_type": "markdown",
   "metadata": {},
   "source": [
    "... et vice versa de str en (int ou float)"
   ]
  },
  {
   "cell_type": "code",
   "execution_count": null,
   "metadata": {
    "colab": {
     "base_uri": "https://localhost:8080/"
    },
    "executionInfo": {
     "elapsed": 18,
     "status": "ok",
     "timestamp": 1745349987733,
     "user": {
      "displayName": "Abdessamad Hader",
      "userId": "15976525270726299243"
     },
     "user_tz": -60
    },
    "id": "ij928HqZ9dxZ",
    "outputId": "ef899e42-4950-4d69-c4b5-61d723020b7a"
   },
   "outputs": [],
   "source": [
    "char = \"8\"\n",
    "\n",
    "print(char)\n",
    "print(type(char))\n",
    "\n",
    "str_to_number = int(number)\n",
    "\n",
    "print(\"------ APRES TRANSFORMATION ------\")\n",
    "print(str_to_number)\n",
    "print(type(str_to_number))"
   ]
  },
  {
   "cell_type": "markdown",
   "metadata": {},
   "source": [
    "On peut aussi transformer un str en list..."
   ]
  },
  {
   "cell_type": "code",
   "execution_count": null,
   "metadata": {
    "colab": {
     "base_uri": "https://localhost:8080/"
    },
    "executionInfo": {
     "elapsed": 42,
     "status": "ok",
     "timestamp": 1745349987778,
     "user": {
      "displayName": "Abdessamad Hader",
      "userId": "15976525270726299243"
     },
     "user_tz": -60
    },
    "id": "lrYkgaz79dxZ",
    "outputId": "030e2099-e968-4d80-ece4-cf08cbd843e7"
   },
   "outputs": [],
   "source": [
    "texte = \"\"\"StudExam est une plateforme de préparation en mathématiques et \n",
    "informatique, simplifiée grâce à l'intelligence artificielle.\"\"\"\n",
    "\n",
    "print(texte)\n",
    "print(type(texte))\n",
    "\n",
    "str_to_list = list(texte)\n",
    "\n",
    "print(\"------ APRES TRANSFORMATION ------\")\n",
    "print(str_to_list)\n",
    "print(type(str_to_list))"
   ]
  },
  {
   "cell_type": "markdown",
   "metadata": {},
   "source": [
    "... et vice versa de list en str"
   ]
  },
  {
   "cell_type": "code",
   "execution_count": null,
   "metadata": {
    "colab": {
     "base_uri": "https://localhost:8080/"
    },
    "executionInfo": {
     "elapsed": 44,
     "status": "ok",
     "timestamp": 1745349987812,
     "user": {
      "displayName": "Abdessamad Hader",
      "userId": "15976525270726299243"
     },
     "user_tz": -60
    },
    "id": "gAIkz8gj9dxa",
    "outputId": "7a173195-0b6e-4ad8-9446-82654142a295"
   },
   "outputs": [],
   "source": [
    "liste = [1, 2, \"StudExam\", 3, \"Prépa+\"]\n",
    "\n",
    "print(liste)\n",
    "print(type(liste))\n",
    "\n",
    "str_to_liste = str(liste)\n",
    "\n",
    "print(\"------ APRES TRANSFORMATION ------\")\n",
    "print(str_to_liste)\n",
    "type(str_to_liste)"
   ]
  },
  {
   "cell_type": "markdown",
   "metadata": {
    "id": "oaklx-xZ9dxa"
   },
   "source": [
    "### Les tuples (type tuple)"
   ]
  },
  {
   "cell_type": "code",
   "execution_count": null,
   "metadata": {
    "colab": {
     "base_uri": "https://localhost:8080/"
    },
    "executionInfo": {
     "elapsed": 84,
     "status": "ok",
     "timestamp": 1745349987878,
     "user": {
      "displayName": "Abdessamad Hader",
      "userId": "15976525270726299243"
     },
     "user_tz": -60
    },
    "id": "tZWdIXfx9dxa",
    "outputId": "9a1dcc92-7d86-41e2-a529-f570b4b562ae"
   },
   "outputs": [],
   "source": [
    "tup = (1,2)\n",
    "\n",
    "print(tup)\n",
    "print(type(tup))"
   ]
  },
  {
   "cell_type": "markdown",
   "metadata": {},
   "source": [
    "On peut transformer un tuple en list..."
   ]
  },
  {
   "cell_type": "code",
   "execution_count": null,
   "metadata": {
    "colab": {
     "base_uri": "https://localhost:8080/"
    },
    "executionInfo": {
     "elapsed": 58,
     "status": "ok",
     "timestamp": 1745349987879,
     "user": {
      "displayName": "Abdessamad Hader",
      "userId": "15976525270726299243"
     },
     "user_tz": -60
    },
    "id": "jZIIGGfY9dxa",
    "outputId": "e9a7004f-a4cc-4fba-d7f4-9b1567428bdf"
   },
   "outputs": [],
   "source": [
    "liste = list(tup)\n",
    "\n",
    "print(liste)"
   ]
  },
  {
   "cell_type": "markdown",
   "metadata": {},
   "source": [
    "On peut transformer un tuple en str..."
   ]
  },
  {
   "cell_type": "code",
   "execution_count": null,
   "metadata": {
    "colab": {
     "base_uri": "https://localhost:8080/"
    },
    "executionInfo": {
     "elapsed": 60,
     "status": "ok",
     "timestamp": 1745349987907,
     "user": {
      "displayName": "Abdessamad Hader",
      "userId": "15976525270726299243"
     },
     "user_tz": -60
    },
    "id": "Vkx-plEw9dxa",
    "outputId": "0e128f85-7348-4dd0-edb1-38b05d409173"
   },
   "outputs": [],
   "source": [
    "char = str(tup)\n",
    "\n",
    "print(char)\n",
    "type(char)"
   ]
  },
  {
   "cell_type": "markdown",
   "metadata": {
    "id": "wPsV3D3t9dxb"
   },
   "source": [
    "### Les booléens (type bool)"
   ]
  },
  {
   "cell_type": "markdown",
   "metadata": {},
   "source": [
    "Un booléen est restreint à prendre deux valeurs : True et False"
   ]
  },
  {
   "cell_type": "code",
   "execution_count": null,
   "metadata": {
    "colab": {
     "base_uri": "https://localhost:8080/"
    },
    "executionInfo": {
     "elapsed": 19,
     "status": "ok",
     "timestamp": 1745349987943,
     "user": {
      "displayName": "Abdessamad Hader",
      "userId": "15976525270726299243"
     },
     "user_tz": -60
    },
    "id": "gTzxKsy_9dxb",
    "outputId": "2449bec8-1a3b-4c37-d970-d0e5582a489e"
   },
   "outputs": [],
   "source": [
    "number_3 = 3\n",
    "number_0 = 0\n",
    "empty_liste = []\n",
    "liste_num = [1, 23, 5, 6, 5]\n",
    "char_empty = \"\"\n",
    "char = \"Prépa+\"\n",
    "\n",
    "print(f'Le booléen de {number_3} est', bool(number_3))\n",
    "print(f'Le booléen de {number_0} est', bool(number_0))\n",
    "\n",
    "print(f'Le booléen de {empty_liste} est', bool(empty_liste))\n",
    "print(f'Le booléen de {liste_num} est', bool(liste_num))\n",
    "\n",
    "print(f'Le booléen de {char_empty} est', bool(char_empty))\n",
    "print(f'Le booléen de {char} est', bool(char))\n"
   ]
  },
  {
   "cell_type": "markdown",
   "metadata": {},
   "source": [
    "Une condition retourne toujours un booléen"
   ]
  },
  {
   "cell_type": "code",
   "execution_count": null,
   "metadata": {
    "colab": {
     "base_uri": "https://localhost:8080/"
    },
    "executionInfo": {
     "elapsed": 27,
     "status": "ok",
     "timestamp": 1745349987970,
     "user": {
      "displayName": "Abdessamad Hader",
      "userId": "15976525270726299243"
     },
     "user_tz": -60
    },
    "id": "s6Wei0_e9dxb",
    "outputId": "160004bb-97ca-4b19-e7a9-3717fd60ee77"
   },
   "outputs": [],
   "source": [
    "print(f\"L'égalité entre {number_0} et 0 est\", (number_0 == 0))\n",
    "print(f\"L'égalité entre {liste_num} et [1,23,5,6,5] est\", (liste_num == [1,23,5,6,5]))\n",
    "print(f\"L'égalité entre {char} et 'oui' est\", (char == \"oui\"))"
   ]
  },
  {
   "cell_type": "markdown",
   "metadata": {
    "id": "yP7MhLZi9dxb"
   },
   "source": [
    "### Les nombres complexes"
   ]
  },
  {
   "cell_type": "code",
   "execution_count": null,
   "metadata": {
    "colab": {
     "base_uri": "https://localhost:8080/"
    },
    "executionInfo": {
     "elapsed": 9,
     "status": "ok",
     "timestamp": 1745349987980,
     "user": {
      "displayName": "Abdessamad Hader",
      "userId": "15976525270726299243"
     },
     "user_tz": -60
    },
    "id": "wU7Jf4jo9dxb",
    "outputId": "5bf96559-6cdd-4c3a-ed26-48ebff9c1e2d"
   },
   "outputs": [],
   "source": [
    "z = 1+1j\n",
    "\n",
    "print(z)\n",
    "print(type(z))"
   ]
  },
  {
   "cell_type": "markdown",
   "metadata": {},
   "source": [
    "On peut récupérer la **partie réelle** de z"
   ]
  },
  {
   "cell_type": "code",
   "execution_count": null,
   "metadata": {
    "colab": {
     "base_uri": "https://localhost:8080/"
    },
    "executionInfo": {
     "elapsed": 9,
     "status": "ok",
     "timestamp": 1745349987990,
     "user": {
      "displayName": "Abdessamad Hader",
      "userId": "15976525270726299243"
     },
     "user_tz": -60
    },
    "id": "F8M8vdlT9dxb",
    "outputId": "3294dec0-4085-4a9e-991b-4936e23fbbb2"
   },
   "outputs": [],
   "source": [
    "reelle = z.real\n",
    "\n",
    "print(reelle)"
   ]
  },
  {
   "cell_type": "markdown",
   "metadata": {},
   "source": [
    "On peut récupérer la **partie imaginaire** de z"
   ]
  },
  {
   "cell_type": "code",
   "execution_count": null,
   "metadata": {
    "colab": {
     "base_uri": "https://localhost:8080/"
    },
    "executionInfo": {
     "elapsed": 22,
     "status": "ok",
     "timestamp": 1745349988013,
     "user": {
      "displayName": "Abdessamad Hader",
      "userId": "15976525270726299243"
     },
     "user_tz": -60
    },
    "id": "3xKgBrWV9dxc",
    "outputId": "4946fb84-9a38-4747-d615-da394c0c33bd"
   },
   "outputs": [],
   "source": [
    "imaginaire = z.imag\n",
    "print(imaginaire)"
   ]
  },
  {
   "cell_type": "markdown",
   "metadata": {
    "id": "q-vUcE7d9dxc"
   },
   "source": [
    "### Opérations mathématiques\n",
    "\n",
    "Elles fonctionnent avec l’ordre de priorité habituel mathématiques (n'oubliez pas les parenthèses !)"
   ]
  },
  {
   "cell_type": "code",
   "execution_count": null,
   "metadata": {},
   "outputs": [],
   "source": [
    "a = 12\n",
    "b = 3"
   ]
  },
  {
   "cell_type": "code",
   "execution_count": null,
   "metadata": {},
   "outputs": [],
   "source": [
    "addition = a + b\n",
    "soustraction = a - b\n",
    "multiplication = a * b\n",
    "\n",
    "print(f\"Addition entre {a} et {b} : {addition}\")\n",
    "print(f\"Soustraction entre {a} et {b} : {soustraction}\")\n",
    "print(f\"Multiplication entre {a} et {b} : {multiplication}\")"
   ]
  },
  {
   "cell_type": "markdown",
   "metadata": {},
   "source": [
    "$a^b$"
   ]
  },
  {
   "cell_type": "code",
   "execution_count": null,
   "metadata": {
    "id": "14RGBMmT9dxc"
   },
   "outputs": [],
   "source": [
    "puissance = a ** b"
   ]
  },
  {
   "cell_type": "markdown",
   "metadata": {},
   "source": [
    "Division classique"
   ]
  },
  {
   "cell_type": "code",
   "execution_count": null,
   "metadata": {},
   "outputs": [],
   "source": [
    "division = a / b\n",
    "print(\"Division classique :\", division) "
   ]
  },
  {
   "cell_type": "markdown",
   "metadata": {},
   "source": [
    "Définition de la **division euclidienne** : $b = a \\times q + r$"
   ]
  },
  {
   "cell_type": "code",
   "execution_count": null,
   "metadata": {},
   "outputs": [],
   "source": [
    "quotient = b // a         # q : partie entière de la division\n",
    "reste = b % a             # r : reste de la division\n",
    "verification = a * quotient + reste  # égal à b\n",
    "\n",
    "print(f\"{b} = {a} × {quotient} + {reste}\")  \n",
    "print(\"Vérification :\", verification == b) "
   ]
  },
  {
   "cell_type": "markdown",
   "metadata": {
    "id": "swTLQzQd9dxc"
   },
   "source": [
    "## **Conclusion**"
   ]
  },
  {
   "cell_type": "markdown",
   "metadata": {
    "id": "5UXNhgyP9dxc"
   },
   "source": [
    "**1. On affecte une valeur (int, float, str, list etc.) à une variable**\n",
    "\n",
    "**2. Les transformations possibles sont :**\n",
    "1. str <--> int (ou float)  \n",
    "2. list <--> set\n",
    "3. list <--> str\n",
    "\n",
    "\n",
    "**3. Suivez bien les consignes des exercices qui demandent bien souvent des types bien précis pour les variables**"
   ]
  }
 ],
 "metadata": {
  "colab": {
   "provenance": []
  },
  "kernelspec": {
   "display_name": "Python 3",
   "language": "python",
   "name": "python3"
  },
  "language_info": {
   "codemirror_mode": {
    "name": "ipython",
    "version": 3
   },
   "file_extension": ".py",
   "mimetype": "text/x-python",
   "name": "python",
   "nbconvert_exporter": "python",
   "pygments_lexer": "ipython3",
   "version": "3.12.8"
  }
 },
 "nbformat": 4,
 "nbformat_minor": 0
}
