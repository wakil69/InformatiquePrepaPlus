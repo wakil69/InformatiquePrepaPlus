{
 "cells": [
  {
   "cell_type": "markdown",
   "metadata": {},
   "source": [
    "# **If, boucles for et while, fonctions**"
   ]
  },
  {
   "cell_type": "markdown",
   "metadata": {},
   "source": [
    "### Préambule : éléments de comparaison"
   ]
  },
  {
   "cell_type": "code",
   "execution_count": 17,
   "metadata": {},
   "outputs": [
    {
     "name": "stdout",
     "output_type": "stream",
     "text": [
      "a == b :  False\n",
      "a >= b :  True\n",
      "a <= b :  False\n",
      "a != b :  True\n"
     ]
    }
   ],
   "source": [
    "# à essayer de votre côté avec des chaines de caractères, des listes etc.\n",
    "a = 5\n",
    "b = 4\n",
    "\n",
    "print(\"a == b : \", (a == b))\n",
    "print(\"a >= b : \", (a >= b))\n",
    "print(\"a <= b : \", (a <= b))\n",
    "print(\"a != b : \", (a != b)) "
   ]
  },
  {
   "cell_type": "code",
   "execution_count": 18,
   "metadata": {},
   "outputs": [
    {
     "name": "stdout",
     "output_type": "stream",
     "text": [
      "a in b :  True\n",
      "a not in b :  False\n",
      "a in b and c in b :  True\n",
      "a not in b or c not in b :  True\n"
     ]
    }
   ],
   "source": [
    "# à essayer avec des chaines de caractères, des listes etc.\n",
    "a = 5\n",
    "b = [1,2,35,5,7]\n",
    "c = 2\n",
    "\n",
    "print(\"a in b : \", (a in b))\n",
    "print(\"a not in b : \", (a not in b))\n",
    "print(\"a in b and c in b : \", (a in b and c in b))\n",
    "print(\"a not in b or c not in b : \", ((a not in b) or (c in b)))"
   ]
  },
  {
   "cell_type": "markdown",
   "metadata": {},
   "source": [
    "### If (condition) :\n",
    "\n",
    "Exécute l'instruction qui vient à la suite si la condition est vraie\n",
    "\n",
    "syntaxe : **if (booléen (= True ou False)):**\n",
    "\n",
    " ⚠️ ATTENTION AUX INDENTATIONS SURTOUT A L'ECRIT !"
   ]
  },
  {
   "cell_type": "code",
   "execution_count": 19,
   "metadata": {},
   "outputs": [
    {
     "name": "stdout",
     "output_type": "stream",
     "text": [
      "a est égale à b\n"
     ]
    }
   ],
   "source": [
    "a = 3\n",
    "b = 3\n",
    "\n",
    "if a == b:\n",
    "    print(\"a est égale à b\")\n",
    "\n",
    "if a != b:\n",
    "    print(print(\"a n'est pas égale à b\"))"
   ]
  },
  {
   "cell_type": "markdown",
   "metadata": {},
   "source": [
    "On peut enchainer les if\n",
    "\n",
    "⚠️ A EVITER DANS LA MESURE DU POSSIBLE !"
   ]
  },
  {
   "cell_type": "code",
   "execution_count": 20,
   "metadata": {},
   "outputs": [
    {
     "name": "stdout",
     "output_type": "stream",
     "text": [
      "yes\n"
     ]
    }
   ],
   "source": [
    "a = 3\n",
    "\n",
    "if a != 3:\n",
    "    print(a)\n",
    "    \n",
    "if a == 3:\n",
    "    print(\"yes\")"
   ]
  },
  {
   "cell_type": "markdown",
   "metadata": {},
   "source": [
    "Meilleure syntaxe si **beaucoup de if** "
   ]
  },
  {
   "cell_type": "code",
   "execution_count": null,
   "metadata": {},
   "outputs": [],
   "source": [
    "fruit = \"pomme\"\n",
    "\n",
    "match fruit:\n",
    "    case \"pomme\":\n",
    "        print(\"C'est une pomme.\")\n",
    "    case \"banane\":\n",
    "        print(\"C'est une banane.\")\n",
    "    case \"orange\":\n",
    "        print(\"C'est une orange.\")\n",
    "    case _:\n",
    "        print(\"Fruit inconnu.\") # action par défaut"
   ]
  },
  {
   "cell_type": "markdown",
   "metadata": {},
   "source": [
    "### If (condition): ... else: ...\n",
    "\n",
    "Si la condition du if est **False** alors on exécute la commande qui vient dans le else"
   ]
  },
  {
   "cell_type": "code",
   "execution_count": 21,
   "metadata": {},
   "outputs": [
    {
     "name": "stdout",
     "output_type": "stream",
     "text": [
      "3\n"
     ]
    }
   ],
   "source": [
    "a = 3\n",
    "\n",
    "if a == 2:\n",
    "    print(2)\n",
    "else:\n",
    "    print(a)"
   ]
  },
  {
   "cell_type": "markdown",
   "metadata": {},
   "source": [
    "### If (condition): ... elif (condition): ... else:\n",
    "\n",
    "On a l'occasion de mettre plusieurs conditions grâce au elif"
   ]
  },
  {
   "cell_type": "code",
   "execution_count": 22,
   "metadata": {},
   "outputs": [
    {
     "name": "stdout",
     "output_type": "stream",
     "text": [
      "c = 1\n"
     ]
    }
   ],
   "source": [
    "c = 1\n",
    "\n",
    "if c < 1 :\n",
    "    print(\"c < 1\")\n",
    "elif c == 1 :\n",
    "    print(\"c = 1\")\n",
    "else:\n",
    "    print(\"c > 1\")"
   ]
  },
  {
   "cell_type": "markdown",
   "metadata": {},
   "source": [
    "### Boucle for"
   ]
  },
  {
   "cell_type": "markdown",
   "metadata": {},
   "source": [
    "syntaxe : for variable in iterable: \n",
    "    \n",
    "iterable peut être une liste, tableau numpy, chaine de caractères etc.\n",
    "\n",
    "on connait les valeurs que décrit la variable de boucle\n",
    "\n",
    " ⚠️ ATTENTION AUX INDENTATIONS SURTOUT A L'ECRIT !"
   ]
  },
  {
   "cell_type": "code",
   "execution_count": null,
   "metadata": {},
   "outputs": [
    {
     "name": "stdout",
     "output_type": "stream",
     "text": [
      "P\n",
      "r\n",
      "é\n",
      "p\n",
      "a\n",
      "+\n"
     ]
    }
   ],
   "source": [
    "b = \"Prépa+\"\n",
    "\n",
    "for a in b:\n",
    "    print(a)\n",
    "    #print(a, end = \"\") # end = \"\" pour afficher tout sur la même ligne"
   ]
  },
  {
   "cell_type": "markdown",
   "metadata": {},
   "source": [
    "**Boucle for sur une liste de nombres**\n",
    "\n",
    "Classique mais pas idéal pour avoir une liste de nombre : \n",
    "- for i in range(début, fin (exclu), pas):"
   ]
  },
  {
   "cell_type": "code",
   "execution_count": 24,
   "metadata": {},
   "outputs": [
    {
     "name": "stdout",
     "output_type": "stream",
     "text": [
      "0\n",
      "2\n",
      "4\n",
      "6\n",
      "8\n",
      "liste_sans_zero : [2, 4, 6, 8]\n"
     ]
    }
   ],
   "source": [
    "liste_sans_zero = []\n",
    "\n",
    "for i in range(0, 10, 2): # i va prendre successivement les valeurs 0, 2, 4, 6, 8\n",
    "    print(i)\n",
    "    if i != 0:\n",
    "        liste_sans_zero.append(i)\n",
    "        \n",
    "print(\"liste_sans_zero :\", liste_sans_zero)"
   ]
  },
  {
   "cell_type": "markdown",
   "metadata": {},
   "source": [
    "Technique qui montre qu'on maitrise mieux : **liste par compréhension**"
   ]
  },
  {
   "cell_type": "code",
   "execution_count": 25,
   "metadata": {},
   "outputs": [
    {
     "name": "stdout",
     "output_type": "stream",
     "text": [
      "[2, 4, 6, 8]\n"
     ]
    }
   ],
   "source": [
    "liste_sans_zero_mieux = [i for i in range(0, 10, 2) if i != 0]\n",
    "\n",
    "print(liste_sans_zero_mieux)"
   ]
  },
  {
   "cell_type": "markdown",
   "metadata": {},
   "source": [
    "Un petit exercice:\n",
    "\n",
    "On veut le résultat du reste de la division par 2\n",
    "pour tous les nombres compris entre 0 et 10 (exclu)\n",
    "mais compris dans la liste suivante : [2,4,8,9,15,23,69]\n",
    "\n"
   ]
  },
  {
   "cell_type": "code",
   "execution_count": 26,
   "metadata": {},
   "outputs": [
    {
     "name": "stdout",
     "output_type": "stream",
     "text": [
      "[0, 0, 0, 1]\n"
     ]
    }
   ],
   "source": [
    "results = [i % 2 for i in range(0,10) if i in [2, 4, 8, 9, 15, 23, 69]]\n",
    "print(results)"
   ]
  },
  {
   "cell_type": "markdown",
   "metadata": {},
   "source": [
    "**Astuce level 1000**"
   ]
  },
  {
   "cell_type": "code",
   "execution_count": 27,
   "metadata": {},
   "outputs": [
    {
     "name": "stdout",
     "output_type": "stream",
     "text": [
      "[1, 2, 3, 4, 5, 6, 7, 8, 9]\n"
     ]
    }
   ],
   "source": [
    "liste_sans_zero_boss = [*range(1, 10)]\n",
    "\n",
    "print(liste_sans_zero_boss)"
   ]
  },
  {
   "cell_type": "markdown",
   "metadata": {},
   "source": [
    "Utilisation de la boucle for avec les **dictionnaires**"
   ]
  },
  {
   "cell_type": "code",
   "execution_count": 28,
   "metadata": {},
   "outputs": [
    {
     "name": "stdout",
     "output_type": "stream",
     "text": [
      "Meilleurs joueurs par club :\n",
      "PSG → Dembélé\n",
      "Fc Barcelone → Yamal\n",
      "Real Madrid → Mbappé\n",
      "\n",
      "Liste des clubs :\n",
      "PSG\n",
      "Fc Barcelone\n",
      "Real Madrid\n",
      "\n",
      "Liste des meilleurs joueurs :\n",
      "Dembélé\n",
      "Yamal\n",
      "Mbappé\n"
     ]
    }
   ],
   "source": [
    "dico = {\n",
    "    \"PSG\": \"Dembélé\",\n",
    "    \"Fc Barcelone\": \"Yamal\",\n",
    "    \"Real Madrid\": \"Mbappé\"\n",
    "}\n",
    "\n",
    "# Parcourir les paires (club et joueur)\n",
    "print(\"Meilleurs joueurs par club :\")\n",
    "for equipe, meilleur_joueur in dico.items():\n",
    "    print(f\"{equipe} → {meilleur_joueur}\")\n",
    "\n",
    "print(\"\\nListe des clubs :\")\n",
    "for equipe in dico.keys():\n",
    "    print(equipe)\n",
    "\n",
    "print(\"\\nListe des meilleurs joueurs :\")\n",
    "for joueur in dico.values():\n",
    "    print(joueur)"
   ]
  },
  {
   "cell_type": "markdown",
   "metadata": {},
   "source": [
    "Utilisation de la boucle for avec une **liste**"
   ]
  },
  {
   "cell_type": "code",
   "execution_count": 29,
   "metadata": {},
   "outputs": [
    {
     "name": "stdout",
     "output_type": "stream",
     "text": [
      "Polytechnique\n",
      "Centrale\n",
      "Mines\n"
     ]
    }
   ],
   "source": [
    "ecoles = [\"Polytechnique\", \"Centrale\", \"Mines\"]\n",
    "\n",
    "for ecole in ecoles:\n",
    "    print(ecole)"
   ]
  },
  {
   "cell_type": "markdown",
   "metadata": {},
   "source": [
    "**enumerate** nous permet de récupérer les indices des éléments de la liste"
   ]
  },
  {
   "cell_type": "code",
   "execution_count": 30,
   "metadata": {},
   "outputs": [
    {
     "name": "stdout",
     "output_type": "stream",
     "text": [
      "1 Polytechnique\n",
      "2 Centrale\n",
      "3 Mines\n"
     ]
    }
   ],
   "source": [
    "for classement, ecole in enumerate(ecoles):\n",
    "    print(classement + 1, ecole)"
   ]
  },
  {
   "cell_type": "markdown",
   "metadata": {},
   "source": [
    "### Boucle while (condition)"
   ]
  },
  {
   "cell_type": "markdown",
   "metadata": {},
   "source": [
    "Pour les cas, où l'on ne connait pas l’ensemble que décrit la variable de boucle"
   ]
  },
  {
   "cell_type": "code",
   "execution_count": 31,
   "metadata": {},
   "outputs": [
    {
     "name": "stdout",
     "output_type": "stream",
     "text": [
      "Premier multiple de 13 supérieur à 100 : 104\n"
     ]
    }
   ],
   "source": [
    "nombre = 101 \n",
    "\n",
    "while nombre % 13 != 0:\n",
    "    nombre += 1\n",
    "    \n",
    "print(\"Premier multiple de 13 supérieur à 100 :\", nombre)"
   ]
  },
  {
   "cell_type": "markdown",
   "metadata": {},
   "source": [
    "⚠️ Tant que la condition n'est pas respecté, le programme boucle à l'infini !"
   ]
  },
  {
   "cell_type": "code",
   "execution_count": 32,
   "metadata": {},
   "outputs": [],
   "source": [
    "# from math import sqrt\n",
    "\n",
    "# sum_sqrt_3 = []\n",
    "# count = 0\n",
    "# while count != 10:\n",
    "#     count += sqrt(3)\n",
    "#     sum_sqrt_3.append(count)\n",
    "\n",
    "# print(\"Liste des sommes successives de √3 :\", sum_sqrt_3)"
   ]
  },
  {
   "cell_type": "markdown",
   "metadata": {},
   "source": [
    "### Fonctions"
   ]
  },
  {
   "cell_type": "markdown",
   "metadata": {},
   "source": [
    "Lorsqu’une tâche doit être **réalisée plusieurs fois par un programme avec seulement des paramètres différents**, on utilise les **fonctions**.\n",
    "\n",
    "syntaxe : def NomFonction(arguments)\n",
    "\n",
    "Une fonction retourne une valeur avec return"
   ]
  },
  {
   "cell_type": "code",
   "execution_count": null,
   "metadata": {},
   "outputs": [],
   "source": [
    "def affichage(a,b):\n",
    "    return [a,b]\n",
    "\n",
    "resultat = affichage(3,4)\n",
    "\n",
    "print(resultat)"
   ]
  },
  {
   "cell_type": "markdown",
   "metadata": {},
   "source": [
    "On perd l'intérêt de la fonction si on utilise print"
   ]
  },
  {
   "cell_type": "code",
   "execution_count": 1,
   "metadata": {},
   "outputs": [
    {
     "name": "stdout",
     "output_type": "stream",
     "text": [
      "[3, 4]\n",
      "None\n"
     ]
    }
   ],
   "source": [
    "def affichage(a,b):\n",
    "    print([a,b])\n",
    "    \n",
    "resultat_print = affichage(3,4)\n",
    "\n",
    "# resultat_print n'a pas enregistré le resultat de affichage(3,4)\n",
    "print(resultat_print)"
   ]
  }
 ],
 "metadata": {
  "kernelspec": {
   "display_name": "Python 3",
   "language": "python",
   "name": "python3"
  },
  "language_info": {
   "codemirror_mode": {
    "name": "ipython",
    "version": 3
   },
   "file_extension": ".py",
   "mimetype": "text/x-python",
   "name": "python",
   "nbconvert_exporter": "python",
   "pygments_lexer": "ipython3",
   "version": "3.12.8"
  }
 },
 "nbformat": 4,
 "nbformat_minor": 4
}
