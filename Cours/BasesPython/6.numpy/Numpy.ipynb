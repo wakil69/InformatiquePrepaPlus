{
 "cells": [
  {
   "cell_type": "markdown",
   "metadata": {
    "id": "orfQc5C7KP0p"
   },
   "source": [
    "# **Tableau Numpy**"
   ]
  },
  {
   "cell_type": "code",
   "execution_count": 67,
   "metadata": {},
   "outputs": [],
   "source": [
    "# pip install numpy\n",
    "# pip install pillow"
   ]
  },
  {
   "cell_type": "code",
   "execution_count": 68,
   "metadata": {
    "id": "hVj3qQczKP0r"
   },
   "outputs": [],
   "source": [
    "import numpy as np\n",
    "#Lien vers la doc numpy : https://numpy.org/doc/stable/contents.html\n",
    "from PIL import Image\n",
    "from math import *"
   ]
  },
  {
   "cell_type": "markdown",
   "metadata": {
    "id": "B_Uh3YYcKP0t"
   },
   "source": [
    "### Créations de matrices"
   ]
  },
  {
   "cell_type": "markdown",
   "metadata": {},
   "source": [
    "Créer un tableau numpy 2-D: np.array([[...], [...], ...])"
   ]
  },
  {
   "cell_type": "code",
   "execution_count": 69,
   "metadata": {
    "id": "YQoolpKaKP0u",
    "outputId": "6d85af0e-670d-4eba-b782-7370685ebfcc"
   },
   "outputs": [
    {
     "name": "stdout",
     "output_type": "stream",
     "text": [
      "<class 'numpy.ndarray'>\n",
      "[[1 0]\n",
      " [0 1]]\n"
     ]
    }
   ],
   "source": [
    "identite_2 = np.array([[1,0],\n",
    "                       [0,1]])\n",
    "\n",
    "print(type(identite_2))\n",
    "print(identite_2)"
   ]
  },
  {
   "cell_type": "markdown",
   "metadata": {},
   "source": [
    "**Tableau 3-D**"
   ]
  },
  {
   "cell_type": "code",
   "execution_count": 70,
   "metadata": {
    "id": "iDcEOZ-EKP0w",
    "outputId": "c709ea28-a6da-48dc-e705-08f79a647184"
   },
   "outputs": [
    {
     "name": "stdout",
     "output_type": "stream",
     "text": [
      "Tableau NumPy 3D :\n",
      "[[[2 4]\n",
      "  [5 6]]\n",
      "\n",
      " [[1 3]\n",
      "  [4 5]]]\n",
      "Nombre de dimensions : 3\n",
      "Forme du tableau (shape) : (2, 2, 2)\n"
     ]
    }
   ],
   "source": [
    "trois_dim = np.array([[[2, 4], [5, 6]], [[1, 3], [4, 5]]])\n",
    "\n",
    "print(\"Tableau NumPy 3D :\")\n",
    "print(trois_dim)\n",
    "print(\"Nombre de dimensions :\", trois_dim.ndim)\n",
    "print(\"Forme du tableau (shape) :\", trois_dim.shape) # 2 blocs de 2 lignes et 2 colonnes (nb_blocs, nb_lignes, nb_colonnes)"
   ]
  },
  {
   "cell_type": "code",
   "execution_count": 71,
   "metadata": {},
   "outputs": [
    {
     "data": {
      "image/png": "[encoded data removed]",
      "text/plain": [
       "<PIL.PngImagePlugin.PngImageFile image mode=RGBA size=314x288>"
      ]
     },
     "execution_count": 71,
     "metadata": {},
     "output_type": "execute_result"
    }
   ],
   "source": [
    "Image.open(\"./3D.png\")"
   ]
  },
  {
   "cell_type": "markdown",
   "metadata": {},
   "source": [
    "**Créer la matrice identité** \n",
    "\n",
    "- np.eye(dimension)"
   ]
  },
  {
   "cell_type": "code",
   "execution_count": 72,
   "metadata": {
    "id": "7aJ-voBXKP0z",
    "outputId": "33fd710d-c2c3-4aed-d750-cf32dd68795f"
   },
   "outputs": [
    {
     "name": "stdout",
     "output_type": "stream",
     "text": [
      "<class 'numpy.ndarray'>\n",
      "[[1 0]\n",
      " [0 1]]\n"
     ]
    }
   ],
   "source": [
    "identité_2_np = np.eye(2 , dtype = int)\n",
    "\n",
    "print(type(identité_2_np))\n",
    "\n",
    "print(identité_2_np)"
   ]
  },
  {
   "cell_type": "markdown",
   "metadata": {},
   "source": [
    "**Créer la matrice nulle**\n",
    " \n",
    "- np.zeros((nb lignes, nb colonnes))"
   ]
  },
  {
   "cell_type": "code",
   "execution_count": 73,
   "metadata": {
    "id": "USmlB8gFKP01",
    "outputId": "d1f07211-88d8-4c6c-944d-9f4cfbba6fe5"
   },
   "outputs": [
    {
     "name": "stdout",
     "output_type": "stream",
     "text": [
      "<class 'numpy.ndarray'>\n",
      "[[0 0]\n",
      " [0 0]]\n"
     ]
    }
   ],
   "source": [
    "zeros_2_np = np.zeros((2,2), dtype = int)\n",
    "\n",
    "print(type(zeros_2_np))\n",
    "print(zeros_2_np)"
   ]
  },
  {
   "cell_type": "markdown",
   "metadata": {},
   "source": [
    "**Créer la matrice avec que des 1** \n",
    "\n",
    "- np.ones((nb lignes, nb colonnes))"
   ]
  },
  {
   "cell_type": "code",
   "execution_count": 74,
   "metadata": {
    "id": "o8CT5I-FKP02",
    "outputId": "c062acbf-0254-4f62-a3d6-debfd101fc5e"
   },
   "outputs": [
    {
     "name": "stdout",
     "output_type": "stream",
     "text": [
      "<class 'numpy.ndarray'>\n",
      "[[1. 1.]\n",
      " [1. 1.]]\n"
     ]
    }
   ],
   "source": [
    "ones_2_np = np.ones((2,2))\n",
    "\n",
    "print(type(ones_2_np))\n",
    "print(ones_2_np)"
   ]
  },
  {
   "cell_type": "markdown",
   "metadata": {},
   "source": [
    "**Créer des tableaux 1-D**\n",
    "\n",
    "-  1ére solution : np.linspace(start, end, nb_elements), le end est pris en compte ici\n",
    "-  2éme solution : np.arange(start, end, pas), le end est exclu ici\n"
   ]
  },
  {
   "cell_type": "code",
   "execution_count": 75,
   "metadata": {
    "id": "4n8_UZqXKP03",
    "outputId": "e1f06567-5a0b-4798-ef45-7e7f914a8dab"
   },
   "outputs": [
    {
     "name": "stdout",
     "output_type": "stream",
     "text": [
      "A (np.linspace de 0 à 9 avec 10 valeurs) : [0. 1. 2. 3. 4. 5. 6. 7. 8. 9.]\n",
      "→ type de A : <class 'numpy.ndarray'>\n",
      "\n",
      "B (np.arange de 0 à 10 avec pas de 1)   : [0 1 2 3 4 5 6 7 8 9]\n",
      "→ type de B : <class 'numpy.ndarray'>\n"
     ]
    }
   ],
   "source": [
    "# On veut créer une liste avec 10 éléments\n",
    "A = np.linspace(0, 9, 10)           \n",
    "B = np.arange(0, 10, 1)       \n",
    "\n",
    "print(\"A (np.linspace de 0 à 9 avec 10 valeurs) :\", A)\n",
    "print(\"→ type de A :\", type(A))\n",
    "\n",
    "print(\"\\nB (np.arange de 0 à 10 avec pas de 1)   :\", B)\n",
    "print(\"→ type de B :\", type(B))"
   ]
  },
  {
   "cell_type": "markdown",
   "metadata": {},
   "source": [
    "**Créer des tableaux 2-D à partir de linspace ou arange**\n",
    "\n",
    "On utilise la fonction reshape\n"
   ]
  },
  {
   "cell_type": "code",
   "execution_count": 76,
   "metadata": {
    "id": "IjO2F5PfKP03",
    "outputId": "f7496e51-45b0-4617-e7b4-31dd2b0326a4"
   },
   "outputs": [
    {
     "name": "stdout",
     "output_type": "stream",
     "text": [
      "📏 Taille initiale de A : (10,)\n",
      "📏 Taille initiale de B : (10,)\n",
      "A transformé en matrice 5x2 → shape : (5, 2)\n",
      "B transformé en matrice 2x5 → shape : (2, 5)\n"
     ]
    }
   ],
   "source": [
    "A = np.linspace(0, 9, 10)           \n",
    "B = np.arange(0, 10, 1)       \n",
    "\n",
    "print(\"📏 Taille initiale de A :\", A.shape)\n",
    "print(\"📏 Taille initiale de B :\", B.shape)\n",
    "\n",
    "\n",
    "new_A = A.reshape((5, 2))\n",
    "new_B = B.reshape((2, 5))\n",
    "\n",
    "print(\"A transformé en matrice 5x2 → shape :\", new_A.shape)\n",
    "print(\"B transformé en matrice 2x5 → shape :\", new_B.shape)\n"
   ]
  },
  {
   "cell_type": "markdown",
   "metadata": {},
   "source": [
    "**Décrémenter la dimension**"
   ]
  },
  {
   "cell_type": "code",
   "execution_count": 77,
   "metadata": {
    "id": "NnZp7IX5KP04",
    "outputId": "f1636222-3151-457d-f95d-d1bb30534b22"
   },
   "outputs": [
    {
     "name": "stdout",
     "output_type": "stream",
     "text": [
      "(10,)\n"
     ]
    }
   ],
   "source": [
    "#on passe de 2-D à 1-D ici\n",
    "new_A_flat = new_A.flatten() \n",
    "\n",
    "print(new_A_flat.shape)"
   ]
  },
  {
   "cell_type": "markdown",
   "metadata": {
    "id": "odcGbp5VKP05"
   },
   "source": [
    "### Quelques opérations élémentaires"
   ]
  },
  {
   "cell_type": "code",
   "execution_count": 78,
   "metadata": {
    "id": "BEhH-HsCKP05",
    "outputId": "a1ae1dbc-4616-4ba2-9272-fa09247d6505"
   },
   "outputs": [
    {
     "name": "stdout",
     "output_type": "stream",
     "text": [
      "Matrice A :\n",
      " [[1 2]\n",
      " [3 4]]\n",
      "Matrice B (identité) :\n",
      " [[1. 0.]\n",
      " [0. 1.]]\n",
      "\n",
      "➕ Somme A + B :\n",
      " [[2. 2.]\n",
      " [3. 5.]]\n",
      "➖ Différence A - B :\n",
      " [[0. 2.]\n",
      " [3. 3.]]\n",
      "\n",
      "✖️ Multiplication élément par élément (A * B) :\n",
      " [[1. 0.]\n",
      " [0. 4.]]\n",
      "✖️ Multiplication avec np.multiply(A, B) :\n",
      " [[1. 0.]\n",
      " [0. 4.]]\n",
      "Égalité des deux multiplications : True\n",
      "\n",
      "🧮 Produit matriciel (np.dot) :\n",
      " [[1. 2.]\n",
      " [3. 4.]]\n"
     ]
    }
   ],
   "source": [
    "A = np.array([[1, 2], [3, 4]])\n",
    "B = np.eye(2) \n",
    "\n",
    "# Somme des matrices\n",
    "somme = A + B\n",
    "\n",
    "# Différence des matrices\n",
    "diff = A - B\n",
    "\n",
    "# Multiplication élément par élément\n",
    "ele_par_ele = A * B\n",
    "ele_par_ele_2 = np.multiply(A, B)\n",
    "\n",
    "# Produit matriciel (matrice × matrice)\n",
    "produit = np.dot(A, B)\n",
    "\n",
    "print(\"Matrice A :\\n\", A)\n",
    "print(\"Matrice B (identité) :\\n\", B)\n",
    "\n",
    "print(\"\\n➕ Somme A + B :\\n\", somme)\n",
    "print(\"➖ Différence A - B :\\n\", diff)\n",
    "\n",
    "print(\"\\n✖️ Multiplication élément par élément (A * B) :\\n\", ele_par_ele)\n",
    "print(\"✖️ Multiplication avec np.multiply(A, B) :\\n\", ele_par_ele_2)\n",
    "print(\"Égalité des deux multiplications :\", np.array_equal(ele_par_ele, ele_par_ele_2))\n",
    "\n",
    "print(\"\\n🧮 Produit matriciel (np.dot) :\\n\", produit)"
   ]
  },
  {
   "cell_type": "markdown",
   "metadata": {},
   "source": [
    "Broadcasting"
   ]
  },
  {
   "cell_type": "code",
   "execution_count": 79,
   "metadata": {},
   "outputs": [
    {
     "name": "stdout",
     "output_type": "stream",
     "text": [
      "A + b (b est broadcasté ligne par ligne) :\n",
      " [[11 22 33]\n",
      " [14 25 36]]\n",
      "A + b (b est broadcasté colonne par colonne) :\n",
      " [[11 12 13]\n",
      " [24 25 26]]\n"
     ]
    }
   ],
   "source": [
    "# Exemple 1 : Addition d’un vecteur ligne à une matrice\n",
    "A = np.array([[1, 2, 3],\n",
    "              [4, 5, 6]])\n",
    "b = np.array([10, 20, 30])\n",
    "C = A + b\n",
    "print(\"A + b (b est broadcasté ligne par ligne) :\\n\", C)\n",
    "\n",
    "# Exemple 1 : Addition d’un vecteur colonne à une matrice\n",
    "A = np.array([[1, 2, 3],\n",
    "              [4, 5, 6]])\n",
    "b = np.array([[10], [20]])\n",
    "C = A + b\n",
    "print(\"A + b (b est broadcasté colonne par colonne) :\\n\", C)"
   ]
  },
  {
   "cell_type": "code",
   "execution_count": 80,
   "metadata": {},
   "outputs": [
    {
     "name": "stdout",
     "output_type": "stream",
     "text": [
      "✅ Matrice A :\n",
      " [[1 2 3]\n",
      " [4 5 6]]\n",
      "\n",
      "✅ Vecteur colonne v :\n",
      " [[ 2]\n",
      " [10]]\n",
      "\n",
      "📌 A * v (broadcasting ligne par ligne) :\n",
      " [[ 2  4  6]\n",
      " [40 50 60]]\n",
      "\n",
      "📌 np.dot(A.T, v) (produit matriciel réel) :\n",
      " [[42]\n",
      " [54]\n",
      " [66]]\n"
     ]
    }
   ],
   "source": [
    "# Exemple 2 : Multiplication d’un vecteur colonne avec une matrice\n",
    "A = np.array([[1, 2, 3],\n",
    "              [4, 5, 6]])\n",
    "\n",
    "v = np.array([[2],\n",
    "              [10]])\n",
    "\n",
    "# Multiplication avec broadcasting (élément par élément, ligne par ligne)\n",
    "C = A * v\n",
    "\n",
    "# Multiplication matricielle : dot product\n",
    "# Pour que la multiplication soit valide, il faut transposer A ou v\n",
    "D = np.dot(A.T, v)  # (3x2) . (2x1) → (3x1)\n",
    "\n",
    "print(\"✅ Matrice A :\\n\", A)\n",
    "print(\"\\n✅ Vecteur colonne v :\\n\", v)\n",
    "\n",
    "print(\"\\n📌 A * v (broadcasting ligne par ligne) :\\n\", C)\n",
    "\n",
    "print(\"\\n📌 np.dot(A.T, v) (produit matriciel réel) :\\n\", D)"
   ]
  },
  {
   "cell_type": "code",
   "execution_count": 81,
   "metadata": {},
   "outputs": [
    {
     "name": "stdout",
     "output_type": "stream",
     "text": [
      "\n",
      "X - 5 (scalaire appliqué à chaque élément) :\n",
      " [ 5 15 25 35]\n"
     ]
    }
   ],
   "source": [
    "# Exemple 3 : Soustraction d’un scalaire à un tableau\n",
    "X = np.array([10, 20, 30, 40])\n",
    "X_minus_5 = X - 5\n",
    "print(\"\\nX - 5 (scalaire appliqué à chaque élément) :\\n\", X_minus_5)"
   ]
  },
  {
   "cell_type": "code",
   "execution_count": 82,
   "metadata": {},
   "outputs": [
    {
     "name": "stdout",
     "output_type": "stream",
     "text": [
      "\n",
      "M * π (chaque élément est multiplié par π) :\n",
      " [[ 6.28318531 12.56637061]\n",
      " [18.84955592 25.13274123]]\n"
     ]
    }
   ],
   "source": [
    "# Exemple 4 : Multiplication d’une matrice avec un scalaire (π)\n",
    "M = np.array([[2, 4],\n",
    "              [6, 8]])\n",
    "M_times_pi = M * np.pi\n",
    "print(\"\\nM * π (chaque élément est multiplié par π) :\\n\", M_times_pi)"
   ]
  },
  {
   "cell_type": "markdown",
   "metadata": {},
   "source": [
    "**Informations extraites d'un tableau numpy**"
   ]
  },
  {
   "cell_type": "code",
   "execution_count": 83,
   "metadata": {
    "id": "IWnAKCxoKP06",
    "outputId": "decc9cae-78ee-4bd1-babd-81c99791d816"
   },
   "outputs": [
    {
     "name": "stdout",
     "output_type": "stream",
     "text": [
      "Taille de la matrice A : (4, 19)\n",
      "Nombre de lignes (shape[0]) : 4\n",
      "Nombre de lignes (len)      : 4\n",
      "Nombre de colonnes (shape[1]) : 19\n",
      "Taille de la transposée de A : (19, 4)\n"
     ]
    }
   ],
   "source": [
    "# Création d'une matrice vide de taille (4 lignes, 19 colonnes)\n",
    "A = np.empty((4, 19))\n",
    "\n",
    "taille_A = A.shape\n",
    "nb_lignes = A.shape[0]\n",
    "nb_lignes_len = len(A)  # identique à A.shape[0]\n",
    "nb_cols = A.shape[1]\n",
    "A_transpose = A.T  # équivalent à np.transpose(A)\n",
    "\n",
    "print(\"Taille de la matrice A :\", taille_A)\n",
    "print(\"Nombre de lignes (shape[0]) :\", nb_lignes)\n",
    "print(\"Nombre de lignes (len)      :\", nb_lignes_len)\n",
    "print(\"Nombre de colonnes (shape[1]) :\", nb_cols)\n",
    "print(\"Taille de la transposée de A :\", A_transpose.shape)"
   ]
  },
  {
   "cell_type": "markdown",
   "metadata": {},
   "source": [
    "On peut récupérer la dimension de notre tableau"
   ]
  },
  {
   "cell_type": "code",
   "execution_count": 84,
   "metadata": {
    "id": "kOgIWgbWKP07",
    "outputId": "698e2777-d1a2-4084-e536-6a34a01de469"
   },
   "outputs": [
    {
     "name": "stdout",
     "output_type": "stream",
     "text": [
      "2\n"
     ]
    }
   ],
   "source": [
    "A = np.empty((4, 19))\n",
    "\n",
    "nb_dims = A.ndim\n",
    "\n",
    "print(nb_dims)"
   ]
  },
  {
   "cell_type": "markdown",
   "metadata": {
    "id": "7ozje-OrKP07"
   },
   "source": [
    "**Extraire des valeurs** d'un tableau numpy\n",
    "\n",
    "syntaxe : array[index_ligne,index_colonne]\n",
    "\n",
    "Indiçage des colonnes et des lignes commence toujours à 0 !!"
   ]
  },
  {
   "cell_type": "code",
   "execution_count": 85,
   "metadata": {
    "id": "SzaV5NFgKP08",
    "outputId": "db96d7cc-fa06-41c7-a1ed-b2d5e566eee2"
   },
   "outputs": [
    {
     "name": "stdout",
     "output_type": "stream",
     "text": [
      "Matrice A générée :\n",
      " [[ 1.62434536 -0.61175641 -0.52817175]\n",
      " [-1.07296862  0.86540763 -2.3015387 ]\n",
      " [ 1.74481176 -0.7612069   0.3190391 ]]\n",
      "\n",
      "Valeur à la ligne 1, colonne 2 (A[0,1]) : -0.6117564136500754\n",
      "Valeur à la ligne 3, colonne 3 (A[2,2]) : 0.31903909605709857\n"
     ]
    }
   ],
   "source": [
    "# Fixer le seed pour des résultats reproductibles\n",
    "np.random.seed(1)\n",
    "\n",
    "# Générer une matrice 3x3 avec des valeurs aléatoires (loi normale standard)\n",
    "A = np.random.randn(3, 3)\n",
    "\n",
    "print(\"Matrice A générée :\\n\", A)\n",
    "\n",
    "pos_1_2 = A[0, 1]  # ligne 1, colonne 2\n",
    "pos_3_3 = A[2, 2]  # ligne 3, colonne 3\n",
    "\n",
    "print(\"\\nValeur à la ligne 1, colonne 2 (A[0,1]) :\", pos_1_2)\n",
    "print(\"Valeur à la ligne 3, colonne 3 (A[2,2]) :\", pos_3_3)"
   ]
  },
  {
   "cell_type": "markdown",
   "metadata": {},
   "source": [
    "**Extraire des colonnes ou des lignes** d'un tableau numpy\n",
    "\n",
    "- récupération des lignes de l'indice start à end : A[start:end, :]\n",
    "- récupération des colonnes de l'indice start à end : A[:, start:end]\n",
    "- on peut récupérer des morceaux aussi : A[start_ligne:end_ligne, start_column:end_column]\n",
    "\n",
    "Evidemment, le end est toujours exclu.\n"
   ]
  },
  {
   "cell_type": "code",
   "execution_count": 86,
   "metadata": {
    "id": "NLzNvSSfKP08",
    "outputId": "d4c331b6-4e8e-4de3-ed9b-cd95ab536b65"
   },
   "outputs": [
    {
     "name": "stdout",
     "output_type": "stream",
     "text": [
      "Matrice A :\n",
      " [[ 1.62434536 -0.61175641 -0.52817175]\n",
      " [-1.07296862  0.86540763 -2.3015387 ]\n",
      " [ 1.74481176 -0.7612069   0.3190391 ]]\n",
      "\n",
      "🔹 Première ligne de A (A[0, :]) :\n",
      " [ 1.62434536 -0.61175641 -0.52817175]\n",
      "\n",
      "🔹 Colonnes 2 et 3 de A (A[:, 1:3]) :\n",
      " [[-0.61175641 -0.52817175]\n",
      " [ 0.86540763 -2.3015387 ]\n",
      " [-0.7612069   0.3190391 ]]\n",
      "\n",
      "🔹 Partie supérieure droite de A (A[0:2, 1:3]) :\n",
      " [[-0.61175641 -0.52817175]\n",
      " [ 0.86540763 -2.3015387 ]]\n"
     ]
    }
   ],
   "source": [
    "ligne_1_A = A[0, :]             # Première ligne (index 0)\n",
    "colonnes_2et3_A = A[:, 1:3]     # Colonnes 2 et 3 (index 1 et 2)\n",
    "partie_haut_droite = A[0:2, 1:3]  # Lignes 1-2 et colonnes 2-3\n",
    "\n",
    "print(\"Matrice A :\\n\", A)\n",
    "\n",
    "print(\"\\n🔹 Première ligne de A (A[0, :]) :\\n\", ligne_1_A)\n",
    "print(\"\\n🔹 Colonnes 2 et 3 de A (A[:, 1:3]) :\\n\", colonnes_2et3_A)\n",
    "print(\"\\n🔹 Partie supérieure droite de A (A[0:2, 1:3]) :\\n\", partie_haut_droite)"
   ]
  },
  {
   "cell_type": "markdown",
   "metadata": {
    "id": "ZjiH2RbGKP09"
   },
   "source": [
    "**Maximum et minimum** d'un tableau numpy\n",
    "\n",
    "- np.max(tableau)\n",
    "\n",
    "- np.min(tableau)"
   ]
  },
  {
   "cell_type": "code",
   "execution_count": 87,
   "metadata": {
    "id": "8Rif-f6JKP09",
    "outputId": "0882b89b-c47e-445a-9266-a1d4e96ccc69"
   },
   "outputs": [
    {
     "name": "stdout",
     "output_type": "stream",
     "text": [
      "6\n"
     ]
    }
   ],
   "source": [
    "A = np.array([[1,2,3],[4,5,6]])\n",
    "\n",
    "print(np.max(A))"
   ]
  },
  {
   "cell_type": "code",
   "execution_count": 88,
   "metadata": {
    "id": "j1brfDY0KP0-",
    "outputId": "0a96a9f0-92b5-424c-a554-4ea30793d779"
   },
   "outputs": [
    {
     "name": "stdout",
     "output_type": "stream",
     "text": [
      "0.0\n"
     ]
    }
   ],
   "source": [
    "minimum = np.min(B)\n",
    "\n",
    "print(minimum)"
   ]
  },
  {
   "cell_type": "markdown",
   "metadata": {
    "id": "coOUps0JKP0-"
   },
   "source": [
    "**Somme** d'un tableau numpy\n",
    "\n",
    "syntaxe : np.sum(tableau, axis = )\n",
    "\n",
    "si le tableau est 2-D alors axis = 0 (colonne) ou 1 (ligne)"
   ]
  },
  {
   "cell_type": "code",
   "execution_count": 89,
   "metadata": {
    "id": "6hgSu2R1KP0-",
    "outputId": "4d30d425-bde8-4150-bf21-404f2298da8b"
   },
   "outputs": [
    {
     "name": "stdout",
     "output_type": "stream",
     "text": [
      "Matrice A :\n",
      " [[1 2 3]\n",
      " [4 5 6]]\n",
      "Somme de tous les éléments : 21\n",
      "Somme par ligne (axis=1)    : [5 7 9]\n",
      "Somme par colonne (axis=0)  : [ 6 15]\n"
     ]
    }
   ],
   "source": [
    "A = np.array([[1, 2, 3], [4, 5, 6]])\n",
    "\n",
    "# Sommes\n",
    "somme_totale = np.sum(A)  # Somme de tous les éléments\n",
    "somme_direction_lignes = np.sum(A, axis = 0)  # dans la direction des lignes\n",
    "somme_direction_colonnes = np.sum(A, axis = 1)  # dans la direction des colonnes\n",
    "\n",
    "print(\"Matrice A :\\n\", A)\n",
    "print(\"Somme de tous les éléments :\", somme_totale)\n",
    "print(\"Somme par ligne (axis=1)    :\", somme_direction_lignes)\n",
    "print(\"Somme par colonne (axis=0)  :\", somme_direction_colonnes)"
   ]
  },
  {
   "cell_type": "markdown",
   "metadata": {
    "id": "EKDEFKzTKP0_"
   },
   "source": [
    "**Moyenne** d'un tableau numpy\n",
    "\n",
    "syntaxe : np.mean(tableau, axis)"
   ]
  },
  {
   "cell_type": "code",
   "execution_count": 90,
   "metadata": {
    "id": "m0gjsBAJKP0_",
    "outputId": "ad37336e-28d4-4280-e3ca-a54c78683684"
   },
   "outputs": [
    {
     "name": "stdout",
     "output_type": "stream",
     "text": [
      "[[1 2 3]\n",
      " [4 5 6]]\n",
      "moyenne en prenant tous les éléments de A :  3.5\n",
      "moyenne chaque colonne:  [2.5 3.5 4.5]\n",
      "moyenne chaque ligne:  [2. 5.]\n"
     ]
    }
   ],
   "source": [
    "A = np.array([[1,2,3],[4,5,6]])\n",
    "moy = np.mean(A)\n",
    "moyenne_direction_lignes = np.mean(A, axis = 0) # dans la direction des lignes\n",
    "moyenne_direction_colonnes = np.mean(A, axis = 1) # dans la direction des colonnes\n",
    "\n",
    "print(A)\n",
    "print(\"moyenne en prenant tous les éléments de A : \", moy)\n",
    "print(\"moyenne chaque colonne: \", moyenne_direction_lignes)\n",
    "print(\"moyenne chaque ligne: \", moyenne_direction_colonnes)"
   ]
  },
  {
   "cell_type": "markdown",
   "metadata": {
    "id": "S34t9VISKP1A",
    "outputId": "4b928098-d088-436f-abec-42f107cc712b"
   },
   "source": [
    "**Petite parenthèse sur les float et int**\n",
    "\n",
    "Plus le nombre de bits augmente, plus la précision aussi\n",
    "\n",
    "Lien : https://numpy.org/doc/stable/user/basics.types.html"
   ]
  },
  {
   "cell_type": "code",
   "execution_count": 91,
   "metadata": {},
   "outputs": [
    {
     "name": "stdout",
     "output_type": "stream",
     "text": [
      "📋 Valeurs de départ : [3.141592653589793, 3.14159, 3.14, 3.1415926535]\n",
      "\n",
      "🔹 En float32 :\n",
      "[3.1415927 3.14159   3.14      3.1415927]\n",
      "Type des éléments : float32\n",
      "\n",
      "🔹 En float64 :\n",
      "[3.14159265 3.14159    3.14       3.14159265]\n",
      "Type des éléments : float64\n"
     ]
    }
   ],
   "source": [
    "pi_values = [pi, 3.14159, 3.14, 3.1415926535]\n",
    "\n",
    "# Conversion dans différents formats NumPy\n",
    "float32_vals = np.array(pi_values, dtype=np.float32)\n",
    "float64_vals = np.array(pi_values, dtype=np.float64)\n",
    "\n",
    "print(\"📋 Valeurs de départ :\", pi_values)\n",
    "print(\"\\n🔹 En float32 :\")\n",
    "print(float32_vals)\n",
    "print(\"Type des éléments :\", float32_vals.dtype)\n",
    "\n",
    "print(\"\\n🔹 En float64 :\")\n",
    "print(float64_vals)\n",
    "print(\"Type des éléments :\", float64_vals.dtype)"
   ]
  },
  {
   "cell_type": "markdown",
   "metadata": {
    "id": "BSRjlnX6KP1A"
   },
   "source": [
    "**Itérer** avec un tableau numpy"
   ]
  },
  {
   "cell_type": "code",
   "execution_count": 92,
   "metadata": {
    "id": "tITlyWfcKP1B",
    "outputId": "6170b30e-f4a7-48df-d07c-6759a8caeeb6"
   },
   "outputs": [
    {
     "name": "stdout",
     "output_type": "stream",
     "text": [
      "Matrice A :\n",
      " [[1 2 3]\n",
      " [4 5 6]]\n",
      "\n",
      " Parcours ligne par ligne :\n",
      "Ligne 1 : [1 2 3]\n",
      "Ligne 2 : [4 5 6]\n",
      "\n",
      " Parcours colonne par colonne :\n",
      "Colonne 1 : [1 4]\n",
      "Colonne 2 : [2 5]\n",
      "Colonne 3 : [3 6]\n"
     ]
    }
   ],
   "source": [
    "A = np.array([[1, 2, 3],\n",
    "              [4, 5, 6]])\n",
    "\n",
    "print(\"Matrice A :\\n\", A)\n",
    "\n",
    "print(\"\\n Parcours ligne par ligne :\")\n",
    "for ligne_idx, ligne in enumerate(A, start=1):\n",
    "    print(f\"Ligne {ligne_idx} :\", ligne)\n",
    "    \n",
    "print(\"\\n Parcours colonne par colonne :\")\n",
    "for col_idx, colonne in enumerate(A.T, start=1):  # A.T = transposée de A\n",
    "    print(f\"Colonne {col_idx} :\", colonne)"
   ]
  },
  {
   "cell_type": "markdown",
   "metadata": {},
   "source": [
    "On peut récupérer en même temps l'indice et l'élément avec\n",
    "la commande np.ndenumerate(tableau)"
   ]
  },
  {
   "cell_type": "code",
   "execution_count": 93,
   "metadata": {
    "id": "vsWltoc6KP1C",
    "outputId": "7cda70ff-36c1-4edb-a6b9-7b2edecae034"
   },
   "outputs": [
    {
     "name": "stdout",
     "output_type": "stream",
     "text": [
      "📋 Parcours de chaque élément de A avec ses indices :\n",
      "\n",
      "Indice (0, 0) → Valeur : 1\n",
      "Indice (0, 1) → Valeur : 2\n",
      "Indice (0, 2) → Valeur : 3\n",
      "Indice (1, 0) → Valeur : 4\n",
      "Indice (1, 1) → Valeur : 5\n",
      "Indice (1, 2) → Valeur : 6\n",
      "\n",
      "🧾 Matrice A :\n",
      "[[1 2 3]\n",
      " [4 5 6]]\n"
     ]
    }
   ],
   "source": [
    "A = np.array([[1, 2, 3,],\n",
    "              [4, 5, 6]])\n",
    "\n",
    "print(\"📋 Parcours de chaque élément de A avec ses indices :\\n\")\n",
    "for indice, valeur in np.ndenumerate(A):\n",
    "    print(f\"Indice {indice} → Valeur : {valeur}\")\n",
    "\n",
    "print(\"\\n🧾 Matrice A :\")\n",
    "print(A)"
   ]
  },
  {
   "cell_type": "markdown",
   "metadata": {},
   "source": [
    "### Algèbre Linéaire\n",
    "\n",
    "on importe numpy.linalg"
   ]
  },
  {
   "cell_type": "code",
   "execution_count": 94,
   "metadata": {},
   "outputs": [],
   "source": [
    "import numpy.linalg as la"
   ]
  },
  {
   "cell_type": "markdown",
   "metadata": {},
   "source": [
    "**Rang** d'un tableau numpy (le nombre de lignes (ou colonnes) linéairement indépendantes.)\n",
    "\n",
    "On utilise matrix_rank(tableau)"
   ]
  },
  {
   "cell_type": "code",
   "execution_count": 95,
   "metadata": {},
   "outputs": [
    {
     "name": "stdout",
     "output_type": "stream",
     "text": [
      "Matrice A :\n",
      " [[1 2 3]\n",
      " [2 4 6]\n",
      " [7 8 9]]\n",
      "\n",
      "🔎 Rang de A : 2\n"
     ]
    }
   ],
   "source": [
    "A = np.array([[1, 2, 3],\n",
    "              [2, 4, 6],\n",
    "              [7, 8, 9]])\n",
    "\n",
    "rang = la.matrix_rank(A)\n",
    "\n",
    "print(\"Matrice A :\\n\", A)\n",
    "print(\"\\n🔎 Rang de A :\", rang)"
   ]
  },
  {
   "cell_type": "markdown",
   "metadata": {},
   "source": [
    "**Inverse** d’un tableau numpy carrée inversible\n",
    "\n",
    "On utilise inv(tableau)"
   ]
  },
  {
   "cell_type": "code",
   "execution_count": 96,
   "metadata": {},
   "outputs": [
    {
     "name": "stdout",
     "output_type": "stream",
     "text": [
      "Matrice A :\n",
      " [[1 2 0]\n",
      " [0 1 0]\n",
      " [0 0 1]]\n",
      "\n",
      "✅ Matrice inversible, inverse :\n",
      " [[ 1. -2.  0.]\n",
      " [ 0.  1.  0.]\n",
      " [ 0.  0.  1.]]\n"
     ]
    }
   ],
   "source": [
    "A = np.array([\n",
    "    [1, 2, 0],\n",
    "    [0, 1, 0],\n",
    "    [0, 0, 1]\n",
    "])\n",
    "\n",
    "A_inv = la.inv(A)\n",
    "\n",
    "print(\"Matrice A :\\n\", A)\n",
    "print(\"\\n✅ Matrice inversible, inverse :\\n\", A_inv)"
   ]
  },
  {
   "cell_type": "markdown",
   "metadata": {},
   "source": [
    "$A^{q}$\n",
    "\n",
    "On utilise matrix_power(tableau)"
   ]
  },
  {
   "cell_type": "code",
   "execution_count": 97,
   "metadata": {},
   "outputs": [
    {
     "name": "stdout",
     "output_type": "stream",
     "text": [
      "Matrice A :\n",
      " [[2 0]\n",
      " [1 3]]\n",
      "\n",
      "A² (A puissance 2) :\n",
      " [[4 0]\n",
      " [5 9]]\n",
      "\n",
      "A³ (A puissance 3) :\n",
      " [[ 8  0]\n",
      " [19 27]]\n",
      "\n",
      "A⁻² (inverse² de A) :\n",
      " [[ 0.25        0.        ]\n",
      " [-0.13888889  0.11111111]]\n"
     ]
    }
   ],
   "source": [
    "A = np.array([\n",
    "    [2, 0],\n",
    "    [1, 3]\n",
    "])\n",
    "\n",
    "# 🔺 Puissance 2 (A²), 3 (A³), etc.\n",
    "A_carre = la.matrix_power(A, 2)\n",
    "A_cube = la.matrix_power(A, 3)\n",
    "\n",
    "# 🔻 Puissance négative (inverse élevé à n) ATTENTION : La matrice doit être inversible sinon ERREUR !\n",
    "A_inv_carre = la.matrix_power(A, -2)\n",
    "\n",
    "print(\"Matrice A :\\n\", A)\n",
    "print(\"\\nA² (A puissance 2) :\\n\", A_carre)\n",
    "print(\"\\nA³ (A puissance 3) :\\n\", A_cube)\n",
    "print(\"\\nA⁻² (inverse² de A) :\\n\", A_inv_carre)"
   ]
  },
  {
   "cell_type": "markdown",
   "metadata": {},
   "source": [
    "**Résolution d'un système $AX=B$**\n",
    "\n",
    "On utilise la.solve(A, B)\n",
    "\n",
    "Cette fonction vérifie automatiquement que la matrice A est carrée et tente d’inverser A et donc trouver une seule et unique solution.\n",
    "Si A n'est pas inversible (i.e. son déterminant est nul), elle renvoie une erreur (LinAlgError)."
   ]
  },
  {
   "cell_type": "code",
   "execution_count": 100,
   "metadata": {},
   "outputs": [
    {
     "name": "stdout",
     "output_type": "stream",
     "text": [
      "Système : A · X = B\n",
      "Matrice A :\n",
      " [[2 1]\n",
      " [1 3]]\n",
      "Vecteur B : [ 8 13]\n",
      "\n",
      " Solution X :\n",
      "x = 2.2\n",
      "y = 3.6\n"
     ]
    }
   ],
   "source": [
    "A = np.array([[2, 1],\n",
    "              [1, 3]])\n",
    "\n",
    "B = np.array([8, 13])\n",
    "\n",
    "solution = la.solve(A, B)\n",
    "\n",
    "print(\"Système : A · X = B\")\n",
    "print(\"Matrice A :\\n\", A)\n",
    "print(\"Vecteur B :\", B)\n",
    "print(\"\\n Solution X :\")\n",
    "print(\"x =\", solution[0])\n",
    "print(\"y =\", solution[1])"
   ]
  },
  {
   "cell_type": "markdown",
   "metadata": {},
   "source": [
    "**Valeurs propres et vecteurs propres** d'un tableau numpy"
   ]
  },
  {
   "cell_type": "code",
   "execution_count": 99,
   "metadata": {},
   "outputs": [
    {
     "name": "stdout",
     "output_type": "stream",
     "text": [
      "Matrice A :\n",
      " [[2 1]\n",
      " [1 2]]\n",
      "\n",
      " Valeurs propres : [3. 1.]\n",
      "\n",
      " Vecteurs propres (colonnes) :\n",
      " [[ 0.70710678 -0.70710678]\n",
      " [ 0.70710678  0.70710678]]\n",
      "\n",
      "Vérification A · v1 ≈ λ1 · v1 :\n",
      "A . v1 : [2.12132034 2.12132034]\n",
      "λ1 · v1 : [2.12132034 2.12132034]\n"
     ]
    }
   ],
   "source": [
    "A = np.array([[2, 1],\n",
    "              [1, 2]])\n",
    "\n",
    "valeurs_propres, vecteurs_propres = la.eig(A)\n",
    "\n",
    "print(\"Matrice A :\\n\", A)\n",
    "print(\"\\n Valeurs propres :\", valeurs_propres)\n",
    "print(\"\\n Vecteurs propres (colonnes) :\\n\", vecteurs_propres)\n",
    "\n",
    "v1 = vecteurs_propres[:, 0]\n",
    "λ1 = valeurs_propres[0]\n",
    "\n",
    "# Vérifier : A @ v1 ≈ λ1 * v1\n",
    "print(\"\\nVérification A · v1 ≈ λ1 · v1 :\")\n",
    "print(\"A . v1 :\", A @ v1)\n",
    "print(\"λ1 · v1 :\", λ1 * v1)"
   ]
  }
 ],
 "metadata": {
  "colab": {
   "provenance": []
  },
  "kernelspec": {
   "display_name": "Python 3",
   "language": "python",
   "name": "python3"
  },
  "language_info": {
   "codemirror_mode": {
    "name": "ipython",
    "version": 3
   },
   "file_extension": ".py",
   "mimetype": "text/x-python",
   "name": "python",
   "nbconvert_exporter": "python",
   "pygments_lexer": "ipython3",
   "version": "3.12.8"
  }
 },
 "nbformat": 4,
 "nbformat_minor": 0
}
