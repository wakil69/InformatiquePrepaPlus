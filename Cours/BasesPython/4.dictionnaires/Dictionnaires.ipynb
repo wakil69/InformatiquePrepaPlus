{
 "cells": [
  {
   "cell_type": "markdown",
   "metadata": {},
   "source": [
    "# **Dictionnaires**"
   ]
  },
  {
   "cell_type": "markdown",
   "metadata": {},
   "source": [
    "### Syntaxe\n",
    "\n",
    "dictionnaires : {key1 : value1, key2: value2, etc.}\n",
    "\n",
    "value peuvent être de n'importe quel type (int, float, list etc.) mais key doit être du type immuable (int, string, tuple etc.)"
   ]
  },
  {
   "cell_type": "code",
   "execution_count": 13,
   "metadata": {},
   "outputs": [
    {
     "name": "stdout",
     "output_type": "stream",
     "text": [
      "{'vainqueur': 'PSG', 2: 'Inter milan', 'Demi-finalistes': ['Fc Barcelone', 'Arsenal']}\n"
     ]
    }
   ],
   "source": [
    "ldc = {\"vainqueur\": \"PSG\", 2 : \"Inter milan\", \"Demi-finalistes\": [\"Fc Barcelone\", \"Arsenal\"]}\n",
    "\n",
    "print(ldc)"
   ]
  },
  {
   "cell_type": "markdown",
   "metadata": {},
   "source": [
    "**Mettre à jour** le dictionnaire\n",
    "\n",
    "On utilise la fonction update()"
   ]
  },
  {
   "cell_type": "code",
   "execution_count": 14,
   "metadata": {},
   "outputs": [
    {
     "name": "stdout",
     "output_type": "stream",
     "text": [
      "🔒 Dictionnaire original (ldc) : {'vainqueur': 'PSG', 2: 'Inter milan', 'Demi-finalistes': ['Fc Barcelone', 'Arsenal']}\n",
      "🆕 Dictionnaire mis à jour (ldc_new) : {'vainqueur': 'Liverpool', 2: 'Tottenham', 'Demi-finalistes': ['Fc Barcelone', 'Arsenal'], 'vainqueur_2018': 'Real Madrid'}\n"
     ]
    }
   ],
   "source": [
    "ldc_new = ldc.copy()\n",
    "\n",
    "ldc_2019 = {\n",
    "    \"vainqueur\": \"Liverpool\",\n",
    "    2: \"Tottenham\",\n",
    "    \"vainqueur_2018\": \"Real Madrid\"\n",
    "}\n",
    "\n",
    "ldc_new.update(ldc_2019)\n",
    "\n",
    "print(\"🔒 Dictionnaire original (ldc) :\", ldc)\n",
    "print(\"🆕 Dictionnaire mis à jour (ldc_new) :\", ldc_new)"
   ]
  },
  {
   "cell_type": "markdown",
   "metadata": {},
   "source": [
    "**Extraire les keys et les values** d'un dictionnaire\n",
    "\n",
    "on utilise dict.keys() et dict.values()"
   ]
  },
  {
   "cell_type": "code",
   "execution_count": 15,
   "metadata": {},
   "outputs": [
    {
     "name": "stdout",
     "output_type": "stream",
     "text": [
      "Dictionnaire ldc : {'vainqueur': 'PSG', 2: 'Inter milan', 'Demi-finalistes': ['Fc Barcelone', 'Arsenal']}\n",
      "Clés du dictionnaire (type dict_keys) : dict_keys(['vainqueur', 2, 'Demi-finalistes'])\n",
      "Type de keys : <class 'dict_keys'>\n",
      "Clés converties en liste : ['vainqueur', 2, 'Demi-finalistes']\n",
      "Type après conversion : <class 'list'>\n"
     ]
    }
   ],
   "source": [
    "print(\"Dictionnaire ldc :\", ldc)\n",
    "\n",
    "keys = ldc.keys()\n",
    "\n",
    "print(\"Clés du dictionnaire (type dict_keys) :\", keys)\n",
    "print(\"Type de keys :\", type(keys))\n",
    "\n",
    "keys_list = list(keys)\n",
    "print(\"Clés converties en liste :\", keys_list)\n",
    "print(\"Type après conversion :\", type(keys_list))"
   ]
  },
  {
   "cell_type": "code",
   "execution_count": 16,
   "metadata": {},
   "outputs": [
    {
     "name": "stdout",
     "output_type": "stream",
     "text": [
      "Dictionnaire ldc : {'vainqueur': 'PSG', 2: 'Inter milan', 'Demi-finalistes': ['Fc Barcelone', 'Arsenal']}\n",
      "\n",
      "Valeurs (objet dict_values) : dict_values(['PSG', 'Inter milan', ['Fc Barcelone', 'Arsenal']])\n",
      "Type de values : <class 'dict_values'>\n",
      "Valeurs converties en liste : ['PSG', 'Inter milan', ['Fc Barcelone', 'Arsenal']]\n",
      "Type après conversion : <class 'list'>\n"
     ]
    }
   ],
   "source": [
    "print(\"Dictionnaire ldc :\", ldc)\n",
    "\n",
    "values = ldc.values()\n",
    "\n",
    "print(\"\\nValeurs (objet dict_values) :\", values)\n",
    "print(\"Type de values :\", type(values))\n",
    "\n",
    "# Conversion en liste si besoin\n",
    "values_list = list(values)\n",
    "print(\"Valeurs converties en liste :\", values_list)\n",
    "print(\"Type après conversion :\", type(values_list))"
   ]
  },
  {
   "cell_type": "markdown",
   "metadata": {},
   "source": [
    "**Extraire les paires (key, value)** d'un dictionnaire\n",
    "\n",
    "on utilise dict.items()"
   ]
  },
  {
   "cell_type": "code",
   "execution_count": 17,
   "metadata": {},
   "outputs": [
    {
     "name": "stdout",
     "output_type": "stream",
     "text": [
      "Dictionnaire ldc : {'vainqueur': 'PSG', 2: 'Inter milan', 'Demi-finalistes': ['Fc Barcelone', 'Arsenal']}\n",
      "\n",
      "🔗 Paires (clé, valeur) sous forme d'objet dict_items : dict_items([('vainqueur', 'PSG'), (2, 'Inter milan'), ('Demi-finalistes', ['Fc Barcelone', 'Arsenal'])])\n",
      "Type de pairs : <class 'dict_items'>\n",
      "\n",
      "✅ Paires converties en liste : [('vainqueur', 'PSG'), (2, 'Inter milan'), ('Demi-finalistes', ['Fc Barcelone', 'Arsenal'])]\n",
      "Type après conversion : <class 'list'>\n"
     ]
    }
   ],
   "source": [
    "print(\"Dictionnaire ldc :\", ldc)\n",
    "\n",
    "pairs = ldc.items()\n",
    "\n",
    "print(\"\\n🔗 Paires (clé, valeur) sous forme d'objet dict_items :\", pairs)\n",
    "print(\"Type de pairs :\", type(pairs))\n",
    "\n",
    "# Conversion en liste de tuples si besoin\n",
    "pairs_list = list(pairs)\n",
    "print(\"\\n✅ Paires converties en liste :\", pairs_list)\n",
    "print(\"Type après conversion :\", type(pairs_list))"
   ]
  },
  {
   "cell_type": "markdown",
   "metadata": {},
   "source": [
    "**Extraire la valeur d'une clé** dans un dictionnaire\n",
    "\n",
    "On peut utiliser la méthode dict.get(clé, valeur_par_défaut) pour récupérer une valeur dans un dictionnaire.\n",
    "Si la clé n’existe pas, get() retourne la valeur par défaut spécifiée (ou None si aucun second argument n’est fourni)."
   ]
  },
  {
   "cell_type": "code",
   "execution_count": 18,
   "metadata": {},
   "outputs": [
    {
     "name": "stdout",
     "output_type": "stream",
     "text": [
      "{'vainqueur': 'PSG', 2: 'Inter milan', 'Demi-finalistes': ['Fc Barcelone', 'Arsenal']}\n",
      "Dictionnaire ldc : {'vainqueur': 'PSG', 2: 'Inter milan', 'Demi-finalistes': ['Fc Barcelone', 'Arsenal']}\n",
      "\n",
      "vainqueur actuel : PSG\n",
      "vainqueur_2019 (absent, valeur par défaut utilisée) : T’étais où l’an dernier ?\n"
     ]
    }
   ],
   "source": [
    "print(ldc)\n",
    "\n",
    "vainqueur_2020 = ldc.get(\"vainqueur\") \n",
    "vainqueur_2019 = ldc.get(\"vainqueur_2019\", \"T’étais où l’an dernier ?\")  \n",
    "\n",
    "print(\"Dictionnaire ldc :\", ldc)\n",
    "print(\"\\nvainqueur actuel :\", vainqueur_2020)\n",
    "print(\"vainqueur_2019 (absent, valeur par défaut utilisée) :\", vainqueur_2019)"
   ]
  },
  {
   "cell_type": "markdown",
   "metadata": {},
   "source": [
    "...on a encore plus simple mais retourne une erreur si la clé n'existe pas"
   ]
  },
  {
   "cell_type": "code",
   "execution_count": 19,
   "metadata": {},
   "outputs": [
    {
     "name": "stdout",
     "output_type": "stream",
     "text": [
      "Dictionnaire ldc : {'vainqueur': 'PSG', 2: 'Inter milan', 'Demi-finalistes': ['Fc Barcelone', 'Arsenal']}\n",
      "\n",
      "Vainqueur (clé 'vainqueur') : PSG\n"
     ]
    }
   ],
   "source": [
    "vainqueur = ldc[\"vainqueur\"]\n",
    "\n",
    "print(\"Dictionnaire ldc :\", ldc)\n",
    "print(\"\\nVainqueur (clé 'vainqueur') :\", vainqueur)"
   ]
  },
  {
   "cell_type": "markdown",
   "metadata": {},
   "source": [
    "**Supprimer une paire (key, value)** du dictionnaire\n",
    "\n",
    "On utilise dict.pop(key) et on peut stocker la valeur supprimée"
   ]
  },
  {
   "cell_type": "code",
   "execution_count": 20,
   "metadata": {},
   "outputs": [
    {
     "name": "stdout",
     "output_type": "stream",
     "text": [
      "Dictionnaire après suppression de 'vainqueur' : {2: 'Inter milan', 'Demi-finalistes': ['Fc Barcelone', 'Arsenal']}\n",
      "Valeur retirée (vainqueur) : PSG\n"
     ]
    }
   ],
   "source": [
    "vainqueur = ldc.pop(\"vainqueur\")\n",
    "\n",
    "print(\"Dictionnaire après suppression de 'vainqueur' :\", ldc)\n",
    "print(\"Valeur retirée (vainqueur) :\", vainqueur)"
   ]
  }
 ],
 "metadata": {
  "kernelspec": {
   "display_name": "Python 3",
   "language": "python",
   "name": "python3"
  },
  "language_info": {
   "codemirror_mode": {
    "name": "ipython",
    "version": 3
   },
   "file_extension": ".py",
   "mimetype": "text/x-python",
   "name": "python",
   "nbconvert_exporter": "python",
   "pygments_lexer": "ipython3",
   "version": "3.12.8"
  }
 },
 "nbformat": 4,
 "nbformat_minor": 4
}
