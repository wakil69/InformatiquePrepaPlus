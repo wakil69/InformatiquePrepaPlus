{
 "cells": [
  {
   "cell_type": "markdown",
   "metadata": {
    "id": "8JztibrgQh5y"
   },
   "source": [
    "# **Graphes**"
   ]
  },
  {
   "cell_type": "markdown",
   "metadata": {
    "id": "-BV3cRMZQh51"
   },
   "source": [
    "**Librairies**"
   ]
  },
  {
   "cell_type": "code",
   "execution_count": null,
   "metadata": {
    "id": "ts5aGT36Qh52"
   },
   "outputs": [],
   "source": [
    "import matplotlib.pyplot as plt\n",
    "import numpy as np\n",
    "from math import *"
   ]
  },
  {
   "cell_type": "markdown",
   "metadata": {
    "id": "vVPCfDcZQh54"
   },
   "source": [
    "### Création des points"
   ]
  },
  {
   "cell_type": "markdown",
   "metadata": {},
   "source": [
    "On va tracer 3 graphes avec comme domaine de définition [0:15]\n",
    "\n",
    "On crée 4 listes de longueur 100 chacune: X, Y1, Y2, Y3"
   ]
  },
  {
   "cell_type": "code",
   "execution_count": null,
   "metadata": {
    "id": "UatwY3-QQh55"
   },
   "outputs": [],
   "source": [
    "start = 0\n",
    "end = 15\n",
    "nb_points = 100\n",
    "\n",
    "X = np.linspace(start, end, nb_points) # end pris en compte !\n",
    "Y1 = [sin(i) for i in X]\n",
    "Y2 = [cos(i) for i in X]\n",
    "Y3 = [i**2 for i in X]"
   ]
  },
  {
   "cell_type": "code",
   "execution_count": null,
   "metadata": {
    "id": "YtoqxgtRQh57",
    "outputId": "7347d45d-f51e-425a-d4af-28bf1bd9b215"
   },
   "outputs": [],
   "source": [
    "#Vérifions que nous avons les bonnes longueurs\n",
    "\n",
    "print(\"longueur X : \", len(X), \" ; 1er élément : \", X[0], \" ; dernier élément : \", X[-1])\n",
    "print(\"longueur Y1 : \", len(Y1), \" ; 1er élément : \", Y1[0], \" ; dernier élément : \", Y1[-1])\n",
    "print(\"longueur Y2 : \", len(Y2), \" ; 1er élément : \", Y2[0], \" ; dernier élément : \", Y2[-1])\n",
    "print(\"longueur Y3 : \", len(Y3), \" ; 1er élément : \", Y3[0], \" ; dernier élément : \", Y3[-1])"
   ]
  },
  {
   "cell_type": "markdown",
   "metadata": {
    "id": "Z_VHGRe8Qh59"
   },
   "source": [
    "### Création de graphes"
   ]
  },
  {
   "cell_type": "markdown",
   "metadata": {},
   "source": [
    "Tracé du graphe Y1 = Y1(X)\n",
    "\n",
    "⚠️ Il faut que X et Y ait la même taille !!!!!"
   ]
  },
  {
   "cell_type": "code",
   "execution_count": null,
   "metadata": {
    "id": "bfArL2HzQh5-",
    "outputId": "e96c06c1-90ff-4683-a33d-05ba6e3e2713"
   },
   "outputs": [],
   "source": [
    "plt.plot(X,Y1)\n",
    "plt.show()"
   ]
  },
  {
   "cell_type": "markdown",
   "metadata": {},
   "source": [
    "Tracé de deux graphes Y1 = Y1(X) et Y2 = Y2(X)"
   ]
  },
  {
   "cell_type": "code",
   "execution_count": null,
   "metadata": {
    "id": "5lejfnUaQh6A",
    "outputId": "153e8e5b-8176-4901-a8dd-337a673063c6"
   },
   "outputs": [],
   "source": [
    "plt.plot(X, Y1)\n",
    "plt.plot(X, Y2)\n",
    "plt.show()"
   ]
  },
  {
   "cell_type": "markdown",
   "metadata": {
    "id": "gCVo4zgKQh6D"
   },
   "source": [
    "**Esthétique**"
   ]
  },
  {
   "cell_type": "markdown",
   "metadata": {},
   "source": [
    "syntaxe : plt.plot(X, Y, lw = epaisseur, ls = style, c = couleur)\n",
    "\n",
    "lien vers tous les arguments possibles de plt.plot: https://matplotlib.org/stable/api/_as_gen/matplotlib.pyplot.plot.html\n"
   ]
  },
  {
   "cell_type": "code",
   "execution_count": null,
   "metadata": {
    "id": "0maPvOFBQh6E",
    "outputId": "ee9480e2-fd90-4ce9-da29-73f48e6dd7eb"
   },
   "outputs": [],
   "source": [
    "plt.plot(X, Y1, lw = 10, ls = ':', c = \"green\")\n",
    "plt.xlabel('Position X')\n",
    "plt.ylabel('Sinus')\n",
    "plt.title(\"Y1 = sin(X)\")\n",
    "plt.show()"
   ]
  },
  {
   "cell_type": "code",
   "execution_count": null,
   "metadata": {
    "id": "uDtU2Cj6Qh6F",
    "outputId": "35355d76-5636-49b2-a9a6-98ea08a56652"
   },
   "outputs": [],
   "source": [
    "plt.plot(X,Y1, lw = 10, ls = ':', c = \"green\")\n",
    "plt.plot(X,Y2, lw = 10, ls = \"--\", c = \"red\")\n",
    "plt.legend((\"sin(X)\",\"cos(X)\"))\n",
    "plt.xlabel('Position X')\n",
    "plt.ylabel('Y1, Y2')\n",
    "plt.title(\"Y1 = sin(X) et Y2 = cos(X)\")\n",
    "plt.show()"
   ]
  },
  {
   "cell_type": "markdown",
   "metadata": {},
   "source": [
    "### Tracer des subplots\n",
    "\n",
    "syntaxe : plt.subplot((nrows, ncols, index), ...)\n",
    "\n",
    "L'index commence à 1 dans la partie supérieur gauche et augmente en allant à droite.\n",
    "\n",
    "lien subplot : https://matplotlib.org/stable/api/_as_gen/matplotlib.pyplot.subplot.html#matplotlib.pyplot.subplot\n"
   ]
  },
  {
   "cell_type": "code",
   "execution_count": null,
   "metadata": {
    "id": "lSKUBCBLQh6G",
    "outputId": "861fd1a7-bf72-4779-db36-d3281f9f068c"
   },
   "outputs": [],
   "source": [
    "ax1 = plt.subplot(224, xlabel = \"Position X\", ylabel = \"Y1\") # grille de 2 lignes et 2 colonnes à la 4éme position\n",
    "ax1.plot(X,Y1, lw = 10, ls = ':', c = \"green\")\n",
    "ax1.set_title('sin(X)')\n",
    "ax2 = plt.subplot(221, xlabel = \"Position X\", ylabel = \"Y2\")\n",
    "ax2.plot(X,Y2, lw = 10, ls = \"--\", c = \"red\")\n",
    "ax2.set_title('cos(X)')"
   ]
  },
  {
   "cell_type": "code",
   "execution_count": null,
   "metadata": {
    "id": "2x-JlNzQQh6H",
    "outputId": "fd8c2c66-37e2-47e9-9603-aa0bce6818e9"
   },
   "outputs": [],
   "source": [
    "ax1 = plt.subplot(221, xlabel = \"Position X\", ylabel = \"Y1\")\n",
    "ax1.plot(X,Y1, lw = 10, ls = ':', c = \"blue\")\n",
    "ax1.set_title('sin(X)')\n",
    "ax2 = plt.subplot(222, xlabel = \"Position X\", ylabel = \"Y2\")\n",
    "ax2.plot(X,Y2, lw = 10, ls = \"--\", c = \"red\")\n",
    "ax2.set_title('cos(X)')\n",
    "ax3 = plt.subplot(223, xlabel = \"Position X\", ylabel = \"Y3\")\n",
    "ax3.plot(X,Y3, lw = 10, ls = ':', c = \"green\")\n",
    "ax3.set_title('X^2')"
   ]
  },
  {
   "cell_type": "code",
   "execution_count": null,
   "metadata": {
    "id": "jmIiPhVYQh6H",
    "outputId": "957d80f8-adcb-47e1-b522-27fb45203e30"
   },
   "outputs": [],
   "source": [
    "ax1 = plt.subplot(221, xlabel = \"Position X\", ylabel = \"Y1\")\n",
    "ax1.plot(X,Y1, lw = 10, ls = ':', c = \"blue\")\n",
    "ax1.set_title('sin(X)')\n",
    "ax2 = plt.subplot(222, xlabel = \"Position X\", ylabel = \"Y2\")\n",
    "ax2.plot(X,Y2, lw = 10, ls = \"--\", c = \"red\")\n",
    "ax2.set_title('cos(X)')\n",
    "ax3 = plt.subplot(212, xlabel = \"Position X\", ylabel = \"Y1\") # 2 lignes 1 colonne 2 éme position \n",
    "ax3.plot(X,Y3, lw = 10, ls = ':', c = \"green\")\n",
    "ax3.set_title('X^2')"
   ]
  },
  {
   "cell_type": "markdown",
   "metadata": {},
   "source": [
    "**Création d'un histogramme**\n",
    "\n",
    "Un histogramme permet de visualiser la répartition d’un ensemble de données numériques.\n",
    "Il montre combien de fois les valeurs tombent dans des intervalles appelés \"buckets\" ou \"bins\"."
   ]
  },
  {
   "cell_type": "code",
   "execution_count": null,
   "metadata": {},
   "outputs": [],
   "source": [
    "# notes entre 0 et 20 pour 100 élèves\n",
    "# loc = moyenne, scale = écart-type, size = nb de valeurs générees\n",
    "# np.random.seed(1)\n",
    "notes = np.random.normal(loc=12, scale=3, size=100)\n",
    "notes = np.clip(notes, 0, 20) # on tronque les valeurs entre 0 et 20, toutes les valeurs restent inchangées exceptés la valeur mini et maxi\n",
    "\n",
    "counts, bins, patches = plt.hist(notes, bins=10, edgecolor='black')\n",
    "\n",
    "print(f\"{'Intervalle':<20} | {'Nombre d\\'élèves':>5}\")\n",
    "print(\"-\" * 32)\n",
    "for i in range(len(counts)):\n",
    "    intervalle = f\"[{bins[i]:.2f}, {bins[i+1]:.2f})\"\n",
    "    print(f\"{intervalle:<20} | {int(counts[i]):>5}\")\n",
    "\n",
    "plt.title(\"Distribution des notes des élèves\")\n",
    "plt.xlabel(\"Note\")\n",
    "plt.ylabel(\"Nombre d'élèves\")\n",
    "\n",
    "# plt.grid(True)\n",
    "plt.show()\n"
   ]
  },
  {
   "cell_type": "markdown",
   "metadata": {},
   "source": [
    "**Création d'un graphique pour les vecteurs**\n",
    "\n",
    "plt.quiver() est une fonction de Matplotlib utilisée pour dessiner des flèches vectorielles sur un graphique.\n",
    "\n",
    "Place une flèche à chaque point (X[i,j], Y[i,j]).\n",
    "\n",
    "Chaque flèche pointe dans la direction (U[i,j], V[i,j])."
   ]
  },
  {
   "cell_type": "code",
   "execution_count": null,
   "metadata": {},
   "outputs": [],
   "source": [
    "# Coordonnées des points de départ des vecteurs\n",
    "X, Y = np.meshgrid(np.arange(0, 5, 1), np.arange(0, 5, 1)) # Chaque paire (X[i][j], Y[i][j]) représente un point de la grille\n",
    "\n",
    "print(\"Résultat numpy.meshgrid()\")\n",
    "print(np.meshgrid(np.arange(0, 5, 1), np.arange(0, 5, 1)))\n",
    "\n",
    "# Composantes horizontales (U) et verticales (V) des vecteurs qui pointent vers la droite (1, 0) \n",
    "U = np.ones_like(X)\n",
    "V = np.zeros_like(Y)\n",
    "\n",
    "plt.quiver(X, Y, U, V, angles='xy', scale_units='xy', scale=1)\n",
    "plt.xlim(-1, 6)\n",
    "plt.ylim(-1, 6)\n",
    "plt.gca().set_aspect('equal') # Force les axes à avoir la même échelle visuelle\n",
    "plt.title(\"Champ de vecteurs simple\")\n",
    "# plt.grid()\n",
    "plt.show()"
   ]
  },
  {
   "cell_type": "markdown",
   "metadata": {},
   "source": [
    "**Tracer des courbes de niveau**\n",
    "\n",
    "plt.contour() sert à tracer des lignes de niveau sur une grille 2D.\n",
    "\n",
    "Chaque ligne relie des points (X, Y) qui ont la même valeur Z."
   ]
  },
  {
   "cell_type": "code",
   "execution_count": null,
   "metadata": {},
   "outputs": [],
   "source": [
    "x = np.linspace(-5, 5, 100)\n",
    "y = np.linspace(-5, 5, 100)\n",
    "X, Y = np.meshgrid(x, y)\n",
    "\n",
    "# Fonction de coût simple (parabole)\n",
    "Z = X**2 + Y**2\n",
    "\n",
    "# Point de départ\n",
    "x0, y0 = 4.0, 4.0\n",
    "lr = 0.1  # learning rate\n",
    "path_x, path_y = [x0], [y0]\n",
    "\n",
    "# Descente de gradient\n",
    "for _ in range(30):\n",
    "    grad_x = 2 * x0\n",
    "    grad_y = 2 * y0\n",
    "    x0 -= lr * grad_x\n",
    "    y0 -= lr * grad_y\n",
    "    path_x.append(x0)\n",
    "    path_y.append(y0)\n",
    "\n",
    "# Courbes de niveau\n",
    "contour = plt.contour(X, Y, Z, levels=5, cmap='viridis')\n",
    "plt.colorbar(contour, label=\"Valeur de Z = x² + y²\")\n",
    "plt.plot(path_x, path_y, 'ro-', label=\"Descente de gradient\")\n",
    "plt.title(\"Descente de gradient sur Z = x² + y²\")\n",
    "plt.xlabel(\"x\")\n",
    "plt.ylabel(\"y\")\n",
    "plt.legend()\n",
    "plt.grid(True)\n",
    "plt.axis('equal')\n",
    "plt.show()"
   ]
  },
  {
   "cell_type": "code",
   "execution_count": null,
   "metadata": {},
   "outputs": [],
   "source": [
    "# Calcul de Z le long du chemin\n",
    "path_z = [px**2 + py**2 for px, py in zip(path_x, path_y)]\n",
    "\n",
    "# Affichage de la surface 3D avec trajectoire\n",
    "fig = plt.figure(figsize=(10, 6))\n",
    "ax = fig.add_subplot(111, projection='3d')\n",
    "ax.plot_surface(X, Y, Z, cmap='viridis', alpha=0.8)\n",
    "ax.plot(path_x, path_y, path_z, 'ro-', label=\"Descente de gradient\")\n",
    "\n",
    "# Mise en forme\n",
    "ax.set_title(\"Surface Z = x² + y² avec trajectoire de descente de gradient\")\n",
    "ax.set_xlabel(\"x\")\n",
    "ax.set_ylabel(\"y\")\n",
    "ax.set_zlabel(\"z\")\n",
    "ax.legend()\n",
    "plt.show()\n"
   ]
  },
  {
   "cell_type": "markdown",
   "metadata": {},
   "source": [
    "**Tracer un diagramme en barres verticales**\n",
    "\n",
    "plt.bar est utilisé pour les données déjà catégorisées"
   ]
  },
  {
   "cell_type": "code",
   "execution_count": null,
   "metadata": {},
   "outputs": [],
   "source": [
    "categories = ['A', 'B', 'C', 'D']\n",
    "values = [10, 24, 36, 18]\n",
    "\n",
    "plt.bar(categories, values)\n",
    "\n",
    "plt.title(\"Valeurs par catégorie\")\n",
    "plt.xlabel(\"Catégories\")\n",
    "plt.ylabel(\"Valeurs\")\n",
    "\n",
    "plt.show()"
   ]
  },
  {
   "cell_type": "markdown",
   "metadata": {},
   "source": [
    "**Tracer des box plots** (ou boite à moustaches)\n",
    "\n",
    "plt.boxplot() affiche un résumé statistique d’un jeu de données :\n",
    "\n",
    "- Médiane (ligne centrale)\n",
    "\n",
    "- Quartiles (boîte)\n",
    "\n",
    "- Valeurs extrêmes (moustaches)\n",
    "\n",
    "- Valeurs aberrantes (points)\n",
    "\n",
    "**Aparté : Comment sont calculées les valeurs aberrantes ?**\n",
    "\n",
    "Étapes :\n",
    "\n",
    "1. **IQR (Interquartile Range)** = Q3 − Q1\n",
    "\n",
    "2. Seuils pour détecter les valeurs aberrantes :\n",
    "\n",
    "   * **Limite basse** : Q1 − 1.5 × IQR\n",
    "   * **Limite haute** : Q3 + 1.5 × IQR\n",
    "\n",
    "3. Tout ce qui est **en dehors de cet intervalle** est considéré comme une **valeur aberrante** (outlier) et affiché comme **point individuel**."
   ]
  },
  {
   "cell_type": "code",
   "execution_count": null,
   "metadata": {},
   "outputs": [],
   "source": [
    "data = [np.random.normal(loc=mu, scale=1.5, size=100) for mu in [10, 15, 20]]\n",
    "\n",
    "plt.boxplot(data, labels=['Groupe 1', 'Groupe 2', 'Groupe 3'])\n",
    "\n",
    "plt.title(\"Comparaison des distributions\")\n",
    "plt.ylabel(\"Valeurs\")\n",
    "\n",
    "plt.show()"
   ]
  }
 ],
 "metadata": {
  "colab": {
   "provenance": []
  },
  "kernelspec": {
   "display_name": "Python 3",
   "language": "python",
   "name": "python3"
  },
  "language_info": {
   "codemirror_mode": {
    "name": "ipython",
    "version": 3
   },
   "file_extension": ".py",
   "mimetype": "text/x-python",
   "name": "python",
   "nbconvert_exporter": "python",
   "pygments_lexer": "ipython3",
   "version": "3.12.8"
  }
 },
 "nbformat": 4,
 "nbformat_minor": 0
}
