{
 "cells": [
  {
   "cell_type": "markdown",
   "metadata": {},
   "source": [
    "# **Listes**"
   ]
  },
  {
   "cell_type": "markdown",
   "metadata": {},
   "source": [
    "### **Listes**"
   ]
  },
  {
   "cell_type": "markdown",
   "metadata": {},
   "source": [
    "**Quelques opérations élémentaires**"
   ]
  },
  {
   "cell_type": "code",
   "execution_count": 1,
   "metadata": {},
   "outputs": [
    {
     "name": "stdout",
     "output_type": "stream",
     "text": [
      "[6156, 561, 56, 51, 651, 8, 565, 5, 5, 8, -58, 'mpx', (1, 2), True, 7]\n"
     ]
    }
   ],
   "source": [
    "# Concaténation\n",
    "liste_a = [6156,561,56,51,651,8]\n",
    "liste_b = [565,5,5,8,-58,\"mpx\", (1,2), bool(8),7]\n",
    "liste_concat = liste_a + liste_b\n",
    "print(liste_concat)"
   ]
  },
  {
   "cell_type": "code",
   "execution_count": 2,
   "metadata": {},
   "outputs": [
    {
     "name": "stdout",
     "output_type": "stream",
     "text": [
      "[\"je veux l'X\", \"je veux l'X\", \"je veux l'X\", \"je veux l'X\", \"je veux l'X\", \"je veux l'X\", \"je veux l'X\", \"je veux l'X\", \"je veux l'X\", \"je veux l'X\"]\n"
     ]
    }
   ],
   "source": [
    "# Création d'une liste à partir d'un élément\n",
    "liste_X = [\"je veux l'X\"] * 10\n",
    "print(liste_X)"
   ]
  },
  {
   "cell_type": "code",
   "execution_count": 3,
   "metadata": {},
   "outputs": [
    {
     "name": "stdout",
     "output_type": "stream",
     "text": [
      "La longueur de [6156, 561, 56, 51, 651, 8] est égale à 6\n",
      "La longueur de [565, 5, 5, 8, -58, 'mpx', (1, 2), True, 7] est égale à 9\n",
      "La longueur de [6156, 561, 56, 51, 651, 8, 565, 5, 5, 8, -58, 'mpx', (1, 2), True, 7] est égale à 15\n"
     ]
    }
   ],
   "source": [
    "# Longueur d'une liste\n",
    "print(f'La longueur de {liste_a} est égale à', len(liste_a))\n",
    "print(f'La longueur de {liste_b} est égale à', len(liste_b))\n",
    "print(f'La longueur de {liste_concat} est égale à', len(liste_concat))"
   ]
  },
  {
   "cell_type": "code",
   "execution_count": 4,
   "metadata": {},
   "outputs": [
    {
     "name": "stdout",
     "output_type": "stream",
     "text": [
      "Le premier élément de liste_a est 6156 [6156, 561, 56, 51, 651, 8]\n",
      "Le premier élément de liste_b est 565 [565, 5, 5, 8, -58, 'mpx', (1, 2), True, 7]\n"
     ]
    }
   ],
   "source": [
    "# Affecter à une variable la valeur d'un élément d'une liste\n",
    "# La liste ne change pas !\n",
    "# indice du premier élément : 0 !\n",
    "prems_a = liste_a[0]\n",
    "prems_b = liste_b[0]\n",
    "print(f'Le premier élément de liste_a est', prems_a, liste_a)\n",
    "print(f'Le premier élément de liste_b est', prems_b, liste_b)"
   ]
  },
  {
   "cell_type": "code",
   "execution_count": 5,
   "metadata": {},
   "outputs": [
    {
     "name": "stdout",
     "output_type": "stream",
     "text": [
      "Le dernier élément de liste_a est 8 [6156, 561, 56, 51, 651, 8]\n",
      "Le dernier élément de liste_b est 7 [565, 5, 5, 8, -58, 'mpx', (1, 2), True, 7]\n"
     ]
    }
   ],
   "source": [
    "#indice du dernier élément : len(liste)-1 ! ou -1 !\n",
    "dern_a = liste_a[len(liste_a)-1]\n",
    "dern_b = liste_b[-1]\n",
    "print(f'Le dernier élément de liste_a est', dern_a, liste_a)\n",
    "print(f'Le dernier élément de liste_b est', dern_b, liste_b)"
   ]
  },
  {
   "cell_type": "code",
   "execution_count": 6,
   "metadata": {},
   "outputs": [
    {
     "name": "stdout",
     "output_type": "stream",
     "text": [
      "Le 3éme élément de liste_a est 56 [6156, 561, 56, 51, 651, 8]\n",
      "Le 3éme élément de liste_b est 5 [565, 5, 5, 8, -58, 'mpx', (1, 2), True, 7]\n"
     ]
    }
   ],
   "source": [
    "trois_a = liste_a[2]\n",
    "trois_b = liste_b[2]\n",
    "print('Le 3éme élément de liste_a est', trois_a, liste_a)\n",
    "print('Le 3éme élément de liste_b est', trois_b, liste_b)"
   ]
  },
  {
   "cell_type": "code",
   "execution_count": null,
   "metadata": {},
   "outputs": [],
   "source": [
    "\"\"\"\n",
    "sept_a = liste_a[6]\n",
    "sept_b = liste_b[6]\n",
    "print(f'Le 7éme élément de liste_a est', sept_a, liste_a)\n",
    "print(f'Le 7éme élément de liste_b est', sept_b, liste_b)\n",
    "\"\"\""
   ]
  },
  {
   "cell_type": "code",
   "execution_count": 7,
   "metadata": {},
   "outputs": [
    {
     "name": "stdout",
     "output_type": "stream",
     "text": [
      "[565, 5, 5, 8, -58, 'mpx', (1, 2), True, 7] : liste_b\n",
      "[5, 5, 8] : morceau_1\n",
      "[565, 5, -58, (1, 2), 7] : morceau_2\n"
     ]
    }
   ],
   "source": [
    "# Récupérer un \"morceau\" de liste : liste[m:n:pas] (n exclu)\n",
    "print(liste_b, \": liste_b\")\n",
    "\n",
    "morceau_1 = liste_b[1:4]\n",
    "print(morceau_1, \": morceau_1\")\n",
    "\n",
    "morceau_2 = liste_b[:len(liste_b):2] #len(liste_b) = 8\n",
    "print(morceau_2, \": morceau_2\")"
   ]
  },
  {
   "cell_type": "code",
   "execution_count": 8,
   "metadata": {},
   "outputs": [
    {
     "name": "stdout",
     "output_type": "stream",
     "text": [
      "[6156, 561, 56, 51, 651, 8]\n"
     ]
    }
   ],
   "source": [
    "# Récupérer la liste en entier\n",
    "liste_entier = liste_a[:] \n",
    "print(liste_entier)"
   ]
  },
  {
   "cell_type": "markdown",
   "metadata": {},
   "source": [
    "**Ajouter un élément en fin de liste**"
   ]
  },
  {
   "cell_type": "code",
   "execution_count": 9,
   "metadata": {},
   "outputs": [
    {
     "name": "stdout",
     "output_type": "stream",
     "text": [
      "[6156, 561, 56, 51, 651, 8]  : liste_a\n",
      "[6156, 561, 56, 51, 651, 8]  : liste_a_app\n",
      "[6156, 561, 56, 51, 651, 8, 'team mpx']  : liste_a_app\n",
      "[6156, 561, 56, 51, 651, 8, 'team mpx']  : liste_a\n"
     ]
    }
   ],
   "source": [
    "# 1ére solution : on peut utiliser la commande append\n",
    "liste_a_app = liste_a\n",
    "print(liste_a, \" : liste_a\")\n",
    "print(liste_a_app, \" : liste_a_app\")\n",
    "\n",
    "liste_a_app.append(\"team mpx\")\n",
    "print(liste_a_app, \" : liste_a_app\")\n",
    "# le type list est mutable donc il faut en créer une copie pour ne pas modifier l'original\n",
    "print(liste_a, \" : liste_a\")"
   ]
  },
  {
   "cell_type": "code",
   "execution_count": 10,
   "metadata": {},
   "outputs": [
    {
     "name": "stdout",
     "output_type": "stream",
     "text": [
      "3\n",
      "6\n"
     ]
    }
   ],
   "source": [
    "a = 3\n",
    "b = a\n",
    "b += 3\n",
    "print(a)\n",
    "print(b)"
   ]
  },
  {
   "cell_type": "code",
   "execution_count": 11,
   "metadata": {},
   "outputs": [
    {
     "name": "stdout",
     "output_type": "stream",
     "text": [
      "longueur liste_a :  7\n",
      "longueur liste_a :  6\n",
      "[6156, 561, 56, 51, 651, 8]  : liste_a\n",
      "[6156, 561, 56, 51, 651, 8]  : liste_a_app\n",
      "[6156, 561, 56, 51, 651, 8, 'team mpx']  : liste_a_app\n",
      "[6156, 561, 56, 51, 651, 8]  : liste_a\n"
     ]
    }
   ],
   "source": [
    "#Pour régler le problème on crée une copie de liste_a\n",
    "#soit on utilise .copy()\n",
    "#soit on écrit liste_a[:]\n",
    "#la fonction del permet de supprimer un élément d'une liste (la taille de la liste change !)\n",
    "print(\"longueur liste_a : \", len(liste_a))\n",
    "del liste_a[-1]\n",
    "print(\"longueur liste_a : \", len(liste_a))\n",
    "\n",
    "liste_a_app = liste_a.copy()\n",
    "print(liste_a, \" : liste_a\")\n",
    "print(liste_a_app, \" : liste_a_app\")\n",
    "\n",
    "liste_a_app.append(\"team mpx\")\n",
    "print(liste_a_app,\" : liste_a_app\")\n",
    "print(liste_a, \" : liste_a\")"
   ]
  },
  {
   "cell_type": "code",
   "execution_count": 12,
   "metadata": {},
   "outputs": [
    {
     "name": "stdout",
     "output_type": "stream",
     "text": [
      "[6156, 561, 56, 51, 651, 8]  : liste_aa\n",
      "[6156, 561, 56, 51, 651, 8, 'team mpx']  : liste_aa\n",
      "[6156, 561, 56, 51, 651, 8]  : liste_a\n"
     ]
    }
   ],
   "source": [
    "# 2éme solution : on peut utiliser la concaténation\n",
    "liste_aa = liste_a\n",
    "print(liste_aa, \" : liste_aa\")\n",
    "\n",
    "liste_aa = liste_aa + [\"team mpx\"]\n",
    "print(liste_aa,\" : liste_aa\")\n",
    "print(liste_a, \" : liste_a\")"
   ]
  },
  {
   "cell_type": "markdown",
   "metadata": {},
   "source": [
    "**Remplacer un élément dans une liste**"
   ]
  },
  {
   "cell_type": "code",
   "execution_count": 14,
   "metadata": {},
   "outputs": [
    {
     "name": "stdout",
     "output_type": "stream",
     "text": [
      "[6156, 561, 56, 51, \"j'aime pythonner\", 8]\n",
      "[6156, 561, 56, 51, 651, 8]\n"
     ]
    }
   ],
   "source": [
    "# solution : par indice\n",
    "remp_a = liste_a[:]\n",
    "remp_a[4] = \"j'aime pythonner\"\n",
    "print(remp_a)\n",
    "print(liste_a)"
   ]
  },
  {
   "cell_type": "markdown",
   "metadata": {},
   "source": [
    "**Insérer un élément (ou plusieurs) dans une liste**"
   ]
  },
  {
   "cell_type": "code",
   "execution_count": 15,
   "metadata": {},
   "outputs": [
    {
     "name": "stdout",
     "output_type": "stream",
     "text": [
      "[6156, 561, 56, 51, 651, 8] : insert_ele\n",
      "[6156, 561, 'carré', 56, 51, 651, 8] : insert_ele\n"
     ]
    }
   ],
   "source": [
    "# 1ére solution : on peut utiliser la fonction insert\n",
    "insert_ele = liste_a[:]\n",
    "print(insert_ele, \": insert_ele\")\n",
    "insert_ele.insert(2, \"carré\")\n",
    "print(insert_ele, \": insert_ele\")"
   ]
  },
  {
   "cell_type": "code",
   "execution_count": 16,
   "metadata": {},
   "outputs": [
    {
     "name": "stdout",
     "output_type": "stream",
     "text": [
      "[6156, 561, 56, 51, 651, 8] : insert_ele\n",
      "[6156, 561, 'carré', 'triangle', 51, 651, 8] : insert_ele\n"
     ]
    }
   ],
   "source": [
    "# 2éme solution : on peut utiliser la concaténation\n",
    "insert_ele = liste_a[:]\n",
    "print(insert_ele, \": insert_ele\")\n",
    "insert_ele = insert_ele[:2] + [\"carré\", \"triangle\"] + insert_ele[3:]\n",
    "print(insert_ele, \": insert_ele\")"
   ]
  },
  {
   "cell_type": "markdown",
   "metadata": {},
   "source": [
    "**Fonction Pop**"
   ]
  },
  {
   "cell_type": "code",
   "execution_count": 17,
   "metadata": {},
   "outputs": [
    {
     "name": "stdout",
     "output_type": "stream",
     "text": [
      "[6156, 561, 56, 51, 651, 8]\n",
      "[6156, 561, 56, 51, 651]\n"
     ]
    }
   ],
   "source": [
    "# list.pop(indice) permet de supprimer de supprimer un élément à une position\n",
    "# donnée et d'en stocker la valeur dans une variable. \n",
    "# Si on ne spécifie pas la postion, le dernier élément est supprimé.\n",
    "\n",
    "new_list = liste_a[:]\n",
    "print(new_list)\n",
    "\n",
    "new_list.pop()\n",
    "print(new_list)"
   ]
  },
  {
   "cell_type": "code",
   "execution_count": 18,
   "metadata": {},
   "outputs": [
    {
     "name": "stdout",
     "output_type": "stream",
     "text": [
      "[6156, 561, 56, 51, 651, 8]\n",
      "[6156, 56, 51, 651, 8]\n",
      "561\n"
     ]
    }
   ],
   "source": [
    "# On peut récupérer dans une variable l'élément supprimé...\n",
    "new_list = liste_a[:]\n",
    "print(new_list)\n",
    "removed = new_list.pop(1)\n",
    "print(new_list)\n",
    "print(removed)"
   ]
  },
  {
   "cell_type": "code",
   "execution_count": 22,
   "metadata": {},
   "outputs": [
    {
     "name": "stdout",
     "output_type": "stream",
     "text": [
      "[6156, 56, 51]\n",
      "[6156, 56]\n"
     ]
    }
   ],
   "source": [
    "# ...avec la fonction del cette possibilité n'est pas possible\n",
    "print(new_list)\n",
    "del new_list[-1]\n",
    "print(new_list)"
   ]
  },
  {
   "cell_type": "markdown",
   "metadata": {},
   "source": [
    "**Manipuler une liste de listes**"
   ]
  },
  {
   "cell_type": "code",
   "execution_count": 23,
   "metadata": {},
   "outputs": [
    {
     "name": "stdout",
     "output_type": "stream",
     "text": [
      "12\n"
     ]
    }
   ],
   "source": [
    "# On rajoute des crochets graduellement\n",
    "plus_listes = [[1,2,3],[58,36,12],[256,66,58]]\n",
    "douze = plus_listes[1][2]\n",
    "print(douze)"
   ]
  },
  {
   "cell_type": "code",
   "execution_count": 24,
   "metadata": {},
   "outputs": [
    {
     "name": "stdout",
     "output_type": "stream",
     "text": [
      "12\n"
     ]
    }
   ],
   "source": [
    "# On rajoute des crochets graduellement\n",
    "\n",
    "plus_listes = [[1,2,3],[58,36,[12,14]],[256,66,58]]\n",
    "douze = plus_listes[1][2][0]\n",
    "\n",
    "print(douze)"
   ]
  },
  {
   "cell_type": "markdown",
   "metadata": {},
   "source": [
    "**Trier une liste**"
   ]
  },
  {
   "cell_type": "code",
   "execution_count": 25,
   "metadata": {},
   "outputs": [
    {
     "name": "stdout",
     "output_type": "stream",
     "text": [
      "liste initiale : [561, 24, 3, 69], liste finale : [561, 69, 24, 3]\n",
      "liste initiale : ['ronaldo', 'messi', 'fekir'], liste finale : ['fekir', 'messi', 'ronaldo']\n"
     ]
    }
   ],
   "source": [
    "# 1ére solution : sorted() pour un tri ascendant, sorted(reverse = False) pour un tri descendant\n",
    "# VERIFIEZ BIEN QUE VOUS AVEZ LE DROIT DE L'UTILISER !\n",
    "list_numbers = [561,24,3,69]\n",
    "list_str = [\"ronaldo\",\"messi\",\"fekir\"]\n",
    "\n",
    "new_list = sorted(list_numbers, reverse = True) #ascendant\n",
    "new_list_str = sorted(list_str) #descendante\n",
    "\n",
    "print(f\"liste initiale : {list_numbers}, liste finale : {new_list}\")\n",
    "print(f\"liste initiale : {list_str}, liste finale : {new_list_str}\")"
   ]
  },
  {
   "cell_type": "code",
   "execution_count": 1,
   "metadata": {},
   "outputs": [
    {
     "name": "stdout",
     "output_type": "stream",
     "text": [
      "list_str : ['ronaldo', 'messi', 'fekir']\n",
      "list_numbers : [561, 24, 3, 69]\n",
      "list_numbers trié : None\n",
      "list_numbers trié : ['ronaldo', 'messi', 'fekir']\n"
     ]
    }
   ],
   "source": [
    "# 1ére solution : list.sort() pour un tri ascendant, list.sort(reverse = True) pour un tri descendant\n",
    "# bien moins pratique que sorted car modifie directement la liste d'origine ! \n",
    "# VERIFIEZ BIEN QUE VOUS AVEZ LE DROIT DE L'UTILISER !\n",
    "list_numbers = [561,24,3,69]\n",
    "list_str = [\"ronaldo\",\"messi\",\"fekir\"]\n",
    "\n",
    "print(\"list_str :\", list_str)\n",
    "print(\"list_numbers :\", list_numbers)\n",
    "\n",
    "new_list = list_numbers.sort()\n",
    "list_str.sort(reverse = True)\n",
    "\n",
    "print(f\"list_numbers trié : {new_list}\")\n",
    "print(f\"list_numbers trié : {list_str}\")"
   ]
  }
 ],
 "metadata": {
  "kernelspec": {
   "display_name": "Python 3",
   "language": "python",
   "name": "python3"
  },
  "language_info": {
   "codemirror_mode": {
    "name": "ipython",
    "version": 3
   },
   "file_extension": ".py",
   "mimetype": "text/x-python",
   "name": "python",
   "nbconvert_exporter": "python",
   "pygments_lexer": "ipython3",
   "version": "3.8.3"
  }
 },
 "nbformat": 4,
 "nbformat_minor": 4
}
