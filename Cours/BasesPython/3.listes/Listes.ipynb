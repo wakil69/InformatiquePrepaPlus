{
 "cells": [
  {
   "cell_type": "markdown",
   "metadata": {},
   "source": [
    "# **Listes**"
   ]
  },
  {
   "cell_type": "markdown",
   "metadata": {},
   "source": [
    "### Quelques opérations élémentaires"
   ]
  },
  {
   "cell_type": "markdown",
   "metadata": {},
   "source": [
    "Concatenation"
   ]
  },
  {
   "cell_type": "code",
   "execution_count": null,
   "metadata": {},
   "outputs": [],
   "source": [
    "liste_a = [6156, 561]\n",
    "liste_b = [565, 5, 5, \"Prépa+\", (1,2), bool(8), 7]\n",
    "liste_concat = liste_a + liste_b\n",
    "\n",
    "print(liste_concat)"
   ]
  },
  {
   "cell_type": "markdown",
   "metadata": {},
   "source": [
    "Création d'une liste à partir d'un élément"
   ]
  },
  {
   "cell_type": "code",
   "execution_count": null,
   "metadata": {},
   "outputs": [],
   "source": [
    "hec_addict = [\"je veux HEC\"] * 10\n",
    "\n",
    "print(hec_addict)"
   ]
  },
  {
   "cell_type": "markdown",
   "metadata": {},
   "source": [
    "Longueur d'une liste"
   ]
  },
  {
   "cell_type": "code",
   "execution_count": null,
   "metadata": {},
   "outputs": [],
   "source": [
    "print(f\"Longueur de liste_a : {len(liste_a)}  →  Contenu : {liste_a}\")\n",
    "print(f\"Longueur de liste_b : {len(liste_b)}  →  Contenu : {liste_b}\")\n",
    "print(f\"Longueur de liste_concat : {len(liste_concat)}  →  Contenu : {liste_concat}\")"
   ]
  },
  {
   "cell_type": "markdown",
   "metadata": {},
   "source": [
    "Affecter à une variable la valeur d'un élément d'une liste\n",
    "\n",
    "💡l'**index (ou indice) du premier élément** d'une chaine de caractères, d'une liste etc. est **0** !"
   ]
  },
  {
   "cell_type": "code",
   "execution_count": null,
   "metadata": {},
   "outputs": [],
   "source": [
    "prems_a = liste_a[0]\n",
    "prems_b = liste_b[2]\n",
    "\n",
    "print(f\"🟢 Premier élément de liste_a : {prems_a}  →  liste_a = {liste_a}\")\n",
    "print(f\"🔵 Troisième élément de liste_b : {prems_b}  →  liste_b = {liste_b}\")"
   ]
  },
  {
   "cell_type": "markdown",
   "metadata": {},
   "source": [
    "L'**indice du dernier élément** est **len(liste) - 1** ou **-1** !"
   ]
  },
  {
   "cell_type": "code",
   "execution_count": null,
   "metadata": {},
   "outputs": [],
   "source": [
    "dern_a = liste_a[-1]  # Accès direct au dernier élément\n",
    "dern_b = liste_b[len(liste_b)-1]\n",
    "\n",
    "print(f\"🔚 Dernier élément de liste_a : {dern_a}  →  liste_a = {liste_a}\")\n",
    "print(f\"🔚 Dernier élément de liste_b : {dern_b}  →  liste_b = {liste_b}\")"
   ]
  },
  {
   "cell_type": "markdown",
   "metadata": {},
   "source": [
    "Récupérer un **\"morceau\" de liste**: \n",
    "\n",
    "Syntaxe: [indice_debut:indice_fin:pas]\n",
    "\n",
    "🚫 indice_fin est exclus !"
   ]
  },
  {
   "cell_type": "code",
   "execution_count": null,
   "metadata": {},
   "outputs": [],
   "source": [
    "print(f\"Contenu original de liste_b : {liste_b}\")\n",
    "\n",
    "liste_b_entiere = liste_b[:] \n",
    "\n",
    "print(\"Éléments de liste_b :\", liste_b_entiere)\n",
    "\n",
    "morceau_1 = liste_b[1:4]\n",
    "print(f\"Éléments de l'indice 1 à 3 (inclus) : {morceau_1}\")\n",
    "\n",
    "morceau_2 = liste_b[::2]\n",
    "print(f\"Éléments avec un pas de 2 : {morceau_2}\")"
   ]
  },
  {
   "cell_type": "markdown",
   "metadata": {},
   "source": [
    "Ajouter un élément (ou plusieurs) en fin de liste\n",
    "\n",
    "- append(element)\n",
    "\n",
    "- extend([valeurs]) : Ajoute plusieurs éléments à la fin de la liste "
   ]
  },
  {
   "cell_type": "code",
   "execution_count": null,
   "metadata": {},
   "outputs": [],
   "source": [
    "liste_a_app = liste_a[:]  # 💡 équivalent à liste_a.copy()\n",
    "\n",
    "print(\"liste_a (originale)       :\", liste_a)\n",
    "print(\"liste_a_app (copie)       :\", liste_a_app)\n",
    "\n",
    "# ➕ Ajouter un seul élément avec append()\n",
    "liste_a_app.append(\"Prépa+\")\n",
    "print(\"liste_a_app après append  :\", liste_a_app)\n",
    "\n",
    "# ➕ Ajouter plusieurs éléments avec extend()\n",
    "liste_a_app.extend([\"StudExam\", \"Génération Prépa\", \"Mister Prépa\"])\n",
    "print(\"liste_a_app après extend  :\", liste_a_app)\n",
    "\n",
    "# Vérification la liste d'origine n’a pas changé\n",
    "print(\"liste_a reste inchangée   :\", liste_a)"
   ]
  },
  {
   "cell_type": "markdown",
   "metadata": {},
   "source": [
    "Un petit exemple simple pour comprendre l'importance de .copy()\n",
    "\n",
    "Une liste non exhaustive des types mutables en Python:\n",
    "- list\n",
    "- dict\n",
    "- set"
   ]
  },
  {
   "cell_type": "code",
   "execution_count": null,
   "metadata": {},
   "outputs": [],
   "source": [
    "# Exemple avec liste (mutable)\n",
    "a = [3]\n",
    "b = a\n",
    "b.append(3)\n",
    "\n",
    "print(\"a :\", a)  # [3, 3]\n",
    "print(\"b :\", b)  # [3, 3]\n",
    "\n",
    "# Exemple équivalent avec int (immutable)\n",
    "x = 5\n",
    "y = x\n",
    "y += 2\n",
    "\n",
    "print(\"x :\", x)  # 5\n",
    "print(\"y :\", y)  # 7"
   ]
  },
  {
   "cell_type": "markdown",
   "metadata": {},
   "source": [
    "**Supprimer un/ou des élément(s)** d'une liste\n",
    "\n",
    "Syntaxe: \n",
    "\n",
    "- remove(valeur) (⚠️ Supprime seulement la première occurence)\n",
    "\n",
    "- del liste[indice]\n",
    "\n",
    "- utiliser une liste de compréhension pour supprimer toutes les occurences\n",
    "\n",
    "- clear() pour supprimer tous les éléments"
   ]
  },
  {
   "cell_type": "code",
   "execution_count": null,
   "metadata": {},
   "outputs": [],
   "source": [
    "print(\"Liste initiale :\", liste_b)\n",
    "\n",
    "# remove(valeur) — supprime seulement la première occurrence de 20\n",
    "liste_b_remove = liste_b.copy()\n",
    "liste_b_remove.remove(5)\n",
    "print(\"Après remove(5) :\", liste_b_remove)\n",
    "\n",
    "# Compréhension de liste — supprime toutes les occurrences de 20\n",
    "liste_b_compr = [x for x in liste_b if x != 5]\n",
    "print(\"Après suppression de toutes les 20 :\", liste_b_compr)\n",
    "\n",
    "# del liste[indice] — supprime l'élément à l’indice 2\n",
    "liste_b_del = liste_b.copy()\n",
    "del liste_b_del[2]\n",
    "print(\"Après del[2] :\", liste_b_del)\n",
    "\n",
    "# clear() — supprime tous les éléments de la liste\n",
    "liste_b_clear = liste_b.copy()\n",
    "liste_b_clear.clear()\n",
    "print(\"Après clear() :\", liste_b_clear)\n"
   ]
  },
  {
   "cell_type": "markdown",
   "metadata": {},
   "source": [
    "**Remplacer un élément** dans une liste\n",
    "\n",
    "- Par son indice\n",
    "\n",
    "- Remplacer toutes les occurrences d'une valeur\n"
   ]
  },
  {
   "cell_type": "code",
   "execution_count": null,
   "metadata": {},
   "outputs": [],
   "source": [
    "liste_a_copy = liste_a[:] + [6156]\n",
    "\n",
    "print(\"✅ Liste originale :\", liste_a_copy)\n",
    "\n",
    "# Remplacer le 2e élément (indice 1) par 99\n",
    "liste_a_copy[1] = 99\n",
    "print(\"🔄 Après remplacement à l’indice 1 :\", liste_a_copy)\n",
    "\n",
    "# Remplacer toutes les occurrences de 6156 par 999\n",
    "liste_a_copy = [999 if x == 6156 else x for x in liste_a_copy]\n",
    "print(\"🔁 Après remplacement de tous les 20 :\", liste_a_copy)"
   ]
  },
  {
   "cell_type": "markdown",
   "metadata": {},
   "source": [
    "**Insérer un élément (ou plusieurs)** dans une liste\n",
    "\n",
    "- insert(indice, valeur) : insère UN élément à une position précise\n",
    "\n",
    "- liste[indice:indice] = [...] : slicing pour insérer PLUSIEURS éléments sans remplacer"
   ]
  },
  {
   "cell_type": "code",
   "execution_count": null,
   "metadata": {},
   "outputs": [],
   "source": [
    "print(\"liste_a (originale) :\", liste_a)\n",
    "\n",
    "# Utilisation de insert\n",
    "liste_a_insert = liste_a[:]  \n",
    "liste_a_insert.insert(2, 25)  # insère 25 à l’indice 2\n",
    "print(\"Après insert(2, 25) :\", liste_a_insert)\n",
    "\n",
    "# Utilisation de slicing \n",
    "liste_a_slice = liste_a[:]  \n",
    "liste_a_slice[2:2] = [21, 22, 23]  # insère ces éléments à l’indice 2\n",
    "print(\"Après liste[2:2] = [21, 22, 23] :\", liste_a_slice)\n"
   ]
  },
  {
   "cell_type": "markdown",
   "metadata": {},
   "source": [
    "**La fonction Pop**"
   ]
  },
  {
   "cell_type": "markdown",
   "metadata": {},
   "source": [
    "**pop(indice)** permet de **supprimer un élément à une position donnée** et d'en stocker la valeur dans une variable. \n",
    "Si on ne spécifie pas la position, le dernier élément est supprimé."
   ]
  },
  {
   "cell_type": "code",
   "execution_count": null,
   "metadata": {},
   "outputs": [],
   "source": [
    "liste_b_copy = liste_b[:]\n",
    "\n",
    "print(\"Copie initiale de liste_b :\", liste_b_copy)\n",
    "\n",
    "# Retirer le dernier élément avec .pop()\n",
    "dernier_element = liste_b_copy.pop()\n",
    "\n",
    "print(\"Dernier élément retiré :\", dernier_element)\n",
    "print(\"liste après pop() :\", liste_b_copy)\n",
    "\n",
    "# Retirer un élément à un indice donné (ex : indice 1)\n",
    "liste_b_copy = liste_b[:]\n",
    "element_indice = liste_b_copy.pop(1)\n",
    "print(f\"Élément retiré à l’indice 1 :\", element_indice)\n",
    "print(\"liste après pop(1) :\", liste_b_copy)"
   ]
  },
  {
   "cell_type": "markdown",
   "metadata": {},
   "source": [
    "...avec la fonction **del** nous ne pouvons stocker la valeur de la variable"
   ]
  },
  {
   "cell_type": "code",
   "execution_count": null,
   "metadata": {},
   "outputs": [],
   "source": [
    "liste_b_copy = liste_b[:]\n",
    "\n",
    "del liste_b_copy[-1]\n",
    "\n",
    "print(\"📋 liste_b (originale)        :\", liste_b)\n",
    "print(\"🗑️  liste_b_copy après del[-1] :\", liste_b_copy)"
   ]
  },
  {
   "cell_type": "markdown",
   "metadata": {},
   "source": [
    "**Manipuler** une liste de listes\n",
    "\n",
    "On rajoute des crochets graduellement"
   ]
  },
  {
   "cell_type": "code",
   "execution_count": null,
   "metadata": {},
   "outputs": [],
   "source": [
    "matrice = [[1, 2, 3], \n",
    "           [58, 36, [12, 14]], \n",
    "           [256, 66, 58]]\n",
    "\n",
    "# Accès à l'élément en ligne 1, colonne 2\n",
    "douze = matrice[1][2]\n",
    "\n",
    "print(f\"Élément à la ligne 1, colonne 2 de la matrice : {douze}\")"
   ]
  },
  {
   "cell_type": "code",
   "execution_count": null,
   "metadata": {},
   "outputs": [],
   "source": [
    "plus_listes = [[1, 2, 3], \n",
    "               [58, 36, [12, 14]], \n",
    "               [256, 66, 58]]\n",
    "\n",
    "# 🎯 Accès à l'élément 12\n",
    "douze = plus_listes[1][2][0]\n",
    "\n",
    "print(f\"Élément récupéré : {douze} (plus_listes[1][2][0])\")"
   ]
  },
  {
   "cell_type": "markdown",
   "metadata": {},
   "source": [
    "**Trier** une liste\n",
    "\n",
    "- sorted() : ne modifie pas la liste d’origine\n",
    "\n",
    "- .sort() : modifie la liste d'origine"
   ]
  },
  {
   "cell_type": "code",
   "execution_count": null,
   "metadata": {},
   "outputs": [],
   "source": [
    "list_nombres = [561, 24, 3, 69]\n",
    "list_str = [\"ronaldo\", \"messi\", \"neymar\"]\n",
    "\n",
    "# Trier les nombres en ordre décroissant (du plus grand au plus petit)\n",
    "new_list = sorted(list_nombres, reverse=True)\n",
    "\n",
    "# Trier les chaînes en ordre alphabétique croissant (A → Z)\n",
    "new_list_str = sorted(list_str)\n",
    "\n",
    "print(f\"Nombres - initiale : {list_nombres} → triée (décroissant) : {new_list}\")\n",
    "print(f\"Chaînes  - initiale : {list_str} → triée (alphabétique) : {new_list_str}\")"
   ]
  },
  {
   "cell_type": "code",
   "execution_count": null,
   "metadata": {},
   "outputs": [],
   "source": [
    "list_nombres = [561, 24, 3, 69]\n",
    "list_str = [\"ronaldo\", \"messi\", \"fekir\"]\n",
    "\n",
    "print(\"Liste de nombres (originale) :\", list_nombres)\n",
    "print(\"Liste de chaînes (originale) :\", list_str)\n",
    "\n",
    "# Trier les nombres en place (ordre croissant)\n",
    "list_nombres.sort()\n",
    "\n",
    "# Trier les chaînes en place (ordre alphabétique inverse)\n",
    "list_str.sort(reverse=True)\n",
    "\n",
    "print(\"list_nombres triée (croissant) :\", list_nombres)\n",
    "print(\"list_str triée (alphabétique inverse) :\", list_str)"
   ]
  }
 ],
 "metadata": {
  "kernelspec": {
   "display_name": "Python 3",
   "language": "python",
   "name": "python3"
  },
  "language_info": {
   "codemirror_mode": {
    "name": "ipython",
    "version": 3
   },
   "file_extension": ".py",
   "mimetype": "text/x-python",
   "name": "python",
   "nbconvert_exporter": "python",
   "pygments_lexer": "ipython3",
   "version": "3.12.8"
  }
 },
 "nbformat": 4,
 "nbformat_minor": 4
}
