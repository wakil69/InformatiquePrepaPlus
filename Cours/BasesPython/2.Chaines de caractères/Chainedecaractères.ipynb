{
 "cells": [
  {
   "cell_type": "markdown",
   "metadata": {},
   "source": [
    "# **Chaine de caractères**"
   ]
  },
  {
   "cell_type": "markdown",
   "metadata": {},
   "source": [
    "### Quelques opérations élémentaires"
   ]
  },
  {
   "cell_type": "markdown",
   "metadata": {},
   "source": [
    "Concaténation\n"
   ]
  },
  {
   "cell_type": "code",
   "execution_count": 1,
   "metadata": {},
   "outputs": [
    {
     "name": "stdout",
     "output_type": "stream",
     "text": [
      "Ronaldo fait la passe à Messi\n"
     ]
    }
   ],
   "source": [
    "texte_ronaldo = \"Ronaldo fait la passe à \"\n",
    "texte_messi = \"Messi\"\n",
    "ronaldo_to_messi = texte_ronaldo + texte_messi\n",
    "\n",
    "print(ronaldo_to_messi)"
   ]
  },
  {
   "cell_type": "markdown",
   "metadata": {},
   "source": [
    "On peut **multiplier** les chaines de caractères"
   ]
  },
  {
   "cell_type": "code",
   "execution_count": 3,
   "metadata": {},
   "outputs": [
    {
     "name": "stdout",
     "output_type": "stream",
     "text": [
      "Je veux intégrer HEC, Je veux intégrer HEC, Je veux intégrer HEC, Je veux intégrer HEC, Je veux intégrer HEC, Je veux intégrer HEC, Je veux intégrer HEC, Je veux intégrer HEC, Je veux intégrer HEC, Je veux intégrer HEC, \n"
     ]
    }
   ],
   "source": [
    "hec_addict = \"Je veux intégrer HEC, \" * 10\n",
    "\n",
    "print(hec_addict)"
   ]
  },
  {
   "cell_type": "markdown",
   "metadata": {},
   "source": [
    "Longueur d'une chaine de caractères"
   ]
  },
  {
   "cell_type": "code",
   "execution_count": 5,
   "metadata": {},
   "outputs": [
    {
     "name": "stdout",
     "output_type": "stream",
     "text": [
      "La longueur de texte_ronaldo est égale à 24\n",
      "La longueur de texte_messi est égale à 5\n",
      "La longueur de hec_addict est égale à 220\n"
     ]
    }
   ],
   "source": [
    "# \n",
    "\n",
    "print(f'La longueur de texte_ronaldo est égale à', len(texte_ronaldo))\n",
    "print(f'La longueur de texte_messi est égale à', len(texte_messi))\n",
    "print(f'La longueur de hec_addict est égale à', len(hec_addict))"
   ]
  },
  {
   "cell_type": "markdown",
   "metadata": {},
   "source": [
    "Affecter à une variable la valeur d'un élément d'une chaine de caractères\n",
    "\n",
    "💡l'**index (ou indice) du premier élément** d'une chaine de caractères, d'une liste etc. est **0** !"
   ]
  },
  {
   "cell_type": "code",
   "execution_count": 9,
   "metadata": {},
   "outputs": [
    {
     "name": "stdout",
     "output_type": "stream",
     "text": [
      "Le premier élément de texte_ronaldo est R de la chaine de caractères Ronaldo fait la passe à \n",
      "Le premier élément de texte_messi est M de la chaine de caractères Messi\n"
     ]
    }
   ],
   "source": [
    "first_car_ronaldo = texte_ronaldo[0]\n",
    "first_car_messi = texte_messi[0]\n",
    "\n",
    "print('Le premier élément de texte_ronaldo est', first_car_ronaldo, \"de la chaine de caractères\", texte_ronaldo)\n",
    "print('Le premier élément de texte_messi est', first_car_messi, \"de la chaine de caractères\", texte_messi)"
   ]
  },
  {
   "cell_type": "markdown",
   "metadata": {},
   "source": [
    "L'**indice du dernier élément** est **len(str) - 1** ou **-1** !"
   ]
  },
  {
   "cell_type": "code",
   "execution_count": 12,
   "metadata": {},
   "outputs": [
    {
     "name": "stdout",
     "output_type": "stream",
     "text": [
      "Le dernier élément de \"Ronaldo fait la passe à \" est :  \n",
      "Le dernier élément de \"Messi\" est : i\n"
     ]
    }
   ],
   "source": [
    "last_car_ronaldo = texte_ronaldo[len(texte_ronaldo)-1]\n",
    "last_car_messi = texte_messi[-1]\n",
    "\n",
    "print(f'Le dernier élément de \"{texte_ronaldo}\" est :', last_car_ronaldo)\n",
    "print(f'Le dernier élément de \"{texte_messi}\" est :', last_car_messi)"
   ]
  },
  {
   "cell_type": "markdown",
   "metadata": {},
   "source": [
    "Récupérer un **\"morceau\" de chaine de caractères**: \n",
    "\n",
    "Syntaxe: [indice_debut:indice_fin:pas]\n",
    "\n",
    "🚫 indice_fin est exclus !"
   ]
  },
  {
   "cell_type": "code",
   "execution_count": 15,
   "metadata": {},
   "outputs": [
    {
     "name": "stdout",
     "output_type": "stream",
     "text": [
      "Contenu de texte_messi : Messi\n",
      "Sous-chaîne de l’indice 1 à 3 : ess\n",
      "Caractères à intervalle de 2 : Msi\n",
      "Texte inversé : isseM\n"
     ]
    }
   ],
   "source": [
    "print(\"Contenu de texte_messi :\", texte_messi)\n",
    "\n",
    "morceau_1 = texte_messi[1:4]\n",
    "print(\"Sous-chaîne de l’indice 1 à 3 :\", morceau_1)\n",
    "\n",
    "morceau_2 = texte_messi[0:len(texte_messi):2]\n",
    "print(\"Caractères à intervalle de 2 :\", morceau_2)\n",
    "\n",
    "messi_inverse = texte_messi[::-1]\n",
    "print(\"Texte inversé :\", messi_inverse)"
   ]
  },
  {
   "cell_type": "markdown",
   "metadata": {},
   "source": [
    "**Remplacer un élément** dans une chaine de caractères\n",
    "\n",
    "Syntaxe: replace(caractere_a_remplacer, nouveau_caractere, nb_remplacements_max) "
   ]
  },
  {
   "cell_type": "code",
   "execution_count": 17,
   "metadata": {},
   "outputs": [
    {
     "name": "stdout",
     "output_type": "stream",
     "text": [
      "Texte avec Neymar : Neymar fait la passe à \n",
      "Texte original (texte_ronaldo_copy) : Ronaldo fait la passe à \n",
      "Texte modifié (texte_neymar) : Neymar fait la passe à \n",
      "Texte avec remplacement de 'a' par 'u' (remp_a_par_u_neymar) : Neymur fuit la passe à \n"
     ]
    }
   ],
   "source": [
    "texte_ronaldo_copy = texte_ronaldo\n",
    "\n",
    "texte_neymar = texte_ronaldo_copy.replace(\"Ronaldo\", \"Neymar\")\n",
    "print(\"Texte avec Neymar :\", texte_neymar)\n",
    "\n",
    "remp_a_par_u_neymar = texte_neymar.replace(\"a\", \"u\", 2)\n",
    "\n",
    "print(\"Texte original (texte_ronaldo_copy) :\", texte_ronaldo_copy)\n",
    "print(\"Texte modifié (texte_neymar) :\", texte_neymar)\n",
    "print(\"Texte avec remplacement de 'a' par 'u' (remp_a_par_u_neymar) :\", remp_a_par_u_neymar)\n"
   ]
  },
  {
   "cell_type": "markdown",
   "metadata": {},
   "source": [
    "**Insérer un élément (ou plusieurs)** dans une chaine"
   ]
  },
  {
   "cell_type": "code",
   "execution_count": 30,
   "metadata": {},
   "outputs": [
    {
     "name": "stdout",
     "output_type": "stream",
     "text": [
      "Phrase d'origine : Ronaldo fait la passe à Messi\n",
      "Phrase intermédiaire : Ronaldo ne fait la passe à Messi\n",
      "Phrase modifiée  : Ronaldo ne fait pas la passe à Messi\n"
     ]
    }
   ],
   "source": [
    "ronaldo_to_messi_copy = ronaldo_to_messi\n",
    "\n",
    "texte_avec_ne = ronaldo_to_messi_copy[:7] + \" ne\" + ronaldo_to_messi_copy[7:]\n",
    "\n",
    "ronaldo_egoiste = texte_avec_ne[:15] + \" pas\" + texte_avec_ne[15:]\n",
    "\n",
    "print(\"Phrase d'origine :\", ronaldo_to_messi_copy)\n",
    "print(\"Phrase intermédiaire :\", texte_avec_ne)\n",
    "print(\"Phrase modifiée  :\", ronaldo_egoiste)"
   ]
  },
  {
   "cell_type": "markdown",
   "metadata": {},
   "source": [
    "**Modifier la mise en forme** du texte\n",
    "\n",
    "Voir : https://www.w3schools.com/python/python_ref_string.asp\n"
   ]
  },
  {
   "cell_type": "code",
   "execution_count": null,
   "metadata": {},
   "outputs": [
    {
     "name": "stdout",
     "output_type": "stream",
     "text": [
      "ronaldo fait la passe à  : str_a_min\n",
      "RONALDO FAIT LA PASSE À  : str_a_cap\n"
     ]
    }
   ],
   "source": [
    "ronaldo_to_messi_minuscule = ronaldo_to_messi.lower()\n",
    "ronaldo_to_messi_majuscule = ronaldo_to_messi.upper()\n",
    "\n",
    "print(\"Phrase en minuscules :\", ronaldo_to_messi_minuscule)\n",
    "print(\"Phrase en majuscules :\", ronaldo_to_messi_majuscule)"
   ]
  },
  {
   "cell_type": "markdown",
   "metadata": {},
   "source": [
    "**Diviser une chaine de caractères** à l'aide d'un séparateur\n",
    "\n",
    "Syntaxe : split(separateur)"
   ]
  },
  {
   "cell_type": "code",
   "execution_count": 34,
   "metadata": {},
   "outputs": [
    {
     "name": "stdout",
     "output_type": "stream",
     "text": [
      "Texte original : Ronaldo fait la passe à Messi\n",
      "Liste des mots (séparés par espaces) : ['Ronaldo', 'fait', 'la', 'passe', 'à', 'Messi']\n",
      "Texte découpé autour de 'fait' : ['Ronaldo ', ' la passe à Messi']\n"
     ]
    }
   ],
   "source": [
    "ronaldo_to_messi_copy = ronaldo_to_messi\n",
    "liste_mots_ronaldo_texte = ronaldo_to_messi_copy.split(\" \")\n",
    "liste_autour_de_fait = ronaldo_to_messi_copy.split(\"fait\")\n",
    "\n",
    "print(\"Texte original :\", ronaldo_to_messi_copy)\n",
    "print(\"Liste des mots (séparés par espaces) :\", liste_mots_ronaldo_texte)\n",
    "print(\"Texte découpé autour de 'fait' :\", liste_autour_de_fait)\n"
   ]
  },
  {
   "cell_type": "markdown",
   "metadata": {},
   "source": [
    "**Supprimer les caractères gauche et droite** d'une chaine de caractères\n",
    "\n",
    "- strip(caractere_a_supprimer) : enlève les espaces (et caractères spéciaux) des deux côtés de la chaîne, début ET fin.\n",
    "\n",
    "- lstrip(caractere_a_supprimer) : enlève à gauche uniquement (début)\n",
    "\n",
    "- strip(caractere_a_supprimer) :  enlève à droite uniquement (fin)"
   ]
  },
  {
   "cell_type": "code",
   "execution_count": 32,
   "metadata": {},
   "outputs": [
    {
     "name": "stdout",
     "output_type": "stream",
     "text": [
      "Texte original      : '   Prépa+   '\n",
      "strip()             : 'Prépa+'\n",
      "lstrip()            : 'Prépa+   '\n",
      "rstrip()            : '   Prépa+'\n"
     ]
    }
   ],
   "source": [
    "texte = \"   Prépa+   \"\n",
    "texte_strip = texte.strip()\n",
    "texte_lstrip = texte.lstrip()\n",
    "texte_rstrip = texte.rstrip()\n",
    "\n",
    "print(\"Texte original      :\", repr(texte))\n",
    "print(\"strip()             :\", repr(texte_strip))  \n",
    "print(\"lstrip()            :\", repr(texte_lstrip))\n",
    "print(\"rstrip()            :\", repr(texte_rstrip))"
   ]
  },
  {
   "cell_type": "markdown",
   "metadata": {},
   "source": [
    "**Joindre des mots** issus d'une liste, tuple etc.\n",
    "\n",
    "Syntaxe: join(iterable(liste, tuple etc.))"
   ]
  },
  {
   "cell_type": "code",
   "execution_count": 35,
   "metadata": {},
   "outputs": [
    {
     "name": "stdout",
     "output_type": "stream",
     "text": [
      "Liste des mots (origine) : ['Ronaldo', 'fait', 'la', 'passe', 'à', 'Messi']\n",
      "Texte reconstitué avec des espaces : Ronaldo fait la passe à Messi\n",
      "Texte reconstitué avec des tirets  : Ronaldo-fait-la-passe-à-Messi\n"
     ]
    }
   ],
   "source": [
    "print(\"Liste des mots (origine) :\", liste_mots_ronaldo_texte)\n",
    "\n",
    "texte_joint_espace = \" \".join(liste_mots_ronaldo_texte)\n",
    "\n",
    "texte_joint_tiret = \"-\".join(liste_mots_ronaldo_texte)\n",
    "\n",
    "print(\"Texte reconstitué avec des espaces :\", texte_joint_espace)\n",
    "print(\"Texte reconstitué avec des tirets  :\", texte_joint_tiret)"
   ]
  },
  {
   "cell_type": "markdown",
   "metadata": {},
   "source": [
    "**Compter un caractère** en particulier"
   ]
  },
  {
   "cell_type": "code",
   "execution_count": 38,
   "metadata": {},
   "outputs": [
    {
     "name": "stdout",
     "output_type": "stream",
     "text": [
      "Texte analysé : Messi\n",
      "Nombre de 'o' : 0\n",
      "Nombre de 's' : 2\n"
     ]
    }
   ],
   "source": [
    "nb_de_o = texte_messi.count(\"o\")\n",
    "\n",
    "nb_de_fa = texte_messi.count(\"s\")\n",
    "\n",
    "print(\"Texte analysé :\", texte_messi)\n",
    "print(\"Nombre de 'o' :\", nb_de_o)\n",
    "print(\"Nombre de 's' :\", nb_de_fa)"
   ]
  }
 ],
 "metadata": {
  "kernelspec": {
   "display_name": "Python 3",
   "language": "python",
   "name": "python3"
  },
  "language_info": {
   "codemirror_mode": {
    "name": "ipython",
    "version": 3
   },
   "file_extension": ".py",
   "mimetype": "text/x-python",
   "name": "python",
   "nbconvert_exporter": "python",
   "pygments_lexer": "ipython3",
   "version": "3.12.8"
  }
 },
 "nbformat": 4,
 "nbformat_minor": 4
}
