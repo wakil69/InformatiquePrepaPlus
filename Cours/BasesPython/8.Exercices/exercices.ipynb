{
 "cells": [
  {
   "cell_type": "markdown",
   "id": "c36ec1e8",
   "metadata": {},
   "source": [
    "# Exercices : Les bases de Python"
   ]
  },
  {
   "cell_type": "markdown",
   "id": "ee4d1ebe",
   "metadata": {},
   "source": [
    "### Exercice 1 : Quelle est la valeur de a, b et c ?"
   ]
  },
  {
   "cell_type": "code",
   "execution_count": 5,
   "id": "1eaa02c7",
   "metadata": {},
   "outputs": [],
   "source": [
    "a, b, c = 5, 10, 15\n",
    "\n",
    "a = b + c       \n",
    "b = a - c        \n",
    "c = b * 2        \n",
    "a, b = b, a + c \n",
    "c = a - b + c    "
   ]
  },
  {
   "cell_type": "markdown",
   "id": "b0fdae83",
   "metadata": {},
   "source": [
    "#### Correction Exercice 1"
   ]
  },
  {
   "cell_type": "code",
   "execution_count": null,
   "id": "d8c17192",
   "metadata": {},
   "outputs": [
    {
     "name": "stdout",
     "output_type": "stream",
     "text": [
      "La valeur de a est : 10\n",
      "La valeur de b est : 45\n",
      "La valeur de c est : -15\n"
     ]
    }
   ],
   "source": [
    "print(f\"La valeur de a est :\", a) # on checke la dernière affectation: a = b -> a - c -> a (b + c = 25) - c (15) = 10\n",
    "print(f\"La valeur de b est :\", b) \n",
    "print(f\"La valeur de c est :\", c)"
   ]
  },
  {
   "cell_type": "markdown",
   "id": "3d3ae853",
   "metadata": {},
   "source": [
    "### Exercice 2 : Calcul d'une somme\n",
    "\n",
    "Écris de deux manières différentes un programme Python qui :\n",
    "\n",
    "\n",
    "$$\n",
    "S = 1 + \\frac{1}{1.1} + \\frac{1}{1.2} + \\frac{1}{1.3} + \\cdots + \\frac{1}{5.0}\n",
    "$$\n"
   ]
  },
  {
   "cell_type": "markdown",
   "id": "f1886a13",
   "metadata": {},
   "source": [
    "#### Correction Exercice 2"
   ]
  },
  {
   "cell_type": "code",
   "execution_count": null,
   "id": "04f3bbf4",
   "metadata": {},
   "outputs": [
    {
     "name": "stdout",
     "output_type": "stream",
     "text": [
      "Somme (while) : 16.702370843611703\n"
     ]
    }
   ],
   "source": [
    "somme = 1\n",
    "x = 1.1\n",
    "# compteur = 1\n",
    "\n",
    "while x <= 5.0:\n",
    "    somme += 1 / x\n",
    "    # compteur += 1\n",
    "    x += 0.1\n",
    "\n",
    "print(\"Somme (while) :\", somme) # round(somme, 4)\n",
    "# print(\"Nombre de termes :\", compteur)"
   ]
  },
  {
   "cell_type": "code",
   "execution_count": null,
   "id": "e6e1a961",
   "metadata": {},
   "outputs": [
    {
     "name": "stdout",
     "output_type": "stream",
     "text": [
      "Somme (for) : 16.7024\n",
      "Somme (for) : 16.7024\n"
     ]
    }
   ],
   "source": [
    "somme = 1\n",
    "# compteur = 1\n",
    "\n",
    "for i in range(11, 51):  # de 1.1 à 5.0 inclus\n",
    "    x = i / 10\n",
    "    somme += 1 / x\n",
    "    # compteur += 1\n",
    "\n",
    "print(\"Somme (for) :\", round(somme, 4))\n",
    "# print(\"Nombre de termes :\", compteur)\n",
    "\n",
    "\n",
    "# Avec np.arange\n",
    "# import numpy as np\n",
    "\n",
    "# somme = 1\n",
    "# for x in np.arange(1.1, 5.1, 0.1):\n",
    "#     somme += 1 / x\n",
    "\n",
    "# print(\"Somme (for) avec np.arange :\", round(somme, 4))\n",
    "\n",
    "\n",
    "\n",
    "\n",
    "# Plus technique\n",
    "somme = 1 + sum([1 / (i / 10) for i in range(11, 51)])\n",
    "# print(\"Somme (for) plus technique :\", round(somme, 4))"
   ]
  },
  {
   "cell_type": "markdown",
   "id": "57bdc615",
   "metadata": {},
   "source": [
    "### Exercice 3 : Calcul du discriminant\n",
    "\n",
    "Écrire un programme qui demande trois nombres réels $a$, $b$, $c$ avec $a \\ne 0$ puis résout l’équation \n",
    "\n",
    "$(E):\\quad ax^2 + bx + c = 0$\n",
    "\n",
    "d’inconnue $x \\in \\mathbb{R}$, de la manière suivante :\n",
    "\n",
    "- Si $a = 0$, le programme signale une erreur et s’arrête.\n",
    "-  Si $a \\ne 0$, le programme calcule $\\Delta = b^2 - 4ac$ et affiche, selon les cas :\n",
    "   \n",
    "    - pas de solution réelle si $\\Delta < 0$,\n",
    "    - une seule solution réelle si $\\Delta = 0$,\n",
    "    - deux solutions réelles distinctes si $\\Delta > 0$.\n",
    "\n"
   ]
  },
  {
   "cell_type": "code",
   "execution_count": null,
   "id": "15b8ae58",
   "metadata": {},
   "outputs": [
    {
     "name": "stdout",
     "output_type": "stream",
     "text": [
      "Deux solutions réelles : x1 = -1.0 , x2 = 4.0\n"
     ]
    }
   ],
   "source": [
    "import math\n",
    "\n",
    "###  Pas de solution réelle : a = 2, b = 1, c = 3\n",
    "###  Une seule solution réelle : a = 1, b = 6, c = 9\n",
    "###  Deux solutions réelles distinctes : a = 1, b = -3, c = -4\n",
    "\n",
    "a = 2\n",
    "b = 1\n",
    "c = 3\n",
    "\n",
    "if a == 0:\n",
    "    print(\"Erreur : a ne doit pas être nul.\")\n",
    "else:\n",
    "    delta = b**2 - 4 * a * c\n",
    "    if delta < 0:\n",
    "        print(\"Pas de solution réelle.\")\n",
    "    elif delta == 0:\n",
    "        x = -b / (2 * a)\n",
    "        print(\"Une seule solution réelle : x =\", x)\n",
    "    else:\n",
    "        x1 = (-b - math.sqrt(delta)) / (2 * a)\n",
    "        x2 = (-b + math.sqrt(delta)) / (2 * a)\n",
    "        print(\"Deux solutions réelles : x1 =\", x1, \", x2 =\", x2)"
   ]
  },
  {
   "cell_type": "markdown",
   "id": "098672e9",
   "metadata": {},
   "source": [
    "### Exercice 4 : \n",
    "\n",
    "On définit la suite $(u_n)_n$ par $u_0 = 1$, $u_1 = \\frac{1}{2}$, et la relation :\n",
    "\n",
    "$$\n",
    "\\forall k \\in \\mathbb{N}^*, \\quad u_{k+1} = u_k(1 + u_k - u_{k-1})\n",
    "$$\n",
    "\n",
    "---\n",
    "\n",
    "**a)** Écrire un programme qui lit un entier $n$, calcule $u_k$ pour $2 \\leq k \\leq n$, et affiche $u_n$.\n",
    "\n",
    "**b)** On peut montrer que :\n",
    "\n",
    "* La suite $(u_n)$ est décroissante et converge vers un réel $\\ell \\in [0,1]$,\n",
    "* Pour $k \\geq 2$, on a :\n",
    "\n",
    "  $$\n",
    "  0 \\leq u_k - \\ell \\leq 2(u_k - u_{k-1})\n",
    "  $$\n",
    "\n",
    "Écrire un programme qui lit un réel $\\varepsilon > 0$, calcule $u_k$ jusqu'à ce que\n",
    "$|u_{k+1} - u_k| < \\varepsilon$, puis affiche le dernier $u_k$.\n",
    "\n",
    "> Le nombre affiché est une approximation de $\\ell$ à $2\\varepsilon$ près."
   ]
  },
  {
   "cell_type": "markdown",
   "id": "43b3ccc5",
   "metadata": {},
   "source": [
    "#### Correction a)"
   ]
  },
  {
   "cell_type": "code",
   "execution_count": 20,
   "id": "983cf4db",
   "metadata": {},
   "outputs": [
    {
     "name": "stdout",
     "output_type": "stream",
     "text": [
      "u_5 = 0.1737213134765625\n"
     ]
    }
   ],
   "source": [
    "# Entrez un entier n ≥ 2\n",
    "n = 5\n",
    "\n",
    "u_k_minus_1 = 1       # u_0\n",
    "u_k = 0.5             # u_1\n",
    "\n",
    "if n == 0:\n",
    "    print(\"u_0 =\", u_k_minus_1)\n",
    "elif n == 1:\n",
    "    print(\"u_1 =\", u_k)\n",
    "else:\n",
    "    for k in range(2, n + 1):\n",
    "        u_k_plus_1 = u_k * (1 + u_k - u_k_minus_1)\n",
    "        u_k_minus_1, u_k = u_k, u_k_plus_1\n",
    "    print(f\"u_{n} = {u_k}\")\n",
    "    "
   ]
  },
  {
   "cell_type": "markdown",
   "id": "d97e2117",
   "metadata": {},
   "source": [
    "#### Correction b)"
   ]
  },
  {
   "cell_type": "code",
   "execution_count": null,
   "id": "278a7c7a",
   "metadata": {},
   "outputs": [],
   "source": [
    "import matplotlib.pyplot as plt\n",
    "\n",
    "# Paramètres d'initialisation\n",
    "epsilon = 1e-5\n",
    "u_k_minus_1 = 1     # u₀\n",
    "u_k = 0.5           # u₁\n",
    "k = 1\n",
    "\n",
    "# Stockage pour affichage\n",
    "indices = [0, 1]\n",
    "values = [u_k_minus_1, u_k]\n",
    "\n",
    "# Premier calcul\n",
    "u_k_plus_1 = u_k * (1 + u_k - u_k_minus_1)\n",
    "\n",
    "# Itération jusqu'à convergence\n",
    "while abs(u_k_plus_1 - u_k) >= epsilon:\n",
    "    u_k_minus_1, u_k = u_k, u_k_plus_1\n",
    "    k += 1\n",
    "    indices.append(k)\n",
    "    values.append(u_k)\n",
    "    u_k_plus_1 = u_k * (1 + u_k - u_k_minus_1)\n",
    "\n",
    "plt.figure(figsize=(10, 5))\n",
    "plt.plot(indices, values, marker='o')\n",
    "plt.title(\"Approximation de la limite de la suite $u_k$\")\n",
    "plt.xlabel(\"k\")\n",
    "plt.ylabel(\"$u_k$\")\n",
    "plt.grid(True)\n",
    "plt.tight_layout()\n",
    "plt.show()"
   ]
  },
  {
   "cell_type": "code",
   "execution_count": 25,
   "id": "8ea19b11",
   "metadata": {},
   "outputs": [
    {
     "name": "stdout",
     "output_type": "stream",
     "text": [
      "Approximation de ℓ : u_4 = 0.17578125\n"
     ]
    }
   ],
   "source": [
    "# Entrez un réel ε > 0\n",
    "epsilon = 1e-2\n",
    "\n",
    "u_k_minus_1 = 1     # u₀\n",
    "u_k = 0.5           # u₁\n",
    "k = 1\n",
    "\n",
    "u_k_plus_1 = u_k * (1 + u_k - u_k_minus_1)\n",
    "\n",
    "while abs(u_k_plus_1 - u_k) >= epsilon:\n",
    "    u_k_minus_1, u_k = u_k, u_k_plus_1\n",
    "    k += 1\n",
    "    u_k_plus_1 = u_k * (1 + u_k - u_k_minus_1)\n",
    "\n",
    "print(f\"Approximation de ℓ : u_{k} = {u_k}\")"
   ]
  },
  {
   "cell_type": "markdown",
   "id": "eee581d8",
   "metadata": {},
   "source": [
    "### Exercice 6 : algorithme de dichotomie\n",
    "\n",
    "Soient deux réels $a < b$ et une application continue $f : [a, b] \\to \\mathbb{R}$ telle que\n",
    "$f(a)f(b) < 0$.\n",
    "\n",
    "On définit les suites $(a_n)_{n \\in \\mathbb{N}}$ et $(b_n)_{n \\in \\mathbb{N}}$ par les relations suivantes :\n",
    "\n",
    "$$\n",
    "\\begin{cases}\n",
    "a_0 = a,\\quad b_0 = b \\\\\\\\\n",
    "\\text{si } a_n \\text{ et } b_n \\text{ sont définis, on pose } c_n = \\dfrac{a_n + b_n}{2},\\quad p_n = f(a_n)f(c_n) \\\\\\\\\n",
    "\\text{si } p_n < 0,\\quad a_{n+1} = a_n,\\quad b_{n+1} = c_n \\\\\\\\\n",
    "\\text{si } p_n > 0,\\quad a_{n+1} = c_n,\\quad b_{n+1} = b_n \\\\\\\\\n",
    "\\text{si } p_n = 0,\\quad a_{n+1} = b_{n+1} = c_n\n",
    "\\end{cases}\n",
    "$$\n",
    "\n",
    "Les suites $(a_n)$ et $(b_n)$ convergent vers un nombre $c \\in [a, b]$ tel que $a_n \\leq c \\leq b_n$ pour tout $n$, et $f(c) = 0$.\n",
    "\n",
    "\n",
    "a) Dans cette question, on prend la fonction $f(x) = x^2 - 2$.\n",
    "\n",
    "Écrire un programme qui :\n",
    "\n",
    "* Affecte à $a$ le nombre 0, à $b$ le nombre 2\n",
    "* Calcule les termes successifs des suites $(a_n)$ et $(b_n)$ jusqu’à ce que\n",
    "  $b_n - a_n < 10^{-8}$\n",
    "* Affiche une approximation de $\\sqrt{2}$ à $10^{-8}$ près\n",
    "\n",
    "\n",
    "b) Modifier le programme pour qu’il fournisse une approximation à $10^{-6}$ près de l’unique réel $x > 0$ tel que :\n",
    "\n",
    "$$\n",
    "e^x + x = 2\n",
    "$$\n",
    "\n"
   ]
  },
  {
   "cell_type": "code",
   "execution_count": null,
   "id": "792946a5",
   "metadata": {},
   "outputs": [],
   "source": [
    "%matplotlib qt\n",
    "\n",
    "import matplotlib.pyplot as plt\n",
    "from matplotlib.widgets import Button\n",
    "\n",
    "# Fonction cible : f(x) = x^2 - 2\n",
    "def f(x):\n",
    "    return x**2 - 2\n",
    "\n",
    "# Valeurs initiales\n",
    "a, b = 0, 2\n",
    "epsilon = 1e-8\n",
    "\n",
    "# Préparer toutes les étapes de dichotomie\n",
    "def compute_steps(f, a, b, epsilon):\n",
    "    an, bn = a, b\n",
    "    history = []\n",
    "    while abs(bn - an) >= epsilon:\n",
    "        cn = (an + bn) / 2\n",
    "        pn = f(an) * f(cn)\n",
    "        history.append((an, cn, bn))\n",
    "        if pn < 0:\n",
    "            bn = cn\n",
    "        elif pn > 0:\n",
    "            an = cn\n",
    "        else:\n",
    "            break\n",
    "    return history\n",
    "\n",
    "steps = compute_steps(f, a, b, epsilon)\n",
    "current_step = [0]  # index mutable\n",
    "\n",
    "# Création de la figure\n",
    "fig, ax = plt.subplots()\n",
    "plt.subplots_adjust(bottom=0.2)\n",
    "\n",
    "line_an, = ax.plot([], [], 'ro', label='aₙ')\n",
    "line_cn, = ax.plot([], [], 'go', label='cₙ')\n",
    "line_bn, = ax.plot([], [], 'bo', label='bₙ')\n",
    "interval_line, = ax.plot([], [], 'k--', alpha=0.5)\n",
    "\n",
    "# Tracer la fonction\n",
    "x_vals = [i / 100 for i in range(int(a*100), int(b*100)+1)]\n",
    "y_vals = [f(x) for x in x_vals]\n",
    "ax.plot(x_vals, y_vals, label='f(x)')\n",
    "\n",
    "ax.set_title(\"Évolution de la méthode de dichotomie\")\n",
    "ax.set_xlabel(\"x\")\n",
    "ax.set_ylabel(\"f(x)\")\n",
    "ax.grid(True)\n",
    "ax.legend()\n",
    "\n",
    "# Fonction appelée à chaque clic sur le bouton\n",
    "def next_step(event):\n",
    "    if current_step[0] < len(steps):\n",
    "        an, cn, bn = steps[current_step[0]]\n",
    "        line_an.set_data([an], [f(an)])\n",
    "        line_cn.set_data([cn], [f(cn)])\n",
    "        line_bn.set_data([bn], [f(bn)])\n",
    "        interval_line.set_data([an, bn], [0, 0])\n",
    "        fig.canvas.draw()\n",
    "        current_step[0] += 1\n",
    "\n",
    "# Bouton\n",
    "ax_button = plt.axes([0.4, 0.05, 0.2, 0.075])\n",
    "btn = Button(ax_button, 'Étape suivante')\n",
    "btn.on_clicked(next_step)\n",
    "\n",
    "plt.show()\n"
   ]
  },
  {
   "cell_type": "markdown",
   "id": "adb072a5",
   "metadata": {},
   "source": [
    "#### Correction a)"
   ]
  },
  {
   "cell_type": "code",
   "execution_count": 31,
   "id": "15355a02",
   "metadata": {},
   "outputs": [
    {
     "name": "stdout",
     "output_type": "stream",
     "text": [
      "Approximation de √2 : 1.414213564246893\n"
     ]
    }
   ],
   "source": [
    "def f1(x):\n",
    "    return x**2 - 2\n",
    "\n",
    "def dichotomie(f, a, b, epsilon):\n",
    "    if f(a) * f(b) >= 0:\n",
    "        raise ValueError(\"f(a) et f(b) doivent être de signes opposés.\")\n",
    "    \n",
    "    while b - a >= epsilon:\n",
    "        c = (a + b) / 2\n",
    "        if f(a) * f(c) < 0:\n",
    "            b = c\n",
    "        elif f(a) * f(c) > 0:\n",
    "            a = c\n",
    "        else:\n",
    "            return c  # Racine exacte trouvée\n",
    "    return (a + b) / 2\n",
    "\n",
    "# Appel pour √2\n",
    "result_a = dichotomie(f1, a=0, b=2, epsilon=1e-8)\n",
    "print(\"Approximation de √2 :\", result_a)"
   ]
  },
  {
   "cell_type": "markdown",
   "id": "c8e26c03",
   "metadata": {},
   "source": [
    "#### Correction b)"
   ]
  },
  {
   "cell_type": "code",
   "execution_count": null,
   "id": "03de53c8",
   "metadata": {},
   "outputs": [
    {
     "name": "stdout",
     "output_type": "stream",
     "text": [
      "Approximation de la solution de e^x + x = 2 : 0.4428544044494629\n"
     ]
    }
   ],
   "source": [
    "import math\n",
    "\n",
    "def f2(x):\n",
    "    return math.exp(x) + x - 2\n",
    "\n",
    "result_b = dichotomie(f2, a=0, b=1, epsilon=1e-6)\n",
    "print(\"Approximation de la solution de e^x + x = 2 :\", result_b)"
   ]
  },
  {
   "cell_type": "markdown",
   "id": "d94af5a4",
   "metadata": {},
   "source": [
    "### Exercice 7\n",
    "\n",
    "Écrire un programme qui simule des lancers successifs d’un dé équilibré à 20 faces, numérotées de 1 à 20 (icosaèdre régulier), jusqu’à obtenir **une face déjà sortie**, puis affiche le **nombre de lancers effectués**.\n",
    "\n",
    "#### 🔍 Indications\n",
    "\n",
    "* Définir le vecteur-ligne $R = [0, 0, \\dots, 0]$ de longueur 20\n",
    "  (on utilisera une **liste** ou un **array** de type `numpy`).\n",
    "\n",
    "* Pour simuler chaque lancer de dé, on pourra utiliser la fonction (lien utile: https://numpy.org/doc/stable/reference/random/generated/numpy.random.randint.html) :\n",
    "\n",
    "```python\n",
    "numpy.random.randint\n",
    "```\n",
    "\n",
    "* À chaque lancer :\n",
    "\n",
    "  * si la face numéro $j$ sort, ajouter 1 à $R[j]$\n",
    "  * arrêter dès qu’une des composantes du vecteur $R$ atteint la valeur 2\n"
   ]
  },
  {
   "cell_type": "markdown",
   "id": "b8a42c74",
   "metadata": {},
   "source": [
    "#### Correction"
   ]
  },
  {
   "cell_type": "code",
   "execution_count": 98,
   "id": "912267ac",
   "metadata": {},
   "outputs": [
    {
     "name": "stdout",
     "output_type": "stream",
     "text": [
      "La valeur du lancer actuel : 9\n",
      "La valeur du lancer actuel : 9\n",
      "Nombre de lancers effectués avant répétition : 2\n"
     ]
    }
   ],
   "source": [
    "import numpy as np\n",
    "\n",
    "# Initialisation du vecteur R (20 faces)\n",
    "R = np.zeros(20, dtype=int)\n",
    "\n",
    "lancers = 0\n",
    "\n",
    "while True:\n",
    "    face = np.random.randint(0, 20)  # Valeur entre 0 et 19\n",
    "    print(\"La valeur du lancer actuel :\", face + 1)\n",
    "    R[face] += 1\n",
    "    lancers += 1\n",
    "\n",
    "    if R[face] == 2:\n",
    "        break\n",
    "\n",
    "print(\"Nombre de lancers effectués avant répétition :\", lancers)"
   ]
  },
  {
   "cell_type": "markdown",
   "id": "9d2a7e1a",
   "metadata": {},
   "source": [
    "### Exercice 8\n",
    "\n",
    "Dans cet exercice, on importe la bibliothèque `numpy` avec le préfixe `np`,\n",
    "les vecteurs ligne sont des `array`, et on **n’utilisera pas** les fonctions pré-définies `np.min` et `np.max`.\n",
    "\n",
    "a) Écrire une fonction `MAX` prenant en argument un **vecteur ligne** et qui renvoie le **maximum** de ce vecteur (sans utiliser `np.max`).\n",
    "\n",
    "b) Écrire une fonction `MIN` prenant en argument un **vecteur ligne** et qui renvoie le **minimum** de ce vecteur (sans utiliser `np.min`).\n",
    "\n",
    "c) Écrire un programme qui :\n",
    "\n",
    "* Demande deux entiers $n$ et $p$ **strictement positifs**\n",
    "* Choisit au hasard dans $[0, 20]$ les coefficients d’une **matrice** $A$ de $n$ lignes et $p$ colonnes\n",
    "* Détermine pour chaque $i \\in [1, n]$ le **maximum** $M_i$ des coefficients de la $i$-ème ligne de $A$, puis :\n",
    "\n",
    "  * Calcule et affiche $a = \\min(M_1, M_2, \\ldots, M_n)$\n",
    "* Détermine pour chaque $j \\in [1, p]$ le **minimum** $m_j$ des coefficients de la $j$-ème colonne de $A$, puis :\n",
    "\n",
    "  * Calcule et affiche $b = \\max(m_1, m_2, \\ldots, m_p)$\n",
    "\n",
    "\n",
    "Testez plusieurs fois le programme. Vous constaterez qu’on a toujours (on peut le prouver) :\n",
    "\n",
    "$$b \\leq a$$\n",
    "\n"
   ]
  },
  {
   "cell_type": "markdown",
   "id": "f69670ab",
   "metadata": {},
   "source": [
    "#### Correction a)"
   ]
  },
  {
   "cell_type": "code",
   "execution_count": 101,
   "id": "0cdff14f",
   "metadata": {},
   "outputs": [],
   "source": [
    "import numpy as np\n",
    "\n",
    "def MAX(vec):\n",
    "    m = vec[0]\n",
    "    for x in vec[1:]:\n",
    "        if x > m:\n",
    "            m = x\n",
    "    return m"
   ]
  },
  {
   "cell_type": "markdown",
   "id": "274c6f66",
   "metadata": {},
   "source": [
    "#### Correction b)"
   ]
  },
  {
   "cell_type": "code",
   "execution_count": 102,
   "id": "af6d50a9",
   "metadata": {},
   "outputs": [],
   "source": [
    "def MIN(vec):\n",
    "    m = vec[0]\n",
    "    for x in vec[1:]:\n",
    "        if x < m:\n",
    "            m = x\n",
    "    return m\n"
   ]
  },
  {
   "cell_type": "markdown",
   "id": "dff005dd",
   "metadata": {},
   "source": [
    "#### Correction c)"
   ]
  },
  {
   "cell_type": "code",
   "execution_count": 103,
   "id": "5ca1b85d",
   "metadata": {},
   "outputs": [
    {
     "name": "stdout",
     "output_type": "stream",
     "text": [
      "\n",
      "Matrice A :\n",
      " [[10  0 14]\n",
      " [16  8 17]\n",
      " [18 16 15]]\n",
      "\n",
      "Maximum de chaque ligne : [14, 17, 18]\n",
      "a = min(max lignes) = 14\n",
      "\n",
      "Minimum de chaque colonne : [10, 0, 14]\n",
      "b = max(min colonnes) = 14\n",
      "\n",
      "On a bien b = 14 ≤ a = 14\n"
     ]
    }
   ],
   "source": [
    "def main(n, p):\n",
    "    \n",
    "    # Créer une matrice A aléatoire de taille (n, p) avec valeurs entre 0 et 20\n",
    "    A = np.random.randint(0, 21, size=(n, p))\n",
    "    print(\"\\nMatrice A :\\n\", A)\n",
    "\n",
    "    # Calcul de a = min des max de chaque ligne\n",
    "    max_lignes = [MAX(A[i, :]) for i in range(n)]\n",
    "    a = MIN(max_lignes)\n",
    "\n",
    "    # Calcul de b = max des min de chaque colonne\n",
    "    min_colonnes = [MIN(A[:, j]) for j in range(p)]\n",
    "    b = MAX(min_colonnes)\n",
    "\n",
    "    print(\"\\nMaximum de chaque ligne :\", max_lignes)\n",
    "    print(\"a = min(max lignes) =\", a)\n",
    "    print(\"\\nMinimum de chaque colonne :\", min_colonnes)\n",
    "    print(\"b = max(min colonnes) =\", b)\n",
    "    print(f\"\\nOn a bien b = {b} ≤ a = {a}\")\n",
    " \n",
    "n = 3\n",
    "p = 3   \n",
    "main(n, p)"
   ]
  },
  {
   "cell_type": "markdown",
   "id": "92cf490c",
   "metadata": {},
   "source": [
    "### Exercice 9\n",
    "\n",
    "Écrire une suite d’instructions qui trace sur la même figure :\n",
    "\n",
    "* l’axe $Ox$,\n",
    "* et les représentations graphiques (restreintes à l’intervalle $[0, 2\\pi]$) des fonctions :\n",
    "\n",
    "$$\n",
    "f : x \\mapsto \\sin(x)\n",
    "$$\n",
    "\n",
    "$$\n",
    "P_1 : x \\mapsto x\n",
    "$$\n",
    "\n",
    "$$\n",
    "P_2 : x \\mapsto x - \\frac{x^3}{6}\n",
    "$$\n",
    "\n",
    "$$\n",
    "P_3 : x \\mapsto x - \\frac{x^3}{6} + \\frac{x^5}{120}\n",
    "$$"
   ]
  },
  {
   "cell_type": "code",
   "execution_count": 109,
   "id": "95a569a6",
   "metadata": {},
   "outputs": [
    {
     "name": "stderr",
     "output_type": "stream",
     "text": [
      "<>:26: SyntaxWarning: invalid escape sequence '\\s'\n",
      "<>:26: SyntaxWarning: invalid escape sequence '\\s'\n",
      "C:\\Users\\awben\\AppData\\Local\\Temp\\ipykernel_11404\\2041207686.py:26: SyntaxWarning: invalid escape sequence '\\s'\n",
      "  plt.title(\"Approximation de $\\sin(x)$ par des polynômes de Taylor\")\n"
     ]
    },
    {
     "data": {
      "image/png": "[encoded data removed]",
      "text/plain": [
       "<Figure size 1000x600 with 1 Axes>"
      ]
     },
     "metadata": {},
     "output_type": "display_data"
    }
   ],
   "source": [
    "%matplotlib inline\n",
    "\n",
    "import numpy as np\n",
    "import matplotlib.pyplot as plt\n",
    "\n",
    "# Domaine : de 0 à 2π\n",
    "x = np.linspace(0, 2 * np.pi, 500)\n",
    "\n",
    "# Fonctions\n",
    "f = np.sin(x)\n",
    "P1 = x\n",
    "P2 = x - x**3 / 6\n",
    "P3 = x - x**3 / 6 + x**5 / 120\n",
    "\n",
    "# Tracé\n",
    "plt.figure(figsize=(10, 6))\n",
    "\n",
    "# Tracer sin(x)\n",
    "plt.plot(x, f, label=r\"$f(x) = \\sin(x)$\", color='orange', linewidth=2)\n",
    "\n",
    "plt.plot(x, P1, label=r\"$P_1(x) = x$\", linestyle='--')\n",
    "plt.plot(x, P2, label=r\"$P_2(x) = x - \\frac{x^3}{6}$\", linestyle='--')\n",
    "plt.plot(x, P3, label=r\"$P_3(x) = x - \\frac{x^3}{6} + \\frac{x^5}{120}$\", linestyle='--')\n",
    "\n",
    "plt.axhline(0, color='black', linewidth=0.5)\n",
    "plt.title(\"Approximation de $\\sin(x)$ par des polynômes de Taylor\")\n",
    "plt.xlabel(\"x\")\n",
    "plt.ylabel(\"y\")\n",
    "plt.legend()\n",
    "plt.grid(True)\n",
    "plt.xlim(0, 2 * np.pi)\n",
    "plt.ylim(-20, 20)\n",
    "\n",
    "plt.show()\n"
   ]
  },
  {
   "cell_type": "markdown",
   "id": "5af945ca",
   "metadata": {},
   "source": [
    "### Exercice 10 : Trace d'une matrice\n",
    "\n",
    "\n",
    "La **trace** d’une **matrice carrée** est la **somme de ses coefficients diagonaux**.\n",
    "\n",
    "Créer une fonction Python `trace` qui prend en **variable d’entrée** une matrice $A$,\n",
    "et renvoie en **variable de sortie** sa trace :\n",
    "\n",
    "$$\n",
    "\\text{Tr}(A) = \\sum_{i=1}^{n} a_{ii}\n",
    "$$\n"
   ]
  },
  {
   "cell_type": "code",
   "execution_count": 110,
   "id": "297d5010",
   "metadata": {},
   "outputs": [
    {
     "name": "stdout",
     "output_type": "stream",
     "text": [
      "Trace de A : 15\n"
     ]
    }
   ],
   "source": [
    "import numpy as np\n",
    "\n",
    "def trace(A):\n",
    "    \"\"\"\n",
    "    Calcule la trace d'une matrice carrée A.\n",
    "    La trace est la somme des éléments sur la diagonale principale.\n",
    "    \"\"\"\n",
    "    n, p = A.shape\n",
    "    if n != p:\n",
    "        raise ValueError(\"La matrice doit être carrée.\")\n",
    "    \n",
    "    total = 0\n",
    "    for i in range(n):\n",
    "        total += A[i, i]\n",
    "    return total\n",
    "\n",
    "# Exemple d'utilisation\n",
    "A = np.array([\n",
    "    [1, 2, 3],\n",
    "    [4, 5, 6],\n",
    "    [7, 8, 9]\n",
    "])\n",
    "\n",
    "print(\"Trace de A :\", trace(A))  # Doit afficher 1 + 5 + 9 = 15"
   ]
  },
  {
   "cell_type": "markdown",
   "id": "b468443f",
   "metadata": {},
   "source": [
    "### Exercice 11 : Puissance d'une matrice\n",
    "\n",
    "Créer une fonction Python `matrix_power_bis` qui prend en variable d’entrée :\n",
    "\n",
    "* une **matrice carrée** $A$,\n",
    "* un **entier positif** $q$\n",
    "\n",
    "et qui renvoie $A^q$\n",
    "(**sans utiliser** la fonction `matrix_power` de `numpy.linalg`)."
   ]
  },
  {
   "cell_type": "code",
   "execution_count": null,
   "id": "aad336fd",
   "metadata": {},
   "outputs": [
    {
     "name": "stdout",
     "output_type": "stream",
     "text": [
      "A^0 =\n",
      " [[1 0]\n",
      " [0 1]]\n"
     ]
    }
   ],
   "source": [
    "import numpy as np\n",
    "\n",
    "def matrix_power_bis(A, q):\n",
    "    \"\"\"\n",
    "    Renvoie la matrice A puissance q, sans utiliser numpy.linalg.matrix_power.\n",
    "    A doit être une matrice carrée.\n",
    "    \"\"\"\n",
    "    n, p = A.shape\n",
    "    if n != p:\n",
    "        raise ValueError(\"La matrice A doit être carrée.\")\n",
    "    if q < 0:\n",
    "        raise ValueError(\"L'exposant q doit être positif.\")\n",
    "\n",
    "    # Cas particulier : A^0 = I\n",
    "    if q == 0:\n",
    "        return np.identity(n, dtype=A.dtype)\n",
    "\n",
    "    # Initialisation : A^1 = A\n",
    "    result = A.copy()\n",
    "    for _ in range(1, q):\n",
    "        result = np.dot(result, A)\n",
    "    return result\n",
    "\n",
    "# Exemple d'utilisation\n",
    "# A = np.array([\n",
    "#     [2, 1],\n",
    "#     [1, 3]\n",
    "# ])\n",
    "\n",
    "A = np.array([\n",
    "    [1, 0],\n",
    "    [0, 1]\n",
    "])\n",
    "\n",
    "q = 3\n",
    "print(f\"A^{q} =\\n\", matrix_power_bis(A, q))"
   ]
  },
  {
   "cell_type": "markdown",
   "id": "46ad16d3",
   "metadata": {},
   "source": [
    "### Exercice 12 \n",
    "\n",
    "Créer **deux façons** une **liste contenant les diviseurs de** $100$ :\n",
    "\n",
    "* d’abord **avec une boucle** `for`,\n",
    "* puis **en compréhension de liste**.\n"
   ]
  },
  {
   "cell_type": "code",
   "execution_count": 118,
   "id": "61755473",
   "metadata": {},
   "outputs": [
    {
     "name": "stdout",
     "output_type": "stream",
     "text": [
      "Diviseurs de 100 (boucle) : [1, 2, 4, 5, 10, 20, 25, 50, 100]\n"
     ]
    }
   ],
   "source": [
    "diviseurs = []\n",
    "for i in range(1, 101):\n",
    "    if 100 % i == 0:\n",
    "        diviseurs.append(i)\n",
    "\n",
    "print(\"Diviseurs de 100 (boucle) :\", diviseurs)\n",
    "\n"
   ]
  },
  {
   "cell_type": "code",
   "execution_count": 119,
   "id": "4537ff6d",
   "metadata": {},
   "outputs": [
    {
     "name": "stdout",
     "output_type": "stream",
     "text": [
      "Diviseurs de 100 (compréhension) : [1, 2, 4, 5, 10, 20, 25, 50, 100]\n"
     ]
    }
   ],
   "source": [
    "diviseurs = [i for i in range(1, 101) if 100 % i == 0]\n",
    "print(\"Diviseurs de 100 (compréhension) :\", diviseurs)\n"
   ]
  },
  {
   "cell_type": "markdown",
   "id": "45f467ba",
   "metadata": {},
   "source": [
    "### Exercice 13\n",
    "\n",
    "Définir une fonction `retourne` prenant en argument une **liste** et qui **modifie la liste sur place**\n",
    "en **inversant l’ordre des éléments**.\n",
    "\n",
    "Autrement dit, si l’entrée est la liste $L = [x_0, x_1, \\dots, x_n]$,\n",
    "après appel à `retourne(L)`, la liste devient :\n",
    "\n",
    "$$\n",
    "L = [x_n, \\dots, x_1, x_0]\n",
    "$$\n"
   ]
  },
  {
   "cell_type": "code",
   "execution_count": 121,
   "id": "640c4b13",
   "metadata": {},
   "outputs": [
    {
     "name": "stdout",
     "output_type": "stream",
     "text": [
      "[5, 4, 3, 2, 1]\n"
     ]
    }
   ],
   "source": [
    "def retourne(L):\n",
    "    \"\"\"\n",
    "    Inverse l'ordre des éléments de la liste L (modification en place).\n",
    "    \"\"\"\n",
    "    n = len(L)\n",
    "    for i in range(n // 2):\n",
    "        L[i], L[n - 1 - i] = L[n - 1 - i], L[i]\n",
    "        \n",
    "ma_liste = [1, 2, 3, 4, 5]\n",
    "retourne(ma_liste)\n",
    "print(ma_liste) "
   ]
  },
  {
   "cell_type": "code",
   "execution_count": null,
   "id": "25bc9423",
   "metadata": {},
   "outputs": [
    {
     "name": "stdout",
     "output_type": "stream",
     "text": [
      "[5, 4, 3, 2, 1]\n"
     ]
    }
   ],
   "source": [
    "# Meilleure technique\n",
    "def retourne(L):\n",
    "    L[:] = L[::-1] # L[:] : Cela modifie la liste originale (et pas une copie)\n",
    "    \n",
    "ma_liste = [1, 2, 3, 4, 5]\n",
    "retourne(ma_liste)\n",
    "print(ma_liste) "
   ]
  },
  {
   "cell_type": "markdown",
   "id": "90f52f64",
   "metadata": {},
   "source": [
    "### Exercice 14 : Recherche des 2 plus grands éléments d’une liste\n",
    "\n",
    "Appliquer une fonction de recherche des **deux plus grands éléments** d’une liste, avec la liste suivante :\n",
    "\n",
    "$$\n",
    "L = [6,\\ 12,\\ 25,\\ 8,\\ 18,\\ 3]\n",
    "$$\n",
    "\n",
    "On donnera, **à chaque étape de la boucle**, les valeurs de :\n",
    "\n",
    "* $e$ : l’élément courant de la liste\n",
    "* $m_1$ : le plus grand élément trouvé jusqu’à présent\n",
    "* $m_2$ : le deuxième plus grand élément trouvé jusqu’à présent\n",
    "\n",
    "\n",
    "Trouver à la main les **deux plus grands éléments** de la liste (dans l’ordre décroissant),\n",
    "en parcourant la liste de gauche à droite, comme le ferait un algorithme.\n"
   ]
  },
  {
   "cell_type": "code",
   "execution_count": null,
   "id": "6585373d",
   "metadata": {},
   "outputs": [
    {
     "name": "stdout",
     "output_type": "stream",
     "text": [
      "   e     m1     m2\n",
      "------------------\n",
      "   6     12      6\n",
      "  12     12      6\n",
      "  25     25     12\n",
      "   8     25     12\n",
      "  18     25     18\n",
      "   3     25     18\n",
      "\n",
      "Les deux plus grands éléments sont : 25 et 18\n"
     ]
    }
   ],
   "source": [
    "def deux_max(L):\n",
    "    # Initialisation avec les deux premiers éléments triés\n",
    "    if L[0] >= L[1]:\n",
    "        m1, m2 = L[0], L[1]\n",
    "    else:\n",
    "        m1, m2 = L[1], L[0]\n",
    "\n",
    "    print(f\"{'e':>4} {'m1':>6} {'m2':>6}\")\n",
    "    print(\"-\" * 18)\n",
    "    \n",
    "    # Afficher les deux premiers éléments déjà vus\n",
    "    print(f\"{L[0]:>4} {m1:>6} {m2:>6}\")\n",
    "    print(f\"{L[1]:>4} {m1:>6} {m2:>6}\")\n",
    "\n",
    "    # Parcours à partir du 3e élément\n",
    "    for e in L[2:]:\n",
    "        if e > m1:\n",
    "            m2 = m1\n",
    "            m1 = e\n",
    "        elif e > m2:\n",
    "            m2 = e\n",
    "        print(f\"{e:>4} {m1:>6} {m2:>6}\")\n",
    "    \n",
    "    return m1, m2\n",
    "\n",
    "L = [6, 12, 25, 8, 18, 3]\n",
    "max1, max2 = deux_max(L)\n",
    "\n",
    "print(f\"\\nLes deux plus grands éléments sont : {max1} et {max2}\")\n"
   ]
  },
  {
   "cell_type": "markdown",
   "id": "f280ef6f",
   "metadata": {},
   "source": [
    "### Exercice 15 : Recherche des deux valeurs les plus proches d'une liste\n",
    "\n",
    "Appliquer **à la main** la fonction précédente de **recherche des deux valeurs les plus proches** dans la liste :\n",
    "\n",
    "$$\n",
    "L = [4,\\ 0,\\ 10,\\ 12,\\ 3]\n",
    "$$\n",
    "\n",
    "On pourra faire un **tableau**, donnant pour chaque **couple d’indices** $(i, j)$ avec $i < j$, les valeurs suivantes :\n",
    "\n",
    "* $d = |L[i] - L[j]|$ : la distance entre les deux éléments\n",
    "* $m = \\min(d)$ : la distance minimale rencontrée\n",
    "* $a = L[i]$ et $b = L[j]$ : les deux valeurs correspondantes\n"
   ]
  },
  {
   "cell_type": "code",
   "execution_count": 127,
   "id": "bb5d3cdd",
   "metadata": {},
   "outputs": [
    {
     "name": "stdout",
     "output_type": "stream",
     "text": [
      " i  j   L[i]   L[j]  d = |L[i]-L[j]|      m    a    b\n",
      "------------------------------------------------------------\n",
      " 0  1      4      0                4      4    4    0\n",
      " 0  2      4     10                6      4    4    0\n",
      " 0  3      4     12                8      4    4    0\n",
      " 0  4      4      3                1      1    4    3\n",
      " 1  2      0     10               10      1    4    3\n",
      " 1  3      0     12               12      1    4    3\n",
      " 1  4      0      3                3      1    4    3\n",
      " 2  3     10     12                2      1    4    3\n",
      " 2  4     10      3                7      1    4    3\n",
      " 3  4     12      3                9      1    4    3\n",
      "\n",
      "✅ Les deux valeurs les plus proches sont 4 et 3, avec une distance de 1\n"
     ]
    }
   ],
   "source": [
    "def valeurs_les_plus_proches(L):\n",
    "    n = len(L)\n",
    "    # Initialisation avec les deux premiers éléments\n",
    "    a, b = L[0], L[1]\n",
    "    m = abs(a - b)\n",
    "\n",
    "    print(f\"{'i':>2} {'j':>2} {'L[i]':>6} {'L[j]':>6} {'d = |L[i]-L[j]|':>16} {'m':>6} {'a':>4} {'b':>4}\")\n",
    "    print(\"-\" * 60)\n",
    "\n",
    "    for i in range(n):\n",
    "        for j in range(i + 1, n):\n",
    "            d = abs(L[i] - L[j])\n",
    "            if d < m:\n",
    "                m = d\n",
    "                a, b = L[i], L[j]\n",
    "            print(f\"{i:>2} {j:>2} {L[i]:>6} {L[j]:>6} {d:>16} {m:>6} {a:>4} {b:>4}\")\n",
    "\n",
    "    return a, b, m\n",
    "\n",
    "L = [4, 0, 10, 12, 3]\n",
    "a, b, m = valeurs_les_plus_proches(L)\n",
    "\n",
    "print(f\"\\n✅ Les deux valeurs les plus proches sont {a} et {b}, avec une distance de {m}\")"
   ]
  },
  {
   "cell_type": "markdown",
   "id": "975144ee",
   "metadata": {},
   "source": [
    "### Exercice 16 : Recherche dichotomique\n",
    "\n",
    "Appliquer à la main la fonction précédente de **recherche dichotomique** avec l’élément :\n",
    "\n",
    "$$\n",
    "x = 33\n",
    "$$\n",
    "\n",
    "et la liste **triée** :\n",
    "\n",
    "$$\n",
    "L = [2,\\ 5,\\ 9,\\ 15,\\ 21,\\ 33,\\ 37,\\ 44,\\ 60]\n",
    "$$\n",
    "\n",
    "---\n",
    "\n",
    "On pourra s’aider d’un **tableau**.\n",
    "À chaque étape de la boucle, on indiquera :\n",
    "\n",
    "* $a$ : borne inférieure de recherche,\n",
    "* $b$ : borne supérieure,\n",
    "* $m$ : indice du milieu,\n",
    "* la valeur de $L[m]$,\n",
    "* et la **comparaison entre** $L[m]$ **et** $x$.\n",
    "\n"
   ]
  },
  {
   "cell_type": "code",
   "execution_count": 128,
   "id": "025c2ef4",
   "metadata": {},
   "outputs": [
    {
     "name": "stdout",
     "output_type": "stream",
     "text": [
      " a  b  m   L[m] comparaison\n",
      "-----------------------------------\n",
      " 0  8  4     21 < x\n",
      " 5  8  6     37 > x\n",
      " 5  5  5     33 == x ✅\n",
      "\n",
      "✅ 33 trouvé à l’indice 5 (L[5] = 33)\n"
     ]
    }
   ],
   "source": [
    "def recherche_dichotomique(L, x):\n",
    "    a = 0\n",
    "    b = len(L) - 1\n",
    "\n",
    "    print(f\"{'a':>2} {'b':>2} {'m':>2} {'L[m]':>6} {'comparaison'}\")\n",
    "    print(\"-\" * 35)\n",
    "\n",
    "    while a <= b:\n",
    "        m = (a + b) // 2\n",
    "        print(f\"{a:>2} {b:>2} {m:>2} {L[m]:>6} \", end='')\n",
    "\n",
    "        if L[m] == x:\n",
    "            print(\"== x ✅\")\n",
    "            return m\n",
    "        elif L[m] < x:\n",
    "            print(\"< x\")\n",
    "            a = m + 1\n",
    "        else:\n",
    "            print(\"> x\")\n",
    "            b = m - 1\n",
    "\n",
    "    print(\"⛔ x non trouvé\")\n",
    "    return -1\n",
    "\n",
    "# Liste et valeur cible\n",
    "L = [2, 5, 9, 15, 21, 33, 37, 44, 60]\n",
    "x = 33\n",
    "\n",
    "# Lancer la recherche\n",
    "index = recherche_dichotomique(L, x)\n",
    "\n",
    "if index != -1:\n",
    "    print(f\"\\n✅ {x} trouvé à l’indice {index} (L[{index}] = {L[index]})\")\n",
    "else:\n",
    "    print(f\"\\n❌ {x} n’est pas dans la liste\")\n"
   ]
  },
  {
   "cell_type": "markdown",
   "id": "8b51725d",
   "metadata": {},
   "source": [
    "### Exercice 17 : Algorithme glouton - rendu de pièce\n",
    "\n",
    "Un distributeur automatique rend la monnaie à l’aide de pièces de valeurs :\n",
    "\n",
    "$$\n",
    "\\text{pièces disponibles} = [10,\\ 5,\\ 2,\\ 1]\\ \\text{euros}\n",
    "$$\n",
    "\n",
    "Écrire une fonction Python `rendu_glouton(S)` qui prend en argument une somme entière $S$,\n",
    "et retourne la **liste des pièces à rendre** en utilisant **le moins de pièces possible**.\n",
    "\n",
    "### 📌 Exemple attendu :\n",
    "\n",
    "```python\n",
    ">>> rendu_glouton(18)\n",
    "[10, 5, 2, 1]\n",
    "\n",
    ">>> rendu_glouton(7)\n",
    "[5, 2]\n",
    "```\n",
    "\n",
    "#### 🔁 Règles :\n",
    "\n",
    "* On applique une **stratégie gloutonne** :\n",
    "\n",
    "  * à chaque étape, on prend la **plus grande pièce disponible** qui ne dépasse pas le reste à rendre.\n",
    "* On **ne suppose pas** de quantité limitée pour les pièces.\n",
    "\n",
    "---\n",
    "\n",
    "#### ❓ Questions bonus :\n",
    "\n",
    "1. Cet algorithme est-il toujours optimal pour n’importe quel jeu de pièces ?\n",
    "2. Que se passe-t-il si on utilise des pièces de $[9,\\ 6,\\ 1]$ ?\n",
    "\n",
    "Ce problème illustre bien les limites des algorithmes gloutons, qui ne garantissent pas toujours l’optimalité."
   ]
  },
  {
   "cell_type": "code",
   "execution_count": null,
   "id": "e262fb8d",
   "metadata": {},
   "outputs": [],
   "source": [
    "def rendu_glouton(S):\n",
    "    pieces = [10, 5, 2, 1]\n",
    "    rendu = []\n",
    "    reste = S\n",
    "\n",
    "    for piece in pieces:\n",
    "        while reste >= piece:\n",
    "            rendu.append(piece)\n",
    "            reste -= piece\n",
    "    \n",
    "    return rendu\n",
    "\n",
    "# Exemples d'utilisation\n",
    "print(\"Rendu pour 18 € :\", rendu_glouton(18))  # [10, 5, 2, 1]\n",
    "print(\"Rendu pour 7 €  :\", rendu_glouton(7))   # [5, 2]\n"
   ]
  },
  {
   "cell_type": "code",
   "execution_count": 132,
   "id": "c8ffc6ee",
   "metadata": {},
   "outputs": [
    {
     "name": "stdout",
     "output_type": "stream",
     "text": [
      "Rendu pour 18 € : [9, 9]\n",
      "Rendu pour 7 €  : [6, 1]\n",
      "Rendu pour 12 €  : [9, 1, 1, 1]\n"
     ]
    }
   ],
   "source": [
    "def rendu_glouton(S):\n",
    "    pieces = [9, 6, 1]\n",
    "    rendu = []\n",
    "    reste = S\n",
    "\n",
    "    for piece in pieces:\n",
    "        while reste >= piece:\n",
    "            rendu.append(piece)\n",
    "            reste -= piece\n",
    "    \n",
    "    return rendu\n",
    "\n",
    "# Exemples d'utilisation\n",
    "print(\"Rendu pour 18 € :\", rendu_glouton(18))  \n",
    "print(\"Rendu pour 7 €  :\", rendu_glouton(7))  \n",
    "print(\"Rendu pour 12 €  :\", rendu_glouton(12))   # si on avait choisi [6, 6] on aurait utilisé moins de pièces !\n"
   ]
  }
 ],
 "metadata": {
  "kernelspec": {
   "display_name": "Python 3",
   "language": "python",
   "name": "python3"
  },
  "language_info": {
   "codemirror_mode": {
    "name": "ipython",
    "version": 3
   },
   "file_extension": ".py",
   "mimetype": "text/x-python",
   "name": "python",
   "nbconvert_exporter": "python",
   "pygments_lexer": "ipython3",
   "version": "3.12.8"
  }
 },
 "nbformat": 4,
 "nbformat_minor": 5
}
