{
 "cells": [
  {
   "cell_type": "markdown",
   "metadata": {},
   "source": [
    "# **Chaine de caractères**"
   ]
  },
  {
   "cell_type": "markdown",
   "metadata": {},
   "source": [
    "### Quelques opérations élémentaires"
   ]
  },
  {
   "cell_type": "markdown",
   "metadata": {},
   "source": [
    "Concaténation\n"
   ]
  },
  {
   "cell_type": "code",
   "execution_count": null,
   "metadata": {},
   "outputs": [],
   "source": [
    "texte_ronaldo = \"Ronaldo fait la passe à \"\n",
    "texte_messi = \"Messi\"\n",
    "ronaldo_to_messi = texte_ronaldo + texte_messi\n",
    "\n",
    "print(ronaldo_to_messi)"
   ]
  },
  {
   "cell_type": "markdown",
   "metadata": {},
   "source": [
    "On peut **multiplier** les chaines de caractères"
   ]
  },
  {
   "cell_type": "code",
   "execution_count": null,
   "metadata": {},
   "outputs": [],
   "source": [
    "hec_addict = \"Je veux intégrer HEC, \" * 10\n",
    "\n",
    "print(hec_addict)"
   ]
  },
  {
   "cell_type": "markdown",
   "metadata": {},
   "source": [
    "Longueur d'une chaine de caractères"
   ]
  },
  {
   "cell_type": "code",
   "execution_count": null,
   "metadata": {},
   "outputs": [],
   "source": [
    "print(f'La longueur de texte_ronaldo est égale à', len(texte_ronaldo))\n",
    "print(f'La longueur de texte_messi est égale à', len(texte_messi))\n",
    "print(f'La longueur de hec_addict est égale à', len(hec_addict))"
   ]
  },
  {
   "cell_type": "markdown",
   "metadata": {},
   "source": [
    "Affecter à une variable la valeur d'un élément d'une chaine de caractères\n",
    "\n",
    "💡l'**index (ou indice) du premier élément** d'une chaine de caractères, d'une liste etc. est **0** !"
   ]
  },
  {
   "cell_type": "code",
   "execution_count": null,
   "metadata": {},
   "outputs": [],
   "source": [
    "first_car_ronaldo = texte_ronaldo[0]\n",
    "second_car_messi = texte_messi[2]\n",
    "\n",
    "print('Le premier élément de texte_ronaldo est', first_car_ronaldo, \"de la chaine de caractères\", texte_ronaldo)\n",
    "print('Le troisième élément de texte_messi est', second_car_messi, \"de la chaine de caractères\", texte_messi)"
   ]
  },
  {
   "cell_type": "markdown",
   "metadata": {},
   "source": [
    "L'**indice du dernier élément** est **len(str) - 1** ou **-1** !"
   ]
  },
  {
   "cell_type": "code",
   "execution_count": null,
   "metadata": {},
   "outputs": [],
   "source": [
    "last_car_ronaldo = texte_ronaldo[len(texte_ronaldo)-1]\n",
    "last_car_messi = texte_messi[-1]\n",
    "\n",
    "print(f'Le dernier élément de \"{texte_ronaldo}\" est :', last_car_ronaldo)\n",
    "print(f'Le dernier élément de \"{texte_messi}\" est :', last_car_messi)"
   ]
  },
  {
   "cell_type": "markdown",
   "metadata": {},
   "source": [
    "Récupérer un **\"morceau\" de chaine de caractères**: \n",
    "\n",
    "Syntaxe: [indice_debut:indice_fin:pas]\n",
    "\n",
    "🚫 indice_fin est exclus !"
   ]
  },
  {
   "cell_type": "code",
   "execution_count": null,
   "metadata": {},
   "outputs": [],
   "source": [
    "print(\"Contenu de texte_messi :\", texte_messi)\n",
    "\n",
    "morceau_1 = texte_messi[1:4]\n",
    "print(\"Sous-chaîne de l’indice 1 à 3 :\", morceau_1)\n",
    "\n",
    "morceau_2 = texte_messi[0:len(texte_messi):2]\n",
    "print(\"Caractères à intervalle de 2 :\", morceau_2)\n",
    "\n",
    "messi_inverse = texte_messi[::-1]\n",
    "print(\"Texte inversé :\", messi_inverse)"
   ]
  },
  {
   "cell_type": "markdown",
   "metadata": {},
   "source": [
    "**Remplacer un élément** dans une chaine de caractères\n",
    "\n",
    "Syntaxe: replace(caractere_a_remplacer, nouveau_caractere, nb_remplacements_max) "
   ]
  },
  {
   "cell_type": "code",
   "execution_count": null,
   "metadata": {},
   "outputs": [],
   "source": [
    "texte_neymar = texte_ronaldo.replace(\"Ronaldo\", \"Neymar\")\n",
    "print(\"Texte avec Neymar :\", texte_neymar)\n",
    "\n",
    "remp_a_par_u_neymar = texte_neymar.replace(\"a\", \"u\", 2)\n",
    "\n",
    "print(\"Texte original (texte_ronaldo) :\", texte_ronaldo)\n",
    "print(\"Texte modifié (texte_neymar) :\", texte_neymar)\n",
    "print(\"Texte avec remplacement de 'a' par 'u' (remp_a_par_u_neymar) :\", remp_a_par_u_neymar)\n"
   ]
  },
  {
   "cell_type": "markdown",
   "metadata": {},
   "source": [
    "**Insérer un élément (ou plusieurs)** dans une chaine"
   ]
  },
  {
   "cell_type": "code",
   "execution_count": null,
   "metadata": {},
   "outputs": [],
   "source": [
    "texte_avec_ne = ronaldo_to_messi[:7] + \" ne\" + ronaldo_to_messi[7:]\n",
    "\n",
    "ronaldo_egoiste = texte_avec_ne[:15] + \" pas\" + texte_avec_ne[15:]\n",
    "\n",
    "print(\"Phrase d'origine :\", ronaldo_to_messi)\n",
    "print(\"Phrase intermédiaire :\", texte_avec_ne)\n",
    "print(\"Phrase modifiée  :\", ronaldo_egoiste)"
   ]
  },
  {
   "cell_type": "markdown",
   "metadata": {},
   "source": [
    "**Modifier la mise en forme** du texte\n",
    "\n",
    "Voir : https://www.w3schools.com/python/python_ref_string.asp\n"
   ]
  },
  {
   "cell_type": "code",
   "execution_count": null,
   "metadata": {},
   "outputs": [],
   "source": [
    "ronaldo_to_messi_minuscule = ronaldo_to_messi.lower()\n",
    "ronaldo_to_messi_majuscule = ronaldo_to_messi.upper()\n",
    "\n",
    "print(\"Phrase en minuscules :\", ronaldo_to_messi_minuscule)\n",
    "print(\"Phrase en majuscules :\", ronaldo_to_messi_majuscule)"
   ]
  },
  {
   "cell_type": "markdown",
   "metadata": {},
   "source": [
    "**Diviser une chaine de caractères** à l'aide d'un séparateur\n",
    "\n",
    "Syntaxe : split(separateur)"
   ]
  },
  {
   "cell_type": "code",
   "execution_count": null,
   "metadata": {},
   "outputs": [],
   "source": [
    "liste_mots_ronaldo_texte = ronaldo_to_messi.split(\" \")\n",
    "liste_autour_de_fait = ronaldo_to_messi.split(\"fait\")\n",
    "\n",
    "print(\"Texte original :\", ronaldo_to_messi)\n",
    "print(\"Liste des mots (séparés par espaces) :\", liste_mots_ronaldo_texte)\n",
    "print(\"Texte découpé autour de 'fait' :\", liste_autour_de_fait)\n"
   ]
  },
  {
   "cell_type": "markdown",
   "metadata": {},
   "source": [
    "**Supprimer les caractères gauche et droite** d'une chaine de caractères\n",
    "\n",
    "- strip(caractere_a_supprimer) : enlève les espaces (et caractères spéciaux) des deux côtés de la chaîne, début ET fin.\n",
    "\n",
    "- lstrip(caractere_a_supprimer) : enlève à gauche uniquement (début)\n",
    "\n",
    "- strip(caractere_a_supprimer) :  enlève à droite uniquement (fin)"
   ]
  },
  {
   "cell_type": "code",
   "execution_count": null,
   "metadata": {},
   "outputs": [],
   "source": [
    "texte = \"   Prépa+   \"\n",
    "texte_strip = texte.strip()\n",
    "texte_lstrip = texte.lstrip()\n",
    "texte_rstrip = texte.rstrip()\n",
    "\n",
    "print(\"Texte original      :\", repr(texte))\n",
    "print(\"strip()             :\", repr(texte_strip))  \n",
    "print(\"lstrip()            :\", repr(texte_lstrip))\n",
    "print(\"rstrip()            :\", repr(texte_rstrip))"
   ]
  },
  {
   "cell_type": "markdown",
   "metadata": {},
   "source": [
    "**Joindre des mots** issus d'une liste, tuple etc.\n",
    "\n",
    "Syntaxe: join(iterable(liste, tuple etc.))"
   ]
  },
  {
   "cell_type": "code",
   "execution_count": null,
   "metadata": {},
   "outputs": [],
   "source": [
    "print(\"Liste des mots (origine) :\", liste_mots_ronaldo_texte)\n",
    "\n",
    "texte_joint_espace = \" \".join(liste_mots_ronaldo_texte)\n",
    "\n",
    "texte_joint_tiret = \"-\".join(liste_mots_ronaldo_texte)\n",
    "\n",
    "print(\"Texte reconstitué avec des espaces :\", texte_joint_espace)\n",
    "print(\"Texte reconstitué avec des tirets  :\", texte_joint_tiret)"
   ]
  },
  {
   "cell_type": "markdown",
   "metadata": {},
   "source": [
    "**Compter un caractère** en particulier"
   ]
  },
  {
   "cell_type": "code",
   "execution_count": null,
   "metadata": {},
   "outputs": [],
   "source": [
    "nb_de_o = texte_messi.count(\"o\")\n",
    "\n",
    "nb_de_fa = texte_messi.count(\"s\")\n",
    "\n",
    "print(\"Texte analysé :\", texte_messi)\n",
    "print(\"Nombre de 'o' :\", nb_de_o)\n",
    "print(\"Nombre de 's' :\", nb_de_fa)"
   ]
  }
 ],
 "metadata": {
  "kernelspec": {
   "display_name": "Python 3",
   "language": "python",
   "name": "python3"
  },
  "language_info": {
   "codemirror_mode": {
    "name": "ipython",
    "version": 3
   },
   "file_extension": ".py",
   "mimetype": "text/x-python",
   "name": "python",
   "nbconvert_exporter": "python",
   "pygments_lexer": "ipython3",
   "version": "3.12.8"
  }
 },
 "nbformat": 4,
 "nbformat_minor": 4
}
