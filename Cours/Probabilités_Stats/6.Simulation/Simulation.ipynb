{
 "cells": [
  {
   "cell_type": "markdown",
   "id": "2321c2e3",
   "metadata": {},
   "source": [
    "# Simulation"
   ]
  },
  {
   "cell_type": "markdown",
   "id": "8338db7b",
   "metadata": {},
   "source": [
    "**Librairies**"
   ]
  },
  {
   "cell_type": "code",
   "execution_count": null,
   "id": "9a3f206d",
   "metadata": {},
   "outputs": [],
   "source": [
    "import numpy as np\n",
    "import matplotlib.pyplot as plt\n",
    "from scipy.stats import norm"
   ]
  },
  {
   "cell_type": "markdown",
   "id": "5b21031a",
   "metadata": {},
   "source": [
    "Une fonction de répartition (aussi appelée fonction de distribution cumulative, ou CDF en anglais pour Cumulative Distribution Function) est une fonction qui décrit la probabilité qu'une variable aléatoire prenne une valeur inférieure ou égale à un certain seuil.\n",
    "\n",
    "La fonction de répartition de la loi d'une variable aléatoire $X$ peut être approchée grâce à une suite $(x_n)$ de réalisations d’un échantillon de même loi que $X$, en remarquant que :\n",
    "\n",
    "$$\n",
    "F_X(t) = P(X \\leq t) = \\lim_{n \\to +\\infty} \\frac{1}{n} \\sum_{k=1}^{n} \\chi_t(x_k)\n",
    "$$\n",
    "\n",
    "où $\\chi_t(x)$ est la fonction indicatrice de l’intervalle $]-\\infty, t]$ (c’est-à-dire que $\\chi_t(x) = 1$ si $x \\leq t$, sinon $\\chi_t(x) = 0$).\n",
    "\n",
    "\n",
    "Si le vecteur X contient les réalisations, on pourra utiliser les commandes suivantes pour avoir le nombre de réalisations inférieures ou égale à t"
   ]
  },
  {
   "cell_type": "code",
   "execution_count": null,
   "id": "7977d6bd",
   "metadata": {},
   "outputs": [],
   "source": [
    "X = [1.2, 3.5, 0.7, 4.1, 2.8, 3.0, 1.5]\n",
    "\n",
    "# Seuil\n",
    "t = 2.5\n",
    "\n",
    "# --- Méthode 1\n",
    "count1 = len([x for x in X if x <= t])\n",
    "print(\"Méthode 1 (maths appli) :\", count1)\n",
    "\n",
    "# --- Méthode 2\n",
    "X_np = np.array(X)\n",
    "count2 = np.sum(X_np <= t) # sum des True de X_np <= t = [ True False  True False ]\n",
    "print(\"Méthode 2 (NumPy) :\", count2)"
   ]
  },
  {
   "cell_type": "markdown",
   "id": "d9c41e4b",
   "metadata": {},
   "source": [
    "**Pour estimer $P(X \\leq t)$ :**"
   ]
  },
  {
   "cell_type": "code",
   "execution_count": null,
   "id": "c08c0499",
   "metadata": {},
   "outputs": [],
   "source": [
    "# --- Méthode 1\n",
    "p1 = len([x for x in X if x <= t]) / len(X)\n",
    "\n",
    "# --- Méthode 2\n",
    "p2 = np.sum(X_np <= t) / len(X)\n",
    "\n",
    "# --- Affichage amélioré\n",
    "print(f\"Seuil t = {t}\")\n",
    "print(f\"Méthode 1 (maths appli)     : P(X ≤ t) = {p1:.4f}\")\n",
    "print(f\"Méthode 2 (NumPy vectorisé) : P(X ≤ t) = {p2:.4f}\")"
   ]
  },
  {
   "cell_type": "markdown",
   "id": "b8bb257a",
   "metadata": {},
   "source": [
    "### Fonction de répartition empirique\n",
    "\n",
    "La fonction ainsi obtenue est appelée **fonction de répartition empirique** de $X$.\n",
    "On peut tracer la courbe de cette fonction en prenant une subdivision régulière de $N$ points dans un intervalle $[a, b]$."
   ]
  },
  {
   "cell_type": "code",
   "execution_count": null,
   "id": "a73d4c4d",
   "metadata": {},
   "outputs": [],
   "source": [
    "# Exemple : X suit une loi normale\n",
    "X = np.random.normal(loc=0, scale=1, size=1000)\n",
    "\n",
    "# Moyenne et écart-type\n",
    "mu = np.mean(X)\n",
    "sigma = np.std(X)\n",
    "\n",
    "# Proportions dans 1σ, 2σ, 3σ autour de la moyenne\n",
    "p1 = np.mean((X >= mu - sigma) & (X <= mu + sigma))\n",
    "p2 = np.mean((X >= mu - 2*sigma) & (X <= mu + 2*sigma))\n",
    "p3 = np.mean((X >= mu - 3*sigma) & (X <= mu + 3*sigma))\n",
    "\n",
    "print(f\"≈ {p1*100:.1f}% des valeurs dans [μ - σ, μ + σ]\")\n",
    "print(f\"≈ {p2*100:.1f}% des valeurs dans [μ - 2σ, μ + 2σ]\")\n",
    "print(f\"≈ {p3*100:.1f}% des valeurs dans [μ - 3σ, μ + 3σ]\")\n",
    "\n",
    "# Paramètres de tracé\n",
    "a, b, N = -4, 4, 100\n",
    "T = np.linspace(a, b, N)\n",
    "\n",
    "# --- Répartition empirique (méthode rapide)\n",
    "F = [np.sum(X <= t) / len(X) for t in T]\n",
    "\n",
    "# Tracé\n",
    "plt.plot(T, F, label=\"Répartition empirique\", color='blue')\n",
    "\n",
    "# Tracer les lignes verticales aux limites ±σ, ±2σ, ±3σ\n",
    "for k, color in zip([1, 2, 3], ['green', 'orange', 'red']):\n",
    "    plt.axvline(mu - k*sigma, linestyle='--', color=color, label=f\"μ - {k}σ\")\n",
    "    plt.axvline(mu + k*sigma, linestyle='--', color=color, label=f\"μ + {k}σ\")\n",
    "\n",
    "plt.title(\"Fonction de répartition empirique de X\")\n",
    "plt.xlabel(\"t\")\n",
    "plt.ylabel(\"F_X(t)\")\n",
    "plt.grid(True)\n",
    "plt.legend(loc=\"lower right\")\n",
    "plt.show()"
   ]
  },
  {
   "cell_type": "markdown",
   "id": "7d166a16",
   "metadata": {},
   "source": [
    "### Comparaison avec la fonction de répartition théorique\n",
    "\n",
    "Si la loi de $X$ est connue (ex. loi normale), on peut comparer la courbe empirique avec la vraie fonction de répartition.\n",
    "\n",
    "Pour une loi normale $\\mathcal{N}(0, 1)$, on a :\n",
    "\n",
    "$$\n",
    "f_X(x) = \\frac{1}{\\sqrt{2\\pi}} e^{-x^2 / 2}\n",
    "$$\n",
    "\n",
    "Donc la fonction de répartition est :\n",
    "\n",
    "$$\n",
    "F_X(t) = \\int_{-\\infty}^t \\frac{1}{\\sqrt{2\\pi}} e^{-x^2 / 2} \\, dx\n",
    "$$"
   ]
  },
  {
   "cell_type": "code",
   "execution_count": null,
   "id": "e3ce5d1f",
   "metadata": {},
   "outputs": [],
   "source": [
    "F_theo = norm.cdf(T)\n",
    "\n",
    "plt.plot(T, F, label=\"Empirique\")\n",
    "plt.plot(T, F_theo, '--', label=\"Théorique (normale)\")\n",
    "plt.legend()\n",
    "plt.title(\"Comparaison empiriques vs théorique\")\n",
    "plt.grid(True)\n",
    "plt.show()"
   ]
  },
  {
   "cell_type": "markdown",
   "id": "e414becd",
   "metadata": {},
   "source": [
    "### Estimation d’une densité de probabilité à partir d’un échantillon\n",
    "\n",
    "Il est souvent difficile d’estimer la **densité de probabilité** d’une variable aléatoire continue à partir d’un simple échantillon. Si une variable $X$ admet une densité $f_X(t)$ sur un intervalle $[a, b]$, alors on peut approximer cette densité par la probabilité qu’une valeur de l’échantillon tombe dans un petit intervalle autour de $t$, de largeur $h$. En pratique, on découpe l’intervalle $[a, b]$ en $N$ sous-intervalles de largeur $h = \\frac{b - a}{N - 1}$ et on estime la densité en chaque point $t_k$ par la fréquence des valeurs de l’échantillon dans l’intervalle $[t_k, t_{k+1}]$, divisée par la largeur $h$. Cette approche permet d’obtenir une estimation discrète de la densité de $X$, qui peut être visualisée par un graphique.\n",
    "\n",
    "Remarques :\n",
    "\n",
    "* Cette méthode est une forme **d'histogramme lissé** : les hauteurs des barres sont divisées par la largeur $h$.\n",
    "* Elle permet une **visualisation approximative** de la densité d’une loi, ici une **normale centrée réduite**.\n",
    "* Le choix de $N$ est crucial : trop petit → courbe trop grossière ; trop grand → peu de données par intervalle.\n"
   ]
  },
  {
   "cell_type": "code",
   "execution_count": null,
   "id": "e47bd33a",
   "metadata": {},
   "outputs": [],
   "source": [
    "# Paramètres de l’estimation\n",
    "a = -2      # borne inférieure de l’intervalle\n",
    "b = +2      # borne supérieure de l’intervalle\n",
    "N = 20      # nombre de subdivisions\n",
    "h = (b - a) / (N - 1)  # largeur de chaque sous-intervalle\n",
    "\n",
    "# Échantillon simulé : loi normale centrée réduite\n",
    "X = np.random.normal(0, 1, 10000)\n",
    "\n",
    "# Subdivisions de [a, b]\n",
    "T = np.linspace(a, b, N)\n",
    "\n",
    "# Estimation de la densité (méthode vectorisée)\n",
    "F = np.zeros(N - 1)\n",
    "for k in range(N - 1):\n",
    "    F[k] = np.sum((T[k] <= X) & (X < T[k + 1])) / (len(X) * h)\n",
    "\n",
    "# Tracé de la densité estimée\n",
    "plt.plot(T[:-1], F)\n",
    "plt.title(\"Estimation de la densité de X (méthode par histogramme lissé)\")\n",
    "plt.xlabel(\"x\")\n",
    "plt.ylabel(\"Densité estimée f(x)\")\n",
    "plt.grid(True)\n",
    "plt.show()\n"
   ]
  }
 ],
 "metadata": {
  "kernelspec": {
   "display_name": "Python 3",
   "language": "python",
   "name": "python3"
  },
  "language_info": {
   "codemirror_mode": {
    "name": "ipython",
    "version": 3
   },
   "file_extension": ".py",
   "mimetype": "text/x-python",
   "name": "python",
   "nbconvert_exporter": "python",
   "pygments_lexer": "ipython3",
   "version": "3.12.8"
  }
 },
 "nbformat": 4,
 "nbformat_minor": 5
}
