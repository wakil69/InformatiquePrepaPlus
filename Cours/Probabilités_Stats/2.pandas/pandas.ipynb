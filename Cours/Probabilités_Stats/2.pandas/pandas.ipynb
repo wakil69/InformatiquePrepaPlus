{
 "cells": [
  {
   "cell_type": "markdown",
   "id": "3ec143f0",
   "metadata": {},
   "source": [
    "# Pandas - Analyse statistique"
   ]
  },
  {
   "cell_type": "markdown",
   "id": "dcbeed52",
   "metadata": {},
   "source": [
    "**Libraries**"
   ]
  },
  {
   "cell_type": "code",
   "execution_count": null,
   "id": "5848b2ee",
   "metadata": {},
   "outputs": [],
   "source": [
    "# pip install pandas"
   ]
  },
  {
   "cell_type": "code",
   "execution_count": null,
   "id": "a42225e9",
   "metadata": {},
   "outputs": [],
   "source": [
    "import pandas as pd\n",
    "import matplotlib.pyplot as plt\n",
    "import csv"
   ]
  },
  {
   "cell_type": "markdown",
   "id": "f3ce00ab",
   "metadata": {},
   "source": [
    "### Importation des données\n",
    "\n",
    "Lien pandas: https://pandas.pydata.org/docs/"
   ]
  },
  {
   "cell_type": "code",
   "execution_count": null,
   "id": "253e0055",
   "metadata": {},
   "outputs": [],
   "source": [
    "# Méthode 1: avec pandas\n",
    "df = pd.read_csv(\"data_eleves.csv\")\n",
    "print(type(df))\n",
    "print(df)\n",
    "\n",
    "# Méthode 2: avec la librarie csv\n",
    "# with open(\"data_eleves.csv\", newline='', encoding='utf-8') as file:\n",
    "#     reader = csv.reader(file)\n",
    "#     for row in reader:\n",
    "#         print(row)"
   ]
  },
  {
   "cell_type": "markdown",
   "id": "565cd8f5",
   "metadata": {},
   "source": [
    "### Visualisation des données"
   ]
  },
  {
   "cell_type": "markdown",
   "id": "cd5b8ee6",
   "metadata": {},
   "source": [
    "shape donne un tuple (nb_lignes, nb_colonnes)"
   ]
  },
  {
   "cell_type": "code",
   "execution_count": null,
   "id": "cb8c2034",
   "metadata": {},
   "outputs": [],
   "source": [
    "print(f\"Dimensions du DataFrame (lignes, colonnes) : {df.shape}\")\n",
    "print(f\"Nombre de lignes : {df.shape[0]}\")\n",
    "print(f\"Nombre de colonnes : {df.shape[1]}\")"
   ]
  },
  {
   "cell_type": "markdown",
   "id": "d450641b",
   "metadata": {},
   "source": [
    "**Visualisation des premières lignes**\n",
    "\n",
    "df.head() retourne les 5 premières lignes du dataframe."
   ]
  },
  {
   "cell_type": "code",
   "execution_count": null,
   "id": "3d44fa72",
   "metadata": {},
   "outputs": [],
   "source": [
    "df.head() \n",
    "\n",
    "# df.head(10)"
   ]
  },
  {
   "cell_type": "markdown",
   "id": "39b93fce",
   "metadata": {},
   "source": [
    "**Affichage des noms de colonne** d'un dataframe"
   ]
  },
  {
   "cell_type": "code",
   "execution_count": null,
   "id": "086b2a36",
   "metadata": {},
   "outputs": [],
   "source": [
    "print(df.columns)\n",
    "\n",
    "print(type(df.columns))"
   ]
  },
  {
   "cell_type": "markdown",
   "id": "5c9b38eb",
   "metadata": {},
   "source": [
    "**Extraire les valeurs d'une colonne** d'un dataframe"
   ]
  },
  {
   "cell_type": "code",
   "execution_count": null,
   "id": "f88ab8b8",
   "metadata": {},
   "outputs": [],
   "source": [
    "df[\"Nom\"]"
   ]
  },
  {
   "cell_type": "markdown",
   "id": "96bc1bcd",
   "metadata": {},
   "source": [
    "**Indexation**\n",
    "\n",
    "Par défaut, l'index est numérique. "
   ]
  },
  {
   "cell_type": "code",
   "execution_count": null,
   "id": "1049013e",
   "metadata": {},
   "outputs": [],
   "source": [
    "df.head()"
   ]
  },
  {
   "cell_type": "code",
   "execution_count": null,
   "id": "c014199a",
   "metadata": {},
   "outputs": [],
   "source": [
    "df.index\n",
    "\n",
    "# for i in df.index:\n",
    "#     print(i)"
   ]
  },
  {
   "cell_type": "code",
   "execution_count": null,
   "id": "5ed6697f",
   "metadata": {},
   "outputs": [],
   "source": [
    "df = df.set_index(\"Nom\") # par défault, l'index est numérique \n",
    "\n",
    "df.head()"
   ]
  },
  {
   "cell_type": "code",
   "execution_count": null,
   "id": "f3a132f8",
   "metadata": {},
   "outputs": [],
   "source": [
    "df.index"
   ]
  },
  {
   "cell_type": "code",
   "execution_count": null,
   "id": "4920f979",
   "metadata": {},
   "outputs": [],
   "source": [
    "df = df.reset_index() # ou df.reset_index(inplace=True)\n",
    "\n",
    "df.head()"
   ]
  },
  {
   "cell_type": "markdown",
   "id": "9703ed92",
   "metadata": {},
   "source": [
    "**Extraire des valeurs** d'un dataframe\n",
    "\n",
    "iloc[num_ligne, num_colonne] -> utiliser les positions numériques\n",
    "\n",
    "loc[nom_ligne, nom_colonne] -> Utiliser les noms des lignes et colonnes (à indexer)"
   ]
  },
  {
   "cell_type": "code",
   "execution_count": null,
   "id": "5bf487fa",
   "metadata": {},
   "outputs": [],
   "source": [
    "# Exemple 1 : première ligne, quatrième colonne (Maths)\n",
    "valeur = df.iloc[0, 3]\n",
    "print(f\"Note de Maths (1ère ligne) : {valeur}\")\n",
    "\n",
    "# Exemple 2 : troisième ligne, dernière colonne (Anglais)\n",
    "valeur = df.iloc[2, -1]\n",
    "print(f\"Note d'Anglais (3e ligne) : {valeur}\")\n",
    "\n",
    "# Exemple 3 : lignes 0 à 2 (exclu 3), colonnes 3 à 5 (Maths à Français)\n",
    "sous_df = df.iloc[0:3, 3:6]\n",
    "print(sous_df)"
   ]
  },
  {
   "cell_type": "code",
   "execution_count": null,
   "id": "586588c8",
   "metadata": {},
   "outputs": [],
   "source": [
    "# Exemple 1 : note de Physique de la ligne 2\n",
    "valeur = df.loc[2, \"Physique\"]\n",
    "print(f\"Physique de la ligne 2 : {valeur}\")"
   ]
  },
  {
   "cell_type": "code",
   "execution_count": null,
   "id": "c949dec4",
   "metadata": {},
   "outputs": [],
   "source": [
    "df = df.set_index(\"Nom\")\n",
    "\n",
    "# Exemple 1 : note de Physique de Oscar_2\n",
    "valeur = df.loc[\"Oscar_2\", \"Physique\"]\n",
    "print(f\"Physique de Oscar_2 : {valeur}\")\n",
    "\n",
    "# Exemple 2 : ligne complète de Kevin_11\n",
    "ligne_kevin = df.loc[\"Kevin_11\"]\n",
    "print(\"Infos de Kevin_11 :\")\n",
    "print(ligne_kevin)\n",
    "\n",
    "# Exemple 3 : notes de Maths et Français pour Thiago_25\n",
    "notes = df.loc[\"Thiago_25\", [\"Maths\", \"Français\"]]\n",
    "print(\"Notes d'Thiago_25 :\")\n",
    "print(notes)"
   ]
  },
  {
   "cell_type": "markdown",
   "id": "8babacdb",
   "metadata": {},
   "source": [
    "**Extraire des valeurs** d'un dataframe conditionnellement"
   ]
  },
  {
   "cell_type": "code",
   "execution_count": null,
   "id": "429b979f",
   "metadata": {},
   "outputs": [],
   "source": [
    "print(\"Élèves ayant plus de 15 en Maths :\")\n",
    "print(df[df[\"Maths\"] > 15])\n",
    "print(\"\\n\")\n",
    "\n",
    "print(\"Filles en classe de Seconde :\")\n",
    "print(df[(df[\"Sexe\"] == \"F\") & (df[\"Classe\"] == \"Seconde\")])\n",
    "print(\"\\n\")\n",
    "\n",
    "print(\"Élèves ayant moins de 10 en Physique ou en Français :\")\n",
    "print(df[(df[\"Physique\"] < 10) | (df[\"Français\"] < 10)])\n",
    "print(\"\\n\")\n",
    "\n",
    "print(\"Garçons ayant entre 12 et 16 en Maths :\")\n",
    "print(df.loc[\n",
    "    (df[\"Sexe\"] == \"M\") & (df[\"Maths\"].between(12, 16)),\n",
    "    [\"Maths\"] # On ne met pas \"Nom\" c'est l'index ici il y sera par défaut !\n",
    "])"
   ]
  },
  {
   "cell_type": "markdown",
   "id": "aa9d458c",
   "metadata": {},
   "source": [
    "**Trier** un dataframe\n",
    "\n",
    "On utilise sort_values(by=[colonnes], ascending=[boolean])"
   ]
  },
  {
   "cell_type": "code",
   "execution_count": null,
   "id": "726b7fca",
   "metadata": {},
   "outputs": [],
   "source": [
    "print(\"Garçons ayant entre 12 et 16 en Maths (triés par note décroissante) :\")\n",
    "print(\n",
    "    df.loc[\n",
    "        (df[\"Sexe\"] == \"M\") & (df[\"Maths\"].between(12, 16)),\n",
    "        [\"Maths\"]\n",
    "    ].sort_values(by=[\"Maths\"], ascending=[False])\n",
    ")\n",
    "\n",
    "df['Maths_arrondi'] = df['Maths'].round()\n",
    "\n",
    "print(\"Garçons ayant entre 12 et 16 en Maths (triés par note décroissante) et par sexe (triés de manière croissant F avant M) :\")\n",
    "result = df.loc[\n",
    "    df[\"Maths_arrondi\"].between(12, 16),\n",
    "    [\"Sexe\", \"Maths_arrondi\"]\n",
    "].sort_values(by=[\"Maths_arrondi\", \"Sexe\"], ascending=[False, True])\n",
    "\n",
    "print(result)\n",
    "\n"
   ]
  },
  {
   "cell_type": "code",
   "execution_count": null,
   "id": "631a8d65",
   "metadata": {},
   "outputs": [],
   "source": [
    "df.drop(columns=[\"Maths_arrondi\"], inplace=True)\n",
    "\n",
    "df.head()"
   ]
  },
  {
   "cell_type": "markdown",
   "id": "5c4b25ac",
   "metadata": {},
   "source": [
    "### Indicateurs statistiques\n",
    "\n",
    "On utilise pour cela une seule commande : describe()"
   ]
  },
  {
   "cell_type": "code",
   "execution_count": null,
   "id": "26027056",
   "metadata": {},
   "outputs": [],
   "source": [
    "df.describe()"
   ]
  },
  {
   "cell_type": "markdown",
   "id": "737ac061",
   "metadata": {},
   "source": [
    "Nous pouvons isoler les indicateurs."
   ]
  },
  {
   "cell_type": "code",
   "execution_count": null,
   "id": "af3cf958",
   "metadata": {},
   "outputs": [],
   "source": [
    "print(f\"Moyenne en Maths : {df['Maths'].mean():.2f}\")\n",
    "print(f\"Écart-type en Maths : {df['Maths'].std():.2f}\")\n",
    "print(f\"Médiane en Maths : {df['Maths'].median():.2f}\")\n",
    "print(f\"Nombre de valeurs (non nulles) en Maths : {df['Maths'].count()}\")"
   ]
  },
  {
   "cell_type": "markdown",
   "id": "5f126c68",
   "metadata": {},
   "source": [
    "### Travailler avec des séries"
   ]
  },
  {
   "cell_type": "markdown",
   "id": "df54ddcb",
   "metadata": {},
   "source": [
    "Une série en pandas est une structure de données unidimensionnelle (comme une colonne) qui contient des valeurs indexées, un peu comme une liste avec des étiquettes."
   ]
  },
  {
   "cell_type": "code",
   "execution_count": null,
   "id": "c61cd75b",
   "metadata": {},
   "outputs": [],
   "source": [
    "print(type(df[\"Maths\"]))"
   ]
  },
  {
   "cell_type": "code",
   "execution_count": null,
   "id": "88747e22",
   "metadata": {},
   "outputs": [],
   "source": [
    "# Série contenant les notes de Maths\n",
    "notes_maths = df[\"Maths\"]\n",
    "\n",
    "# 1. Afficher les notes de Maths supérieures à 13\n",
    "print(\"Notes de Maths supérieures à 13 :\")\n",
    "print(notes_maths[notes_maths > 13])\n",
    "print(\"\\n\")\n",
    "\n",
    "# 2. Valeurs uniques des notes de Maths\n",
    "notes_maths_unique = notes_maths.unique()\n",
    "print(\"Valeurs uniques des notes de Maths :\")\n",
    "print(notes_maths_unique)\n",
    "print(\"\\n\")\n",
    "\n",
    "# 3. Occurrences de chaque note (arrondies à l'entier pour une meilleure lisibilité)\n",
    "# print(f\"Index (les notes arrondies à l'entier) : {notes_maths.round(0).value_counts().index.to_list()}\")\n",
    "# print(f\"La fréquence des notes : {notes_maths.round(0).value_counts().values}\")\n",
    "# print(notes_maths.round(0).value_counts())\n",
    "notes_maths_occurences = notes_maths.round(0).value_counts().sort_index()\n",
    "print(\"Nombre d'occurrences par note (arrondies) :\")\n",
    "print(notes_maths_occurences)\n",
    "print(\"\\n\")\n",
    "\n",
    "# 4. Occurrences en pourcentage\n",
    "notes_maths_occurences_pourcentages = notes_maths.round(0).value_counts(normalize=True).sort_index()\n",
    "print(\"Pourcentage d'apparition de chaque note (arrondies) :\")\n",
    "print(notes_maths_occurences_pourcentages)\n"
   ]
  },
  {
   "cell_type": "code",
   "execution_count": null,
   "id": "8c479e9e",
   "metadata": {},
   "outputs": [],
   "source": [
    "plt.figure(figsize=(10, 6))\n",
    "plt.bar(notes_maths_occurences_pourcentages.index.astype(str), notes_maths_occurences_pourcentages.values)\n",
    "# ou\n",
    "# notes_maths_occurences_pourcentages.plot.bar()\n",
    "\n",
    "plt.title(\"Pourcentage d'apparition de chaque note en Maths (arrondie à l'entier)\")\n",
    "plt.xlabel(\"Note en Maths\")\n",
    "plt.ylabel(\"Pourcentage\")\n",
    "plt.grid(axis='y', linestyle='--', alpha=0.7)\n",
    "plt.tight_layout()\n",
    "plt.show()"
   ]
  }
 ],
 "metadata": {
  "kernelspec": {
   "display_name": "Python 3",
   "language": "python",
   "name": "python3"
  },
  "language_info": {
   "codemirror_mode": {
    "name": "ipython",
    "version": 3
   },
   "file_extension": ".py",
   "mimetype": "text/x-python",
   "name": "python",
   "nbconvert_exporter": "python",
   "pygments_lexer": "ipython3",
   "version": "3.12.8"
  }
 },
 "nbformat": 4,
 "nbformat_minor": 5
}
