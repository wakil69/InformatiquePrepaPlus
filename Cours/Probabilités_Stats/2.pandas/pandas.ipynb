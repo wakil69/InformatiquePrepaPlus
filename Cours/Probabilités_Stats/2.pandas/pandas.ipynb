{
 "cells": [
  {
   "cell_type": "markdown",
   "id": "3ec143f0",
   "metadata": {},
   "source": [
    "# Pandas - Analyse statistique"
   ]
  },
  {
   "cell_type": "markdown",
   "id": "dcbeed52",
   "metadata": {},
   "source": [
    "**Libraries**"
   ]
  },
  {
   "cell_type": "code",
   "execution_count": 89,
   "id": "5848b2ee",
   "metadata": {},
   "outputs": [],
   "source": [
    "# pip install pandas"
   ]
  },
  {
   "cell_type": "code",
   "execution_count": 90,
   "id": "a42225e9",
   "metadata": {},
   "outputs": [],
   "source": [
    "import pandas as pd\n",
    "import matplotlib.pyplot as plt\n",
    "import csv"
   ]
  },
  {
   "cell_type": "markdown",
   "id": "f3ce00ab",
   "metadata": {},
   "source": [
    "### Importation des données\n",
    "\n",
    "Lien pandas: https://pandas.pydata.org/docs/"
   ]
  },
  {
   "cell_type": "code",
   "execution_count": 91,
   "id": "253e0055",
   "metadata": {},
   "outputs": [
    {
     "name": "stdout",
     "output_type": "stream",
     "text": [
      "<class 'pandas.core.frame.DataFrame'>\n",
      "           Nom Sexe     Classe      Maths   Physique   Français    Anglais\n",
      "0       Gina_0    M    Seconde  13.084187  12.977580  11.220971  17.471988\n",
      "1       Tina_1    F   Première  16.614110   8.726531  11.368379  11.199102\n",
      "2      Oscar_2    M    Seconde  11.892522  14.506986  12.845797  15.029390\n",
      "3      Kevin_3    M    Seconde  16.693931   7.495372  13.682304  11.580926\n",
      "4       Hugo_4    M   Première   4.140765  12.467143  13.553382  13.292102\n",
      "5        Ugo_5    M  Terminale  14.465708  16.476139  14.654366  15.633426\n",
      "6       Gina_6    F    Seconde  12.261141   8.523659  13.026004  14.096420\n",
      "7       Ziad_7    M   Première  11.102978   9.584256  15.907068  12.383383\n",
      "8       Sami_8    F    Seconde  12.275282  11.249128  12.470686  12.927044\n",
      "9     Wassim_9    M    Seconde   6.037293   9.741311  18.440338  15.019397\n",
      "10    Kevin_10    M    Seconde  11.340984   7.123341  14.251335  12.904450\n",
      "11    Kevin_11    M    Seconde  13.071338  11.171407  11.285685  14.324688\n",
      "12   Xavier_12    F  Terminale  16.433682   8.344241  10.858215  14.068358\n",
      "13      Ugo_13    M    Seconde  10.445189  12.183981  13.964945  13.022599\n",
      "14    David_14    F    Seconde   9.574519   8.701439  12.553074  17.215916\n",
      "15     Hugo_15    M    Seconde  10.494729  14.874836  14.428001  14.950879\n",
      "16   Xavier_16    F  Terminale  14.746206   9.041867  13.946475  10.962286\n",
      "17   Claire_17    M    Seconde  12.986253  10.194846  12.854342  14.279681\n",
      "18  Valérie_18    F    Seconde  10.410719  13.033793  11.306413  13.007320\n",
      "19      Ugo_19    F  Terminale  13.539802   7.922839   9.970306  15.278650\n",
      "20      Bob_20    M  Terminale  12.291233  11.568650  12.106970  12.811219\n",
      "21   Xavier_21    F  Terminale  14.905935  14.267857  14.712798  13.827895\n",
      "22    Laura_22    M    Seconde   9.893841   6.981292  13.428187  14.757481\n",
      "23    Farid_23    M  Terminale  11.017014  11.461585  10.508522  15.298633\n",
      "24      Bob_24    M  Terminale  10.823676  11.649707  13.346362  12.199555\n",
      "25      Ugo_25    M    Seconde   7.609455  12.954557  13.770635  13.498248\n",
      "26    Alice_26    M  Terminale  12.888361   7.907623  11.232285  13.287582\n",
      "27    Laura_27    M    Seconde  12.783166   7.698858  13.307450  13.020006\n",
      "28     Ziad_28    M   Première  12.015340  12.304854  13.116417  16.648181\n",
      "29  Valérie_29    M  Terminale  11.296239  11.742462  10.714059  14.607473\n",
      "30    Laura_30    M   Première   7.753888  11.626232  13.715575  12.108674\n",
      "31  Yasmine_31    M    Seconde  10.738064  11.866121  14.121569  15.376793\n",
      "32  Quentin_32    M  Terminale  10.971856   9.299938  15.166102  17.183234\n",
      "33    Jules_33    F    Seconde   9.593168  11.580634  15.107604  15.548698\n",
      "34     Paul_34    F   Première  11.516143  11.732681  10.244661  11.720945\n",
      "35    Oscar_35    M    Seconde  13.212153   9.214121  11.124350  13.273649\n",
      "36    Oscar_36    M  Terminale  17.658558  15.664436  14.030071  15.900367\n",
      "37     Sami_37    M  Terminale  12.523733  12.184582  14.027572  12.938496\n",
      "38    Laura_38    M   Première  12.772651   8.021741  14.030095  14.665729\n",
      "39   Wassim_39    M    Seconde  11.776662  12.641384  20.000000  15.161951\n",
      "40     Tina_40    M  Terminale   6.243686   8.563296  14.141781  12.609604\n",
      "41  Yasmine_41    M   Première  11.920458  12.967712  15.271131  13.910712\n",
      "42   Claire_42    M  Terminale  12.180691  13.896489  14.908004   9.138099\n",
      "43     Emma_43    F  Terminale  19.389726   8.948294  14.302783  12.463419\n",
      "44     Sami_44    M    Seconde  11.422917  13.408440  12.369462  13.621148\n",
      "45     Gina_45    F  Terminale  12.904642  12.031952  14.517938  12.128325\n",
      "46      Ugo_46    M    Seconde  11.895865  13.055150  11.454350  16.448617\n",
      "47     Inès_47    M  Terminale   8.493966  15.741982  12.526363  11.854788\n",
      "48     Gina_48    F   Première  15.428468  10.386530  12.029273  13.339933\n",
      "49    Rania_49    M  Terminale  14.255799   9.115660  13.163748  14.196111\n"
     ]
    }
   ],
   "source": [
    "# Méthode 1: avec pandas\n",
    "df = pd.read_csv(\"data_eleves.csv\")\n",
    "print(type(df))\n",
    "print(df)\n",
    "\n",
    "# Méthode 2: avec la librarie csv\n",
    "# with open(\"data_eleves.csv\", newline='', encoding='utf-8') as file:\n",
    "#     reader = csv.reader(file)\n",
    "#     for row in reader:\n",
    "#         print(row)"
   ]
  },
  {
   "cell_type": "markdown",
   "id": "565cd8f5",
   "metadata": {},
   "source": [
    "### Visualisation des données"
   ]
  },
  {
   "cell_type": "markdown",
   "id": "cd5b8ee6",
   "metadata": {},
   "source": [
    "shape donne un tuple (nb_lignes, nb_colonnes)"
   ]
  },
  {
   "cell_type": "code",
   "execution_count": 92,
   "id": "cb8c2034",
   "metadata": {},
   "outputs": [
    {
     "name": "stdout",
     "output_type": "stream",
     "text": [
      "Dimensions du DataFrame (lignes, colonnes) : (50, 7)\n",
      "Nombre de lignes : 50\n",
      "Nombre de colonnes : 7\n"
     ]
    }
   ],
   "source": [
    "print(f\"Dimensions du DataFrame (lignes, colonnes) : {df.shape}\")\n",
    "print(f\"Nombre de lignes : {df.shape[0]}\")\n",
    "print(f\"Nombre de colonnes : {df.shape[1]}\")"
   ]
  },
  {
   "cell_type": "markdown",
   "id": "d450641b",
   "metadata": {},
   "source": [
    "**Visualisation des premières lignes**\n",
    "\n",
    "df.head() retourne les 5 premières lignes du dataframe."
   ]
  },
  {
   "cell_type": "code",
   "execution_count": 93,
   "id": "3d44fa72",
   "metadata": {},
   "outputs": [
    {
     "data": {
      "text/html": [
       "<div>\n",
       "<style scoped>\n",
       "    .dataframe tbody tr th:only-of-type {\n",
       "        vertical-align: middle;\n",
       "    }\n",
       "\n",
       "    .dataframe tbody tr th {\n",
       "        vertical-align: top;\n",
       "    }\n",
       "\n",
       "    .dataframe thead th {\n",
       "        text-align: right;\n",
       "    }\n",
       "</style>\n",
       "<table border=\"1\" class=\"dataframe\">\n",
       "  <thead>\n",
       "    <tr style=\"text-align: right;\">\n",
       "      <th></th>\n",
       "      <th>Nom</th>\n",
       "      <th>Sexe</th>\n",
       "      <th>Classe</th>\n",
       "      <th>Maths</th>\n",
       "      <th>Physique</th>\n",
       "      <th>Français</th>\n",
       "      <th>Anglais</th>\n",
       "    </tr>\n",
       "  </thead>\n",
       "  <tbody>\n",
       "    <tr>\n",
       "      <th>0</th>\n",
       "      <td>Gina_0</td>\n",
       "      <td>M</td>\n",
       "      <td>Seconde</td>\n",
       "      <td>13.084187</td>\n",
       "      <td>12.977580</td>\n",
       "      <td>11.220971</td>\n",
       "      <td>17.471988</td>\n",
       "    </tr>\n",
       "    <tr>\n",
       "      <th>1</th>\n",
       "      <td>Tina_1</td>\n",
       "      <td>F</td>\n",
       "      <td>Première</td>\n",
       "      <td>16.614110</td>\n",
       "      <td>8.726531</td>\n",
       "      <td>11.368379</td>\n",
       "      <td>11.199102</td>\n",
       "    </tr>\n",
       "    <tr>\n",
       "      <th>2</th>\n",
       "      <td>Oscar_2</td>\n",
       "      <td>M</td>\n",
       "      <td>Seconde</td>\n",
       "      <td>11.892522</td>\n",
       "      <td>14.506986</td>\n",
       "      <td>12.845797</td>\n",
       "      <td>15.029390</td>\n",
       "    </tr>\n",
       "    <tr>\n",
       "      <th>3</th>\n",
       "      <td>Kevin_3</td>\n",
       "      <td>M</td>\n",
       "      <td>Seconde</td>\n",
       "      <td>16.693931</td>\n",
       "      <td>7.495372</td>\n",
       "      <td>13.682304</td>\n",
       "      <td>11.580926</td>\n",
       "    </tr>\n",
       "    <tr>\n",
       "      <th>4</th>\n",
       "      <td>Hugo_4</td>\n",
       "      <td>M</td>\n",
       "      <td>Première</td>\n",
       "      <td>4.140765</td>\n",
       "      <td>12.467143</td>\n",
       "      <td>13.553382</td>\n",
       "      <td>13.292102</td>\n",
       "    </tr>\n",
       "  </tbody>\n",
       "</table>\n",
       "</div>"
      ],
      "text/plain": [
       "       Nom Sexe    Classe      Maths   Physique   Français    Anglais\n",
       "0   Gina_0    M   Seconde  13.084187  12.977580  11.220971  17.471988\n",
       "1   Tina_1    F  Première  16.614110   8.726531  11.368379  11.199102\n",
       "2  Oscar_2    M   Seconde  11.892522  14.506986  12.845797  15.029390\n",
       "3  Kevin_3    M   Seconde  16.693931   7.495372  13.682304  11.580926\n",
       "4   Hugo_4    M  Première   4.140765  12.467143  13.553382  13.292102"
      ]
     },
     "execution_count": 93,
     "metadata": {},
     "output_type": "execute_result"
    }
   ],
   "source": [
    "df.head() \n",
    "\n",
    "# df.head(10)"
   ]
  },
  {
   "cell_type": "markdown",
   "id": "39b93fce",
   "metadata": {},
   "source": [
    "**Affichage des noms de colonne** d'un dataframe"
   ]
  },
  {
   "cell_type": "code",
   "execution_count": 94,
   "id": "086b2a36",
   "metadata": {},
   "outputs": [
    {
     "name": "stdout",
     "output_type": "stream",
     "text": [
      "Index(['Nom', 'Sexe', 'Classe', 'Maths', 'Physique', 'Français', 'Anglais'], dtype='object')\n",
      "<class 'pandas.core.indexes.base.Index'>\n"
     ]
    }
   ],
   "source": [
    "print(df.columns)\n",
    "\n",
    "print(type(df.columns))"
   ]
  },
  {
   "cell_type": "markdown",
   "id": "5c9b38eb",
   "metadata": {},
   "source": [
    "**Extraire les valeurs d'une colonne** d'un dataframe"
   ]
  },
  {
   "cell_type": "code",
   "execution_count": 95,
   "id": "f88ab8b8",
   "metadata": {},
   "outputs": [
    {
     "data": {
      "text/plain": [
       "0         Gina_0\n",
       "1         Tina_1\n",
       "2        Oscar_2\n",
       "3        Kevin_3\n",
       "4         Hugo_4\n",
       "5          Ugo_5\n",
       "6         Gina_6\n",
       "7         Ziad_7\n",
       "8         Sami_8\n",
       "9       Wassim_9\n",
       "10      Kevin_10\n",
       "11      Kevin_11\n",
       "12     Xavier_12\n",
       "13        Ugo_13\n",
       "14      David_14\n",
       "15       Hugo_15\n",
       "16     Xavier_16\n",
       "17     Claire_17\n",
       "18    Valérie_18\n",
       "19        Ugo_19\n",
       "20        Bob_20\n",
       "21     Xavier_21\n",
       "22      Laura_22\n",
       "23      Farid_23\n",
       "24        Bob_24\n",
       "25        Ugo_25\n",
       "26      Alice_26\n",
       "27      Laura_27\n",
       "28       Ziad_28\n",
       "29    Valérie_29\n",
       "30      Laura_30\n",
       "31    Yasmine_31\n",
       "32    Quentin_32\n",
       "33      Jules_33\n",
       "34       Paul_34\n",
       "35      Oscar_35\n",
       "36      Oscar_36\n",
       "37       Sami_37\n",
       "38      Laura_38\n",
       "39     Wassim_39\n",
       "40       Tina_40\n",
       "41    Yasmine_41\n",
       "42     Claire_42\n",
       "43       Emma_43\n",
       "44       Sami_44\n",
       "45       Gina_45\n",
       "46        Ugo_46\n",
       "47       Inès_47\n",
       "48       Gina_48\n",
       "49      Rania_49\n",
       "Name: Nom, dtype: object"
      ]
     },
     "execution_count": 95,
     "metadata": {},
     "output_type": "execute_result"
    }
   ],
   "source": [
    "df[\"Nom\"]"
   ]
  },
  {
   "cell_type": "markdown",
   "id": "9703ed92",
   "metadata": {},
   "source": [
    "**Extraire des valeurs** d'un dataframe\n",
    "\n",
    "iloc[num_ligne, num_colonne] -> utiliser les positions numériques\n",
    "\n",
    "loc[nom_ligne, nom_colonne] -> Utiliser les noms des lignes et colonnes (à indexer)"
   ]
  },
  {
   "cell_type": "code",
   "execution_count": 96,
   "id": "5bf487fa",
   "metadata": {},
   "outputs": [
    {
     "name": "stdout",
     "output_type": "stream",
     "text": [
      "Note de Maths (1ère ligne) : 13.08418681652524\n",
      "Note d'Anglais (3e ligne) : 15.029390285561773\n",
      "       Maths   Physique   Français\n",
      "0  13.084187  12.977580  11.220971\n",
      "1  16.614110   8.726531  11.368379\n",
      "2  11.892522  14.506986  12.845797\n"
     ]
    }
   ],
   "source": [
    "# Exemple 1 : première ligne, quatrième colonne (Maths)\n",
    "valeur = df.iloc[0, 3]\n",
    "print(f\"Note de Maths (1ère ligne) : {valeur}\")\n",
    "\n",
    "# Exemple 2 : troisième ligne, dernière colonne (Anglais)\n",
    "valeur = df.iloc[2, -1]\n",
    "print(f\"Note d'Anglais (3e ligne) : {valeur}\")\n",
    "\n",
    "# Exemple 3 : lignes 0 à 2 (exclu 3), colonnes 3 à 5 (Maths à Français)\n",
    "sous_df = df.iloc[0:3, 3:6]\n",
    "print(sous_df)"
   ]
  },
  {
   "cell_type": "code",
   "execution_count": 97,
   "id": "586588c8",
   "metadata": {},
   "outputs": [
    {
     "name": "stdout",
     "output_type": "stream",
     "text": [
      "Physique de la ligne 2 : 14.506985777340248\n",
      "Physique de Oscar_2 : 14.506985777340248\n",
      "Infos de Bob :\n",
      "Sexe                M\n",
      "Classe        Seconde\n",
      "Maths       13.071338\n",
      "Physique    11.171407\n",
      "Français    11.285685\n",
      "Anglais     14.324688\n",
      "Name: Kevin_11, dtype: object\n",
      "Notes d'Ugo_25 :\n",
      "Maths        7.609455\n",
      "Français    13.770635\n",
      "Name: Ugo_25, dtype: object\n"
     ]
    }
   ],
   "source": [
    "# Exemple 1 : note de Physique de la ligne 2\n",
    "valeur = df.loc[2, \"Physique\"]\n",
    "print(f\"Physique de la ligne 2 : {valeur}\")\n",
    "\n",
    "df = df.set_index(\"Nom\") # par défault, l'index est numérique \n",
    "\n",
    "# Exemple 1 : note de Physique de Oscar_2\n",
    "valeur = df.loc[\"Oscar_2\", \"Physique\"]\n",
    "print(f\"Physique de Oscar_2 : {valeur}\")\n",
    "\n",
    "# Exemple 2 : ligne complète de Kevin_11\n",
    "ligne_bob = df.loc[\"Kevin_11\"]\n",
    "print(\"Infos de Bob :\")\n",
    "print(ligne_bob)\n",
    "\n",
    "# Exemple 3 : notes de Maths et Français pour Ugo_25\n",
    "notes = df.loc[\"Ugo_25\", [\"Maths\", \"Français\"]]\n",
    "print(\"Notes d'Ugo_25 :\")\n",
    "print(notes)"
   ]
  },
  {
   "cell_type": "markdown",
   "id": "8babacdb",
   "metadata": {},
   "source": [
    "**Extraire des valeurs** d'un dataframe conditionnellement"
   ]
  },
  {
   "cell_type": "code",
   "execution_count": 98,
   "id": "5eead730",
   "metadata": {},
   "outputs": [
    {
     "data": {
      "text/plain": [
       "Index(['Gina_0', 'Tina_1', 'Oscar_2', 'Kevin_3', 'Hugo_4', 'Ugo_5', 'Gina_6',\n",
       "       'Ziad_7', 'Sami_8', 'Wassim_9', 'Kevin_10', 'Kevin_11', 'Xavier_12',\n",
       "       'Ugo_13', 'David_14', 'Hugo_15', 'Xavier_16', 'Claire_17', 'Valérie_18',\n",
       "       'Ugo_19', 'Bob_20', 'Xavier_21', 'Laura_22', 'Farid_23', 'Bob_24',\n",
       "       'Ugo_25', 'Alice_26', 'Laura_27', 'Ziad_28', 'Valérie_29', 'Laura_30',\n",
       "       'Yasmine_31', 'Quentin_32', 'Jules_33', 'Paul_34', 'Oscar_35',\n",
       "       'Oscar_36', 'Sami_37', 'Laura_38', 'Wassim_39', 'Tina_40', 'Yasmine_41',\n",
       "       'Claire_42', 'Emma_43', 'Sami_44', 'Gina_45', 'Ugo_46', 'Inès_47',\n",
       "       'Gina_48', 'Rania_49'],\n",
       "      dtype='object', name='Nom')"
      ]
     },
     "execution_count": 98,
     "metadata": {},
     "output_type": "execute_result"
    }
   ],
   "source": [
    "df.index"
   ]
  },
  {
   "cell_type": "code",
   "execution_count": 99,
   "id": "429b979f",
   "metadata": {},
   "outputs": [
    {
     "name": "stdout",
     "output_type": "stream",
     "text": [
      "Élèves ayant plus de 15 en Maths :\n",
      "          Sexe     Classe      Maths   Physique   Français    Anglais\n",
      "Nom                                                                  \n",
      "Tina_1       F   Première  16.614110   8.726531  11.368379  11.199102\n",
      "Kevin_3      M    Seconde  16.693931   7.495372  13.682304  11.580926\n",
      "Xavier_12    F  Terminale  16.433682   8.344241  10.858215  14.068358\n",
      "Oscar_36     M  Terminale  17.658558  15.664436  14.030071  15.900367\n",
      "Emma_43      F  Terminale  19.389726   8.948294  14.302783  12.463419\n",
      "Gina_48      F   Première  15.428468  10.386530  12.029273  13.339933\n",
      "\n",
      "\n",
      "Filles en classe de 3ème :\n",
      "Empty DataFrame\n",
      "Columns: [Sexe, Classe, Maths, Physique, Français, Anglais]\n",
      "Index: []\n",
      "\n",
      "\n",
      "Élèves ayant moins de 10 en Physique ou en Français :\n",
      "           Sexe     Classe      Maths  Physique   Français    Anglais\n",
      "Nom                                                                  \n",
      "Tina_1        F   Première  16.614110  8.726531  11.368379  11.199102\n",
      "Kevin_3       M    Seconde  16.693931  7.495372  13.682304  11.580926\n",
      "Gina_6        F    Seconde  12.261141  8.523659  13.026004  14.096420\n",
      "Ziad_7        M   Première  11.102978  9.584256  15.907068  12.383383\n",
      "Wassim_9      M    Seconde   6.037293  9.741311  18.440338  15.019397\n",
      "Kevin_10      M    Seconde  11.340984  7.123341  14.251335  12.904450\n",
      "Xavier_12     F  Terminale  16.433682  8.344241  10.858215  14.068358\n",
      "David_14      F    Seconde   9.574519  8.701439  12.553074  17.215916\n",
      "Xavier_16     F  Terminale  14.746206  9.041867  13.946475  10.962286\n",
      "Ugo_19        F  Terminale  13.539802  7.922839   9.970306  15.278650\n",
      "Laura_22      M    Seconde   9.893841  6.981292  13.428187  14.757481\n",
      "Alice_26      M  Terminale  12.888361  7.907623  11.232285  13.287582\n",
      "Laura_27      M    Seconde  12.783166  7.698858  13.307450  13.020006\n",
      "Quentin_32    M  Terminale  10.971856  9.299938  15.166102  17.183234\n",
      "Oscar_35      M    Seconde  13.212153  9.214121  11.124350  13.273649\n",
      "Laura_38      M   Première  12.772651  8.021741  14.030095  14.665729\n",
      "Tina_40       M  Terminale   6.243686  8.563296  14.141781  12.609604\n",
      "Emma_43       F  Terminale  19.389726  8.948294  14.302783  12.463419\n",
      "Rania_49      M  Terminale  14.255799  9.115660  13.163748  14.196111\n",
      "\n",
      "\n",
      "Garçons ayant entre 12 et 16 en Maths :\n",
      "               Maths\n",
      "Nom                 \n",
      "Gina_0     13.084187\n",
      "Ugo_5      14.465708\n",
      "Kevin_11   13.071338\n",
      "Claire_17  12.986253\n",
      "Bob_20     12.291233\n",
      "Alice_26   12.888361\n",
      "Laura_27   12.783166\n",
      "Ziad_28    12.015340\n",
      "Oscar_35   13.212153\n",
      "Sami_37    12.523733\n",
      "Laura_38   12.772651\n",
      "Claire_42  12.180691\n",
      "Rania_49   14.255799\n"
     ]
    }
   ],
   "source": [
    "# df = df.reset_index()\n",
    "\n",
    "print(\"Élèves ayant plus de 15 en Maths :\")\n",
    "print(df[df[\"Maths\"] > 15])\n",
    "print(\"\\n\")\n",
    "\n",
    "print(\"Filles en classe de 3ème :\")\n",
    "print(df[(df[\"Sexe\"] == \"F\") & (df[\"Classe\"] == \"3ème\")])\n",
    "print(\"\\n\")\n",
    "\n",
    "print(\"Élèves ayant moins de 10 en Physique ou en Français :\")\n",
    "print(df[(df[\"Physique\"] < 10) | (df[\"Français\"] < 10)])\n",
    "print(\"\\n\")\n",
    "\n",
    "print(\"Garçons ayant entre 12 et 16 en Maths :\")\n",
    "print(df.loc[\n",
    "    (df[\"Sexe\"] == \"M\") & (df[\"Maths\"].between(12, 16)),\n",
    "    [\"Maths\"] #[\"Nom\", \"Maths\"]\n",
    "])"
   ]
  },
  {
   "cell_type": "markdown",
   "id": "aa9d458c",
   "metadata": {},
   "source": [
    "**Trier** un dataframe\n",
    "\n",
    "On utilise sort_values(by=[colonnes], ascending=[boolean])"
   ]
  },
  {
   "cell_type": "code",
   "execution_count": 100,
   "id": "726b7fca",
   "metadata": {},
   "outputs": [
    {
     "name": "stdout",
     "output_type": "stream",
     "text": [
      "Garçons ayant entre 12 et 16 en Maths (triés par note décroissante) :\n"
     ]
    },
    {
     "ename": "KeyError",
     "evalue": "\"['Nom'] not in index\"",
     "output_type": "error",
     "traceback": [
      "\u001b[1;31m---------------------------------------------------------------------------\u001b[0m",
      "\u001b[1;31mKeyError\u001b[0m                                  Traceback (most recent call last)",
      "Cell \u001b[1;32mIn[100], line 3\u001b[0m\n\u001b[0;32m      1\u001b[0m \u001b[38;5;28mprint\u001b[39m(\u001b[38;5;124m\"\u001b[39m\u001b[38;5;124mGarçons ayant entre 12 et 16 en Maths (triés par note décroissante) :\u001b[39m\u001b[38;5;124m\"\u001b[39m)\n\u001b[0;32m      2\u001b[0m \u001b[38;5;28mprint\u001b[39m(\n\u001b[1;32m----> 3\u001b[0m     \u001b[43mdf\u001b[49m\u001b[38;5;241;43m.\u001b[39;49m\u001b[43mloc\u001b[49m\u001b[43m[\u001b[49m\n\u001b[0;32m      4\u001b[0m \u001b[43m        \u001b[49m\u001b[43m(\u001b[49m\u001b[43mdf\u001b[49m\u001b[43m[\u001b[49m\u001b[38;5;124;43m\"\u001b[39;49m\u001b[38;5;124;43mSexe\u001b[39;49m\u001b[38;5;124;43m\"\u001b[39;49m\u001b[43m]\u001b[49m\u001b[43m \u001b[49m\u001b[38;5;241;43m==\u001b[39;49m\u001b[43m \u001b[49m\u001b[38;5;124;43m\"\u001b[39;49m\u001b[38;5;124;43mM\u001b[39;49m\u001b[38;5;124;43m\"\u001b[39;49m\u001b[43m)\u001b[49m\u001b[43m \u001b[49m\u001b[38;5;241;43m&\u001b[39;49m\u001b[43m \u001b[49m\u001b[43m(\u001b[49m\u001b[43mdf\u001b[49m\u001b[43m[\u001b[49m\u001b[38;5;124;43m\"\u001b[39;49m\u001b[38;5;124;43mMaths\u001b[39;49m\u001b[38;5;124;43m\"\u001b[39;49m\u001b[43m]\u001b[49m\u001b[38;5;241;43m.\u001b[39;49m\u001b[43mbetween\u001b[49m\u001b[43m(\u001b[49m\u001b[38;5;241;43m12\u001b[39;49m\u001b[43m,\u001b[49m\u001b[43m \u001b[49m\u001b[38;5;241;43m16\u001b[39;49m\u001b[43m)\u001b[49m\u001b[43m)\u001b[49m\u001b[43m,\u001b[49m\n\u001b[0;32m      5\u001b[0m \u001b[43m        \u001b[49m\u001b[43m[\u001b[49m\u001b[38;5;124;43m\"\u001b[39;49m\u001b[38;5;124;43mNom\u001b[39;49m\u001b[38;5;124;43m\"\u001b[39;49m\u001b[43m,\u001b[49m\u001b[43m \u001b[49m\u001b[38;5;124;43m\"\u001b[39;49m\u001b[38;5;124;43mMaths\u001b[39;49m\u001b[38;5;124;43m\"\u001b[39;49m\u001b[43m]\u001b[49m\n\u001b[0;32m      6\u001b[0m \u001b[43m    \u001b[49m\u001b[43m]\u001b[49m\u001b[38;5;241m.\u001b[39msort_values(by\u001b[38;5;241m=\u001b[39m[\u001b[38;5;124m\"\u001b[39m\u001b[38;5;124mMaths\u001b[39m\u001b[38;5;124m\"\u001b[39m, \u001b[38;5;124m\"\u001b[39m\u001b[38;5;124mNom\u001b[39m\u001b[38;5;124m\"\u001b[39m], ascending\u001b[38;5;241m=\u001b[39m[\u001b[38;5;28;01mFalse\u001b[39;00m, \u001b[38;5;28;01mTrue\u001b[39;00m])\n\u001b[0;32m      7\u001b[0m )\n",
      "File \u001b[1;32mc:\\Users\\awben\\AppData\\Local\\Programs\\Python\\Python312\\Lib\\site-packages\\pandas\\core\\indexing.py:1184\u001b[0m, in \u001b[0;36m_LocationIndexer.__getitem__\u001b[1;34m(self, key)\u001b[0m\n\u001b[0;32m   1182\u001b[0m     \u001b[38;5;28;01mif\u001b[39;00m \u001b[38;5;28mself\u001b[39m\u001b[38;5;241m.\u001b[39m_is_scalar_access(key):\n\u001b[0;32m   1183\u001b[0m         \u001b[38;5;28;01mreturn\u001b[39;00m \u001b[38;5;28mself\u001b[39m\u001b[38;5;241m.\u001b[39mobj\u001b[38;5;241m.\u001b[39m_get_value(\u001b[38;5;241m*\u001b[39mkey, takeable\u001b[38;5;241m=\u001b[39m\u001b[38;5;28mself\u001b[39m\u001b[38;5;241m.\u001b[39m_takeable)\n\u001b[1;32m-> 1184\u001b[0m     \u001b[38;5;28;01mreturn\u001b[39;00m \u001b[38;5;28;43mself\u001b[39;49m\u001b[38;5;241;43m.\u001b[39;49m\u001b[43m_getitem_tuple\u001b[49m\u001b[43m(\u001b[49m\u001b[43mkey\u001b[49m\u001b[43m)\u001b[49m\n\u001b[0;32m   1185\u001b[0m \u001b[38;5;28;01melse\u001b[39;00m:\n\u001b[0;32m   1186\u001b[0m     \u001b[38;5;66;03m# we by definition only have the 0th axis\u001b[39;00m\n\u001b[0;32m   1187\u001b[0m     axis \u001b[38;5;241m=\u001b[39m \u001b[38;5;28mself\u001b[39m\u001b[38;5;241m.\u001b[39maxis \u001b[38;5;129;01mor\u001b[39;00m \u001b[38;5;241m0\u001b[39m\n",
      "File \u001b[1;32mc:\\Users\\awben\\AppData\\Local\\Programs\\Python\\Python312\\Lib\\site-packages\\pandas\\core\\indexing.py:1377\u001b[0m, in \u001b[0;36m_LocIndexer._getitem_tuple\u001b[1;34m(self, tup)\u001b[0m\n\u001b[0;32m   1374\u001b[0m \u001b[38;5;28;01mif\u001b[39;00m \u001b[38;5;28mself\u001b[39m\u001b[38;5;241m.\u001b[39m_multi_take_opportunity(tup):\n\u001b[0;32m   1375\u001b[0m     \u001b[38;5;28;01mreturn\u001b[39;00m \u001b[38;5;28mself\u001b[39m\u001b[38;5;241m.\u001b[39m_multi_take(tup)\n\u001b[1;32m-> 1377\u001b[0m \u001b[38;5;28;01mreturn\u001b[39;00m \u001b[38;5;28;43mself\u001b[39;49m\u001b[38;5;241;43m.\u001b[39;49m\u001b[43m_getitem_tuple_same_dim\u001b[49m\u001b[43m(\u001b[49m\u001b[43mtup\u001b[49m\u001b[43m)\u001b[49m\n",
      "File \u001b[1;32mc:\\Users\\awben\\AppData\\Local\\Programs\\Python\\Python312\\Lib\\site-packages\\pandas\\core\\indexing.py:1020\u001b[0m, in \u001b[0;36m_LocationIndexer._getitem_tuple_same_dim\u001b[1;34m(self, tup)\u001b[0m\n\u001b[0;32m   1017\u001b[0m \u001b[38;5;28;01mif\u001b[39;00m com\u001b[38;5;241m.\u001b[39mis_null_slice(key):\n\u001b[0;32m   1018\u001b[0m     \u001b[38;5;28;01mcontinue\u001b[39;00m\n\u001b[1;32m-> 1020\u001b[0m retval \u001b[38;5;241m=\u001b[39m \u001b[38;5;28;43mgetattr\u001b[39;49m\u001b[43m(\u001b[49m\u001b[43mretval\u001b[49m\u001b[43m,\u001b[49m\u001b[43m \u001b[49m\u001b[38;5;28;43mself\u001b[39;49m\u001b[38;5;241;43m.\u001b[39;49m\u001b[43mname\u001b[49m\u001b[43m)\u001b[49m\u001b[38;5;241;43m.\u001b[39;49m\u001b[43m_getitem_axis\u001b[49m\u001b[43m(\u001b[49m\u001b[43mkey\u001b[49m\u001b[43m,\u001b[49m\u001b[43m \u001b[49m\u001b[43maxis\u001b[49m\u001b[38;5;241;43m=\u001b[39;49m\u001b[43mi\u001b[49m\u001b[43m)\u001b[49m\n\u001b[0;32m   1021\u001b[0m \u001b[38;5;66;03m# We should never have retval.ndim < self.ndim, as that should\u001b[39;00m\n\u001b[0;32m   1022\u001b[0m \u001b[38;5;66;03m#  be handled by the _getitem_lowerdim call above.\u001b[39;00m\n\u001b[0;32m   1023\u001b[0m \u001b[38;5;28;01massert\u001b[39;00m retval\u001b[38;5;241m.\u001b[39mndim \u001b[38;5;241m==\u001b[39m \u001b[38;5;28mself\u001b[39m\u001b[38;5;241m.\u001b[39mndim\n",
      "File \u001b[1;32mc:\\Users\\awben\\AppData\\Local\\Programs\\Python\\Python312\\Lib\\site-packages\\pandas\\core\\indexing.py:1420\u001b[0m, in \u001b[0;36m_LocIndexer._getitem_axis\u001b[1;34m(self, key, axis)\u001b[0m\n\u001b[0;32m   1417\u001b[0m     \u001b[38;5;28;01mif\u001b[39;00m \u001b[38;5;28mhasattr\u001b[39m(key, \u001b[38;5;124m\"\u001b[39m\u001b[38;5;124mndim\u001b[39m\u001b[38;5;124m\"\u001b[39m) \u001b[38;5;129;01mand\u001b[39;00m key\u001b[38;5;241m.\u001b[39mndim \u001b[38;5;241m>\u001b[39m \u001b[38;5;241m1\u001b[39m:\n\u001b[0;32m   1418\u001b[0m         \u001b[38;5;28;01mraise\u001b[39;00m \u001b[38;5;167;01mValueError\u001b[39;00m(\u001b[38;5;124m\"\u001b[39m\u001b[38;5;124mCannot index with multidimensional key\u001b[39m\u001b[38;5;124m\"\u001b[39m)\n\u001b[1;32m-> 1420\u001b[0m     \u001b[38;5;28;01mreturn\u001b[39;00m \u001b[38;5;28;43mself\u001b[39;49m\u001b[38;5;241;43m.\u001b[39;49m\u001b[43m_getitem_iterable\u001b[49m\u001b[43m(\u001b[49m\u001b[43mkey\u001b[49m\u001b[43m,\u001b[49m\u001b[43m \u001b[49m\u001b[43maxis\u001b[49m\u001b[38;5;241;43m=\u001b[39;49m\u001b[43maxis\u001b[49m\u001b[43m)\u001b[49m\n\u001b[0;32m   1422\u001b[0m \u001b[38;5;66;03m# nested tuple slicing\u001b[39;00m\n\u001b[0;32m   1423\u001b[0m \u001b[38;5;28;01mif\u001b[39;00m is_nested_tuple(key, labels):\n",
      "File \u001b[1;32mc:\\Users\\awben\\AppData\\Local\\Programs\\Python\\Python312\\Lib\\site-packages\\pandas\\core\\indexing.py:1360\u001b[0m, in \u001b[0;36m_LocIndexer._getitem_iterable\u001b[1;34m(self, key, axis)\u001b[0m\n\u001b[0;32m   1357\u001b[0m \u001b[38;5;28mself\u001b[39m\u001b[38;5;241m.\u001b[39m_validate_key(key, axis)\n\u001b[0;32m   1359\u001b[0m \u001b[38;5;66;03m# A collection of keys\u001b[39;00m\n\u001b[1;32m-> 1360\u001b[0m keyarr, indexer \u001b[38;5;241m=\u001b[39m \u001b[38;5;28;43mself\u001b[39;49m\u001b[38;5;241;43m.\u001b[39;49m\u001b[43m_get_listlike_indexer\u001b[49m\u001b[43m(\u001b[49m\u001b[43mkey\u001b[49m\u001b[43m,\u001b[49m\u001b[43m \u001b[49m\u001b[43maxis\u001b[49m\u001b[43m)\u001b[49m\n\u001b[0;32m   1361\u001b[0m \u001b[38;5;28;01mreturn\u001b[39;00m \u001b[38;5;28mself\u001b[39m\u001b[38;5;241m.\u001b[39mobj\u001b[38;5;241m.\u001b[39m_reindex_with_indexers(\n\u001b[0;32m   1362\u001b[0m     {axis: [keyarr, indexer]}, copy\u001b[38;5;241m=\u001b[39m\u001b[38;5;28;01mTrue\u001b[39;00m, allow_dups\u001b[38;5;241m=\u001b[39m\u001b[38;5;28;01mTrue\u001b[39;00m\n\u001b[0;32m   1363\u001b[0m )\n",
      "File \u001b[1;32mc:\\Users\\awben\\AppData\\Local\\Programs\\Python\\Python312\\Lib\\site-packages\\pandas\\core\\indexing.py:1558\u001b[0m, in \u001b[0;36m_LocIndexer._get_listlike_indexer\u001b[1;34m(self, key, axis)\u001b[0m\n\u001b[0;32m   1555\u001b[0m ax \u001b[38;5;241m=\u001b[39m \u001b[38;5;28mself\u001b[39m\u001b[38;5;241m.\u001b[39mobj\u001b[38;5;241m.\u001b[39m_get_axis(axis)\n\u001b[0;32m   1556\u001b[0m axis_name \u001b[38;5;241m=\u001b[39m \u001b[38;5;28mself\u001b[39m\u001b[38;5;241m.\u001b[39mobj\u001b[38;5;241m.\u001b[39m_get_axis_name(axis)\n\u001b[1;32m-> 1558\u001b[0m keyarr, indexer \u001b[38;5;241m=\u001b[39m \u001b[43max\u001b[49m\u001b[38;5;241;43m.\u001b[39;49m\u001b[43m_get_indexer_strict\u001b[49m\u001b[43m(\u001b[49m\u001b[43mkey\u001b[49m\u001b[43m,\u001b[49m\u001b[43m \u001b[49m\u001b[43maxis_name\u001b[49m\u001b[43m)\u001b[49m\n\u001b[0;32m   1560\u001b[0m \u001b[38;5;28;01mreturn\u001b[39;00m keyarr, indexer\n",
      "File \u001b[1;32mc:\\Users\\awben\\AppData\\Local\\Programs\\Python\\Python312\\Lib\\site-packages\\pandas\\core\\indexes\\base.py:6200\u001b[0m, in \u001b[0;36mIndex._get_indexer_strict\u001b[1;34m(self, key, axis_name)\u001b[0m\n\u001b[0;32m   6197\u001b[0m \u001b[38;5;28;01melse\u001b[39;00m:\n\u001b[0;32m   6198\u001b[0m     keyarr, indexer, new_indexer \u001b[38;5;241m=\u001b[39m \u001b[38;5;28mself\u001b[39m\u001b[38;5;241m.\u001b[39m_reindex_non_unique(keyarr)\n\u001b[1;32m-> 6200\u001b[0m \u001b[38;5;28;43mself\u001b[39;49m\u001b[38;5;241;43m.\u001b[39;49m\u001b[43m_raise_if_missing\u001b[49m\u001b[43m(\u001b[49m\u001b[43mkeyarr\u001b[49m\u001b[43m,\u001b[49m\u001b[43m \u001b[49m\u001b[43mindexer\u001b[49m\u001b[43m,\u001b[49m\u001b[43m \u001b[49m\u001b[43maxis_name\u001b[49m\u001b[43m)\u001b[49m\n\u001b[0;32m   6202\u001b[0m keyarr \u001b[38;5;241m=\u001b[39m \u001b[38;5;28mself\u001b[39m\u001b[38;5;241m.\u001b[39mtake(indexer)\n\u001b[0;32m   6203\u001b[0m \u001b[38;5;28;01mif\u001b[39;00m \u001b[38;5;28misinstance\u001b[39m(key, Index):\n\u001b[0;32m   6204\u001b[0m     \u001b[38;5;66;03m# GH 42790 - Preserve name from an Index\u001b[39;00m\n",
      "File \u001b[1;32mc:\\Users\\awben\\AppData\\Local\\Programs\\Python\\Python312\\Lib\\site-packages\\pandas\\core\\indexes\\base.py:6252\u001b[0m, in \u001b[0;36mIndex._raise_if_missing\u001b[1;34m(self, key, indexer, axis_name)\u001b[0m\n\u001b[0;32m   6249\u001b[0m     \u001b[38;5;28;01mraise\u001b[39;00m \u001b[38;5;167;01mKeyError\u001b[39;00m(\u001b[38;5;124mf\u001b[39m\u001b[38;5;124m\"\u001b[39m\u001b[38;5;124mNone of [\u001b[39m\u001b[38;5;132;01m{\u001b[39;00mkey\u001b[38;5;132;01m}\u001b[39;00m\u001b[38;5;124m] are in the [\u001b[39m\u001b[38;5;132;01m{\u001b[39;00maxis_name\u001b[38;5;132;01m}\u001b[39;00m\u001b[38;5;124m]\u001b[39m\u001b[38;5;124m\"\u001b[39m)\n\u001b[0;32m   6251\u001b[0m not_found \u001b[38;5;241m=\u001b[39m \u001b[38;5;28mlist\u001b[39m(ensure_index(key)[missing_mask\u001b[38;5;241m.\u001b[39mnonzero()[\u001b[38;5;241m0\u001b[39m]]\u001b[38;5;241m.\u001b[39munique())\n\u001b[1;32m-> 6252\u001b[0m \u001b[38;5;28;01mraise\u001b[39;00m \u001b[38;5;167;01mKeyError\u001b[39;00m(\u001b[38;5;124mf\u001b[39m\u001b[38;5;124m\"\u001b[39m\u001b[38;5;132;01m{\u001b[39;00mnot_found\u001b[38;5;132;01m}\u001b[39;00m\u001b[38;5;124m not in index\u001b[39m\u001b[38;5;124m\"\u001b[39m)\n",
      "\u001b[1;31mKeyError\u001b[0m: \"['Nom'] not in index\""
     ]
    }
   ],
   "source": [
    "print(\"Garçons ayant entre 12 et 16 en Maths (triés par note décroissante) :\")\n",
    "print(\n",
    "    df.loc[\n",
    "        (df[\"Sexe\"] == \"M\") & (df[\"Maths\"].between(12, 16)),\n",
    "        [\"Nom\", \"Maths\"]\n",
    "    ].sort_values(by=[\"Maths\", \"Nom\"], ascending=[False, True])\n",
    ")"
   ]
  },
  {
   "cell_type": "markdown",
   "id": "5c4b25ac",
   "metadata": {},
   "source": [
    "### Indicateurs statistiques\n",
    "\n",
    "On utilise pour cela une seule commande : describe()"
   ]
  },
  {
   "cell_type": "code",
   "execution_count": null,
   "id": "26027056",
   "metadata": {},
   "outputs": [],
   "source": [
    "df.describe()"
   ]
  },
  {
   "cell_type": "markdown",
   "id": "737ac061",
   "metadata": {},
   "source": [
    "Nous pouvons isoler les indicateurs."
   ]
  },
  {
   "cell_type": "code",
   "execution_count": null,
   "id": "af3cf958",
   "metadata": {},
   "outputs": [],
   "source": [
    "print(f\"Moyenne en Maths : {df['Maths'].mean():.2f}\")\n",
    "print(f\"Écart-type en Maths : {df['Maths'].std():.2f}\")\n",
    "print(f\"Médiane en Maths : {df['Maths'].median():.2f}\")\n",
    "print(f\"Nombre de valeurs (non nulles) en Maths : {df['Maths'].count()}\")"
   ]
  },
  {
   "cell_type": "markdown",
   "id": "5f126c68",
   "metadata": {},
   "source": [
    "### Travailler avec des séries"
   ]
  },
  {
   "cell_type": "markdown",
   "id": "df54ddcb",
   "metadata": {},
   "source": [
    "Une série en pandas est une structure de données unidimensionnelle (comme une colonne) qui contient des valeurs indexées, un peu comme une liste avec des étiquettes."
   ]
  },
  {
   "cell_type": "code",
   "execution_count": null,
   "id": "c61cd75b",
   "metadata": {},
   "outputs": [],
   "source": [
    "print(type(df[\"Maths\"]))"
   ]
  },
  {
   "cell_type": "code",
   "execution_count": null,
   "id": "88747e22",
   "metadata": {},
   "outputs": [],
   "source": [
    "# Série contenant les notes de Maths\n",
    "notes_maths = df[\"Maths\"]\n",
    "\n",
    "# 1. Afficher les notes de Maths supérieures à 13\n",
    "print(\"Notes de Maths supérieures à 13 :\")\n",
    "print(notes_maths[notes_maths > 13])\n",
    "print(\"\\n\")\n",
    "\n",
    "# 2. Valeurs uniques des notes de Maths\n",
    "notes_maths_unique = notes_maths.unique()\n",
    "print(\"Valeurs uniques des notes de Maths :\")\n",
    "print(notes_maths_unique)\n",
    "print(\"\\n\")\n",
    "\n",
    "# 3. Occurrences de chaque note (arrondies à 2 décimales pour une meilleure lisibilité)\n",
    "notes_maths_occurences = notes_maths.round(0).value_counts().sort_index()\n",
    "print(\"Nombre d'occurrences par note (arrondies) :\")\n",
    "print(notes_maths_occurences)\n",
    "print(\"\\n\")\n",
    "\n",
    "# 4. Occurrences en pourcentage\n",
    "notes_maths_occurences_pourcentages = notes_maths.round(0).value_counts(normalize=True).sort_index()\n",
    "print(\"Pourcentage d'apparition de chaque note (arrondies) :\")\n",
    "print(notes_maths_occurences_pourcentages)\n"
   ]
  },
  {
   "cell_type": "code",
   "execution_count": null,
   "id": "8c479e9e",
   "metadata": {},
   "outputs": [],
   "source": [
    "plt.figure(figsize=(10, 6))\n",
    "plt.bar(notes_maths_occurences_pourcentages.index.astype(str), notes_maths_occurences_pourcentages.values)\n",
    "\n",
    "plt.title(\"Pourcentage d'apparition de chaque note en Maths (arrondie à l'entier)\")\n",
    "plt.xlabel(\"Note en Maths\")\n",
    "plt.ylabel(\"Pourcentage\")\n",
    "plt.grid(axis='y', linestyle='--', alpha=0.7)\n",
    "plt.tight_layout()\n",
    "plt.show()"
   ]
  }
 ],
 "metadata": {
  "kernelspec": {
   "display_name": "Python 3",
   "language": "python",
   "name": "python3"
  },
  "language_info": {
   "codemirror_mode": {
    "name": "ipython",
    "version": 3
   },
   "file_extension": ".py",
   "mimetype": "text/x-python",
   "name": "python",
   "nbconvert_exporter": "python",
   "pygments_lexer": "ipython3",
   "version": "3.12.8"
  }
 },
 "nbformat": 4,
 "nbformat_minor": 5
}
