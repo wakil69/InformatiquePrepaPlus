{
 "cells": [
  {
   "cell_type": "markdown",
   "id": "3ec143f0",
   "metadata": {},
   "source": [
    "# Pandas - Analyse statistique"
   ]
  },
  {
   "cell_type": "markdown",
   "id": "dcbeed52",
   "metadata": {},
   "source": [
    "**Libraries**"
   ]
  },
  {
   "cell_type": "code",
   "execution_count": null,
   "id": "5848b2ee",
   "metadata": {},
   "outputs": [],
   "source": [
    "# pip install pandas"
   ]
  },
  {
   "cell_type": "code",
   "execution_count": null,
   "id": "a42225e9",
   "metadata": {},
   "outputs": [],
   "source": [
    "import pandas as pd\n",
    "import csv"
   ]
  },
  {
   "cell_type": "markdown",
   "id": "f3ce00ab",
   "metadata": {},
   "source": [
    "### Importation des données\n",
    "\n",
    "Lien pandas: https://pandas.pydata.org/docs/"
   ]
  },
  {
   "cell_type": "code",
   "execution_count": 8,
   "id": "253e0055",
   "metadata": {},
   "outputs": [
    {
     "name": "stdout",
     "output_type": "stream",
     "text": [
      "           Nom Sexe     Classe      Maths   Physique   Français    Anglais\n",
      "0       Gina_0    M    Seconde  13.084187  12.977580  11.220971  17.471988\n",
      "1       Tina_1    F   Première  16.614110   8.726531  11.368379  11.199102\n",
      "2      Oscar_2    M    Seconde  11.892522  14.506986  12.845797  15.029390\n",
      "3      Kevin_3    M    Seconde  16.693931   7.495372  13.682304  11.580926\n",
      "4       Hugo_4    M   Première   4.140765  12.467143  13.553382  13.292102\n",
      "5        Ugo_5    M  Terminale  14.465708  16.476139  14.654366  15.633426\n",
      "6       Gina_6    F    Seconde  12.261141   8.523659  13.026004  14.096420\n",
      "7       Ziad_7    M   Première  11.102978   9.584256  15.907068  12.383383\n",
      "8       Sami_8    F    Seconde  12.275282  11.249128  12.470686  12.927044\n",
      "9     Wassim_9    M    Seconde   6.037293   9.741311  18.440338  15.019397\n",
      "10    Kevin_10    M    Seconde  11.340984   7.123341  14.251335  12.904450\n",
      "11    Kevin_11    M    Seconde  13.071338  11.171407  11.285685  14.324688\n",
      "12   Xavier_12    F  Terminale  16.433682   8.344241  10.858215  14.068358\n",
      "13      Ugo_13    M    Seconde  10.445189  12.183981  13.964945  13.022599\n",
      "14    David_14    F    Seconde   9.574519   8.701439  12.553074  17.215916\n",
      "15     Hugo_15    M    Seconde  10.494729  14.874836  14.428001  14.950879\n",
      "16   Xavier_16    F  Terminale  14.746206   9.041867  13.946475  10.962286\n",
      "17   Claire_17    M    Seconde  12.986253  10.194846  12.854342  14.279681\n",
      "18  Valérie_18    F    Seconde  10.410719  13.033793  11.306413  13.007320\n",
      "19      Ugo_19    F  Terminale  13.539802   7.922839   9.970306  15.278650\n",
      "20      Bob_20    M  Terminale  12.291233  11.568650  12.106970  12.811219\n",
      "21   Xavier_21    F  Terminale  14.905935  14.267857  14.712798  13.827895\n",
      "22    Laura_22    M    Seconde   9.893841   6.981292  13.428187  14.757481\n",
      "23    Farid_23    M  Terminale  11.017014  11.461585  10.508522  15.298633\n",
      "24      Bob_24    M  Terminale  10.823676  11.649707  13.346362  12.199555\n",
      "25      Ugo_25    M    Seconde   7.609455  12.954557  13.770635  13.498248\n",
      "26    Alice_26    M  Terminale  12.888361   7.907623  11.232285  13.287582\n",
      "27    Laura_27    M    Seconde  12.783166   7.698858  13.307450  13.020006\n",
      "28     Ziad_28    M   Première  12.015340  12.304854  13.116417  16.648181\n",
      "29  Valérie_29    M  Terminale  11.296239  11.742462  10.714059  14.607473\n",
      "30    Laura_30    M   Première   7.753888  11.626232  13.715575  12.108674\n",
      "31  Yasmine_31    M    Seconde  10.738064  11.866121  14.121569  15.376793\n",
      "32  Quentin_32    M  Terminale  10.971856   9.299938  15.166102  17.183234\n",
      "33    Jules_33    F    Seconde   9.593168  11.580634  15.107604  15.548698\n",
      "34     Paul_34    F   Première  11.516143  11.732681  10.244661  11.720945\n",
      "35    Oscar_35    M    Seconde  13.212153   9.214121  11.124350  13.273649\n",
      "36    Oscar_36    M  Terminale  17.658558  15.664436  14.030071  15.900367\n",
      "37     Sami_37    M  Terminale  12.523733  12.184582  14.027572  12.938496\n",
      "38    Laura_38    M   Première  12.772651   8.021741  14.030095  14.665729\n",
      "39   Wassim_39    M    Seconde  11.776662  12.641384  20.000000  15.161951\n",
      "40     Tina_40    M  Terminale   6.243686   8.563296  14.141781  12.609604\n",
      "41  Yasmine_41    M   Première  11.920458  12.967712  15.271131  13.910712\n",
      "42   Claire_42    M  Terminale  12.180691  13.896489  14.908004   9.138099\n",
      "43     Emma_43    F  Terminale  19.389726   8.948294  14.302783  12.463419\n",
      "44     Sami_44    M    Seconde  11.422917  13.408440  12.369462  13.621148\n",
      "45     Gina_45    F  Terminale  12.904642  12.031952  14.517938  12.128325\n",
      "46      Ugo_46    M    Seconde  11.895865  13.055150  11.454350  16.448617\n",
      "47     Inès_47    M  Terminale   8.493966  15.741982  12.526363  11.854788\n",
      "48     Gina_48    F   Première  15.428468  10.386530  12.029273  13.339933\n",
      "49    Rania_49    M  Terminale  14.255799   9.115660  13.163748  14.196111\n"
     ]
    }
   ],
   "source": [
    "# Méthode 1: avec pandas\n",
    "df = pd.read_csv(\"data_eleves.csv\")\n",
    "print(df)\n",
    "\n",
    "# Méthode 2: avec la librarie csv\n",
    "# with open(\"data_eleves.csv\", newline='', encoding='utf-8') as file:\n",
    "#     reader = csv.reader(file)\n",
    "#     for row in reader:\n",
    "#         print(row)"
   ]
  },
  {
   "cell_type": "markdown",
   "id": "565cd8f5",
   "metadata": {},
   "source": [
    "### Visualisation des données"
   ]
  },
  {
   "cell_type": "code",
   "execution_count": null,
   "id": "cb8c2034",
   "metadata": {},
   "outputs": [],
   "source": []
  }
 ],
 "metadata": {
  "kernelspec": {
   "display_name": "Python 3",
   "language": "python",
   "name": "python3"
  },
  "language_info": {
   "codemirror_mode": {
    "name": "ipython",
    "version": 3
   },
   "file_extension": ".py",
   "mimetype": "text/x-python",
   "name": "python",
   "nbconvert_exporter": "python",
   "pygments_lexer": "ipython3",
   "version": "3.12.8"
  }
 },
 "nbformat": 4,
 "nbformat_minor": 5
}
