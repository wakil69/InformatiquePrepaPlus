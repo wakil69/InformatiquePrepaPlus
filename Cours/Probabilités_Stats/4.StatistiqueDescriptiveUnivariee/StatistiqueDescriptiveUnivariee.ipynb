{
 "cells": [
  {
   "cell_type": "markdown",
   "id": "1a49e0a5",
   "metadata": {},
   "source": [
    "# Statistique Descriptive Univariée"
   ]
  },
  {
   "cell_type": "markdown",
   "id": "37882655",
   "metadata": {},
   "source": [
    "**Librairies**"
   ]
  },
  {
   "cell_type": "code",
   "execution_count": 129,
   "id": "12f34c1a",
   "metadata": {},
   "outputs": [],
   "source": [
    "import numpy as np\n",
    "import pandas as pd\n",
    "import matplotlib.pyplot as plt"
   ]
  },
  {
   "cell_type": "markdown",
   "id": "39f8b093",
   "metadata": {},
   "source": [
    "### Vocabulaire des statistiques\n",
    "\n",
    "Soit un ensemble \n",
    "\n",
    "$$\n",
    "\\Omega = \\{ \\omega_1, \\omega_2, \\ldots, \\omega_n \\}\n",
    "$$\n",
    "\n",
    "- Cet ensemble constitue une **population**, et chaque élément ( $\\omega_i$ ) est appelé un **individu**.\n",
    "- Un **sous-ensemble** de ($ \\Omega $) est appelé une **sous-population**.\n",
    "- Le **cardinal** ( $n$ ) de ($ \\Omega $) représente l’**effectif de la population**.\n",
    "- Un **caractère** est une **application** ( $ X $ ) définie sur ($ \\Omega $).\n",
    "    - Si ( $ X $ ) prend des **valeurs réelles**, c’est un **caractère quantitatif**.\n",
    "    - Sinon, c’est un **caractère qualitatif**.\n",
    "    - Ici, on se limite aux **caractères quantitatifs**.\n",
    "- La **série statistique** est la suite des valeurs prises par ( $X$ ), notée :\n",
    "\n",
    "$$\n",
    "X = [x_1, x_2, \\ldots, x_n] \\quad \\text{où } x_i = X(\\omega_i)\n",
    "$$\n",
    "\n",
    "- **L’étendue** d’une série statistique est la différence entre la plus grande et la plus petite valeur observée :  \n",
    "\n",
    "$$\n",
    "\\text{Étendue} = \\max(x_i) - \\min(x_i)\n",
    "$$\n",
    "\n",
    "\n",
    "\n",
    "### Exemple\n",
    "\n",
    "On s'intéresse aux notes obtenues par les élèves d'une classe de 4ᵉ lors du dernier contrôle de mathématiques.\n",
    "\n",
    "- **Population** : l'ensemble des élèves de la classe.  \n",
    "  On note cet ensemble :  \n",
    "  $$\n",
    "  \\Omega = \\{ \\omega_1, \\omega_2, \\ldots, \\omega_{28} \\}\n",
    "  $$\n",
    "\n",
    "- **Individu** : un élève particulier, par exemple ( $\\omega_5$ )\n",
    "\n",
    "- **Caractère étudié** : la note en mathématiques  \n",
    "  Le caractère est une application :  \n",
    "  $$\n",
    "  X : \\Omega \\to \\mathbb{R}, \\quad X(\\omega_i) = \\text{note de } \\omega_i\n",
    "  $$\n",
    "\n",
    "- **Série statistique** (exemple) :  \n",
    "  $$\n",
    "  X = [12, 15, 8, 17, 10, \\ldots, 14]\n",
    "  $$\n",
    "\n",
    "- **Type de caractère** :  \n",
    "  Le caractère ( $X$ ) est **quantitatif**, car les notes sont des valeurs numériques.\n",
    "\n",
    "- **Étendue de la série** :  \n",
    "  $$\n",
    "  \\text{Étendue} = 17 - 8 = 9\n",
    "  $$"
   ]
  },
  {
   "cell_type": "code",
   "execution_count": 130,
   "id": "8157806c",
   "metadata": {},
   "outputs": [
    {
     "name": "stdout",
     "output_type": "stream",
     "text": [
      "Notes : [12 15  8 17 10 14]\n",
      "Étendue : 9\n"
     ]
    }
   ],
   "source": [
    "notes = np.array([12, 15, 8, 17, 10, 14])\n",
    "\n",
    "# Étendue\n",
    "etendue = np.max(notes) - np.min(notes)\n",
    "\n",
    "print(\"Notes :\", notes)\n",
    "print(\"Étendue :\", etendue)"
   ]
  },
  {
   "cell_type": "code",
   "execution_count": 131,
   "id": "d94b29cc",
   "metadata": {},
   "outputs": [
    {
     "name": "stdout",
     "output_type": "stream",
     "text": [
      "Notes : [12, 15, 8, 17, 10, 14]\n",
      "Étendue : 9\n"
     ]
    }
   ],
   "source": [
    "notes = pd.Series([12, 15, 8, 17, 10, 14])\n",
    "\n",
    "# Étendue = max - min\n",
    "etendue = notes.max() - notes.min()\n",
    "\n",
    "# Affichage\n",
    "print(\"Notes :\", notes.to_list())\n",
    "print(\"Étendue :\", etendue)"
   ]
  },
  {
   "cell_type": "markdown",
   "id": "70f2158b",
   "metadata": {},
   "source": [
    "### Médiane\n",
    "\n",
    "La **médiane** est une valeur $m$ qui partage la population $\\Omega$ en deux sous-populations de même effectif :\n",
    "\n",
    "- $\\Omega^- = \\{ \\omega \\in \\Omega \\mid X(\\omega) < m \\}$\n",
    "- $\\Omega^+ = \\{ \\omega \\in \\Omega \\mid X(\\omega) > m \\}$\n",
    "\n",
    "Cependant, une telle valeur $m$ n'existe pas toujours ou n’est pas toujours unique. On adopte alors la **convention suivante** :\n",
    "\n",
    "- Si $n$ est **pair**, on a $n = 2N$, et les données triées vérifient :\n",
    "\n",
    "$$\n",
    "x_1 \\leq x_2 \\leq \\cdots \\leq x_N \\leq x_{N+1} \\leq \\cdots \\leq x_{2N}\n",
    "$$\n",
    "\n",
    "On définit alors la médiane par :\n",
    "\n",
    "$$\n",
    "m = \\frac{x_N + x_{N+1}}{2}\n",
    "$$\n",
    "\n",
    "- Si $n$ est **impair**, on a $n = 2N - 1$, et les données triées vérifient :\n",
    "\n",
    "$$\n",
    "x_1 \\leq x_2 \\leq \\cdots \\leq x_{N-1} \\leq x_N \\leq x_{N+1} \\leq \\cdots \\leq x_{2N-1}\n",
    "$$\n",
    "\n",
    "Alors la médiane est simplement :\n",
    "\n",
    "$$\n",
    "m = x_N\n",
    "$$"
   ]
  },
  {
   "cell_type": "code",
   "execution_count": 132,
   "id": "92d67c82",
   "metadata": {},
   "outputs": [
    {
     "name": "stdout",
     "output_type": "stream",
     "text": [
      "Série : [1, 3, 5, 7, 9]\n",
      "Médiane : 5.0\n"
     ]
    }
   ],
   "source": [
    "data = [3, 7, 1, 9, 5]  # 5 éléments (impair)\n",
    "mediane = np.median(data)\n",
    "\n",
    "print(\"Série :\", sorted(data))\n",
    "print(\"Médiane :\", mediane)"
   ]
  },
  {
   "cell_type": "code",
   "execution_count": 133,
   "id": "79783024",
   "metadata": {},
   "outputs": [
    {
     "name": "stdout",
     "output_type": "stream",
     "text": [
      "Série : [1, 3, 7, 9]\n",
      "Médiane : 5.0\n"
     ]
    }
   ],
   "source": [
    "data = [3, 7, 1, 9]  # 4 éléments (pair)\n",
    "mediane = np.median(data)\n",
    "\n",
    "print(\"Série :\", sorted(data))\n",
    "print(\"Médiane :\", mediane)"
   ]
  },
  {
   "cell_type": "code",
   "execution_count": 134,
   "id": "5d7c7efb",
   "metadata": {},
   "outputs": [
    {
     "name": "stdout",
     "output_type": "stream",
     "text": [
      "Série triée : [1, 3, 7, 9]\n",
      "Médiane : 5.0\n"
     ]
    }
   ],
   "source": [
    "data = pd.Series([3, 7, 1, 9])  # 4 éléments (pair)\n",
    "\n",
    "# Calcul de la médiane\n",
    "mediane = data.median()\n",
    "\n",
    "# Affichage\n",
    "print(\"Série triée :\", data.sort_values().to_list())\n",
    "print(\"Médiane :\", mediane)"
   ]
  },
  {
   "cell_type": "markdown",
   "id": "77bbea67",
   "metadata": {},
   "source": [
    "### Quartiles\n",
    "\n",
    "Soit \\( X \\) une série statistique triée.\n",
    "\n",
    "- Le **premier quartile** ( $q_1$ ) est la plus petite valeur telle qu’au moins **25 %** des données lui sont **inférieures ou égales**.\n",
    "\n",
    "- Le **deuxième quartile** \\( $q_2$ \\) est la **médiane** de la série.\n",
    "\n",
    "- Le **troisième quartile** \\( $q_3$ \\) est la plus petite valeur telle qu’au moins **75 %** des données lui sont **inférieures ou égales**.\n",
    "\n",
    "L'**intervalle interquartile** est donné par :\n",
    "\n",
    "$$\n",
    "[q_1, q_3]\n",
    "$$\n",
    "\n",
    "Il contient **environ la moitié des valeurs** de la série (les 50 % centrales)."
   ]
  },
  {
   "cell_type": "code",
   "execution_count": 135,
   "id": "c9d2187a",
   "metadata": {},
   "outputs": [
    {
     "name": "stdout",
     "output_type": "stream",
     "text": [
      "Série triée : [ 5  7  8  9 10 11 12 13 15]\n",
      "Q1 (1er quartile) : 8.0\n",
      "Q2 (médiane)      : 10.0\n",
      "Q3 (3e quartile)   : 12.0\n",
      "Intervalle interquartile : [8.0, 12.0]\n"
     ]
    }
   ],
   "source": [
    "X = np.array([8, 12, 15, 7, 10, 9, 13, 11, 5])\n",
    "\n",
    "# Tri (juste pour l'affichage, np.percentile n'en a pas besoin)\n",
    "X_sorted = np.sort(X)\n",
    "\n",
    "# Calcul des quartiles\n",
    "q1 = np.percentile(X, 25)\n",
    "q2 = np.median(X)  # équivalent à np.percentile(X, 50)\n",
    "q3 = np.percentile(X, 75)\n",
    "\n",
    "# Affichage\n",
    "print(\"Série triée :\", X_sorted)\n",
    "print(\"Q1 (1er quartile) :\", q1)\n",
    "print(\"Q2 (médiane)      :\", q2)\n",
    "print(\"Q3 (3e quartile)   :\", q3)\n",
    "print(\"Intervalle interquartile :\", [q1, q3])"
   ]
  },
  {
   "cell_type": "code",
   "execution_count": 136,
   "id": "411659e2",
   "metadata": {},
   "outputs": [
    {
     "name": "stdout",
     "output_type": "stream",
     "text": [
      "Série triée : [7, 8, 9, 10, 11, 12, 13, 15]\n",
      "Q1 (1er quartile) : 8.75\n",
      "Q2 (médiane)      : 10.5\n",
      "Q3 (3e quartile)  : 12.25\n",
      "Intervalle interquartile : [8.75, 12.25]\n"
     ]
    }
   ],
   "source": [
    "X = pd.Series([8, 12, 15, 7, 10, 9, 13, 11])\n",
    "\n",
    "# Calcul des quartiles avec describe() ou quantile()\n",
    "q1 = X.quantile(0.25)\n",
    "q2 = X.median()       # ou X.quantile(0.5)\n",
    "q3 = X.quantile(0.75)\n",
    "\n",
    "# Affichage\n",
    "print(\"Série triée :\", X.sort_values().to_list())\n",
    "print(\"Q1 (1er quartile) :\", q1)\n",
    "print(\"Q2 (médiane)      :\", q2)\n",
    "print(\"Q3 (3e quartile)  :\", q3)\n",
    "print(\"Intervalle interquartile :\", [q1, q3])"
   ]
  },
  {
   "cell_type": "markdown",
   "id": "84435254",
   "metadata": {},
   "source": [
    "### Quantiles \n",
    "\n",
    "Les **quantiles** sont des valeurs qui découpent une série statistique triée en parties égales.\n",
    "\n",
    "- Le **k-ième centile** (ou **percentile**) est la valeur $c_k$ telle que \n",
    "**k %** des données sont **inférieures ou égales** à cette valeur :\n",
    "\n",
    "$$\n",
    "k \\in \\{1, 2, \\dots, 99\\}\n",
    "$$\n",
    "\n",
    "$$\n",
    "\\text{centile}_k = c_k \\quad \\text{tel que} \\quad P(X \\leq c_k) = \\frac{k}{100}\n",
    "$$\n",
    "\n",
    "- Le **k-ième décile** est la valeur $d_k$ telle que **k/10** des données sont **inférieures ou égales** à cette valeur :\n",
    "\n",
    "$$\n",
    "k \\in \\{1, 2, \\dots, 9\\}\n",
    "$$\n",
    "\n",
    "$$\n",
    "\\text{décile}_k = d_k \\quad \\text{tel que} \\quad P(X \\leq d_k) = \\frac{k}{10}\n",
    "$$\n",
    "\n",
    "- Les **quartiles** sont un cas particulier des quantiles avec une division de la série en **4 parts égales** :\n",
    "  - $Q_1$ (1er quartile) : 25 % des données sont inférieures ou égales.\n",
    "  - $Q_2$ : la médiane (50 %).\n",
    "  - $Q_3$ : 75 % des données sont inférieures ou égales.\n",
    "\n",
    "> ⚠️ Étudier quartiles, déciles ou centiles n’a d’intérêt que si l’effectif de la population est **largement supérieur** à 4, 10 ou 100."
   ]
  },
  {
   "cell_type": "code",
   "execution_count": 137,
   "id": "bb89aaad",
   "metadata": {},
   "outputs": [
    {
     "name": "stdout",
     "output_type": "stream",
     "text": [
      "Centile 90 : 23.4\n",
      "Décile 2 : 8.6\n",
      "Quartile Q1 : 9.25\n",
      "Quartile Q3 : 20.25\n"
     ]
    }
   ],
   "source": [
    "X = np.array([4, 7, 9, 10, 13, 15, 18, 21, 23, 27])\n",
    "\n",
    "# Centile 90 (90 % des données en dessous)\n",
    "centile_90 = np.percentile(X, 90)\n",
    "\n",
    "# Décile 2 (20 % des données en dessous)\n",
    "decile_2 = np.percentile(X, 20)\n",
    "\n",
    "# Quartiles\n",
    "q1 = np.percentile(X, 25)\n",
    "q3 = np.percentile(X, 75)\n",
    "\n",
    "print(\"Centile 90 :\", centile_90)\n",
    "print(\"Décile 2 :\", decile_2)\n",
    "print(\"Quartile Q1 :\", q1)\n",
    "print(\"Quartile Q3 :\", q3)"
   ]
  },
  {
   "cell_type": "code",
   "execution_count": 138,
   "id": "4dc4f929",
   "metadata": {},
   "outputs": [
    {
     "name": "stdout",
     "output_type": "stream",
     "text": [
      "         valeurs\n",
      "count  10.000000\n",
      "mean   14.700000\n",
      "std     7.469196\n",
      "min     4.000000\n",
      "10%     6.700000\n",
      "25%     9.250000\n",
      "50%    14.000000\n",
      "75%    20.250000\n",
      "90%    23.400000\n",
      "max    27.000000\n"
     ]
    }
   ],
   "source": [
    "X = pd.Series([4, 7, 9, 10, 13, 15, 18, 21, 23, 27])\n",
    "\n",
    "# Utilisation de describe avec percentiles personnalisés\n",
    "donnees = pd.DataFrame(X, columns=[\"valeurs\"])\n",
    "resultats = donnees.describe(percentiles=[0.1, 0.25, 0.5, 0.75, 0.9])\n",
    "\n",
    "print(resultats)"
   ]
  },
  {
   "cell_type": "markdown",
   "id": "9a209d01",
   "metadata": {},
   "source": [
    "Les fonctions `np.sum` et `np.cumsum` de la bibliothèque NumPy permettent de réaliser des opérations sur des vecteurs numériques. Si l'on considère un vecteur `X = [x₁, x₂, ..., xₙ]`, la fonction `np.sum(X)` retourne la somme totale de tous les éléments du vecteur, c’est-à-dire $x_1 + x_2 + \\cdots + x_n$. En revanche, la fonction `np.cumsum(X)` renvoie un vecteur contenant les sommes cumulées des éléments de `X`, soit $[x_1, x_1 + x_2, ..., x_1 + x_2 + \\cdots + x_n]$."
   ]
  },
  {
   "cell_type": "code",
   "execution_count": 139,
   "id": "b0de30f2",
   "metadata": {},
   "outputs": [
    {
     "name": "stdout",
     "output_type": "stream",
     "text": [
      "Somme des éléments de X : 15\n",
      "Somme cumulée des éléments de X : [ 1  3  6 10 15]\n"
     ]
    }
   ],
   "source": [
    "# Définition d’un vecteur\n",
    "X = np.array([1, 2, 3, 4, 5])\n",
    "\n",
    "# Somme totale des éléments\n",
    "somme = np.sum(X)\n",
    "print(\"Somme des éléments de X :\", somme)\n",
    "\n",
    "# Somme cumulée des éléments\n",
    "somme_cumulee = np.cumsum(X)\n",
    "print(\"Somme cumulée des éléments de X :\", somme_cumulee)"
   ]
  },
  {
   "cell_type": "markdown",
   "id": "92ce728e",
   "metadata": {},
   "source": [
    "### Modalités\n",
    "\n",
    "\n",
    "Pour analyser une variable statistique $X$, il est essentiel d’identifier les différentes valeurs qu’elle peut prendre, appelées **modalités** ($m_i$), et de connaître, pour chacune d’elles, leur **effectif** (le nombre de fois où chaque modalité apparaît dans la série). Dans un DataFrame Pandas, la méthode `.value_counts()` permet de déterminer ces effectifs. Elle retourne une série ou un DataFrame contenant, pour chaque modalité $m_i$, son effectif $e_i$, classé par défaut en ordre décroissant. En ajoutant le paramètre `ascending=True`, on obtient les modalités triées dans l’ordre croissant.\n"
   ]
  },
  {
   "cell_type": "code",
   "execution_count": 140,
   "id": "372fa488",
   "metadata": {},
   "outputs": [
    {
     "name": "stdout",
     "output_type": "stream",
     "text": [
      "  Modalité  Effectif\n",
      "0    rouge         2\n",
      "1     vert         2\n",
      "2     bleu         3\n"
     ]
    }
   ],
   "source": [
    "# Création d’un DataFrame avec une colonne \"X\"\n",
    "df = pd.DataFrame({'X': ['rouge', 'bleu', 'bleu', 'vert', 'rouge', 'bleu', 'vert']})\n",
    "\n",
    "# Calcul des effectifs par modalité dans l’ordre croissant\n",
    "effectifs = df['X'].value_counts(ascending=True)\n",
    "\n",
    "# Conversion en DataFrame\n",
    "effectifs_df = effectifs.reset_index()\n",
    "effectifs_df.columns = ['Modalité', 'Effectif']\n",
    "\n",
    "print(effectifs_df)"
   ]
  },
  {
   "cell_type": "markdown",
   "id": "4deb70a6",
   "metadata": {},
   "source": [
    "### Regroupement par classes\n",
    "\n",
    "Lorsque la série statistique $X = [x_1, x_2, \\dots, x_n]$ prend de nombreuses valeurs distinctes, il peut être utile de **regrouper les données en classes** pour simplifier leur analyse.\n",
    "\n",
    "- On choisit une suite de bornes **strictement croissante** :\n",
    "\n",
    "$$\n",
    "C = [c_1, c_2, \\dots, c_k]\n",
    "$$\n",
    "\n",
    "- On définit les intervalles (ou **classes**) suivants :\n",
    "\n",
    "  - Première classe : $I_1 = [c_1, c_2]$\n",
    "\n",
    "  - Pour $j \\geq 2$ : $I_j = ]c_j, c_{j+1}]$\n",
    "\n",
    "  C’est-à-dire que seule la **borne supérieure** est incluse sauf pour la première classe.\n",
    "\n",
    "- Le **nombre d’occurrences** $n_j$ est le nombre de valeurs $x_i$ qui appartiennent à l’intervalle $I_j$.\n",
    "\n",
    "Ce regroupement permet de **résumer efficacement une série très détaillée**, en facilitant les représentations graphiques (histogrammes) ou les calculs de fréquences.\n"
   ]
  },
  {
   "cell_type": "code",
   "execution_count": 141,
   "id": "ffd4ffa9",
   "metadata": {},
   "outputs": [
    {
     "name": "stdout",
     "output_type": "stream",
     "text": [
      "Découpage en classes :\n",
      "(-0.001, 10.0]    4\n",
      "(10.0, 15.0]      3\n",
      "(15.0, 20.0]      3\n",
      "(20.0, 25.0]      1\n",
      "Name: count, dtype: int64\n"
     ]
    }
   ],
   "source": [
    "X = np.array([4, 6, 7, 10, 11, 13, 15, 16, 17, 19, 22])\n",
    "\n",
    "# Définition des bornes de classes\n",
    "classes = [0, 10, 15, 20, 25]\n",
    "\n",
    "# Découpage en classes\n",
    "categories = pd.cut(X, bins=classes, right=True, include_lowest=True)\n",
    "\n",
    "# Compter les effectifs par classe (recommandé)\n",
    "effectifs = pd.Series(categories).value_counts(sort=False)\n",
    "\n",
    "print(\"Découpage en classes :\")\n",
    "print(effectifs)"
   ]
  },
  {
   "cell_type": "markdown",
   "id": "23716253",
   "metadata": {},
   "source": [
    "### Histogramme\n",
    "\n",
    "Un histogramme est une représentation graphique d'une série statistique groupée en classes (intervalles).\n",
    "\n",
    "- En abscisse, on place les classes.\n",
    "\n",
    "- À chaque classe, on associe un rectangle :\n",
    "\n",
    "    - La base correspond à l'intervalle de la classe.\n",
    "\n",
    "    - La hauteur est telle que la surface du rectangle est proportionnelle à l’effectif de la classe.\n",
    "\n",
    "Ainsi, plus l’effectif est grand, plus la surface est grande."
   ]
  },
  {
   "cell_type": "code",
   "execution_count": 142,
   "id": "f0399aa5",
   "metadata": {},
   "outputs": [
    {
     "data": {
      "image/png": "[encoded data removed]",
      "text/plain": [
       "<Figure size 800x500 with 1 Axes>"
      ]
     },
     "metadata": {},
     "output_type": "display_data"
    }
   ],
   "source": [
    "X = np.array([4, 6, 7, 10, 11, 13, 15, 16, 17, 19, 22])\n",
    "\n",
    "# Définition des bornes des classes\n",
    "classes = [0, 10, 15, 20, 25]\n",
    "\n",
    "# Tracé de l'histogramme automatiquement\n",
    "plt.figure(figsize=(8, 5))\n",
    "plt.hist(X, bins=classes, edgecolor='black', align='mid', rwidth=0.9)\n",
    "\n",
    "# Titres et légendes\n",
    "plt.xlabel(\"Classes\")\n",
    "plt.ylabel(\"Effectifs\")\n",
    "plt.title(\"Histogramme de la série (via plt.hist)\")\n",
    "plt.grid(axis='y', linestyle='--', alpha=0.6)\n",
    "plt.tight_layout()\n",
    "plt.show()"
   ]
  },
  {
   "cell_type": "code",
   "execution_count": 143,
   "id": "195ed4f9",
   "metadata": {},
   "outputs": [
    {
     "data": {
      "image/png": "[encoded data removed]",
      "text/plain": [
       "<Figure size 800x500 with 1 Axes>"
      ]
     },
     "metadata": {},
     "output_type": "display_data"
    }
   ],
   "source": [
    "largeurs = np.diff(classes)\n",
    "\n",
    "# Calcul des hauteurs (effectif / largeur)\n",
    "hauteurs = effectifs.values / largeurs\n",
    "\n",
    "# Tracé de l'histogramme\n",
    "plt.figure(figsize=(8, 5))\n",
    "plt.bar(range(len(effectifs)), hauteurs, width=1, align='center', edgecolor='black')\n",
    "\n",
    "# Étiquettes des classes en abscisse\n",
    "plt.xticks(ticks=range(len(effectifs)), labels=[str(cl) for cl in effectifs.index])\n",
    "\n",
    "# Titres et légendes\n",
    "plt.xlabel(\"Classes\")\n",
    "plt.ylabel(\"Densité (effectif / largeur)\")\n",
    "plt.title(\"Histogramme de la série groupée par classes\")\n",
    "plt.grid(axis='y', linestyle='--', alpha=0.6)\n",
    "plt.tight_layout()\n",
    "plt.show()"
   ]
  },
  {
   "cell_type": "markdown",
   "id": "de96ddc6",
   "metadata": {},
   "source": [
    "### Moyenne d'une série statistique\n",
    "\n",
    "Soit une série statistique :\n",
    "\n",
    "$$\n",
    "X = [x_1, x_2, \\ldots, x_n]\n",
    "$$\n",
    "\n",
    "La **moyenne empirique** (ou arithmétique) de cette série est donnée par la formule :\n",
    "\n",
    "$$\n",
    "\\bar{x} = \\frac{1}{n} (x_1 + x_2 + \\cdots + x_n)\n",
    "$$\n",
    "\n",
    "---\n",
    "\n",
    "### Moyenne pondérée\n",
    "\n",
    "Lorsque les données sont regroupées par **modalités** :\n",
    "\n",
    "$$\n",
    "M = [m_1, m_2, \\ldots, m_k]\n",
    "$$\n",
    "\n",
    "et que :\n",
    "\n",
    "* $n_i$ est l’**effectif** associé à la modalité $m_i$\n",
    "* $f_i = \\dfrac{n_i}{n}$ est sa **fréquence**\n",
    "\n",
    "Alors, la **moyenne pondérée** s’écrit :\n",
    "\n",
    "$$\n",
    "\\bar{x} = \\frac{1}{n}(n_1 m_1 + n_2 m_2 + \\cdots + n_k m_k) = f_1 m_1 + f_2 m_2 + \\cdots + f_k m_k\n",
    "$$\n"
   ]
  },
  {
   "cell_type": "code",
   "execution_count": 144,
   "id": "a1676318",
   "metadata": {},
   "outputs": [
    {
     "name": "stdout",
     "output_type": "stream",
     "text": [
      "Série : [12 15  8 17 10 14]\n",
      "Moyenne : 12.666666666666666\n"
     ]
    }
   ],
   "source": [
    "X = np.array([12, 15, 8, 17, 10, 14])\n",
    "\n",
    "# Moyenne empirique\n",
    "moyenne = np.mean(X)\n",
    "\n",
    "print(\"Série :\", X)\n",
    "print(\"Moyenne :\", moyenne)"
   ]
  },
  {
   "cell_type": "code",
   "execution_count": 145,
   "id": "3710a1c8",
   "metadata": {},
   "outputs": [
    {
     "name": "stdout",
     "output_type": "stream",
     "text": [
      "Modalités : [10 12 14]\n",
      "Effectifs : [2 3 5]\n",
      "Moyenne pondérée : 12.6\n",
      "Moyenne pondérée (fonction custom) : 3.5\n"
     ]
    }
   ],
   "source": [
    "modalites = np.array([10, 12, 14])\n",
    "\n",
    "# Effectifs associés à chaque modalité\n",
    "effectifs = np.array([2, 3, 5])  # Exemple : 2 notes de 10, 3 notes de 12, 5 notes de 14\n",
    "\n",
    "# Moyenne pondérée (PAS EXIGIBLE !!!!!)\n",
    "moyenne_ponderee = np.average(modalites, weights=effectifs)\n",
    "\n",
    "print(\"Modalités :\", modalites)\n",
    "print(\"Effectifs :\", effectifs)\n",
    "print(\"Moyenne pondérée :\", moyenne_ponderee)\n",
    "\n",
    "def moyenne_ponderee(valeurs, coefficients):\n",
    "    return np.sum(valeurs * coefficients) / np.sum(coefficients)\n",
    "\n",
    "# Utilisation de la fonction\n",
    "moyenne_perso = moyenne_ponderee(effectifs, modalites)\n",
    "\n",
    "print(\"Moyenne pondérée (fonction custom) :\", moyenne_perso)"
   ]
  },
  {
   "cell_type": "code",
   "execution_count": 146,
   "id": "fff085fa",
   "metadata": {},
   "outputs": [
    {
     "name": "stdout",
     "output_type": "stream",
     "text": [
      "Matrice x :\n",
      " [[10 12 14 16]\n",
      " [ 8 10 12 14]\n",
      " [ 9 11 13 15]]\n",
      "Moyenne par colonne : [ 9. 11. 13. 15.]\n",
      "Moyenne par ligne   : [13. 11. 12.]\n"
     ]
    }
   ],
   "source": [
    "x = np.array([\n",
    "    [10, 12, 14, 16],\n",
    "    [8, 10, 12, 14],\n",
    "    [9, 11, 13, 15]\n",
    "])\n",
    "\n",
    "# Moyenne par colonne (valeurs pour chaque \"position\" dans les séries)\n",
    "moyennes_colonnes = np.mean(x, axis=0)\n",
    "\n",
    "# Moyenne par ligne (moyenne de chaque série)\n",
    "moyennes_lignes = np.mean(x, axis=1)\n",
    "\n",
    "print(\"Matrice x :\\n\", x)\n",
    "print(\"Moyenne par colonne :\", moyennes_colonnes)\n",
    "print(\"Moyenne par ligne   :\", moyennes_lignes)"
   ]
  },
  {
   "cell_type": "markdown",
   "id": "3ef1cde1",
   "metadata": {},
   "source": [
    "### Écart-type empirique $\\sigma_{n-1}$\n",
    "\n",
    "Soit une série statistique :\n",
    "\n",
    "$$\n",
    "X = [x_1, x_2, \\ldots, x_n], \\quad n \\geq 2\n",
    "$$\n",
    "\n",
    "* La **moyenne empirique** est notée :\n",
    "\n",
    "$$\n",
    "\\bar{x} = \\frac{1}{n} \\sum_{i=1}^n x_i\n",
    "$$\n",
    "\n",
    "* L’**écart-type empirique** $\\sigma_{n-1}$ (avec correction de Bessel) est :\n",
    "\n",
    "$$\n",
    "\\sigma_{n-1} = \\sqrt{ \\frac{1}{n - 1} \\sum_{i=1}^n (x_i - \\bar{x})^2 }\n",
    "$$\n",
    "\n",
    "C’est cette version qu’utilisent `numpy` et `pandas` **avec** `ddof = 1` (*degrees of freedom*).\n",
    "\n",
    "---\n",
    "\n",
    "#### Remarque :\n",
    "\n",
    "Si on omet `ddof = 1`, on obtient l’estimation non corrigée :\n",
    "\n",
    "$$\n",
    "\\sigma_n = \\sqrt{ \\frac{1}{n} \\sum_{i=1}^n (x_i - \\bar{x})^2 }\n",
    "$$\n",
    "\n",
    "Cette version est acceptable si l’effectif $n$ est **très grand**.\n"
   ]
  },
  {
   "cell_type": "code",
   "execution_count": 148,
   "id": "6eabb3ca",
   "metadata": {},
   "outputs": [
    {
     "name": "stdout",
     "output_type": "stream",
     "text": [
      "=== NumPy ===\n",
      "Données : [10 12 13 15  9]\n",
      "Moyenne : 11.8\n",
      "Écart-type corrigé (σn-1) : 2.3874672772626644\n",
      "Écart-type non corrigé (σn) : 2.1354156504062622\n",
      "\n",
      "=== pandas ===\n",
      "Moyenne : 11.8\n",
      "Écart-type corrigé (par défaut, ddof=1) : 2.3874672772626644\n",
      "Écart-type non corrigé : 2.1354156504062622\n"
     ]
    }
   ],
   "source": [
    "X = np.array([10, 12, 13, 15, 9])\n",
    "\n",
    "# Moyenne avec NumPy\n",
    "moyenne = np.mean(X)\n",
    "\n",
    "# Écart-type corrigé (ddof=1) avec NumPy\n",
    "ecart_type_corrige = np.std(X, ddof=1)\n",
    "\n",
    "# Écart-type non corrigé (ddof=0) avec NumPy\n",
    "ecart_type_non_corrige = np.std(X)\n",
    "\n",
    "print(\"=== NumPy ===\")\n",
    "print(\"Données :\", X)\n",
    "print(\"Moyenne :\", moyenne)\n",
    "print(\"Écart-type corrigé (σn-1) :\", ecart_type_corrige)\n",
    "print(\"Écart-type non corrigé (σn) :\", ecart_type_non_corrige)\n",
    "\n",
    "# Avec pandas\n",
    "donnees = pd.Series(X)\n",
    "\n",
    "print(\"\\n=== pandas ===\")\n",
    "print(\"Moyenne :\", donnees.mean())\n",
    "print(\"Écart-type corrigé (par défaut, ddof=1) :\", donnees.std())\n",
    "print(\"Écart-type non corrigé :\", donnees.std(ddof=0))"
   ]
  },
  {
   "cell_type": "markdown",
   "id": "860e1627",
   "metadata": {},
   "source": []
  }
 ],
 "metadata": {
  "kernelspec": {
   "display_name": "Python 3",
   "language": "python",
   "name": "python3"
  },
  "language_info": {
   "codemirror_mode": {
    "name": "ipython",
    "version": 3
   },
   "file_extension": ".py",
   "mimetype": "text/x-python",
   "name": "python",
   "nbconvert_exporter": "python",
   "pygments_lexer": "ipython3",
   "version": "3.12.8"
  }
 },
 "nbformat": 4,
 "nbformat_minor": 5
}
