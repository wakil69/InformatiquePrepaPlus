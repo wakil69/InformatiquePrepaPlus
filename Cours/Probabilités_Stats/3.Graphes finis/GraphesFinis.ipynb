{
 "cells": [
  {
   "cell_type": "markdown",
   "id": "7a8ca000",
   "metadata": {},
   "source": [
    "# Graphes finis"
   ]
  },
  {
   "cell_type": "markdown",
   "id": "ec9cac8b",
   "metadata": {},
   "source": [
    "**Librairies**"
   ]
  },
  {
   "cell_type": "code",
   "execution_count": null,
   "id": "bccd1e17",
   "metadata": {},
   "outputs": [],
   "source": [
    "from graphviz import Digraph, Graph\n",
    "import numpy as np"
   ]
  },
  {
   "cell_type": "markdown",
   "id": "bf355349",
   "metadata": {},
   "source": [
    "### Graphe non orienté\n",
    "\n",
    "Un graphe non orienté est un ensemble de sommets reliés entre eux par des arêtes.\n",
    "\n",
    "- Deux sommets reliés par une arête sont appelés adjacents.\n",
    "\n",
    "- L’ordre d’un graphe correspond au nombre total de sommets qu’il contient.\n",
    "\n",
    "- Le degré d’un sommet est le nombre d’arêtes qui le relient à d'autres sommets.\n",
    "\n",
    "- Un graphe est dit complet lorsque chaque sommet est adjacent à tous les autres."
   ]
  },
  {
   "cell_type": "code",
   "execution_count": null,
   "id": "03ab335d",
   "metadata": {},
   "outputs": [],
   "source": [
    "dot = Graph()\n",
    "\n",
    "# Add nodes\n",
    "dot.node('A')\n",
    "dot.node('B')\n",
    "dot.node('C')\n",
    "dot.node('D')\n",
    "dot.node('E')\n",
    "\n",
    "# Add edges (with loops and directions)\n",
    "dot.edge('A', 'D')\n",
    "dot.edge('A', 'B')\n",
    "dot.edge('B', 'C')\n",
    "dot.edge('D', 'E')\n",
    "\n",
    "# ordre : 5, degré de A : 2, graphe non-complet\n",
    "dot"
   ]
  },
  {
   "cell_type": "code",
   "execution_count": null,
   "id": "58d0eb11",
   "metadata": {},
   "outputs": [],
   "source": [
    "dot = Graph()\n",
    "\n",
    "# Add nodes\n",
    "dot.node('A')\n",
    "dot.node('B')\n",
    "dot.node('C')\n",
    "dot.node('D')\n",
    "\n",
    "# Add edges (with loops and directions)\n",
    "dot.edge('A', 'B')\n",
    "dot.edge('A', 'C')\n",
    "dot.edge('A', 'D')\n",
    "dot.edge('B', 'C')\n",
    "dot.edge('B', 'D')\n",
    "dot.edge('C', 'D')\n",
    "\n",
    "# ordre : 4, degré de A : 3, graphe complet\n",
    "dot"
   ]
  },
  {
   "cell_type": "markdown",
   "id": "9b62719d",
   "metadata": {},
   "source": [
    "### Graphe orienté\n",
    "\n",
    "Un graphe orienté est un graphe dans lequel les arêtes ont un sens : elles vont d’un sommet d’origine vers un sommet d’arrivée.\n",
    "\n",
    "Chaque arête ne peut être parcourue que dans la direction indiquée par la flèche.\n",
    "\n",
    "Une boucle est une arête orientée qui part et revient sur le même sommet (l’origine et l’extrémité sont identiques).\n"
   ]
  },
  {
   "cell_type": "code",
   "execution_count": null,
   "id": "66d8b74e",
   "metadata": {},
   "outputs": [],
   "source": [
    "dot = Digraph()\n",
    "\n",
    "# Add nodes\n",
    "dot.node('A')\n",
    "dot.node('B')\n",
    "dot.node('C')\n",
    "\n",
    "# Add edges (with loops and directions)\n",
    "dot.edge('A', 'A')\n",
    "dot.edge('A', 'C')\n",
    "dot.edge('B', 'C')\n",
    "dot.edge('B', 'A')\n",
    "dot.edge('B', 'B')\n",
    "dot.edge('C', 'A')\n",
    "\n",
    "# 2 boucles au sommet A et sommet B\n",
    "dot"
   ]
  },
  {
   "cell_type": "markdown",
   "id": "c66b19e3",
   "metadata": {},
   "source": [
    "### Graphe étiquetés\n",
    "\n",
    "Un graphe étiqueté est un graphe orienté dans lequel chaque arête porte une étiquette.\n",
    "\n",
    "Cette étiquette peut être une lettre, un mot, un symbole, ou tout autre marqueur.\n",
    "\n",
    "Ces éléments sont appelés étiquettes et servent à identifier ou qualifier les arêtes du graphe."
   ]
  },
  {
   "cell_type": "code",
   "execution_count": null,
   "id": "c61ec767",
   "metadata": {},
   "outputs": [],
   "source": [
    "dot = Digraph()\n",
    "\n",
    "dot.node('A')\n",
    "dot.node('B')\n",
    "dot.node('C')\n",
    "\n",
    "dot.edge('A', 'A', label='aa')   \n",
    "dot.edge('A', 'C', label='ac')\n",
    "dot.edge('B', 'C', label='bc')\n",
    "dot.edge('B', 'A', label='ba')\n",
    "dot.edge('B', 'B', label='bb') \n",
    "dot.edge('C', 'A', label='ca')\n",
    "\n",
    "dot"
   ]
  },
  {
   "cell_type": "markdown",
   "id": "b8c5ede6",
   "metadata": {},
   "source": [
    "### Graphes pondérés\n",
    "\n",
    "Un graphe pondéré est un type de graphe étiqueté dans lequel chaque arête porte un nombre positif, appelé poids.\n",
    "\n",
    "- Le poids d’une chaîne correspond à la somme des poids des arêtes qui la composent.\n",
    "\n",
    "- Une plus courte chaîne entre deux sommets est celle qui relie ces sommets en ayant le poids total le plus faible parmi toutes les chaînes possibles.\n",
    "\n",
    "Les graphes pondérés peuvent être orientés ou non orientés."
   ]
  },
  {
   "cell_type": "code",
   "execution_count": null,
   "id": "3956c486",
   "metadata": {},
   "outputs": [],
   "source": [
    "# Graphe orienté pondéré\n",
    "dot = Digraph()\n",
    "\n",
    "dot.attr(rankdir='LR')\n",
    "\n",
    "dot.node('A')\n",
    "dot.node('B')\n",
    "dot.node('C')\n",
    "dot.node('D')\n",
    "\n",
    "dot.edge('A', 'B', label='3')\n",
    "dot.edge('A', 'C', label='1')\n",
    "dot.edge('B', 'C', label='7')\n",
    "dot.edge('B', 'D', label='5')\n",
    "dot.edge('C', 'D', label='2')\n",
    "\n",
    "# La chaine ABCD a un poids de 3 + 7 + 2 = 12\n",
    "# La plus courte chaine entre A et D est la chaine ACD\n",
    "dot\n"
   ]
  },
  {
   "cell_type": "markdown",
   "id": "41df088d",
   "metadata": {},
   "source": [
    "### Matrice d'adjacence"
   ]
  },
  {
   "cell_type": "markdown",
   "id": "1833eaf9",
   "metadata": {},
   "source": [
    "Pour un **graphe non orienté et non pondéré d’ordre $n$**, on peut lui associer une matrice d’adjacence, qui est une matrice carrée de taille $n×n$.\n",
    "\n",
    "- Les sommets du graphe sont numérotés de 1 à $n$.\n",
    "\n",
    "- L’élément situé à la ligne $i$ et à la colonne $j$ de la matrice indique le nombre d’arêtes reliant les sommets $i$ et $j$.\n",
    "\n",
    "- Cette matrice est toujours symétrique, car les arêtes n’ont pas de direction (si $i$ est relié à $j$, alors $j$ est aussi relié à $i$)."
   ]
  },
  {
   "cell_type": "code",
   "execution_count": null,
   "id": "e998e082",
   "metadata": {},
   "outputs": [],
   "source": [
    "nodes = ['1', '2', '3', '4']\n",
    "edges = [('1', '2'), ('1', '3'), ('2', '3'), ('3', '4')]\n",
    "\n",
    "g = Graph()\n",
    "\n",
    "for node in nodes:\n",
    "    g.node(node)\n",
    "for u, v in edges:\n",
    "    g.edge(u, v)\n",
    "\n",
    "g.attr(rankdir='LR')\n",
    "\n",
    "index_map = {node: i for i, node in enumerate(nodes)}\n",
    "n = len(nodes)\n",
    "adj_matrix = np.zeros((n, n), dtype=int)\n",
    "\n",
    "for u, v in edges:\n",
    "    i, j = index_map[u], index_map[v]\n",
    "    adj_matrix[i][j] = 1\n",
    "    adj_matrix[j][i] = 1 \n",
    "\n",
    "g\n"
   ]
  },
  {
   "cell_type": "code",
   "execution_count": null,
   "id": "1afe160e",
   "metadata": {},
   "outputs": [],
   "source": [
    "print(\"Matrice d'adjacence :\\n\")\n",
    "\n",
    "# Afficher l'en-tête des colonnes\n",
    "print(\"    \" + \"  \".join(nodes))\n",
    "\n",
    "# Afficher chaque ligne avec son label de sommet\n",
    "for i, row in enumerate(adj_matrix):\n",
    "    print(f\"{nodes[i]} | \" + \"  \".join(str(val) for val in row))\n"
   ]
  },
  {
   "cell_type": "markdown",
   "id": "4a5a4c70",
   "metadata": {},
   "source": [
    "Pour un graphe **orienté et non pondéré**, la matrice d’adjacence est une matrice carrée où l’élément situé à la ligne $i$ et à la colonne $j$ indique le nombre d’arêtes orientées allant du sommet $i$ vers le sommet $j$.\n",
    "\n",
    "Contrairement au cas des graphes non orientés, cette matrice n’est pas forcément symétrique, car une arête peut exister de $i$ vers $j$, mais pas nécessairement de $j$ vers $i$."
   ]
  },
  {
   "cell_type": "code",
   "execution_count": null,
   "id": "6cf71e67",
   "metadata": {},
   "outputs": [],
   "source": [
    "nodes = ['A', 'B', 'C', 'D']\n",
    "edges = [('A', 'B'), ('A', 'C'), ('B', 'C'), ('C', 'A'), ('C', 'D')]\n",
    "\n",
    "g = Digraph()\n",
    "\n",
    "g.attr(rankdir='LR')\n",
    "\n",
    "for node in nodes:\n",
    "    g.node(node)\n",
    "for u, v in edges:\n",
    "    g.edge(u, v)\n",
    "\n",
    "g"
   ]
  },
  {
   "cell_type": "code",
   "execution_count": null,
   "id": "baf28a6e",
   "metadata": {},
   "outputs": [],
   "source": [
    "index_map = {node: i for i, node in enumerate(nodes)}\n",
    "n = len(nodes)\n",
    "adj_matrix = np.zeros((n, n), dtype=int)\n",
    "\n",
    "# Remplir la matrice (orientation : u → v)\n",
    "for u, v in edges:\n",
    "    i, j = index_map[u], index_map[v]\n",
    "    adj_matrix[i][j] = 1\n",
    "\n",
    "# Afficher avec une légende\n",
    "print(\"Matrice d'adjacence (graphe orienté) :\\n\")\n",
    "print(\"    \" + \"  \".join(nodes))\n",
    "for i, row in enumerate(adj_matrix):\n",
    "    print(f\"{nodes[i]} | \" + \"  \".join(str(val) for val in row))"
   ]
  },
  {
   "cell_type": "markdown",
   "id": "00aa66fe",
   "metadata": {},
   "source": [
    "Pour un graphe pondéré, la matrice d’adjacence est une matrice carrée dans laquelle l’élément situé à la ligne $i$ et à la colonne $j$ correspond au poids (ou étiquette) de l’arête reliant les sommets $i$ et $j$, s’il en existe une.\n",
    "\n",
    "- Si aucune arête ne relie $i$ à $j$, la valeur est généralement 0 ou ∞ (selon le contexte).\n",
    "\n",
    "- Cette matrice est symétrique si le graphe est non orienté.\n",
    "\n",
    "- Elle est asymétrique si le graphe est orienté, puisque les poids peuvent différer (ou exister uniquement dans un sens)."
   ]
  },
  {
   "cell_type": "code",
   "execution_count": null,
   "id": "50fcc552",
   "metadata": {},
   "outputs": [],
   "source": [
    "nodes = ['A', 'B', 'C', 'D']\n",
    "edges = [\n",
    "    ('A', 'B', 4),\n",
    "    ('A', 'C', 2),\n",
    "    ('B', 'C', 5),\n",
    "    ('B', 'D', 10),\n",
    "    ('C', 'D', 3)\n",
    "]\n",
    "\n",
    "g = Graph()\n",
    "\n",
    "g.attr(rankdir='LR')\n",
    "\n",
    "for node in nodes:\n",
    "    g.node(node)\n",
    "for u, v, weight in edges:\n",
    "    g.edge(u, v, label=str(weight))\n",
    "\n",
    "g"
   ]
  },
  {
   "cell_type": "code",
   "execution_count": null,
   "id": "206c6eff",
   "metadata": {},
   "outputs": [],
   "source": [
    "index_map = {node: i for i, node in enumerate(nodes)}\n",
    "n = len(nodes)\n",
    "adj_matrix = np.zeros((n, n), dtype=int)\n",
    "\n",
    "for u, v, weight in edges:\n",
    "    i, j = index_map[u], index_map[v]\n",
    "    adj_matrix[i][j] = weight\n",
    "    adj_matrix[j][i] = weight \n",
    "\n",
    "print(\"Matrice d'adjacence pondérée (graphe non orienté) :\\n\")\n",
    "print(\"    \" + \"  \".join(nodes))\n",
    "for i, row in enumerate(adj_matrix):\n",
    "    print(f\"{nodes[i]} | \" + \"  \".join(f\"{val:>1}\" for val in row))"
   ]
  },
  {
   "cell_type": "markdown",
   "id": "97611c07",
   "metadata": {},
   "source": [
    "### Implémentation d'un graphe sur Python"
   ]
  },
  {
   "cell_type": "markdown",
   "id": "38b11066",
   "metadata": {},
   "source": [
    "Graphes non pondérés"
   ]
  },
  {
   "cell_type": "code",
   "execution_count": 25,
   "id": "9ef70d4b",
   "metadata": {},
   "outputs": [],
   "source": [
    "# Liste d’adjacence indexée\n",
    "adj_list_indexed = [\n",
    "    [\"B\", \"C\"],     # A \n",
    "    [\"A\", \"C\"],     # B\n",
    "    [\"A\", \"B\", \"D\"],  # C \n",
    "    [\"C\"]         # D\n",
    "]\n",
    "\n",
    "# Dictionnaire d’adjacence avec noms de sommets\n",
    "adj_dict = {\n",
    "    'A': ['B', 'C'],\n",
    "    'B': ['A', 'C'],\n",
    "    'C': ['A', 'B', 'D'],\n",
    "    'D': ['C']\n",
    "}\n",
    "\n",
    "# Matrice d'adjacence\n",
    "adj_matrix = np.array([\n",
    "    [0, 1, 1, 0],  # A\n",
    "    [1, 0, 1, 0],  # B\n",
    "    [1, 1, 0, 1],  # C\n",
    "    [0, 0, 1, 0]   # D\n",
    "])"
   ]
  },
  {
   "cell_type": "code",
   "execution_count": 26,
   "id": "4bb1c03a",
   "metadata": {},
   "outputs": [
    {
     "data": {
      "image/svg+xml": [
       "<?xml version=\"1.0\" encoding=\"UTF-8\" standalone=\"no\"?>\n",
       "<!DOCTYPE svg PUBLIC \"-//W3C//DTD SVG 1.1//EN\"\n",
       " \"http://www.w3.org/Graphics/SVG/1.1/DTD/svg11.dtd\">\n",
       "<!-- Generated by graphviz version 12.2.1 (20241206.2353)\n",
       " -->\n",
       "<!-- Pages: 1 -->\n",
       "<svg width=\"332pt\" height=\"67pt\"\n",
       " viewBox=\"0.00 0.00 332.00 67.00\" xmlns=\"http://www.w3.org/2000/svg\" xmlns:xlink=\"http://www.w3.org/1999/xlink\">\n",
       "<g id=\"graph0\" class=\"graph\" transform=\"scale(1 1) rotate(0) translate(4 63)\">\n",
       "<polygon fill=\"white\" stroke=\"none\" points=\"-4,4 -4,-63 328,-63 328,4 -4,4\"/>\n",
       "<!-- A -->\n",
       "<g id=\"node1\" class=\"node\">\n",
       "<title>A</title>\n",
       "<ellipse fill=\"none\" stroke=\"black\" cx=\"27\" cy=\"-18\" rx=\"27\" ry=\"18\"/>\n",
       "<text text-anchor=\"middle\" x=\"27\" y=\"-12.95\" font-family=\"Times New Roman,serif\" font-size=\"14.00\">A</text>\n",
       "</g>\n",
       "<!-- B -->\n",
       "<g id=\"node2\" class=\"node\">\n",
       "<title>B</title>\n",
       "<ellipse fill=\"none\" stroke=\"black\" cx=\"117\" cy=\"-41\" rx=\"27\" ry=\"18\"/>\n",
       "<text text-anchor=\"middle\" x=\"117\" y=\"-35.95\" font-family=\"Times New Roman,serif\" font-size=\"14.00\">B</text>\n",
       "</g>\n",
       "<!-- A&#45;&#45;B -->\n",
       "<g id=\"edge1\" class=\"edge\">\n",
       "<title>A&#45;&#45;B</title>\n",
       "<path fill=\"none\" stroke=\"black\" d=\"M52.51,-24.41C64.62,-27.57 79.19,-31.38 91.31,-34.55\"/>\n",
       "</g>\n",
       "<!-- C -->\n",
       "<g id=\"node3\" class=\"node\">\n",
       "<title>C</title>\n",
       "<ellipse fill=\"none\" stroke=\"black\" cx=\"207\" cy=\"-18\" rx=\"27\" ry=\"18\"/>\n",
       "<text text-anchor=\"middle\" x=\"207\" y=\"-12.95\" font-family=\"Times New Roman,serif\" font-size=\"14.00\">C</text>\n",
       "</g>\n",
       "<!-- A&#45;&#45;C -->\n",
       "<g id=\"edge2\" class=\"edge\">\n",
       "<title>A&#45;&#45;C</title>\n",
       "<path fill=\"none\" stroke=\"black\" d=\"M54.23,-15.93C65.26,-15.16 78.25,-14.38 90,-14 113.99,-13.23 120.01,-13.23 144,-14 155.75,-14.38 168.74,-15.16 179.77,-15.93\"/>\n",
       "</g>\n",
       "<!-- B&#45;&#45;C -->\n",
       "<g id=\"edge3\" class=\"edge\">\n",
       "<title>B&#45;&#45;C</title>\n",
       "<path fill=\"none\" stroke=\"black\" d=\"M142.51,-34.59C154.62,-31.43 169.19,-27.62 181.31,-24.45\"/>\n",
       "</g>\n",
       "<!-- D -->\n",
       "<g id=\"node4\" class=\"node\">\n",
       "<title>D</title>\n",
       "<ellipse fill=\"none\" stroke=\"black\" cx=\"297\" cy=\"-18\" rx=\"27\" ry=\"18\"/>\n",
       "<text text-anchor=\"middle\" x=\"297\" y=\"-12.95\" font-family=\"Times New Roman,serif\" font-size=\"14.00\">D</text>\n",
       "</g>\n",
       "<!-- C&#45;&#45;D -->\n",
       "<g id=\"edge4\" class=\"edge\">\n",
       "<title>C&#45;&#45;D</title>\n",
       "<path fill=\"none\" stroke=\"black\" d=\"M234.4,-18C245.54,-18 258.48,-18 269.62,-18\"/>\n",
       "</g>\n",
       "</g>\n",
       "</svg>\n"
      ],
      "text/plain": [
       "<graphviz.graphs.Graph at 0x29dff64aa20>"
      ]
     },
     "execution_count": 26,
     "metadata": {},
     "output_type": "execute_result"
    }
   ],
   "source": [
    "g = Graph(engine='dot')  \n",
    "g.attr(rankdir='LR') \n",
    "\n",
    "added_edges = set()\n",
    "for node, neighbors in adj_dict.items():\n",
    "    for neighbor in neighbors:\n",
    "        edge = tuple(sorted([node, neighbor]))\n",
    "        if edge not in added_edges:\n",
    "            g.edge(*edge)\n",
    "            added_edges.add(edge)\n",
    "\n",
    "g"
   ]
  },
  {
   "cell_type": "markdown",
   "id": "ee64ff94",
   "metadata": {},
   "source": [
    "Graphes pondérés"
   ]
  },
  {
   "cell_type": "code",
   "execution_count": null,
   "id": "ff32b743",
   "metadata": {},
   "outputs": [],
   "source": [
    "adj_list_indexed = [\n",
    "    [(\"B\", 4), (\"C\", 2)],     # A\n",
    "    [(\"A\", 4), (\"C\", 5)],     # B\n",
    "    [(\"A\", 2), (\"B\", 5), (\"D\", 3)],  # C\n",
    "    [(\"C\", 3)]                # D\n",
    "]\n",
    "\n",
    "\n",
    "adj_dict = {\n",
    "    'A': [('B', 4), ('C', 2)],\n",
    "    'B': [('A', 4), ('C', 5)],\n",
    "    'C': [('A', 2), ('B', 5), ('D', 3)],\n",
    "    'D': [('C', 3)]\n",
    "}\n",
    "\n",
    "adj_matrix = np.array([\n",
    "    [0, 4, 2, 0],  # A\n",
    "    [4, 0, 5, 0],  # B\n",
    "    [2, 5, 0, 3],  # C\n",
    "    [0, 0, 3, 0]   # D\n",
    "])"
   ]
  },
  {
   "cell_type": "code",
   "execution_count": 27,
   "id": "83243de7",
   "metadata": {},
   "outputs": [
    {
     "data": {
      "image/svg+xml": [
       "<?xml version=\"1.0\" encoding=\"UTF-8\" standalone=\"no\"?>\n",
       "<!DOCTYPE svg PUBLIC \"-//W3C//DTD SVG 1.1//EN\"\n",
       " \"http://www.w3.org/Graphics/SVG/1.1/DTD/svg11.dtd\">\n",
       "<!-- Generated by graphviz version 12.2.1 (20241206.2353)\n",
       " -->\n",
       "<!-- Pages: 1 -->\n",
       "<svg width=\"352pt\" height=\"81pt\"\n",
       " viewBox=\"0.00 0.00 352.25 81.00\" xmlns=\"http://www.w3.org/2000/svg\" xmlns:xlink=\"http://www.w3.org/1999/xlink\">\n",
       "<g id=\"graph0\" class=\"graph\" transform=\"scale(1 1) rotate(0) translate(4 77)\">\n",
       "<polygon fill=\"white\" stroke=\"none\" points=\"-4,4 -4,-77 348.25,-77 348.25,4 -4,4\"/>\n",
       "<!-- A -->\n",
       "<g id=\"node1\" class=\"node\">\n",
       "<title>A</title>\n",
       "<ellipse fill=\"none\" stroke=\"black\" cx=\"27\" cy=\"-18\" rx=\"27\" ry=\"18\"/>\n",
       "<text text-anchor=\"middle\" x=\"27\" y=\"-12.95\" font-family=\"Times New Roman,serif\" font-size=\"14.00\">A</text>\n",
       "</g>\n",
       "<!-- B -->\n",
       "<g id=\"node2\" class=\"node\">\n",
       "<title>B</title>\n",
       "<ellipse fill=\"none\" stroke=\"black\" cx=\"123.75\" cy=\"-55\" rx=\"27\" ry=\"18\"/>\n",
       "<text text-anchor=\"middle\" x=\"123.75\" y=\"-49.95\" font-family=\"Times New Roman,serif\" font-size=\"14.00\">B</text>\n",
       "</g>\n",
       "<!-- A&#45;&#45;B -->\n",
       "<g id=\"edge1\" class=\"edge\">\n",
       "<title>A&#45;&#45;B</title>\n",
       "<path fill=\"none\" stroke=\"black\" d=\"M50.94,-26.96C65.83,-32.77 85.17,-40.32 100.02,-46.13\"/>\n",
       "<text text-anchor=\"middle\" x=\"75.38\" y=\"-40.81\" font-family=\"Times New Roman,serif\" font-size=\"14.00\">4</text>\n",
       "</g>\n",
       "<!-- C -->\n",
       "<g id=\"node3\" class=\"node\">\n",
       "<title>C</title>\n",
       "<ellipse fill=\"none\" stroke=\"black\" cx=\"220.5\" cy=\"-18\" rx=\"27\" ry=\"18\"/>\n",
       "<text text-anchor=\"middle\" x=\"220.5\" y=\"-12.95\" font-family=\"Times New Roman,serif\" font-size=\"14.00\">C</text>\n",
       "</g>\n",
       "<!-- A&#45;&#45;C -->\n",
       "<g id=\"edge2\" class=\"edge\">\n",
       "<title>A&#45;&#45;C</title>\n",
       "<path fill=\"none\" stroke=\"black\" d=\"M54.08,-14.95C66.91,-13.6 82.62,-12.17 96.75,-11.5 120.72,-10.37 126.78,-10.37 150.75,-11.5 164.88,-12.17 180.59,-13.6 193.42,-14.95\"/>\n",
       "<text text-anchor=\"middle\" x=\"123.75\" y=\"-14.7\" font-family=\"Times New Roman,serif\" font-size=\"14.00\">2</text>\n",
       "</g>\n",
       "<!-- B&#45;&#45;C -->\n",
       "<g id=\"edge3\" class=\"edge\">\n",
       "<title>B&#45;&#45;C</title>\n",
       "<path fill=\"none\" stroke=\"black\" d=\"M147.69,-46.04C162.58,-40.23 181.92,-32.68 196.77,-26.87\"/>\n",
       "<text text-anchor=\"middle\" x=\"172.12\" y=\"-40.81\" font-family=\"Times New Roman,serif\" font-size=\"14.00\">5</text>\n",
       "</g>\n",
       "<!-- D -->\n",
       "<g id=\"node4\" class=\"node\">\n",
       "<title>D</title>\n",
       "<ellipse fill=\"none\" stroke=\"black\" cx=\"317.25\" cy=\"-18\" rx=\"27\" ry=\"18\"/>\n",
       "<text text-anchor=\"middle\" x=\"317.25\" y=\"-12.95\" font-family=\"Times New Roman,serif\" font-size=\"14.00\">D</text>\n",
       "</g>\n",
       "<!-- C&#45;&#45;D -->\n",
       "<g id=\"edge4\" class=\"edge\">\n",
       "<title>C&#45;&#45;D</title>\n",
       "<path fill=\"none\" stroke=\"black\" d=\"M247.89,-18C261.03,-18 276.88,-18 290,-18\"/>\n",
       "<text text-anchor=\"middle\" x=\"268.88\" y=\"-21.2\" font-family=\"Times New Roman,serif\" font-size=\"14.00\">3</text>\n",
       "</g>\n",
       "</g>\n",
       "</svg>\n"
      ],
      "text/plain": [
       "<graphviz.graphs.Graph at 0x29dff683f50>"
      ]
     },
     "execution_count": 27,
     "metadata": {},
     "output_type": "execute_result"
    }
   ],
   "source": [
    "adj_dict = {\n",
    "    'A': [('B', 4), ('C', 2)],\n",
    "    'B': [('A', 4), ('C', 5)],\n",
    "    'C': [('A', 2), ('B', 5), ('D', 3)],\n",
    "    'D': [('C', 3)]\n",
    "}\n",
    "\n",
    "g = Graph(engine='dot')\n",
    "g.attr(rankdir='LR')  # orientation horizontale\n",
    "\n",
    "added_edges = set()\n",
    "for node, neighbors in adj_dict.items():\n",
    "    for neighbor, weight in neighbors:\n",
    "        edge = tuple(sorted([node, neighbor]))\n",
    "        if edge not in added_edges:\n",
    "            g.edge(node, neighbor, label=str(weight))\n",
    "            added_edges.add(edge)\n",
    "\n",
    "g"
   ]
  },
  {
   "cell_type": "markdown",
   "id": "7cac04df",
   "metadata": {},
   "source": [
    "### Algorithme de Dijkstra\n",
    "\n",
    "L’algorithme de Dijkstra permet de déterminer la distance minimale entre un sommet de départ et tous les autres sommets d’un graphe.\n",
    "\n",
    "- Il s’applique uniquement aux graphes pondérés dont les poids des arêtes sont positifs.\n",
    "\n",
    "- Le but est de trouver le plus court chemin (en termes de poids total) depuis un sommet donné vers tous les autres sommets atteignables.\n",
    "\n",
    "- À chaque étape, l’algorithme explore le chemin le plus prometteur en actualisant les distances minimales."
   ]
  },
  {
   "cell_type": "code",
   "execution_count": 30,
   "id": "c48975b2",
   "metadata": {},
   "outputs": [],
   "source": [
    "def dijkstra(graphe, depart):\n",
    "    # Liste des sommets dont la distance minimale est déjà connue\n",
    "    deja_affectes = [] \n",
    "\n",
    "    # Dictionnaire des distances minimales depuis le sommet de départ\n",
    "    distances = {depart: 0} \n",
    "\n",
    "    # Dictionnaire des prédécesseurs pour reconstituer les chemins\n",
    "    predecesseurs = {depart: None}\n",
    "\n",
    "    # Liste des sommets à explorer, sous forme de (distance, sommet)\n",
    "    a_traiter = [(0, depart)]\n",
    "\n",
    "    while a_traiter:\n",
    "        # Extraire le sommet ayant la plus petite distance connue\n",
    "        distance, sommet = a_traiter.pop(0)\n",
    "\n",
    "        # Si ce sommet a déjà été traité, on le saute\n",
    "        if sommet in deja_affectes:\n",
    "            continue\n",
    "\n",
    "        # On marque le sommet comme traité\n",
    "        deja_affectes.append(sommet)\n",
    "\n",
    "        # Parcourir tous les voisins du sommet actuel\n",
    "        for dist_successeur, successeur in graphe[sommet]:\n",
    "            # Ignorer les sommets déjà traités\n",
    "            if successeur in deja_affectes:\n",
    "                continue\n",
    "\n",
    "            # Calculer la nouvelle distance pour atteindre ce voisin\n",
    "            nouvelle_distance = distance + dist_successeur\n",
    "\n",
    "            # Si on n’a jamais atteint ce voisin, ou si on trouve un chemin plus court\n",
    "            if (successeur not in distances) or (nouvelle_distance < distances[successeur]):\n",
    "                # On met à jour la distance minimale\n",
    "                distances[successeur] = nouvelle_distance\n",
    "\n",
    "                # On note le sommet actuel comme prédécesseur du voisin\n",
    "                predecesseurs[successeur] = sommet\n",
    "\n",
    "                # On ajoute ce voisin à la liste des sommets à explorer\n",
    "                a_traiter.append((nouvelle_distance, successeur))\n",
    "\n",
    "        # On trie la liste pour toujours explorer en priorité le sommet le plus proche\n",
    "        a_traiter.sort(key=lambda x: x[0])\n",
    "\n",
    "    # On retourne le dictionnaire des distances et des prédécesseurs\n",
    "    return distances, predecesseurs\n"
   ]
  },
  {
   "cell_type": "code",
   "execution_count": 31,
   "id": "c9f65d8f",
   "metadata": {},
   "outputs": [],
   "source": [
    "def chemin(predecesseurs, depart, arrivee):\n",
    "    solution = []\n",
    "\n",
    "    while arrivee != depart:\n",
    "        solution.append(arrivee)\n",
    "        arrivee = predecesseurs[arrivee]\n",
    "\n",
    "    solution.append(depart)\n",
    "    solution.reverse()\n",
    "\n",
    "    return solution"
   ]
  },
  {
   "cell_type": "markdown",
   "id": "2c00324c",
   "metadata": {},
   "source": [
    "Exemple"
   ]
  },
  {
   "cell_type": "code",
   "execution_count": 28,
   "id": "caa70643",
   "metadata": {},
   "outputs": [
    {
     "data": {
      "image/svg+xml": [
       "<?xml version=\"1.0\" encoding=\"UTF-8\" standalone=\"no\"?>\n",
       "<!DOCTYPE svg PUBLIC \"-//W3C//DTD SVG 1.1//EN\"\n",
       " \"http://www.w3.org/Graphics/SVG/1.1/DTD/svg11.dtd\">\n",
       "<!-- Generated by graphviz version 12.2.1 (20241206.2353)\n",
       " -->\n",
       "<!-- Pages: 1 -->\n",
       "<svg width=\"449pt\" height=\"92pt\"\n",
       " viewBox=\"0.00 0.00 449.00 92.00\" xmlns=\"http://www.w3.org/2000/svg\" xmlns:xlink=\"http://www.w3.org/1999/xlink\">\n",
       "<g id=\"graph0\" class=\"graph\" transform=\"scale(1 1) rotate(0) translate(4 88)\">\n",
       "<polygon fill=\"white\" stroke=\"none\" points=\"-4,4 -4,-88 445,-88 445,4 -4,4\"/>\n",
       "<!-- A -->\n",
       "<g id=\"node1\" class=\"node\">\n",
       "<title>A</title>\n",
       "<ellipse fill=\"none\" stroke=\"black\" cx=\"27\" cy=\"-29\" rx=\"27\" ry=\"18\"/>\n",
       "<text text-anchor=\"middle\" x=\"27\" y=\"-23.95\" font-family=\"Times New Roman,serif\" font-size=\"14.00\">A</text>\n",
       "</g>\n",
       "<!-- B -->\n",
       "<g id=\"node2\" class=\"node\">\n",
       "<title>B</title>\n",
       "<ellipse fill=\"none\" stroke=\"black\" cx=\"123.75\" cy=\"-66\" rx=\"27\" ry=\"18\"/>\n",
       "<text text-anchor=\"middle\" x=\"123.75\" y=\"-60.95\" font-family=\"Times New Roman,serif\" font-size=\"14.00\">B</text>\n",
       "</g>\n",
       "<!-- A&#45;&#45;B -->\n",
       "<g id=\"edge1\" class=\"edge\">\n",
       "<title>A&#45;&#45;B</title>\n",
       "<path fill=\"none\" stroke=\"black\" d=\"M50.94,-37.96C65.83,-43.77 85.17,-51.32 100.02,-57.13\"/>\n",
       "<text text-anchor=\"middle\" x=\"75.38\" y=\"-51.81\" font-family=\"Times New Roman,serif\" font-size=\"14.00\">2</text>\n",
       "</g>\n",
       "<!-- C -->\n",
       "<g id=\"node3\" class=\"node\">\n",
       "<title>C</title>\n",
       "<ellipse fill=\"none\" stroke=\"black\" cx=\"220.5\" cy=\"-18\" rx=\"27\" ry=\"18\"/>\n",
       "<text text-anchor=\"middle\" x=\"220.5\" y=\"-12.95\" font-family=\"Times New Roman,serif\" font-size=\"14.00\">C</text>\n",
       "</g>\n",
       "<!-- A&#45;&#45;C -->\n",
       "<g id=\"edge2\" class=\"edge\">\n",
       "<title>A&#45;&#45;C</title>\n",
       "<path fill=\"none\" stroke=\"black\" d=\"M54.09,-26.18C66.92,-24.88 82.63,-23.43 96.75,-22.5 129.95,-20.32 168.27,-19.13 193.14,-18.53\"/>\n",
       "<text text-anchor=\"middle\" x=\"123.75\" y=\"-25.7\" font-family=\"Times New Roman,serif\" font-size=\"14.00\">5</text>\n",
       "</g>\n",
       "<!-- B&#45;&#45;C -->\n",
       "<g id=\"edge3\" class=\"edge\">\n",
       "<title>B&#45;&#45;C</title>\n",
       "<path fill=\"none\" stroke=\"black\" d=\"M145.78,-55.35C161.37,-47.45 182.55,-36.72 198.2,-28.79\"/>\n",
       "<text text-anchor=\"middle\" x=\"172.12\" y=\"-46.64\" font-family=\"Times New Roman,serif\" font-size=\"14.00\">1</text>\n",
       "</g>\n",
       "<!-- D -->\n",
       "<g id=\"node4\" class=\"node\">\n",
       "<title>D</title>\n",
       "<ellipse fill=\"none\" stroke=\"black\" cx=\"317.25\" cy=\"-66\" rx=\"27\" ry=\"18\"/>\n",
       "<text text-anchor=\"middle\" x=\"317.25\" y=\"-60.95\" font-family=\"Times New Roman,serif\" font-size=\"14.00\">D</text>\n",
       "</g>\n",
       "<!-- B&#45;&#45;D -->\n",
       "<g id=\"edge4\" class=\"edge\">\n",
       "<title>B&#45;&#45;D</title>\n",
       "<path fill=\"none\" stroke=\"black\" d=\"M150.98,-66C187.55,-66 253.47,-66 290.03,-66\"/>\n",
       "<text text-anchor=\"middle\" x=\"220.5\" y=\"-69.2\" font-family=\"Times New Roman,serif\" font-size=\"14.00\">3</text>\n",
       "</g>\n",
       "<!-- C&#45;&#45;D -->\n",
       "<g id=\"edge5\" class=\"edge\">\n",
       "<title>C&#45;&#45;D</title>\n",
       "<path fill=\"none\" stroke=\"black\" d=\"M242.53,-28.65C258.12,-36.55 279.3,-47.28 294.95,-55.21\"/>\n",
       "<text text-anchor=\"middle\" x=\"268.88\" y=\"-46.64\" font-family=\"Times New Roman,serif\" font-size=\"14.00\">2</text>\n",
       "</g>\n",
       "<!-- E -->\n",
       "<g id=\"node5\" class=\"node\">\n",
       "<title>E</title>\n",
       "<ellipse fill=\"none\" stroke=\"black\" cx=\"414\" cy=\"-29\" rx=\"27\" ry=\"18\"/>\n",
       "<text text-anchor=\"middle\" x=\"414\" y=\"-23.95\" font-family=\"Times New Roman,serif\" font-size=\"14.00\">E</text>\n",
       "</g>\n",
       "<!-- C&#45;&#45;E -->\n",
       "<g id=\"edge6\" class=\"edge\">\n",
       "<title>C&#45;&#45;E</title>\n",
       "<path fill=\"none\" stroke=\"black\" d=\"M247.86,-18.53C272.73,-19.13 311.05,-20.32 344.25,-22.5 358.37,-23.43 374.08,-24.88 386.91,-26.18\"/>\n",
       "<text text-anchor=\"middle\" x=\"317.25\" y=\"-25.7\" font-family=\"Times New Roman,serif\" font-size=\"14.00\">3</text>\n",
       "</g>\n",
       "<!-- D&#45;&#45;E -->\n",
       "<g id=\"edge7\" class=\"edge\">\n",
       "<title>D&#45;&#45;E</title>\n",
       "<path fill=\"none\" stroke=\"black\" d=\"M341.19,-57.04C356.08,-51.23 375.42,-43.68 390.27,-37.87\"/>\n",
       "<text text-anchor=\"middle\" x=\"365.62\" y=\"-51.81\" font-family=\"Times New Roman,serif\" font-size=\"14.00\">1</text>\n",
       "</g>\n",
       "</g>\n",
       "</svg>\n"
      ],
      "text/plain": [
       "<graphviz.graphs.Graph at 0x29dff7922a0>"
      ]
     },
     "execution_count": 28,
     "metadata": {},
     "output_type": "execute_result"
    }
   ],
   "source": [
    "graphe = {\n",
    "    'A': [(2, 'B'), (5, 'C')],\n",
    "    'B': [(2, 'A'), (1, 'C'), (3, 'D')],\n",
    "    'C': [(5, 'A'), (1, 'B'), (2, 'D'), (3, 'E')],\n",
    "    'D': [(3, 'B'), (2, 'C'), (1, 'E')],\n",
    "    'E': [(3, 'C'), (1, 'D')]\n",
    "}\n",
    "\n",
    "g = Graph()\n",
    "\n",
    "g.attr(rankdir='LR')\n",
    "\n",
    "\n",
    "for sommet in graphe:\n",
    "    g.node(sommet)\n",
    "\n",
    "ajoutes = set()\n",
    "\n",
    "for u in graphe:\n",
    "    for poids, v in graphe[u]:\n",
    "        if (v, u) not in ajoutes:\n",
    "            g.edge(u, v, label=str(poids))\n",
    "            ajoutes.add((u, v))\n",
    "\n",
    "g"
   ]
  },
  {
   "cell_type": "markdown",
   "id": "699d7b81",
   "metadata": {},
   "source": [
    "Détermination des distances et plus courts chemins"
   ]
  },
  {
   "cell_type": "code",
   "execution_count": 33,
   "id": "7c164e02",
   "metadata": {},
   "outputs": [
    {
     "name": "stdout",
     "output_type": "stream",
     "text": [
      "Distances depuis A :\n",
      "A → A = 0\n",
      "A → B = 2\n",
      "A → C = 3\n",
      "A → D = 5\n",
      "A → E = 6\n"
     ]
    },
    {
     "data": {
      "text/plain": [
       "['A', 'B', 'C', 'E']"
      ]
     },
     "execution_count": 33,
     "metadata": {},
     "output_type": "execute_result"
    }
   ],
   "source": [
    "distances, predecesseurs = dijkstra(graphe, 'A')\n",
    "\n",
    "print(\"Distances depuis A :\")\n",
    "for sommet, d in distances.items():\n",
    "    print(f\"A → {sommet} = {d}\")\n",
    "\n",
    "\n",
    "chemin(predecesseurs, 'A', 'E')"
   ]
  }
 ],
 "metadata": {
  "kernelspec": {
   "display_name": "Python 3",
   "language": "python",
   "name": "python3"
  },
  "language_info": {
   "codemirror_mode": {
    "name": "ipython",
    "version": 3
   },
   "file_extension": ".py",
   "mimetype": "text/x-python",
   "name": "python",
   "nbconvert_exporter": "python",
   "pygments_lexer": "ipython3",
   "version": "3.12.8"
  }
 },
 "nbformat": 4,
 "nbformat_minor": 5
}
