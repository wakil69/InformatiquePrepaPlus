{
 "cells": [
  {
   "cell_type": "markdown",
   "id": "98233d6f",
   "metadata": {},
   "source": [
    "# Exercices : Probabilités et statistiques"
   ]
  },
  {
   "cell_type": "markdown",
   "id": "46aa840d",
   "metadata": {},
   "source": [
    "### Exercice 1\n",
    "\n",
    "On se donne un réel strictement positif $\\lambda$ et une suite $(X_n)_{n \\geq 1}$ de variables binomiales :\n",
    "\n",
    "$$\n",
    "X_n \\sim \\mathcal{B}\\left(n,\\ \\frac{\\lambda}{n}\\right)\n",
    "\\quad \\text{et une variable de Poisson} \\quad Y \\sim \\mathcal{P}(\\lambda).\n",
    "$$\n",
    "\n",
    "On sait que pour tout $k \\in \\mathbb{N}$ :\n",
    "\n",
    "$$\n",
    "\\lim_{n \\to +\\infty} \\mathbb{P}(X_n = k) = \\mathbb{P}(Y = k).\n",
    "$$\n",
    "\n",
    "Ce théorème ne nous dit pas si, pour un entier $n$ fixé, $\\mathbb{P}(X_n = k)$ est une bonne approximation de $\\mathbb{P}(Y = k)$.\n",
    "\n",
    "On se propose de faire une **étude numérique** pour le savoir et en tirer une **règle empirique**.\n",
    "\n",
    "\n",
    "a) Écrire une fonction `B(n, Lambda)` qui calcule :\n",
    "$b_k = \\mathbb{P}(X_n = k)$ pour tout $k \\in [0, n]$\n",
    "et donne en sortie le vecteur :\n",
    "\n",
    "$$\n",
    "\\mathbf{b} = [b_0,\\ b_1,\\ \\dots,\\ b_n].\n",
    "$$\n",
    "\n",
    "$$\n",
    "\\mathbb{P}(X_n = k) = \\binom{n}{k} \\cdot p^k \\cdot (1 - p)^{n - k}\n",
    "$$\n",
    "\n",
    "ou\n",
    "\n",
    "\n",
    "$$\n",
    "b_k = b_{k-1} \\cdot \\frac{n - k + 1}{k} \\cdot \\frac{p}{1 - p}\n",
    "$$\n",
    "\n",
    "\n",
    "\n",
    "b) Écrire une fonction `P(n, Lambda)` qui calcule :\n",
    "$p_k = \\mathbb{P}(Y = k)$ pour tout $k \\in [0, n]$\n",
    "et donne en sortie :\n",
    "\n",
    "$$\n",
    "\\mathbf{Y} = [p_0,\\ p_1,\\ \\dots,\\ p_n].\n",
    "$$\n",
    "\n",
    "$$\n",
    "\\mathbb{P}(Y = k) = \\frac{\\lambda^k}{k!} e^{-\\lambda}\n",
    "$$\n",
    "\n",
    "\n",
    "c) Faire tracer les **diagrammes en barres** des valeurs :\n",
    "\n",
    "* $F_{X_n}(k)$ (loi binomiale)\n",
    "* $F_Y(k)$ (loi de Poisson)\n",
    "\n",
    "pour $0 \\leq k \\leq 30$ dans les cas suivants :\n",
    "\n",
    "* $\\lambda = 1,\\ n = 30,\\ puis\\ n = 300,\\ puis\\ n = 1000$\n",
    "* $\\lambda = 2,\\ n = 30,\\ puis\\ n = 300,\\ puis\\ n = 1000$\n",
    "* $\\lambda = 4,\\ n = 30,\\ puis\\ n = 300,\\ puis\\ n = 1000$\n",
    "\n",
    "\n",
    "d) **Conclusion ?** (visuelle et numérique)\n",
    "\n",
    "\n"
   ]
  },
  {
   "cell_type": "markdown",
   "id": "863a51b3",
   "metadata": {},
   "source": [
    "#### Correction a) "
   ]
  },
  {
   "cell_type": "code",
   "execution_count": null,
   "id": "1048fece",
   "metadata": {},
   "outputs": [],
   "source": [
    "import numpy as np\n",
    "import matplotlib.pyplot as plt\n",
    "from math import comb, exp, factorial\n",
    "\n",
    "# a) Loi binomiale : B(n, λ) retourne b_k = P(Xₙ = k)\n",
    "def B(n, Lambda):\n",
    "    p = Lambda / n\n",
    "    b = [comb(n, k) * (p**k) * ((1 - p)**(n - k)) for k in range(n + 1)]\n",
    "    return b\n",
    "\n",
    "#ou\n",
    "def B(n, Lambda):\n",
    "    p = Lambda / n\n",
    "    q = 1 - p\n",
    "\n",
    "    b = [q**n]  # b₀ = (1 - p)^n\n",
    "    for k in range(1, n + 1):\n",
    "        next_b = b[-1] * (n - k + 1) / k * (p / q)\n",
    "        b.append(next_b)\n",
    "    return b\n",
    "\n"
   ]
  },
  {
   "cell_type": "markdown",
   "id": "64eb383e",
   "metadata": {},
   "source": [
    "#### Correction b) "
   ]
  },
  {
   "cell_type": "code",
   "execution_count": null,
   "id": "d73341b1",
   "metadata": {},
   "outputs": [],
   "source": [
    "# b) Loi de Poisson : P(n, λ) retourne p_k = P(Y = k)\n",
    "def P_kmax(k_max, Lambda):\n",
    "    p = [exp(-Lambda) * Lambda**k / factorial(k) for k in range(k_max + 1)]\n",
    "    return p\n",
    "\n",
    "# pour répondre à l'exercice\n",
    "\n",
    "def P(n, Lambda):\n",
    "    p = [exp(-Lambda) * Lambda**k / factorial(k) for k in range(n + 1)]\n",
    "    return p"
   ]
  },
  {
   "cell_type": "markdown",
   "id": "88f3cf42",
   "metadata": {},
   "source": [
    "#### Correction c) "
   ]
  },
  {
   "cell_type": "code",
   "execution_count": null,
   "id": "f3eff1fc",
   "metadata": {},
   "outputs": [],
   "source": [
    "# c) Fonction de tracé comparatif\n",
    "def plot_distributions(n, lam, k_max=30):\n",
    "    x = np.arange(0, k_max + 1)\n",
    "    b_vals = B(n, lam)[:k_max + 1]\n",
    "    p_vals = P_kmax(k_max, lam)\n",
    "\n",
    "    plt.figure(figsize=(10, 5))\n",
    "    plt.bar(x - 0.2, b_vals, width=0.4, label=f'Binomiale B(n={n}, p={lam/n:.3f})', color='orange')\n",
    "    plt.bar(x + 0.2, p_vals, width=0.4, label=f'Poisson P(λ={lam})', color='orangered')\n",
    "    plt.title(f'Comparaison Binomiale vs Poisson — λ = {lam}, n = {n}')\n",
    "    plt.xlabel('k')\n",
    "    plt.ylabel('Probabilité')\n",
    "    plt.legend()\n",
    "    plt.grid(True)\n",
    "    plt.show()\n",
    "\n",
    "\n",
    "params = [\n",
    "    (1, 30), (1, 300), (1, 1000),\n",
    "    (2, 30), (2, 300), (2, 1000),\n",
    "    (4, 30), (4, 300), (4, 1000),\n",
    "]\n",
    "\n",
    "for lam, n in params:\n",
    "    plot_distributions(n, lam, k_max=30)\n",
    "    "
   ]
  },
  {
   "cell_type": "markdown",
   "id": "b1ad5f24",
   "metadata": {},
   "source": [
    "##### **Conclusions générales sur l’approximation de la loi binomiale par la loi de Poisson** :\n",
    "\n",
    "##### 🔹 1. **Quand $n$ augmente, l’écart diminue**\n",
    "\n",
    "* Pour un **$\\lambda$ fixé**, plus **$n$** est grand, plus les histogrammes de la **binomiale** et de la **Poisson** se **confondent**.\n",
    "* Cela confirme le théorème de convergence :\n",
    "\n",
    "  $$\n",
    "  \\text{Si } X_n \\sim \\mathcal{B}\\left(n,\\ \\frac{\\lambda}{n}\\right), \\quad \\text{alors } X_n \\xrightarrow[]{\\mathcal{L}} \\mathcal{P}(\\lambda)\n",
    "  $$\n",
    "\n",
    "##### 🔹 2. **La qualité de l’approximation dépend de $\\lambda$** aussi :\n",
    "\n",
    "* Pour un **$n$ fixé**, l’approximation est **meilleure pour les petits $\\lambda$**.\n",
    "* Si $\\lambda$ augmente trop (ex. $\\lambda = 4$) et que $n$ reste petit, la binomiale est **plus dispersée** que la Poisson.\n",
    "\n",
    "\n",
    "##### 🔹 3. **Règle empirique** :\n",
    "\n",
    "On peut retenir la **règle classique** :\n",
    "\n",
    "> ✅ La loi de Poisson est une **bonne approximation** de la loi binomiale $\\mathcal{B}(n, p)$\n",
    "> quand $n$ est **grand**, $p$ est **petit**, et $\\lambda = np$ est **modéré** (typiquement $\\lambda < 5$).\n"
   ]
  },
  {
   "cell_type": "markdown",
   "id": "d363e81d",
   "metadata": {},
   "source": [
    "### Exercice 2\n",
    "\n",
    "Supposons avoir importé la bibliothèque `numpy.random` avec le raccourci `rd`.\n",
    "On admet que la fonction `rd.random()` simule une variable uniforme sur l’intervalle $[0, 1[$.\n",
    "\n",
    "On donne la fonction :\n",
    "\n",
    "```python\n",
    "def Attend(p):\n",
    "    q = 1 - p\n",
    "    Y = 1\n",
    "    while rd.random() < q:\n",
    "        Y += 1\n",
    "    return Y\n",
    "```\n",
    "\n",
    "On suppose que $p$ est un réel de l’intervalle $]0, 1[$.\n",
    "\n",
    "\n",
    "a) Quelle est la probabilité que l’instruction `Attend(p)` retourne :\n",
    "\n",
    "* le nombre **0** ?\n",
    "* le nombre **1** ?\n",
    "* le nombre **2** ?\n",
    "\n",
    "b) Si $n$ est un entier positif, quelle est la probabilité que l’itération\n",
    "\n",
    "```python\n",
    "while rd.random() < q:\n",
    "    Y += 1\n",
    "```\n",
    "\n",
    "se répète **plus de $n$** fois ?\n",
    "Quelle est la probabilité que cette fonction **\"plante\"** (c’est-à-dire qu’elle se répète indéfiniment) ?\n",
    "\n",
    "\n",
    "c) Quelle variable aléatoire simule l’instruction `Attend(p)` ?\n"
   ]
  },
  {
   "cell_type": "markdown",
   "id": "5fc36e24",
   "metadata": {},
   "source": [
    "#### Correction a)\n",
    "\n",
    "Chaque itération de la boucle a :\n",
    "\n",
    "* une **probabilité $q$** de continuer (succès de la condition)\n",
    "* une **probabilité $p$** d’arrêter (échec de la condition)\n",
    "\n",
    "C’est exactement le **modèle d'une loi géométrique**, c'est ce que l'on va voir.\n",
    "\n",
    "---\n",
    "\n",
    "##### - $Y = 0$ : La réponse est 0.\n",
    "\n",
    "---\n",
    "\n",
    "##### - $Y = 1$ :\n",
    "\n",
    "Cela veut dire que la boucle **ne se répète pas** du tout.\n",
    "C’est-à-dire que la toute première condition `rd.random() < q` **échoue** dès le premier tirage.\n",
    "\n",
    "Donc :\n",
    "\n",
    "$$\n",
    "\\mathbb{P}(Y = 1) = \\mathbb{P}(\\text{premier tirage} \\geq q) = p\n",
    "$$\n",
    "\n",
    "---\n",
    "\n",
    "##### - $Y = 2$ :\n",
    "\n",
    "Cela veut dire que la boucle **se répète 1 fois** puis s’arrête.\n",
    "\n",
    "Il faut donc :\n",
    "\n",
    "* 1er tirage : $< q$ (proba $q$)\n",
    "* 2e tirage : $\\geq q$ (proba $p$)\n",
    "\n",
    "Donc :\n",
    "\n",
    "$$\n",
    "\\mathbb{P}(Y = 2) = q \\cdot p\n",
    "$$\n",
    "\n",
    "\n",
    "---\n",
    "\n",
    "##### - $Y = 3$ :\n",
    "\n",
    "La boucle se répète deux fois, puis s'arrête.\n",
    "\n",
    "$$\n",
    "\\mathbb{P}(Y = 3) = q \\cdot q \\cdot p = q^2 \\cdot p\n",
    "$$\n",
    "\n",
    "\n"
   ]
  },
  {
   "cell_type": "code",
   "execution_count": null,
   "id": "e0468a5e",
   "metadata": {},
   "outputs": [],
   "source": [
    "print(\"\"\"Start\n",
    " ├── p        →  Y = 1       (𝑃 = p)\n",
    " └── q\n",
    "     ├── p    →  Y = 2       (𝑃 = q × p)\n",
    "     └── q    →  Y ≥ 3       (𝑃 = q²)\"\"\")"
   ]
  },
  {
   "cell_type": "markdown",
   "id": "dbec09f8",
   "metadata": {},
   "source": [
    "#### Correction b)\n",
    "\n",
    "Cela veut dire que les $n$ premiers tirages sont tous $< q$, donc :\n",
    "\n",
    "$$\n",
    "\\mathbb{P}(Y > n) = q^{n}\n",
    "$$\n",
    "\n",
    "---\n",
    "\n",
    "##### Et si la boucle ne s'arrête jamais ?\n",
    "\n",
    "Ce serait :\n",
    "\n",
    "$$\n",
    "\\lim_{n \\to \\infty} \\mathbb{P}(Y > n) = \\lim_{n \\to \\infty} q^n = 0\n",
    "$$\n",
    "\n",
    "Puisque $0 < q < 1$, alors $q^n \\to 0$.\n",
    "\n",
    "🔹 **Donc la fonction ne “plante” jamais** avec probabilité 1.\n",
    "Autrement dit, **la probabilité d’un nombre infini de répétitions est nulle.**\n",
    "\n",
    "---\n",
    "\n"
   ]
  },
  {
   "cell_type": "markdown",
   "id": "c26b8eae",
   "metadata": {},
   "source": [
    "#### Correction c)\n",
    "\n",
    "* $Y$ suit une loi géométrique de paramètre p.\n",
    "* $\\mathbb{P}(Y = k) = q^{k - 1} \\cdot p$, pour $k = 1, 2, 3, \\dots$\n",
    "* $\\mathbb{P}(Y > n) = q^n$\n",
    "* La fonction ne boucle jamais à l’infini (la probabilité d’arrêt est 1)."
   ]
  },
  {
   "cell_type": "markdown",
   "id": "7e57bc90",
   "metadata": {},
   "source": [
    "### Exercice 3 : Analyse d'une série statistique\n",
    "\n",
    "Soit une variable aléatoire `X` générée dans un environnement Python.\n",
    "\n",
    "```python\n",
    "X = np.random.normal(0, 4, 100)\n",
    "X = np.abs(np.floor(X))\n",
    "```\n",
    "\n",
    "a) Représenter graphiquement `X` à l'aide d'un histogramme cumulatif\n",
    "\n",
    "b) Obtenir l’étendue et les quartiles de `X`.\n",
    "\n",
    "c) À l’aide de `np.cumsum` et `np.sum`, construire une variable `Y` qui donne les **sommes cumulées** des valeurs triées de `X`.\n",
    "* Normaliser `Y` pour que la **dernière valeur** soit égale à 1.\n",
    "* Représenter graphiquement `Y` avec plt.bar(...)\n",
    "* Retrouver **l’étendue** et les **quartiles** de `X` à partir de `Y`.\n",
    "\n",
    "On peut aussi utiliser au lieu de X.sort() :\n",
    "\n",
    "```python\n",
    "donnees = pd.DataFrame({\"X\": X})\n",
    "donnees = donnees.sort_values()\n",
    "```\n",
    "\n"
   ]
  },
  {
   "cell_type": "code",
   "execution_count": null,
   "id": "50e06ce7",
   "metadata": {},
   "outputs": [],
   "source": [
    "import pandas as pd\n",
    "import numpy as np \n",
    "import matplotlib.pyplot as plt\n",
    "\n",
    "# Génération de X : valeurs normales centrées réduites, rendues positives et entières\n",
    "X = np.random.normal(0, 4, 100)\n",
    "X = np.abs(np.floor(X)) # arrondis à l'entier le plus bas : -1.87 devient 2"
   ]
  },
  {
   "cell_type": "markdown",
   "id": "34a04cdc",
   "metadata": {},
   "source": [
    "#### Correction a) "
   ]
  },
  {
   "cell_type": "code",
   "execution_count": null,
   "id": "0f6b0159",
   "metadata": {},
   "outputs": [],
   "source": [
    "# Sans density=True, l’axe vertical indique un nombre de points par bin.\n",
    "# Avec density=True, l’axe vertical indique une densité (fréquence relative divisée par la largeur de la bin).\n",
    "plt.hist(X, cumulative=True, density=True) \n",
    "plt.title(\"Histogramme cumulatif de X\")\n",
    "plt.xlabel(\"Valeurs de X\")\n",
    "plt.ylabel(\"Probabilité cumulée\")\n",
    "plt.grid(True)\n",
    "plt.show()\n"
   ]
  },
  {
   "cell_type": "markdown",
   "id": "b53bdb75",
   "metadata": {},
   "source": [
    "#### Correction b) "
   ]
  },
  {
   "cell_type": "code",
   "execution_count": null,
   "id": "0a8e4a32",
   "metadata": {},
   "outputs": [],
   "source": [
    "etendue = np.ptp(X)  # plage (max - min) ou np.max(X) - np.min(X)\n",
    "quartiles = np.percentile(X, [25, 50, 75])\n",
    "print(\"Étendue :\", etendue)\n",
    "print(\"Quartiles (q1, q2, q3) :\", quartiles)\n",
    "\n",
    "# OU\n",
    "\n",
    "donnees = pd.DataFrame({\"X\": X})\n",
    "stats = donnees.describe()\n",
    "q3 = stats.loc[\"75%\", \"X\"]\n",
    "q2 = stats.loc[\"50%\", \"X\"]\n",
    "q1 = stats.loc[\"25%\", \"X\"]\n",
    "inter = q3 - q1\n",
    "print(\"Étendue :\", np.max(X) - np.min(X))\n",
    "print(\"Quartiles (q1, q2, q3) :\", (q1, q2, q3))"
   ]
  },
  {
   "cell_type": "markdown",
   "id": "7589a2d0",
   "metadata": {},
   "source": [
    "#### Correction c) "
   ]
  },
  {
   "cell_type": "code",
   "execution_count": null,
   "id": "144bbdf3",
   "metadata": {},
   "outputs": [],
   "source": [
    "donnees = pd.DataFrame({\"X\": X})  # ou seulement X.sort()\n",
    "donnees = donnees.sort_values(\"X\")\n",
    "Y = np.cumsum(donnees[\"X\"]) / np.sum(donnees[\"X\"])\n",
    "\n",
    "# X.sort()\n",
    "# Y = np.cumsum(X) / np.sum(X)\n",
    "\n",
    "# Représentation graphique\n",
    "plt.bar(range(len(Y)), Y)\n",
    "plt.title(\"Fonction de répartition discrète de X\")\n",
    "plt.xlabel(\"Valeurs de X triées\")\n",
    "plt.ylabel(\"Probabilité cumulée\")\n",
    "plt.grid(True)\n",
    "plt.show()\n",
    "\n",
    "# Retrouver étendue et quartiles à partir de Y\n",
    "# On cherche l’indice où la somme cumulée atteint 25 %, 50 %, 75 %. (pseudo-quartiles)\n",
    "\n",
    "i_q1 = np.argmax(Y >= 0.25)\n",
    "i_q2 = np.argmax(Y >= 0.50)\n",
    "i_q3 = np.argmax(Y >= 0.75)\n",
    "\n",
    "print(\"q1 :\", X[i_q1])\n",
    "print(\"q2 :\", X[i_q2])\n",
    "print(\"q3 :\", X[i_q3])\n",
    "\n",
    "#ou\n",
    "\n",
    "# print(\"q1 :\", donnees[\"X\"][i_q1])\n",
    "# print(\"q2 :\", donnees[\"X\"][i_q2])\n",
    "# print(\"q3 :\", donnees[\"X\"][i_q3])"
   ]
  },
  {
   "cell_type": "markdown",
   "id": "b4704f5f",
   "metadata": {},
   "source": [
    "### Exercice 4 \n",
    "\n",
    "```python\n",
    "n = 1000\n",
    "X = np.floor(rd.normal(10, 2, n))\n",
    "```\n",
    "\n",
    "**a)**\n",
    "Obtenir la matrice\n",
    "$M = [m_i, e_i]$\n",
    "des **modalités-effectifs** dans l’ordre croissant des $e_i$,\n",
    "puis la matrice\n",
    "$M_1 = [m_i, f_i]$\n",
    "où $f_i = \\frac{e_i}{n}$ est la **fréquence** de la modalité $m_i$.\n",
    "\n",
    "**b)**\n",
    "Représenter graphiquement les $e_i$ (et/ou $f_i$) en fonction de $m_i$ au moyen de la méthode `plot.bar()`.\n",
    "\n",
    "> *On constate qu’en général, une des modalités apparaît plus souvent que les autres, on l’appelle le **mode**.*\n",
    "\n",
    "**c)**\n",
    "Représenter les $e_i$ (et/ou les $f_i$) **cumulés croissants** en fonction de $m_i$\n",
    "au moyen de la méthode `plot.bar()`.\n",
    "\n",
    "> *(Remarque : ce sont les $e_i$ qui sont ordonnés croissants — pas les $m_i$ — puis cumulés.)*\n",
    "\n",
    "**d)**\n",
    "Représenter les $e_i$ (et/ou les $f_i$) **cumulés** en fonction de $m_i$ **croissants** au moyen de la méthode `plot.bar()`.\n"
   ]
  },
  {
   "cell_type": "code",
   "execution_count": null,
   "id": "eb4ca8f9",
   "metadata": {},
   "outputs": [],
   "source": [
    "import pandas as pd\n",
    "import numpy as np \n",
    "import matplotlib.pyplot as plt\n",
    "\n",
    "# Génération des données\n",
    "n = 1000\n",
    "X = np.floor(np.random.normal(10, 2, n))"
   ]
  },
  {
   "cell_type": "markdown",
   "id": "58195483",
   "metadata": {},
   "source": [
    "#### Correction a)"
   ]
  },
  {
   "cell_type": "code",
   "execution_count": null,
   "id": "46176379",
   "metadata": {},
   "outputs": [],
   "source": [
    "# avec numpy\n",
    "valeurs, effectifs = np.unique(X, return_counts=True)\n",
    "frequences = effectifs / n\n",
    "\n",
    "df = pd.DataFrame({'mi': valeurs, 'ei': effectifs, 'fi': frequences})\n",
    "df_sorted_by_ei = df.sort_values(by='ei')  # tri selon effectif croissant\n",
    "df_sorted_by_ei\n",
    "\n",
    "\n",
    "# avec pandas\n",
    "# X_series = pd.Series(X)\n",
    "# effectifs = X_series.value_counts().sort_index()  # tri par valeur\n",
    "# frequences = effectifs / n\n",
    "\n",
    "# # Construction du DataFrame\n",
    "# df = pd.DataFrame({\n",
    "#     'mi': effectifs.index,\n",
    "#     'ei': effectifs.values,\n",
    "#     'fi': frequences.values\n",
    "# })\n",
    "\n",
    "# # Tri selon les effectifs croissants\n",
    "# df_sorted_by_ei = df.sort_values(by='ei')\n",
    "# df_sorted_by_ei"
   ]
  },
  {
   "cell_type": "markdown",
   "id": "b874c906",
   "metadata": {},
   "source": [
    "#### Correction b)"
   ]
  },
  {
   "cell_type": "code",
   "execution_count": null,
   "id": "470e1457",
   "metadata": {},
   "outputs": [],
   "source": [
    "df.plot.bar(x='mi', y='ei', title=\"Effectifs par modalité (mi)\")\n",
    "plt.xlabel(\"Modalité (mi)\")\n",
    "plt.ylabel(\"Effectif (ei)\")\n",
    "plt.show()\n",
    "\n"
   ]
  },
  {
   "cell_type": "markdown",
   "id": "bbc693ab",
   "metadata": {},
   "source": [
    "#### Correction c)"
   ]
  },
  {
   "cell_type": "code",
   "execution_count": null,
   "id": "ba472c63",
   "metadata": {},
   "outputs": [],
   "source": [
    "df_sorted_by_ei['ei_cumule'] = df_sorted_by_ei['ei'].cumsum()\n",
    "df_sorted_by_ei.plot.bar(x='mi', y='ei_cumule', title=\"Effectifs cumulés (ordre ei croissant)\")\n",
    "plt.xlabel(\"Modalité (mi)\")\n",
    "plt.ylabel(\"Effectif cumulé\")\n",
    "plt.show()\n"
   ]
  },
  {
   "cell_type": "markdown",
   "id": "c9c87130",
   "metadata": {},
   "source": [
    "#### Correction d)"
   ]
  },
  {
   "cell_type": "code",
   "execution_count": null,
   "id": "815b9197",
   "metadata": {},
   "outputs": [],
   "source": [
    "df_sorted_by_mi = df.sort_values(by='mi')\n",
    "df_sorted_by_mi['ei_cumule'] = df_sorted_by_mi['ei'].cumsum()\n",
    "df_sorted_by_mi.plot.bar(x='mi', y='ei_cumule', title=\"Effectifs cumulés (ordre mi croissant)\")\n",
    "plt.xlabel(\"Modalité (mi)\")\n",
    "plt.ylabel(\"Effectif cumulé\")\n",
    "plt.show()"
   ]
  },
  {
   "cell_type": "markdown",
   "id": "808f36f2",
   "metadata": {},
   "source": [
    "### Exercice 5\n",
    "\n",
    "a) À l’aide de `X = rd.binomial(...)`, simuler **40 séries de 6 lancers** d’une pièce équilibrée.\n",
    "Affecter à `X[k]` le nombre de piles obtenus dans la k-ième série.\n",
    "Afficher l’**histogramme** du vecteur `X`, avec l’option `density=True`.\n",
    "\n",
    "**b)** Définir une fonction `binomiale(p, n, k)` qui retourne la **valeur théorique** de la loi binomiale :\n",
    "\n",
    "* $p$ : probabilité de succès\n",
    "* $n$ : nombre d’essais\n",
    "* $k$ : nombre de succès\n",
    "\n",
    "> On pourra utiliser `np.prod` et `np.arange` pour calculer les **factorielles**.\n",
    "\n",
    "c) Superposer les résultats de la fonction `binomiale`, avec les paramètres $(6, \\frac{1}{2})$, à l’histogramme précédent.\n",
    "\n",
    "> Vérifier que ce graphique **se superpose bien** à celui généré avec `density=True`.\n",
    "\n"
   ]
  },
  {
   "cell_type": "code",
   "execution_count": null,
   "id": "0d891de8",
   "metadata": {},
   "outputs": [],
   "source": [
    "import numpy as np\n",
    "import matplotlib.pyplot as plt"
   ]
  },
  {
   "cell_type": "markdown",
   "id": "e0e32e41",
   "metadata": {},
   "source": [
    "#### Correction a)"
   ]
  },
  {
   "cell_type": "code",
   "execution_count": null,
   "id": "ffe66411",
   "metadata": {},
   "outputs": [],
   "source": [
    "n = 6\n",
    "p = 0.5\n",
    "taille = 40\n",
    "X = np.random.binomial(n, p, taille)\n",
    "\n",
    "# Histogramme avec density=True\n",
    "plt.hist(X, bins=np.arange(n+2)-0.5, density=True, edgecolor='black', alpha=0.6, label=\"Histogramme (expérimental)\")"
   ]
  },
  {
   "cell_type": "markdown",
   "id": "bb21980d",
   "metadata": {},
   "source": [
    "#### Correction b)"
   ]
  },
  {
   "cell_type": "code",
   "execution_count": null,
   "id": "d151315e",
   "metadata": {},
   "outputs": [],
   "source": [
    "def binomiale(p, n, k):\n",
    "    # Calcul de n! / (k!(n-k)!)\n",
    "    fact_n = np.prod(np.arange(1, n+1))\n",
    "    fact_k = np.prod(np.arange(1, k+1)) if k > 0 else 1\n",
    "    fact_nk = np.prod(np.arange(1, n-k+1)) if (n-k) > 0 else 1\n",
    "    coeff_binom = fact_n / (fact_k * fact_nk)\n",
    "    return coeff_binom * (p**k) * ((1 - p)**(n - k))\n"
   ]
  },
  {
   "cell_type": "markdown",
   "id": "41469d30",
   "metadata": {},
   "source": [
    "#### Correction c)"
   ]
  },
  {
   "cell_type": "code",
   "execution_count": null,
   "id": "54cc8e9d",
   "metadata": {},
   "outputs": [],
   "source": [
    "# c) Superposition de la loi binomiale théorique\n",
    "k_vals = np.arange(0, n+1)\n",
    "theorique = [binomiale(p, n, k) for k in k_vals]\n",
    "\n",
    "plt.plot(k_vals, theorique, 'ro-', label=\"Loi binomiale théorique\")\n",
    "plt.hist(X, bins=np.arange(n+2)-0.5, density=True, edgecolor='black', alpha=0.6, label=\"Histogramme (expérimental)\")\n",
    "plt.xlabel(\"Nombre de succès (k)\")\n",
    "plt.ylabel(\"Probabilité\")\n",
    "plt.title(\"Comparaison entre simulation et loi binomiale\")\n",
    "plt.legend()\n",
    "plt.grid(True)\n",
    "plt.show()\n"
   ]
  },
  {
   "cell_type": "markdown",
   "id": "1c70e244",
   "metadata": {},
   "source": [
    "### Exercice 6\n",
    "\n",
    "* Écrire une suite d’instructions qui affecte à un vecteur ligne\n",
    "  $X = [x_1, x_2, \\dots, x_{1000}]$\n",
    "  une suite de **1000 entiers** uniformément répartis entre **1 et 10**\n",
    "  (chaque $x_i$ est la réalisation d’une variable uniforme sur $[1, 10]$).\n",
    "\n",
    "* Écrire deux instructions qui **calculent et affichent** :\n",
    "\n",
    "  * la **moyenne** $\\bar{x}$\n",
    "  * l’**écart-type empirique** $\\sigma_{n-1}(X)$\n"
   ]
  },
  {
   "cell_type": "code",
   "execution_count": null,
   "id": "db5bb4c1",
   "metadata": {},
   "outputs": [],
   "source": [
    "import numpy as np\n",
    "\n",
    "# Génération d'un vecteur de 1000 entiers entre 1 et 10 inclus\n",
    "X = np.random.randint(1, 11, 1000)\n",
    "\n",
    "# Calcul et affichage de la moyenne\n",
    "print(\"Moyenne de X :\", np.mean(X))\n",
    "\n",
    "# Calcul et affichage de l'écart-type empirique (ddof=1 pour n-1)\n",
    "print(\"Écart-type empirique de X :\", np.std(X, ddof=1))"
   ]
  },
  {
   "cell_type": "markdown",
   "id": "b0ecbc3b",
   "metadata": {},
   "source": [
    "### Exercice 7\n",
    "\n",
    "On considère :\n",
    "\n",
    "* Une variable aléatoire $X$ suivant une loi de **Poisson de paramètre 2**.\n",
    "* Une variable aléatoire $Y$, dont la loi conditionnelle sachant que $X = k$ est une loi de **Poisson de paramètre $k$**.\n",
    "\n",
    "\n",
    "1. **Simulations :**\n",
    "   Écrire une suite de deux instructions qui effectue **1000 réalisations indépendantes** du couple $(X, Y)$ et conserve les résultats dans deux vecteurs `X` et `Y` de taille $1 \\times 1000$.\n",
    "\n",
    "2. **Exploration des valeurs :**\n",
    "   Trouver :\n",
    "\n",
    "   * le **maximum** $\\ell$ de `X`,\n",
    "   * le **maximum** $m$ de `Y`,\n",
    "   * créer un vecteur `x = np.arange(0, ℓ+1)` contenant toutes les valeurs prises par `X`,\n",
    "   * faire de même pour `Y`.\n",
    "\n",
    "3. **Table de contingence :**\n",
    "   Construire la **table de contingence** du couple $(X, Y)$, c’est-à-dire une **matrice $F$** contenant les **fréquences** $p_{i,j}$ des couples observés.\n",
    "\n",
    "4. **Fréquences marginales :**\n",
    "   Trouver les **fréquences marginales** de `X` et de `Y`.\n",
    "\n",
    "5. **Régression linéaire et corrélation :**\n",
    "   Trouver :\n",
    "\n",
    "   * la **droite de régression de `Y` en `X`**,\n",
    "   * le **coefficient de corrélation** entre `X` et `Y`.\n",
    "\n",
    "   Pour cela, il faudra calculer :\n",
    "\n",
    "   * $\\bar{X}, \\bar{Y}$\n",
    "   * $\\mathbb{V}(X), \\mathbb{V}(Y)$\n",
    "   * $\\operatorname{cov}(X, Y)$\n",
    "\n",
    "   Deux méthodes possibles :\n",
    "\n",
    "   * à partir des **données brutes** (vecteurs),\n",
    "   * à partir de la **table de contingence** et des **lois marginales**.\n",
    "\n",
    "\n",
    "⚠️ Attention :\n",
    "\n",
    "* `np.mean` ne prend pas de paramètre `weights`.\n",
    "\n",
    "  * Pour faire une moyenne pondérée, on doit passer par `np.average(...)`.\n",
    "* `np.var` non plus ne prend pas de `weights`.\n",
    "\n",
    "  * Il faut donc programmer une fonction manuelle :\n",
    "\n",
    "    ```python\n",
    "    def variance(values, weights):\n",
    "        ...\n",
    "    ```\n",
    "\n"
   ]
  },
  {
   "cell_type": "markdown",
   "id": "c6903f65",
   "metadata": {},
   "source": [
    "#### Correction 1)"
   ]
  },
  {
   "cell_type": "code",
   "execution_count": null,
   "id": "7c99803f",
   "metadata": {},
   "outputs": [],
   "source": [
    "import numpy as np\n",
    "import pandas as pd\n",
    "\n",
    "# Simulation\n",
    "n = 1000\n",
    "X = np.random.poisson(2, n)\n",
    "Y = np.array([np.random.poisson(k) for k in X])"
   ]
  },
  {
   "cell_type": "markdown",
   "id": "ecb2dd54",
   "metadata": {},
   "source": [
    "#### Correction 2)"
   ]
  },
  {
   "cell_type": "code",
   "execution_count": null,
   "id": "9e4c1c0c",
   "metadata": {},
   "outputs": [],
   "source": [
    "l = np.max(X)  # ℓ\n",
    "m = np.max(Y)  # m\n",
    "\n",
    "x_vals = np.arange(0, l + 1)\n",
    "y_vals = np.arange(0, m + 1)"
   ]
  },
  {
   "cell_type": "markdown",
   "id": "c5ce576c",
   "metadata": {},
   "source": [
    "#### Correction 3)"
   ]
  },
  {
   "cell_type": "code",
   "execution_count": null,
   "id": "eb6cb3c9",
   "metadata": {},
   "outputs": [],
   "source": [
    "# Création d’un DataFrame pour construire la table\n",
    "df = pd.DataFrame({\"X\": X, \"Y\": Y})\n",
    "\n",
    "# Table de contingence brute (effectifs)\n",
    "contingency_table = pd.crosstab(df[\"X\"], df[\"Y\"])\n",
    "\n",
    "#Ou\n",
    "# contingency_table = np.zeros((l+1,m+1))\n",
    "# for k in range(n):\n",
    "#     contingency_table[X[k],Y[k]] += 1\n",
    "\n",
    "# Conversion en tableau de fréquences (p_ij)\n",
    "F = contingency_table / n\n",
    "\n",
    "F"
   ]
  },
  {
   "cell_type": "markdown",
   "id": "8e128ee2",
   "metadata": {},
   "source": [
    "#### Correction 4)"
   ]
  },
  {
   "cell_type": "code",
   "execution_count": null,
   "id": "9f16893a",
   "metadata": {},
   "outputs": [],
   "source": [
    "# Fréquences marginales de X (somme sur les colonnes)\n",
    "p_X = F.sum(axis=1)\n",
    "\n",
    "# Fréquences marginales de Y (somme sur les lignes)\n",
    "p_Y = F.sum(axis=0)\n",
    "\n",
    "print(\"Fréquences marginales de X (somme sur les colonnes) : \", p_X)\n",
    "\n",
    "print(\"Fréquences marginales de Y (somme sur les lignes) : \", p_Y)"
   ]
  },
  {
   "cell_type": "markdown",
   "id": "13e6b391",
   "metadata": {},
   "source": [
    "#### Correction 5)"
   ]
  },
  {
   "cell_type": "code",
   "execution_count": null,
   "id": "80497a10",
   "metadata": {},
   "outputs": [],
   "source": [
    "# # Définir la fonction de variance pondérée\n",
    "# def variance(values, weights):\n",
    "#     mean = np.average(values, weights=weights)\n",
    "#     return np.average((values - mean) ** 2, weights=weights)\n",
    "\n",
    "# # Moyennes\n",
    "# mean_X = np.average(p_X.index, weights=p_X.values)\n",
    "# mean_Y = np.average(p_Y.index, weights=p_Y.values)\n",
    "\n",
    "# # Variances\n",
    "# var_X = variance(p_X.index.to_numpy(), p_X.values)\n",
    "# var_Y = variance(p_Y.index.to_numpy(), p_Y.values)\n",
    "\n",
    "# Moyennes\n",
    "mean_X = np.sum(p_X.index * p_X.values)\n",
    "mean_Y = np.sum(p_Y.index * p_Y.values)\n",
    "\n",
    "# Variances\n",
    "var_X = np.sum((p_X.index - mean_X) ** 2 * p_X.values)\n",
    "var_Y = np.sum((p_Y.index - mean_Y) ** 2 * p_Y.values)\n",
    "\n",
    "# Covariance\n",
    "cov_XY = 0\n",
    "for i in F.index:\n",
    "    for j in F.columns:\n",
    "        cov_XY += (i - mean_X) * (j - mean_Y) * F.loc[i, j]\n",
    "        \n",
    "#OU\n",
    "cov_XY = np.cov(X,Y,ddof=0)[0,1]\n",
    "\n",
    "\n",
    "# Coefficient de régression de Y en X : a = cov(X, Y) / var(X)\n",
    "a = cov_XY / var_X\n",
    "b = mean_Y - a * mean_X\n",
    "\n",
    "# Coefficient de corrélation linéaire\n",
    "r = cov_XY / (np.sqrt(var_X) * np.sqrt(var_Y))\n",
    "\n",
    "print(f\"Régression Y = {a:.3f} * X + {b:.3f}\")\n",
    "print(f\"Corrélation r = {r:.3f}\")"
   ]
  },
  {
   "cell_type": "markdown",
   "id": "1c1a829a",
   "metadata": {},
   "source": [
    "### Exercice 7 : Simulation de la loi normale centrée réduite\n",
    "\n",
    "Après importation, la fonction `rd.normal(0,1)` permet de simuler des valeurs suivant la loi normale centrée réduite.\n",
    "\n",
    "On peut aussi approximer cette loi avec d’autres méthodes :\n",
    "\n",
    "---\n",
    "\n",
    "#### 🔹 Méthode 1 : **Approximation par la loi des grands nombres**\n",
    "\n",
    "En prenant un échantillon $(U_1, ..., U_n)$ de la loi uniforme sur $[0, 1]$, on définit :\n",
    "\n",
    "$$\n",
    "X_n = \\sqrt{\\frac{12}{n}} \\left( \\sum_{k=1}^n U_k - \\frac{n}{2} \\right)\n",
    "$$\n",
    "\n",
    "→ Pour $n = 12$, $X_{12}$ est une bonne approximation de la loi $\\mathcal{N}(0,1)$.\n",
    "\n",
    "---\n",
    "\n",
    "#### 🔹 Méthode 2 : **Méthode de Box-Muller**\n",
    "\n",
    "À partir de deux variables aléatoires indépendantes $U$ et $V$ uniformes sur $[0, 1]$, on définit :\n",
    "\n",
    "$$\n",
    "T = \\sqrt{-2\\ln(U)} \\cdot \\cos(2\\pi V)\n",
    "$$\n",
    "\n",
    "→ Cette variable suit aussi $\\mathcal{N}(0,1)$.\n",
    "\n",
    "---\n",
    "\n",
    "1. **Écrire une commande** qui donne $N$ réalisations de la loi $\\mathcal{N}(0,1)$ en utilisant `rd.normal`.\n",
    "\n",
    "2. **Écrire une fonction `loiU(N)`** qui retourne $N$ réalisations de $X_{12}$ (avec $n = 12$), par la formule d’approximation.\n",
    "\n",
    "3. **Écrire une fonction `BoxMuller(N)`** qui retourne $N$ réalisations de $T$, avec la méthode de Box-Muller.\n",
    "\n",
    "4. **Comparer les trois méthodes** en traçant les **histogrammes côte à côte** pour $N = 10^5$.\n",
    "\n"
   ]
  },
  {
   "cell_type": "code",
   "execution_count": null,
   "id": "91095ae0",
   "metadata": {},
   "outputs": [],
   "source": [
    "import numpy as np\n",
    "import matplotlib.pyplot as plt"
   ]
  },
  {
   "cell_type": "markdown",
   "id": "273cfd34",
   "metadata": {},
   "source": [
    "#### Correction 1) "
   ]
  },
  {
   "cell_type": "code",
   "execution_count": null,
   "id": "652bc2fe",
   "metadata": {},
   "outputs": [],
   "source": [
    "def normale_numpy(N):\n",
    "    return np.random.normal(0, 1, N)"
   ]
  },
  {
   "cell_type": "markdown",
   "id": "18de16f3",
   "metadata": {},
   "source": [
    "#### Correction 2) "
   ]
  },
  {
   "cell_type": "code",
   "execution_count": null,
   "id": "ce479b61",
   "metadata": {},
   "outputs": [],
   "source": [
    "def loiU(N):\n",
    "    n = 12\n",
    "    U = np.random.uniform(0, 1, size=(N, n))\n",
    "    Xn = np.sqrt(12 / n) * (np.sum(U, axis=1) - n / 2)\n",
    "    return Xn"
   ]
  },
  {
   "cell_type": "markdown",
   "id": "bfa1e0e2",
   "metadata": {},
   "source": [
    "#### Correction 3) "
   ]
  },
  {
   "cell_type": "code",
   "execution_count": null,
   "id": "904ce7f9",
   "metadata": {},
   "outputs": [],
   "source": [
    "def BoxMuller(N):\n",
    "    U = np.random.uniform(0, 1, N)\n",
    "    V = np.random.uniform(0, 1, N)\n",
    "    T = np.sqrt(-2 * np.log(U)) * np.cos(2 * np.pi * V)\n",
    "    return T"
   ]
  },
  {
   "cell_type": "markdown",
   "id": "551142fd",
   "metadata": {},
   "source": [
    "#### Correction 4) "
   ]
  },
  {
   "cell_type": "code",
   "execution_count": null,
   "id": "5275aff9",
   "metadata": {},
   "outputs": [],
   "source": [
    "import numpy as np\n",
    "import matplotlib.pyplot as plt\n",
    "\n",
    "N = 10**5\n",
    "\n",
    "data_normal = normale_numpy(N)\n",
    "data_loiU = loiU(N)\n",
    "data_box = BoxMuller(N)\n",
    "\n",
    "plt.figure(figsize=(8, 5))\n",
    "\n",
    "# Superposition des trois histogrammes\n",
    "plt.hist([loiU(N),BoxMuller(N),normale_numpy(N)],\n",
    "bins=15,density=True,\n",
    "label=[\"loiU\",\"BoxMuller\",\"Gauss\"])\n",
    "\n",
    "# Courbe de densité théorique (optionnel)\n",
    "# x = np.linspace(-5, 5, 500)\n",
    "# f_theorique = (1/np.sqrt(2*np.pi)) * np.exp(-x**2 / 2)\n",
    "# plt.plot(x, f_theorique, 'k--', label='Densité normale théorique')\n",
    "\n",
    "# Personnalisation\n",
    "plt.title(\"Comparaison des méthodes de simulation de N(0,1)\")\n",
    "plt.xlabel(\"Valeurs simulées\")\n",
    "plt.ylabel(\"Densité estimée\")\n",
    "plt.legend()\n",
    "plt.grid(True)\n",
    "plt.show()\n"
   ]
  },
  {
   "cell_type": "markdown",
   "id": "fb2249f3",
   "metadata": {},
   "source": [
    "### Exercice 8 : Simulation de la loi de Pareto\n",
    "\n",
    "La **loi de Pareto** de paramètres $x_{\\min} \\in \\mathbb{R}^+$ et $k \\in \\mathbb{N}^*$ est une loi continue dont la densité est donnée par :\n",
    "\n",
    "$$\n",
    "f(x) = \n",
    "\\begin{cases}\n",
    "0 & \\text{si } x < x_{\\min} \\\\\n",
    "\\dfrac{k x_{\\min}^k}{x^{k+1}} & \\text{si } x \\ge x_{\\min}\n",
    "\\end{cases}\n",
    "$$\n",
    "\n",
    "---\n",
    "\n",
    "On souhaite observer que cette loi peut être simulée à partir de la loi uniforme continue sur $[0, 1]$, selon la méthode suivante :\n",
    "\n",
    "> Soit $(X_1, ..., X_k)$ un échantillon de la loi uniforme sur $[0, 1]$,\n",
    "> alors la variable :\n",
    "\n",
    "$$\n",
    "Y = \\frac{x_{\\min}}{\\max(X_1, ..., X_k)}\n",
    "$$\n",
    "\n",
    "suit approximativement la loi de Pareto de paramètres $x_{\\min}$ et $k$.\n",
    "\n",
    "> ⚠️ On remarque que cette variable est **presque sûrement définie**, car :\n",
    "> $\\mathbb{P}(\\max(X_1, ..., X_k) = 0) = 0$\n",
    "\n",
    "---\n",
    "\n",
    "1. **Simuler la variable aléatoire $Y$**\n",
    "\n",
    "   * Prendre $k = 5$, $x_{\\min} = 2$\n",
    "\n",
    "2. **Écrire une fonction Python** de paramètres d’entrée $(x_{\\min}, k, N)$\n",
    "\n",
    "   * Cette fonction doit générer un **échantillon $E$** de taille $N$, suivant la même loi que $Y$.\n",
    "\n",
    "3. Supposons maintenant :\n",
    "   $k = 5$, $x_{\\min} = 2$, $N = 10\\,000$\n",
    "   On considère l’échantillon $E$ simulé comme ci-dessus.\n",
    "\n",
    "   a) **Déterminer une borne $\\alpha$** telle que l’intervalle $[0, \\alpha]$ contienne **99 % des valeurs** de $E$\n",
    "\n",
    "   b) **Tracer un histogramme** :\n",
    "\n",
    "   * Répartir les valeurs de $E$ en **100 classes**,\n",
    "   * Sur le **même graphique**, afficher la **courbe de densité théorique** $f(x)$\n"
   ]
  },
  {
   "cell_type": "markdown",
   "id": "adeac17f",
   "metadata": {},
   "source": [
    "#### Correction 1)"
   ]
  },
  {
   "cell_type": "code",
   "execution_count": null,
   "id": "2c9ced2c",
   "metadata": {},
   "outputs": [],
   "source": [
    "import numpy as np\n",
    "\n",
    "# Paramètres\n",
    "k = 5\n",
    "xmin = 2\n",
    "\n",
    "# Génération d’un vecteur de k valeurs uniformes\n",
    "U = np.random.uniform(0, 1, k)\n",
    "\n",
    "# Calcul de Y\n",
    "Y = xmin / np.max(U)\n",
    "print(\"Une réalisation de Y :\", Y)"
   ]
  },
  {
   "cell_type": "markdown",
   "id": "3188d1ca",
   "metadata": {},
   "source": [
    "#### Correction 2)"
   ]
  },
  {
   "cell_type": "code",
   "execution_count": null,
   "id": "714287f2",
   "metadata": {},
   "outputs": [],
   "source": [
    "def pareto_simulation(xmin, k, N):\n",
    "    # Générer une matrice N x k de valeurs uniformes\n",
    "    U = np.random.uniform(0, 1, size=(N, k))\n",
    "    max_U = np.max(U, axis=1)\n",
    "    return xmin / max_U"
   ]
  },
  {
   "cell_type": "markdown",
   "id": "b44ae3e4",
   "metadata": {},
   "source": [
    "#### Correction 3) a)"
   ]
  },
  {
   "cell_type": "code",
   "execution_count": null,
   "id": "62237146",
   "metadata": {},
   "outputs": [],
   "source": [
    "import matplotlib.pyplot as plt\n",
    "\n",
    "# Paramètres\n",
    "k = 5\n",
    "xmin = 2\n",
    "N = 10000\n",
    "\n",
    "# Génération de l’échantillon\n",
    "E = pareto_simulation(xmin, k, N)\n",
    "\n",
    "# (a) Trouver alpha tel que P(E ≤ alpha) ≈ 0.99\n",
    "alpha = np.quantile(E, 0.99)\n",
    "print(\"Valeur de alpha (99% des E ≤ alpha) :\", alpha)\n",
    "\n",
    "print(np.unique((E < alpha), return_counts=True))"
   ]
  },
  {
   "cell_type": "markdown",
   "id": "fbf6ddc4",
   "metadata": {},
   "source": [
    "#### Correction 3) b)"
   ]
  },
  {
   "cell_type": "code",
   "execution_count": null,
   "id": "228bbbca",
   "metadata": {},
   "outputs": [],
   "source": [
    "def pareto_density(x, xmin, k):\n",
    "    f = np.zeros_like(x)\n",
    "    mask = x >= xmin\n",
    "    f[mask] = (k * xmin**k) / (x[mask]**(k + 1))\n",
    "    return f\n",
    "\n",
    "# Tracé\n",
    "x_vals = np.linspace(xmin, alpha, 1000)\n",
    "f_vals = pareto_density(x_vals, xmin, k)\n",
    "\n",
    "plt.figure(figsize=(8, 5))\n",
    "plt.hist(E, bins=100, range=(xmin, alpha), density=True, alpha=0.6, label='Histogramme de E')\n",
    "plt.plot(x_vals, f_vals, 'r-', label='Densité théorique de Pareto')\n",
    "plt.title(f\"Loi de Pareto simulée (k={k}, xmin={xmin}, N={N})\")\n",
    "plt.xlabel(\"x\")\n",
    "plt.ylabel(\"Densité estimée\")\n",
    "plt.legend()\n",
    "plt.grid(True)\n",
    "plt.show()"
   ]
  },
  {
   "cell_type": "markdown",
   "id": "149c2bee",
   "metadata": {},
   "source": [
    "### Exercice 9 : Simulation de pannes et loi de Poisson\n",
    "\n",
    "On observe à partir d’un instant 0 un système qui **tombe en panne de façon aléatoire**.\n",
    "Chaque panne est suivie d’une **réparation immédiate**.\n",
    "\n",
    "On note :\n",
    "\n",
    "* $N_t$ : le **nombre de pannes** survenues jusqu’à l’instant $t$,\n",
    "* $S_0 = 0$, $S_1$, $S_2$, … : les **durées de fonctionnement** entre deux pannes successives.\n",
    "\n",
    "On suppose que les $S_n$ sont **indépendantes**, de loi **exponentielle de paramètre $\\lambda > 0$**.\n",
    "\n",
    "---\n",
    "\n",
    "On montre alors que pour tout $t \\in \\mathbb{R}^{+*}$ :\n",
    "\n",
    "$$\n",
    "N_t = \\max\\left\\{ n \\in \\mathbb{N} \\ \\bigg| \\ \\sum_{i=0}^{n} S_i \\le t \\right\\}\n",
    "$$\n",
    "\n",
    "---\n",
    "\n",
    "**Simulation directe de $N_t$**\n",
    "\n",
    "1. Écrire une fonction **`simulen(t, λ)`** qui simule une valeur de $N_t$.\n",
    "\n",
    "2. Construire, à l’aide de cette fonction, un échantillon de **taille 10 000** de $N_1$ (avec $t = 1$, $λ = 2$).\n",
    "\n",
    "3. Estimer la **loi de $N_1$** avec un histogramme (`plt.hist`).\n",
    "\n",
    "\n",
    "**Estimation par moyenne – Loi de Poisson**\n",
    "\n",
    "> On démontre que $N_t$ suit une **loi de Poisson** de paramètre $λt$.\n",
    "\n",
    "4. Écrire une fonction **`parametreN(λ, t, n)`** qui :\n",
    "\n",
    "   * génère un échantillon de taille $n$ de $N_t$,\n",
    "   * retourne une **estimation du paramètre** $λt$ à partir de la moyenne des valeurs simulées.\n",
    "\n",
    "**Étude de la dépendance en $t$**\n",
    "\n",
    "> On note $φ_λ(t)$ le **paramètre de la loi de $N_t$**.\n",
    "\n",
    "5. Représenter sur un même graphique les courbes $φ_1(t), φ_2(t), ..., φ_5(t)$\n",
    "   pour $t \\in [0, 1]$, avec $n = 1000$ simulations pour chaque point.\n",
    "\n",
    "6. **Que remarque-t-on ?**\n"
   ]
  },
  {
   "cell_type": "markdown",
   "id": "7baf995a",
   "metadata": {},
   "source": [
    "#### Correction 1)"
   ]
  },
  {
   "cell_type": "code",
   "execution_count": null,
   "id": "fdfefc6c",
   "metadata": {},
   "outputs": [],
   "source": [
    "import numpy as np \n",
    "\n",
    "def simulen(t, lambd):\n",
    "    S = 0\n",
    "    n = 0\n",
    "    while S <= t:\n",
    "        S += np.random.exponential(1 / lambd)\n",
    "        n += 1\n",
    "    return n - 1  # on dépasse t à la dernière itération"
   ]
  },
  {
   "cell_type": "markdown",
   "id": "68191fe9",
   "metadata": {},
   "source": [
    "#### Correction 2)"
   ]
  },
  {
   "cell_type": "code",
   "execution_count": null,
   "id": "258f3c7a",
   "metadata": {},
   "outputs": [],
   "source": [
    "N = 10_000\n",
    "lambd = 2\n",
    "t = 1\n",
    "\n",
    "echantillon = [simulen(t, lambd) for _ in range(N)]\n",
    "\n",
    "print(echantillon)"
   ]
  },
  {
   "cell_type": "markdown",
   "id": "f58de813",
   "metadata": {},
   "source": [
    "#### Correction 3)"
   ]
  },
  {
   "cell_type": "code",
   "execution_count": null,
   "id": "d49445fa",
   "metadata": {},
   "outputs": [],
   "source": [
    "from scipy.stats import poisson\n",
    "import matplotlib.pyplot as plt \n",
    "\n",
    "# Valeurs possibles de N1\n",
    "k_values = np.arange(min(echantillon), max(echantillon) + 1)\n",
    "poisson_theorique = poisson.pmf(k_values, mu=lambd * t)\n",
    "\n",
    "# Histogramme + loi théorique\n",
    "plt.figure(figsize=(8, 5))\n",
    "plt.hist(echantillon, bins=range(min(echantillon), max(echantillon)+2),\n",
    "         edgecolor='black', density=True, alpha=0.6, label='Histogramme simulé')\n",
    "\n",
    "plt.plot(k_values, poisson_theorique, 'ro-', label='Poisson théorique (λt=2)', markersize=8)\n",
    "\n",
    "plt.title(\"Comparaison : histogramme de $N_1$ vs loi de Poisson (λ=2)\")\n",
    "plt.xlabel(\"Nombre de pannes $N_1$\")\n",
    "plt.ylabel(\"Densité\")\n",
    "plt.legend()\n",
    "plt.grid(True)\n",
    "plt.show()"
   ]
  },
  {
   "cell_type": "markdown",
   "id": "1741320e",
   "metadata": {},
   "source": [
    "#### Correction 4)"
   ]
  },
  {
   "cell_type": "code",
   "execution_count": 7,
   "id": "02eeaba4",
   "metadata": {},
   "outputs": [
    {
     "name": "stdout",
     "output_type": "stream",
     "text": [
      "Estimation du paramètre λt = 2.0039\n"
     ]
    }
   ],
   "source": [
    "def parametreN(lambd, t, n):\n",
    "    echantillon = [simulen(t, lambd) for _ in range(n)]\n",
    "    return np.mean(echantillon)\n",
    "\n",
    "estimation = parametreN(2, 1, 10_000)\n",
    "print(\"Estimation du paramètre λt =\", estimation)"
   ]
  },
  {
   "cell_type": "markdown",
   "id": "1408cf17",
   "metadata": {},
   "source": [
    "#### Correction 5)"
   ]
  },
  {
   "cell_type": "code",
   "execution_count": 8,
   "id": "7830135c",
   "metadata": {},
   "outputs": [
    {
     "data": {
      "image/png": "[encoded data removed]",
      "text/plain": [
       "<Figure size 1000x600 with 1 Axes>"
      ]
     },
     "metadata": {},
     "output_type": "display_data"
    }
   ],
   "source": [
    "t_values = np.linspace(0.01, 1, 100)  # éviter t = 0 pour éviter boucle infinie\n",
    "n = 1000  # taille de l’échantillon pour chaque t\n",
    "lambdas = [1, 2, 3, 4, 5]\n",
    "phi_values = {lambd: [] for lambd in lambdas}\n",
    "\n",
    "for lambd in lambdas:\n",
    "    for t in t_values:\n",
    "        phi = parametreN(lambd, t, n)\n",
    "        phi_values[lambd].append(phi)\n",
    "\n",
    "# Tracé des courbes\n",
    "plt.figure(figsize=(10, 6))\n",
    "for lambd in lambdas:\n",
    "    plt.plot(t_values, phi_values[lambd], label=f\"λ = {lambd}\")\n",
    "plt.xlabel(\"Temps t\")\n",
    "plt.ylabel(\"Estimation de φ_λ(t)\")\n",
    "plt.title(\"Évolution de φ_λ(t) = E[N_t] pour différentes valeurs de λ\")\n",
    "plt.legend()\n",
    "plt.grid(True)\n",
    "plt.show()"
   ]
  },
  {
   "cell_type": "markdown",
   "id": "e879e0d1",
   "metadata": {},
   "source": [
    "#### Correction 6)\n",
    "\n",
    "* Pour chaque λ, la fonction $φ_λ(t)$ est **presque linéaire**, ce qui confirme que :\n",
    "\n",
    "  $$\n",
    "  \\mathbb{E}[N_t] \\approx λt\n",
    "  $$\n",
    "\n",
    "* Cela illustre que $N_t \\sim \\text{Poisson}(λt)$, c’est-à-dire :\n",
    "\n",
    "  * l'espérance et la variance de $N_t$ sont toutes deux égales à $λt$,\n",
    "  * plus λ est grand, plus les courbes montent rapidement.\n",
    "\n"
   ]
  },
  {
   "cell_type": "markdown",
   "id": "2bbeb105",
   "metadata": {},
   "source": [
    "### Exercice 10 : Simulation de tirages sans remise dans une urne\n",
    "\n",
    "Une urne contient $n$ boules numérotées de 1 à $n$.\n",
    "On tire les boules **sans remise**, une à une, **jusqu'à obtenir la boule numéro 1**.\n",
    "On note $X$ le **nombre de boules restant dans l’urne** au moment où la boule 1 est tirée.\n",
    "\n",
    "---\n",
    "\n",
    "1. Écrire une fonction `simule_X(n)`\n",
    "\n",
    "→ Elle doit **simuler la variable $X$**, c’est-à-dire le **nombre de boules restantes** au moment où la boule n°1 est tirée.\n",
    "\n",
    "> 🔸 Aide :\n",
    "\n",
    "* Considérer un vecteur contenant les nombres $1, 2, ..., n$ dans l’ordre.\n",
    "* Le mélanger avec une fonction de permutation (comme `np.random.shuffle`).\n",
    "* Chercher la **position de la boule 1** dans cette permutation.\n",
    "* Le nombre de boules restantes est $n - \\text{indice de 1} - 1$.\n",
    "\n",
    "---\n",
    "\n",
    "2. Répéter l'expérience un grand nombre de fois avec $n = 10$\n",
    "\n",
    "* Simuler de nombreuses réalisations de $X$ (ex : 10 000).\n",
    "* Tracer un **histogramme** de la variable $X$ avec `plt.hist(...)`.\n",
    "* **Conjecturer la loi de $X$** (forme, régularité, probabilité constante ?).\n",
    "\n",
    "---\n",
    "\n",
    "3. Écrire une fonction `proba(echantillon, n, alpha)`\n",
    "\n",
    "Cette fonction prend en entrée :\n",
    "\n",
    "* un **échantillon** de valeurs simulées de $X$,\n",
    "* le nombre de boules $n$,\n",
    "* un **niveau de risque** $\\alpha \\in (0, 1)$.\n",
    "\n",
    "Et retourne :\n",
    "\n",
    "* un vecteur `P` d’estimations de $\\mathbb{P}(X = k)$ pour $k = 0, ..., n-1$,\n",
    "* deux vecteurs `U` et `V` correspondant aux **bornes de l’intervalle de confiance** asymptotique au **niveau $1 - \\alpha$** pour chaque $k$.\n",
    "\n",
    "> ✳️ Format attendu :\n",
    "\n",
    "```python\n",
    "def proba(echantillon, n, alpha):\n",
    "    ...\n",
    "    return [P, U, V]\n",
    "```\n",
    "\n",
    "---\n",
    "\n",
    "Vérification de la conjecture\n",
    "\n",
    "* Utiliser les résultats de `proba(...)` avec :\n",
    "\n",
    "  * $n = 10$, $N = 10\\,000$, $\\alpha = 5\\%$\n",
    "* **Comparer les probabilités estimées avec l’allure observée** à la question 2.\n",
    "\n"
   ]
  },
  {
   "cell_type": "markdown",
   "id": "6781671b",
   "metadata": {},
   "source": [
    "#### Correction 1)"
   ]
  },
  {
   "cell_type": "code",
   "execution_count": null,
   "id": "4327470b",
   "metadata": {},
   "outputs": [],
   "source": [
    "import numpy as np\n",
    "\n",
    "def simule_X(n):\n",
    "    boules = np.arange(1, n + 1)\n",
    "    np.random.shuffle(boules)\n",
    "    index_1 = np.where(boules == 1)[0][0]\n",
    "    return n - index_1 - 1"
   ]
  },
  {
   "cell_type": "markdown",
   "id": "80f1d5ca",
   "metadata": {},
   "source": [
    "#### Correction 2)"
   ]
  },
  {
   "cell_type": "code",
   "execution_count": null,
   "id": "85d87f09",
   "metadata": {},
   "outputs": [],
   "source": [
    "import matplotlib.pyplot as plt\n",
    "\n",
    "n = 10\n",
    "N = 10_000\n",
    "\n",
    "echantillon = [simule_X(n) for _ in range(N)]\n",
    "\n",
    "plt.hist(echantillon, bins=np.arange(n+1)-0.5, density=True, edgecolor='black')\n",
    "plt.title(\"Histogramme de X (n = 10, N = 10 000)\")\n",
    "plt.xlabel(\"Valeur de X\")\n",
    "plt.ylabel(\"Fréquence estimée\")\n",
    "plt.grid(True)\n",
    "plt.show()"
   ]
  },
  {
   "cell_type": "markdown",
   "id": "70094620",
   "metadata": {},
   "source": [
    "#### Correction 3)"
   ]
  },
  {
   "cell_type": "code",
   "execution_count": null,
   "id": "97af2495",
   "metadata": {},
   "outputs": [],
   "source": [
    "from scipy.stats import norm\n",
    "\n",
    "def proba(echantillon, n, alpha):\n",
    "    counts = np.zeros(n)\n",
    "    \n",
    "    for val in echantillon:\n",
    "        if 0 <= val < n:\n",
    "            counts[val] += 1\n",
    "    \n",
    "    P = counts / len(echantillon)\n",
    "    \n",
    "    # Intervalle de confiance asymptotique (normal) :\n",
    "    z = norm.ppf(1 - alpha/2)\n",
    "    se = np.sqrt(P * (1 - P) / len(echantillon))  # standard error\n",
    "    \n",
    "    U = P - z * se\n",
    "    V = P + z * se\n",
    "    \n",
    "    # Ajustement des bornes pour rester dans [0,1]\n",
    "    U = np.clip(U, 0, 1)\n",
    "    V = np.clip(V, 0, 1)\n",
    "    \n",
    "    return P, U, V"
   ]
  },
  {
   "cell_type": "code",
   "execution_count": null,
   "id": "5bc42c47",
   "metadata": {},
   "outputs": [],
   "source": [
    "alpha = 0.05\n",
    "P, U, V = proba(echantillon, n, alpha)\n",
    "\n",
    "# Affichage des résultats\n",
    "k_vals = np.arange(n)\n",
    "\n",
    "plt.figure(figsize=(8,5))\n",
    "plt.bar(k_vals, P, yerr=[P - U, V - P], capsize=5, color='skyblue', edgecolor='black')\n",
    "plt.title(\"Estimation de la loi de X avec intervalle de confiance\")\n",
    "plt.xlabel(\"k (valeurs possibles de X)\")\n",
    "plt.ylabel(\"P(X = k)\")\n",
    "plt.grid(True)\n",
    "plt.show()"
   ]
  },
  {
   "cell_type": "markdown",
   "id": "9e6fd2da",
   "metadata": {},
   "source": [
    "**Interprétation :**\n",
    "\n",
    "* La loi estimée de $X$ est **quasi-uniforme** sur $[0, n-1]$,\n",
    "* Les **intervalles de confiance** sont **étroits** pour $N = 10\\,000$,\n",
    "* Cela **confirme la conjecture** : $X \\sim \\mathcal{U}([0, n-1])$."
   ]
  },
  {
   "cell_type": "markdown",
   "id": "bc9ff6fe",
   "metadata": {},
   "source": [
    "### Exercice 11 : Marche aléatoire en une dimension\n",
    "\n",
    "Un promeneur ivre se déplace sur une **droite graduée** et orientée.\n",
    "Il part à un instant 0 du point $O$.\n",
    "À chaque pas, il se déplace d’**une unité à droite ou à gauche** avec la même probabilité.\n",
    "On note $X_i$ la **position du promeneur après le $i$-ème pas**.\n",
    "\n",
    "---\n",
    "\n",
    "1. Écrire une fonction de paramètre d’entrée $n$, qui retourne le **vecteur $X$** contenant les différentes positions $X_1, \\dots, X_n$.\n",
    "\n",
    "2. Écrire une fonction prenant en entrée :\n",
    "\n",
    "* un vecteur $X$,\n",
    "* un réel $r$,\n",
    "\n",
    "et qui retourne un booléen indiquant **si le promeneur s’est écarté strictement de plus de $r$ unités** de son point de départ à un moment quelconque du trajet.\n",
    "\n",
    "3. Recommencer **10 000 fois** l’expérience :\n",
    "\n",
    "Estimer la **probabilité que le promeneur s’éloigne strictement de plus de 10 unités** de son point de départ au cours des **100 premiers pas**.\n",
    "\n",
    "4. Reprendre les questions précédentes en supposant maintenant que le promeneur se déplace dans un **plan** (2D).\n",
    "\n",
    "À chaque pas, il peut se déplacer :\n",
    "\n",
    "* vers le **haut**,\n",
    "* vers le **bas**,\n",
    "* vers la **gauche**,\n",
    "* vers la **droite**,\n",
    "\n",
    "avec la **même probabilité**.\n",
    "\n",
    "Après $k$ déplacements, le promeneur est repéré par ses coordonnées $(x(k), y(k))$.\n",
    "La **distance à l’origine** est donnée par la formule :\n",
    "\n",
    "$$\n",
    "d = \\sqrt{x^2 + y^2}\n",
    "$$\n"
   ]
  },
  {
   "cell_type": "markdown",
   "id": "b43fb604",
   "metadata": {},
   "source": [
    "#### Correction 1)"
   ]
  },
  {
   "cell_type": "code",
   "execution_count": null,
   "id": "e9c9c64c",
   "metadata": {},
   "outputs": [],
   "source": [
    "def marche_1D(n):\n",
    "    pas = np.random.choice([-1, 1], size=n)\n",
    "    position = np.cumsum(pas)\n",
    "    return position  # retourne X₁, X₂, ..., Xₙ"
   ]
  },
  {
   "cell_type": "markdown",
   "id": "1d5aa362",
   "metadata": {},
   "source": [
    "#### Correction 2)"
   ]
  },
  {
   "cell_type": "code",
   "execution_count": null,
   "id": "f1c68e86",
   "metadata": {},
   "outputs": [],
   "source": [
    "def ecart_depasse(X, r):\n",
    "    return np.any(np.abs(X) > r)"
   ]
  },
  {
   "cell_type": "markdown",
   "id": "48104fd9",
   "metadata": {},
   "source": [
    "#### Correction 3)"
   ]
  },
  {
   "cell_type": "code",
   "execution_count": null,
   "id": "e0b8ccf0",
   "metadata": {},
   "outputs": [],
   "source": [
    "N = 10_000\n",
    "n = 100\n",
    "r = 10\n",
    "\n",
    "comptage = 0\n",
    "for _ in range(N):\n",
    "    X = marche_1D(n)\n",
    "    if ecart_depasse(X, r):\n",
    "        comptage += 1\n",
    "\n",
    "proba = comptage / N\n",
    "print(f\"Probabilité de s’éloigner strictement de plus de {r} unités en {n} pas ≈ {proba:.4f}\")"
   ]
  },
  {
   "cell_type": "markdown",
   "id": "fef47fdf",
   "metadata": {},
   "source": [
    "#### Correction 4)"
   ]
  },
  {
   "cell_type": "code",
   "execution_count": null,
   "id": "a40b5a00",
   "metadata": {},
   "outputs": [],
   "source": [
    "def marche_2D(n):\n",
    "    # mouvements : haut, bas, gauche, droite\n",
    "    directions = {\n",
    "        0: (0, 1),   # haut\n",
    "        1: (0, -1),  # bas\n",
    "        2: (-1, 0),  # gauche\n",
    "        3: (1, 0),   # droite\n",
    "    }\n",
    "\n",
    "    choix = np.random.choice([0, 1, 2, 3], size=n)\n",
    "    x, y = [0], [0]\n",
    "\n",
    "    for c in choix:\n",
    "        dx, dy = directions[c]\n",
    "        x.append(x[-1] + dx)\n",
    "        y.append(y[-1] + dy)\n",
    "\n",
    "    return np.array(x[1:]), np.array(y[1:])  # sans le point initial (0,0)\n",
    "\n",
    "\n",
    "def ecart_depasse_2D(x, y, r):\n",
    "    distances = np.sqrt(x**2 + y**2)\n",
    "    return np.any(distances > r)\n",
    "\n",
    "\n",
    "comptage_2D = 0\n",
    "\n",
    "for _ in range(N):\n",
    "    x, y = marche_2D(n)\n",
    "    if ecart_depasse_2D(x, y, r):\n",
    "        comptage_2D += 1\n",
    "\n",
    "proba_2D = comptage_2D / N\n",
    "print(f\"Probabilité 2D de dépasser {r} unités en {n} pas ≈ {proba_2D:.4f}\")\n",
    "\n",
    "# En général, la probabilité de s’éloigner d’une certaine distance est plus faible en 2D qu’en 1D pour un même nombre de pas, car les directions sont réparties sur plus d’axes.\n",
    "\n"
   ]
  },
  {
   "cell_type": "markdown",
   "id": "dae478f9",
   "metadata": {},
   "source": [
    "### Exercice 12 : Modèle de Black-Scholes\n",
    "\n",
    "Dans le modèle de Black-Scholes, la valeur d’une option est donnée par la formule :\n",
    "\n",
    "$$\n",
    "C_0 = e^{-rT} \\mathbb{E} \\left( \\max\\left(S_0 e^{(r - \\frac{1}{2} \\sigma^2)T + \\sigma \\sqrt{T} U} - K, 0 \\right) \\right)\n",
    "$$\n",
    "\n",
    "* $r = \\ln(1 + R)$, avec $R$ le **taux d’intérêt sans risque**.\n",
    "* $\\sigma$ est la **volatilité** du sous-jacent.\n",
    "* $U \\sim \\mathcal{N}(0, 1)$ est une **variable aléatoire normale centrée réduite**.\n",
    "* $S_0$ est le **cours initial**, $K$ le **prix d’exercice**, et $T$ la **maturité**.\n",
    "\n",
    "---\n",
    "\n",
    "On définit les variables :\n",
    "\n",
    "$$\n",
    "S = S_0 e^{(r - \\frac{1}{2} \\sigma^2)T + \\sigma \\sqrt{T} U}, \\quad C = \\max(S - K, 0)\n",
    "$$\n",
    "\n",
    "On prendra :\n",
    "\n",
    "* $S_0 = K = 100$,\n",
    "* $T = \\frac{1}{4}$ (un trimestre),\n",
    "* $R = 2\\%$.\n",
    "\n",
    "---\n",
    "1. Écrire une fonction **`echantillon(S0, K, T, σ, R)`**\n",
    "\n",
    "→ qui retourne 10 000 valeurs de la variable aléatoire **$S$** et de **$C$**.\n",
    "\n",
    "---\n",
    "2. Tracer l’**histogramme** des valeurs de $S$ pour :\n",
    "\n",
    "* $R = 2\\%$,\n",
    "* $\\sigma = 0.5$ puis $\\sigma = 1$.\n",
    "\n",
    "Expliquer la différence entre ces deux instructions :\n",
    "\n",
    "```python\n",
    "plt.hist(C, bins=np.arange(0, 200, 5))\n",
    "plt.hist(C, bins=np.arange(0, 1_200, 5))\n",
    "```\n",
    "\n",
    "---\n",
    "3. Donner une **estimation empirique** de la valeur de l’option pour :\n",
    "\n",
    "* $R = 2\\%$,\n",
    "* $\\sigma$ variant de 0 à 1 par pas de 0.1.\n",
    "\n",
    "→ Quelle est l’influence de la **volatilité $\\sigma$** sur le prix de l’option ?\n",
    "\n",
    "---\n",
    "4. On donne la **formule analytique** exacte du prix de l’option :\n",
    "\n",
    "$$\n",
    "C_0 = S_0 \\Phi(d_1) - K e^{-rT} \\Phi(d_2)\n",
    "$$\n",
    "\n",
    "avec :\n",
    "\n",
    "$$\n",
    "d_1 = \\frac{\\ln(S_0 / K) + (r + \\frac{1}{2} \\sigma^2)T}{\\sigma \\sqrt{T}}, \\quad d_2 = d_1 - \\sigma \\sqrt{T}\n",
    "$$\n",
    "\n",
    "où $\\Phi$ est la **fonction de répartition de la loi normale centrée réduite**.\n",
    "\n",
    "(a) Écrire une fonction **`valorisation_option(S0, K, T, σ, R)`** qui calcule $C_0$ analytiquement.\n",
    "\n",
    "(b) **Comparer les résultats** de cette formule à ceux obtenus à la question 3."
   ]
  },
  {
   "cell_type": "markdown",
   "id": "b09ea56c",
   "metadata": {},
   "source": [
    "#### Correction 1)"
   ]
  },
  {
   "cell_type": "code",
   "execution_count": null,
   "id": "1b56b28c",
   "metadata": {},
   "outputs": [],
   "source": [
    "def echantillon(S0, K, T, sigma, R, N=10000):\n",
    "    r = np.log(1 + R)\n",
    "    U = np.random.normal(0, 1, N)\n",
    "    S = S0 * np.exp((r - 0.5 * sigma**2) * T + sigma * np.sqrt(T) * U)\n",
    "    C = np.maximum(S - K, 0)\n",
    "    return S, C"
   ]
  },
  {
   "cell_type": "markdown",
   "id": "c18865c7",
   "metadata": {},
   "source": [
    "#### Correction 2)"
   ]
  },
  {
   "cell_type": "code",
   "execution_count": null,
   "id": "aaacc50b",
   "metadata": {},
   "outputs": [],
   "source": [
    "import matplotlib.pyplot as plt\n",
    "\n",
    "# Paramètres\n",
    "S0 = K = 100\n",
    "T = 0.25\n",
    "R = 0.02\n",
    "N = 10000\n",
    "\n",
    "# Cas sigma = 0.5\n",
    "S1, C1 = echantillon(S0, K, T, sigma=0.5, R=R, N=N)\n",
    "\n",
    "# Cas sigma = 1\n",
    "S2, C2 = echantillon(S0, K, T, sigma=1, R=R, N=N)\n",
    "\n",
    "plt.hist(S1, bins=np.arange(0, 200, 5), alpha=0.5, label=\"σ = 0.5\", density=True)\n",
    "plt.hist(S2, bins=np.arange(0, 200, 5), alpha=0.5, label=\"σ = 1.0\", density=True)\n",
    "plt.title(\"Histogramme des valeurs de S pour différentes volatilités\")\n",
    "plt.xlabel(\"S\")\n",
    "plt.ylabel(\"Densité\")\n",
    "plt.legend()\n",
    "plt.grid(True)\n",
    "plt.show()"
   ]
  },
  {
   "cell_type": "markdown",
   "id": "642ec483",
   "metadata": {},
   "source": [
    "#### Correction 3)"
   ]
  },
  {
   "cell_type": "code",
   "execution_count": null,
   "id": "e9562dde",
   "metadata": {},
   "outputs": [],
   "source": [
    "sigmas = np.arange(0, 1.1, 0.1)\n",
    "prix_estimes = []\n",
    "\n",
    "for sigma in sigmas:\n",
    "    _, C = echantillon(100, 100, 0.25, sigma, 0.02)\n",
    "    prix_estimes.append(np.mean(C))"
   ]
  },
  {
   "cell_type": "markdown",
   "id": "00297543",
   "metadata": {},
   "source": [
    "#### Correction 4) a)"
   ]
  },
  {
   "cell_type": "code",
   "execution_count": null,
   "id": "1124eb76",
   "metadata": {},
   "outputs": [],
   "source": [
    "def valorisation_option(S0, K, T, sigma, R):\n",
    "    r = np.log(1 + R)\n",
    "    d1 = (np.log(S0 / K) + (r + 0.5 * sigma**2) * T) / (sigma * np.sqrt(T)) if sigma > 0 else np.inf\n",
    "    d2 = d1 - sigma * np.sqrt(T)\n",
    "    return S0 * norm.cdf(d1) - K * np.exp(-r * T) * norm.cdf(d2)"
   ]
  },
  {
   "cell_type": "markdown",
   "id": "64c129c7",
   "metadata": {},
   "source": [
    "#### Correction 4) b)"
   ]
  },
  {
   "cell_type": "code",
   "execution_count": null,
   "id": "1a17150d",
   "metadata": {},
   "outputs": [],
   "source": [
    "prix_exacts = [valorisation_option(100, 100, 0.25, sigma, 0.02) for sigma in sigmas]\n",
    "\n",
    "# Comparaison (texte)\n",
    "resultats = list(zip(sigmas, prix_estimes, prix_exacts))\n",
    "for s, est, exact in resultats:\n",
    "    print(f\"sigma = {s:.1f} | estimé = {est:.4f} | exact = {exact:.4f}\")"
   ]
  }
 ],
 "metadata": {
  "kernelspec": {
   "display_name": "Python 3",
   "language": "python",
   "name": "python3"
  },
  "language_info": {
   "codemirror_mode": {
    "name": "ipython",
    "version": 3
   },
   "file_extension": ".py",
   "mimetype": "text/x-python",
   "name": "python",
   "nbconvert_exporter": "python",
   "pygments_lexer": "ipython3",
   "version": "3.12.8"
  }
 },
 "nbformat": 4,
 "nbformat_minor": 5
}
