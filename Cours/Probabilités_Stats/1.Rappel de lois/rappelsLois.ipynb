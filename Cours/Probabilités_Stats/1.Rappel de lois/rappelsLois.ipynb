{
 "cells": [
  {
   "cell_type": "markdown",
   "id": "7257886b",
   "metadata": {},
   "source": [
    "# **Rappels de lois statistiques**"
   ]
  },
  {
   "cell_type": "markdown",
   "id": "85da049b",
   "metadata": {},
   "source": [
    "**Librairies**"
   ]
  },
  {
   "cell_type": "code",
   "execution_count": null,
   "id": "2776705f",
   "metadata": {},
   "outputs": [],
   "source": [
    "import numpy as np\n",
    "import matplotlib.pyplot as plt"
   ]
  },
  {
   "cell_type": "markdown",
   "id": "8f2877d1",
   "metadata": {},
   "source": [
    "### Vocabulaire\n",
    "\n",
    "- **Variable aléatoire** : Un modèle mathématique abstrait qui associe une valeur numérique à chaque issue possible d'une expérience aléatoire.\n",
    "- **Expérience aléatoire** : Une action concrète, qu’on peut répéter\n",
    "- **Réalisation** : Le résultat numérique d’une variable aléatoire après une expérience"
   ]
  },
  {
   "cell_type": "markdown",
   "id": "1300a4f1",
   "metadata": {},
   "source": [
    "### Loi binômiale\n",
    "\n",
    "La loi binomiale modélise le nombre de succès obtenus lors de $n$ essais indépendants, \n",
    "où chaque essai a deux issues possibles : succès (avec une probabilité $p$) ou échec (avec une probabilité $1 - p$).\n",
    "\n",
    "Chaque essai individuel suit une loi de Bernoulli, qui est un cas particulier de la loi binomiale avec $n = 1$.\n",
    "\n",
    "Ainsi, la variable binomiale $X$ peut être vue comme la somme de $n$ variables de Bernoulli indépendantes.\n",
    "\n",
    "On utilise np.random.binomial(nb_essais, probabilite_succes, nb_experiences)"
   ]
  },
  {
   "cell_type": "code",
   "execution_count": null,
   "id": "414c1f45",
   "metadata": {},
   "outputs": [],
   "source": [
    "# Simulation de 1000 expériences suivant la même loi binomiale avec 10 lancers de pièce équitable (p=0.5)\n",
    "data = np.random.binomial(n=10, p=0.5, size=1000)\n",
    "\n",
    "plt.hist(data, bins=11, edgecolor='black', align='left')\n",
    "plt.title(\"Distribution binomiale : 10 lancers, p=0.5\")\n",
    "plt.xlabel(\"Nombre de succès (pile)\")\n",
    "plt.ylabel(\"Fréquence\")\n",
    "plt.xticks(range(11))\n",
    "plt.show()"
   ]
  },
  {
   "cell_type": "markdown",
   "id": "2724110d",
   "metadata": {},
   "source": [
    "### Loi géométrique\n",
    "\n",
    "La loi géométrique modélise le nombre d’essais nécessaires avant d’obtenir le premier succès dans une suite d’essais indépendants de Bernoulli (succès/échec), avec une probabilité constante de succès p.\n",
    "\n",
    "On utilise np.random.geometric(p, nb_experiences)"
   ]
  },
  {
   "cell_type": "code",
   "execution_count": null,
   "id": "95cc042c",
   "metadata": {},
   "outputs": [],
   "source": [
    "# Simulation de 1000 expériences suivant une loi géométrique : nombre d'essais avant le 1er succès avec probabilité p = 0.2 (dé truqué)\n",
    "data = np.random.geometric(p=0.2, size=1000)\n",
    "\n",
    "plt.hist(data, bins=range(1, 20), edgecolor='black', align='left')\n",
    "plt.title(\"Loi géométrique (p = 0.2)\")\n",
    "plt.xlabel(\"Essai du 1er succès\")\n",
    "plt.ylabel(\"Fréquence (sur 1000 tirages)\")\n",
    "plt.grid(True)\n",
    "plt.xticks(range(1, 20))\n",
    "plt.show()"
   ]
  },
  {
   "cell_type": "markdown",
   "id": "26128173",
   "metadata": {},
   "source": [
    "Petit aparté : Une seule variable géométrique a une distribution fortement asymétrique à droite → pas du tout normale.\n",
    "\n",
    "Mais la moyenne de nombreuses variables géométriques (ou leur somme) tendra vers une loi normale quand n est grand. (Théorème Central limite)"
   ]
  },
  {
   "cell_type": "code",
   "execution_count": null,
   "id": "20645071",
   "metadata": {},
   "outputs": [],
   "source": [
    "# Paramètres\n",
    "p = 0.2                    # Probabilité de succès\n",
    "n = 100                    # Taille d’un groupe (nombre de tirages géométriques par moyenne)\n",
    "nb_moyennes = 1000         # Nombre de moyennes à simuler\n",
    "\n",
    "# Simulation : 1000 moyennes de 100 tirages géométriques\n",
    "data = np.random.geometric(p=p, size=(nb_moyennes, n)) # Taille de data: (1000 x 100)\n",
    "moyennes = data.mean(axis=1)\n",
    "\n",
    "# Visualisation\n",
    "plt.hist(moyennes, bins=30, edgecolor='black', density=True)\n",
    "plt.title(\"TCL : Moyenne de 100 variables géométriques (p = 0.2)\")\n",
    "plt.xlabel(\"Valeur moyenne sur 100 tirages\")\n",
    "plt.ylabel(\"Densité\")\n",
    "plt.grid(True)\n",
    "plt.show()"
   ]
  },
  {
   "cell_type": "markdown",
   "id": "43ef2bc3",
   "metadata": {},
   "source": [
    "### Loi de poisson\n",
    "\n",
    "La loi de Poisson modélise le nombre d'événements rares qui se produisent dans un intervalle donné (temps, espace, etc.), sous les conditions suivantes :\n",
    "\n",
    "- Les événements sont indépendants,\n",
    "\n",
    "- Ils arrivent de manière aléatoire mais à une fréquence moyenne constante.\n",
    "\n",
    "On utilise np.random.poisson(λ, nb_experiences), où :\n",
    "\n",
    " - λ (lambda) représente le nombre moyen d'événements attendus dans l'intervalle d'observation."
   ]
  },
  {
   "cell_type": "code",
   "execution_count": null,
   "id": "2ef97fce",
   "metadata": {},
   "outputs": [],
   "source": [
    "# Paramètres : moyenne λ = 6 appels/heure\n",
    "lam = 6\n",
    "size = 1000  # On simule 1000 heures\n",
    "\n",
    "# Simulation\n",
    "appels_par_heure = np.random.poisson(lam=lam, size=size)\n",
    "\n",
    "# Visualisation\n",
    "plt.hist(appels_par_heure, bins=range(0, 16), edgecolor='black', align='left')\n",
    "plt.title(\"Nombre d'appels reçus par heure (λ = 6)\")\n",
    "plt.xlabel(\"Nombre d'appels\")\n",
    "plt.ylabel(\"Fréquence (sur 1000 heures)\")\n",
    "plt.xticks(range(0, 16))\n",
    "plt.grid(True)\n",
    "plt.show()\n",
    "\n"
   ]
  },
  {
   "cell_type": "markdown",
   "id": "11640633",
   "metadata": {},
   "source": [
    "### Loi exponentielle\n",
    "\n",
    "La loi exponentielle modélise le temps d’attente avant qu’un événement aléatoire ne se produise, à condition que :\n",
    "\n",
    "- Les événements arrivent de façon continue et aléatoire,\n",
    "\n",
    "- Avec une fréquence moyenne constante dans le temps (paramètre $λ$).\n",
    "\n",
    "On utilise np.random.exponential($\\frac{1}{λ}$, nb_experiences) avec $\\frac{1}{λ}$ = temps moyen entre deux événements "
   ]
  },
  {
   "cell_type": "code",
   "execution_count": null,
   "id": "5b676032",
   "metadata": {},
   "outputs": [],
   "source": [
    "# Paramètre lambda = 10 appels/heure → donc scale = 1 / 10 = 0.1 heures (~6 minutes)\n",
    "# On génère 1000 temps d'attente entre clients\n",
    "inter_arrival_times = np.random.exponential(scale=1/10, size=1000)  # en heures\n",
    "\n",
    "# Convertir en minutes pour que ce soit plus lisible\n",
    "inter_arrival_times_min = inter_arrival_times * 60\n",
    "\n",
    "plt.hist(inter_arrival_times_min, bins=30, edgecolor='black', density=True)\n",
    "plt.title(\"Temps avant l'arrivée du prochain client (λ = 10 appels/heure)\")\n",
    "plt.xlabel(\"Temps d'attente (minutes)\")\n",
    "plt.ylabel(\"Densité\")\n",
    "plt.grid(True)\n",
    "plt.show()"
   ]
  },
  {
   "cell_type": "markdown",
   "id": "ea41cb61",
   "metadata": {},
   "source": [
    "### Loi uniforme\n",
    "\n",
    "La loi uniforme modélise une situation où toutes les valeurs dans un intervalle sont également probables."
   ]
  },
  {
   "cell_type": "code",
   "execution_count": null,
   "id": "dc3e68a7",
   "metadata": {},
   "outputs": [],
   "source": [
    "# un dé équilibré à 6 faces\n",
    "lancers = np.random.randint(1, 7, size=1000)\n",
    "\n",
    "plt.hist(lancers, bins=np.arange(1, 8)-0.5, edgecolor='black', align='mid', rwidth=0.8)\n",
    "plt.title(\"Simulation d'un dé équilibré (loi uniforme discrète)\")\n",
    "plt.xlabel(\"Face du dé\")\n",
    "plt.ylabel(\"Fréquence\")\n",
    "plt.xticks(range(1, 7))\n",
    "plt.grid(True)\n",
    "plt.show()"
   ]
  },
  {
   "cell_type": "markdown",
   "id": "2fca155a",
   "metadata": {},
   "source": [
    "### Loi normale\n",
    "\n",
    "La loi normale (ou loi de Gauss) est une distribution de probabilité continue en forme de cloche.\n",
    "Elle est centrée autour d’une moyenne et symétrique, utilisée pour modéliser de nombreux phénomènes naturels."
   ]
  },
  {
   "cell_type": "code",
   "execution_count": null,
   "id": "8ec40bf7",
   "metadata": {},
   "outputs": [],
   "source": [
    "notes = np.random.normal(loc=12, scale=3, size=1000)\n",
    "\n",
    "# On limite les notes entre 0 et 20\n",
    "notes = np.clip(notes, 0, 20)\n",
    "\n",
    "plt.hist(notes, bins=20, edgecolor='black', density=True)\n",
    "plt.title(\"Distribution des notes (μ = 12, σ = 3)\")\n",
    "plt.xlabel(\"Note\")\n",
    "plt.ylabel(\"Densité\")\n",
    "plt.grid(True)\n",
    "plt.show()"
   ]
  }
 ],
 "metadata": {
  "kernelspec": {
   "display_name": "Python 3",
   "language": "python",
   "name": "python3"
  },
  "language_info": {
   "codemirror_mode": {
    "name": "ipython",
    "version": 3
   },
   "file_extension": ".py",
   "mimetype": "text/x-python",
   "name": "python",
   "nbconvert_exporter": "python",
   "pygments_lexer": "ipython3",
   "version": "3.12.8"
  }
 },
 "nbformat": 4,
 "nbformat_minor": 5
}
